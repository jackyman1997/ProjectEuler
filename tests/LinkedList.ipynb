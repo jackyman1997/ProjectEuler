{
 "cells": [
  {
   "cell_type": "code",
   "execution_count": 18,
   "metadata": {},
   "outputs": [],
   "source": [
    "class ListNode:\n",
    "    def __init__(self, val):\n",
    "        self.val = val\n",
    "        self.previous = None\n",
    "        self.next = None\n",
    "\n",
    "class MyLinkedList:\n",
    "    def __init__(self):\n",
    "        self.head = None\n",
    "        self.tail = None\n",
    "        self.size = 0\n",
    "\n",
    "    def get(self, index: int) -> int:\n",
    "        if index >= self.size:\n",
    "            return -1\n",
    "        \n",
    "        if index <= self.size/2:\n",
    "            current = self.head\n",
    "            for _ in range(index):\n",
    "                current = current.next\n",
    "        else:\n",
    "            current = self.tail\n",
    "            for _ in range(self.size-1, index, -1):\n",
    "                current = current.previous\n",
    "        \n",
    "        return current.val\n",
    "\n",
    "    def addAtHead(self, val: int) -> None:\n",
    "        self.addAtIndex(0, val)\n",
    "\n",
    "    def addAtTail(self, val: int) -> None:\n",
    "        self.addAtIndex(self.size, val)\n",
    "        \n",
    "    def addAtIndex(self, index: int, val: int) -> None:\n",
    "        if index > self.size:\n",
    "            return\n",
    "        \n",
    "        newNode = ListNode(val)\n",
    "        current = self.head\n",
    "        \n",
    "        if index <= 0:\n",
    "            newNode.next = current\n",
    "            self.head = newNode\n",
    "            if current is not None:\n",
    "                current.previous = newNode\n",
    "        else:\n",
    "            if index <= self.size/2:\n",
    "                current = self.head\n",
    "                for _ in range(index - 1):\n",
    "                    current = current.next\n",
    "            else:\n",
    "                current = self.tail\n",
    "                for _ in range(self.size - 1, index - 1, -1):\n",
    "                    current = current.previous\n",
    "        \n",
    "            newNode.next = current.next\n",
    "            current.next = newNode\n",
    "            newNode.previous = current\n",
    "            if newNode.next is not None:\n",
    "                newNode.next.previous = newNode            \n",
    "\n",
    "        if index == self.size:\n",
    "            self.tail = newNode\n",
    "        \n",
    "        self.size += 1\n",
    "\n",
    "    def deleteAtIndex(self, index: int) -> None:\n",
    "        if index >= self.size:\n",
    "            return\n",
    "        \n",
    "        current = self.head\n",
    "        if index <= 0:\n",
    "            self.head = current.next\n",
    "            if current.next is not None:\n",
    "                current.next.previous = None\n",
    "        else:\n",
    "            if index <= self.size/2:\n",
    "                current = self.head\n",
    "                for _ in range(index):\n",
    "                    current = current.next\n",
    "            else:\n",
    "                current = self.tail\n",
    "                for _ in range(self.size-1, index, -1):\n",
    "                    current = current.previous\n",
    "        \n",
    "            previousNode = current.previous\n",
    "            nextNode = current.next\n",
    "            \n",
    "            previousNode.next = nextNode\n",
    "            if nextNode is not None :\n",
    "                nextNode.previous = previousNode\n",
    "            else: #we just deleted the last element\n",
    "                self.tail = previousNode\n",
    "            \n",
    "        self.size -= 1\n",
    "\n",
    "    def show(self):\n",
    "        cnt = 0\n",
    "        show = 0\n",
    "        while cnt < self.size:\n",
    "            show = self.get(cnt)\n",
    "            cnt += 1\n",
    "            print(show)\n",
    "        pass"
   ]
  },
  {
   "cell_type": "code",
   "execution_count": 19,
   "metadata": {},
   "outputs": [],
   "source": [
    "a = MyLinkedList()"
   ]
  },
  {
   "cell_type": "code",
   "execution_count": 20,
   "metadata": {},
   "outputs": [],
   "source": [
    "l = [1,3,5,432,547,3457,5476,235,235,457,4752353,26]\n",
    "\n",
    "a = MyLinkedList()\n",
    "for i in l:\n",
    "    a.addAtTail(i)\n"
   ]
  },
  {
   "cell_type": "code",
   "execution_count": 21,
   "metadata": {
    "tags": []
   },
   "outputs": [
    {
     "name": "stdout",
     "output_type": "stream",
     "text": [
      "1\n",
      "3\n",
      "5\n",
      "432\n",
      "547\n",
      "3457\n",
      "5476\n",
      "235\n",
      "235\n",
      "457\n",
      "4752353\n",
      "26\n"
     ]
    }
   ],
   "source": [
    "a.show()"
   ]
  },
  {
   "cell_type": "code",
   "execution_count": null,
   "metadata": {},
   "outputs": [],
   "source": []
  }
 ],
 "metadata": {
  "kernelspec": {
   "display_name": "Python 3.6.5 64-bit ('base': conda)",
   "language": "python",
   "name": "python36564bitbasecondae8aedf3a853245229041064cfc17b4d2"
  },
  "language_info": {
   "codemirror_mode": {
    "name": "ipython",
    "version": 3
   },
   "file_extension": ".py",
   "mimetype": "text/x-python",
   "name": "python",
   "nbconvert_exporter": "python",
   "pygments_lexer": "ipython3",
   "version": "3.6.5"
  }
 },
 "nbformat": 4,
 "nbformat_minor": 2
}
