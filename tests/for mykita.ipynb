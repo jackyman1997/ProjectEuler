{
 "cells": [
  {
   "cell_type": "code",
   "execution_count": 31,
   "metadata": {},
   "outputs": [],
   "source": [
    "def solution(A: list, K: int):\n",
    "    \n",
    "    # conditions\n",
    "    if K > len(A) or K <= 0:\n",
    "        return -1\n",
    "    \n",
    "    elif K == len(A) and sum(A)%2 == 0:\n",
    "        return sum(A)\n",
    "    \n",
    "    else:\n",
    "        A.sort(reverse=True)    # descending order\n",
    "        \n",
    "        if sum(A[:K])%2 == 0:\n",
    "            return sum(A[:K])\n",
    "        \n",
    "        else:\n",
    "            \n",
    "            evens = [i for i in A if i%2 == 0]\n",
    "            odds = [i for i in A if i%2 == 1]\n",
    "            \n",
    "            # case 1, only 1 odd number\n",
    "            if len(odds) == 1:\n",
    "                return sum(evens[:K])\n",
    "            \n",
    "            # case 2, no evens and k is odd\n",
    "            elif evens == [] and K%2 != 0:\n",
    "                return -1\n",
    "            \n",
    "            # case 3, general case, depends on if k is even or odd\n",
    "            else: \n",
    "                \n",
    "                if K%2 == 0:    # if even\n",
    "                    cnt = 0\n",
    "                    arr = []\n",
    "                    \n",
    "                else:    # if odd, there must be at least one even number\n",
    "                    cnt = 1\n",
    "                    arr = [evens.pop(0)]\n",
    "                \n",
    "                # loop\n",
    "                while cnt < K:\n",
    "                    \n",
    "                    next_val = max( sum(evens[0:1+1]) , sum(odds[0:1+1]) )\n",
    "                    if next_val == sum(evens[0:1+1]):\n",
    "                        arr.append(evens.pop(0))\n",
    "                        arr.append(evens.pop(0))\n",
    "                        cnt += 2\n",
    "                        \n",
    "                    else:\n",
    "                        arr.append(odds.pop(0))\n",
    "                        arr.append(odds.pop(0))\n",
    "                        cnt += 2\n",
    "                        \n",
    "                \n",
    "\n",
    "                return sum(arr)               "
   ]
  },
  {
   "cell_type": "code",
   "execution_count": 32,
   "metadata": {},
   "outputs": [
    {
     "data": {
      "text/plain": [
       "18"
      ]
     },
     "execution_count": 32,
     "metadata": {},
     "output_type": "execute_result"
    }
   ],
   "source": [
    "A = [4,9,8,2,6]\n",
    "K = 3\n",
    "\n",
    "solution(A, K)"
   ]
  },
  {
   "cell_type": "code",
   "execution_count": 33,
   "metadata": {},
   "outputs": [
    {
     "data": {
      "text/plain": [
       "20"
      ]
     },
     "execution_count": 33,
     "metadata": {},
     "output_type": "execute_result"
    }
   ],
   "source": [
    "A = [5,6,3,4,2]\n",
    "K = 5\n",
    "\n",
    "solution(A, K)"
   ]
  },
  {
   "cell_type": "code",
   "execution_count": 39,
   "metadata": {},
   "outputs": [
    {
     "data": {
      "text/plain": [
       "14"
      ]
     },
     "execution_count": 39,
     "metadata": {},
     "output_type": "execute_result"
    }
   ],
   "source": [
    "A = [7,7,7,7,7]\n",
    "K = 2\n",
    "\n",
    "solution(A, K)"
   ]
  },
  {
   "cell_type": "code",
   "execution_count": 35,
   "metadata": {},
   "outputs": [
    {
     "data": {
      "text/plain": [
       "-1"
      ]
     },
     "execution_count": 35,
     "metadata": {},
     "output_type": "execute_result"
    }
   ],
   "source": [
    "A = [10000]\n",
    "K = 2\n",
    "\n",
    "solution(A, K)"
   ]
  },
  {
   "cell_type": "code",
   "execution_count": 36,
   "metadata": {},
   "outputs": [
    {
     "data": {
      "text/plain": [
       "12"
      ]
     },
     "execution_count": 36,
     "metadata": {},
     "output_type": "execute_result"
    }
   ],
   "source": [
    "A = [2,3,3,5,5]\n",
    "K = 3\n",
    "\n",
    "solution(A, K)"
   ]
  },
  {
   "cell_type": "code",
   "execution_count": 44,
   "metadata": {},
   "outputs": [],
   "source": [
    "s0 = 1\n",
    "s = [s0]\n",
    "for j in range(1,90):\n",
    "    \n",
    "    if j%2 == 1:    # gives 1,2,3,4,5...\n",
    "        si = s[-1] + (j+1)/2\n",
    "        \n",
    "    else:           # gives 3,5,7,9,11...\n",
    "        si = s[-1] + (2*j)/2+1\n",
    "    \n",
    "    s.append(si)"
   ]
  },
  {
   "cell_type": "code",
   "execution_count": null,
   "metadata": {},
   "outputs": [],
   "source": [
    "n = 10\n",
    "r0 = 1\n",
    "r = [r0]\n",
    "for i in range(n):\n",
    "    if len(r) >= s[i]:\n",
    "        "
   ]
  },
  {
   "cell_type": "markdown",
   "metadata": {},
   "source": [
    "___"
   ]
  },
  {
   "cell_type": "code",
   "execution_count": 70,
   "metadata": {},
   "outputs": [
    {
     "name": "stdout",
     "output_type": "stream",
     "text": [
      "4\n",
      "-1\n"
     ]
    }
   ],
   "source": [
    "def MaxDiff(arr: list) -> int:\n",
    "    \n",
    "    diff_max = -1\n",
    "    rev_arr = list(reversed(arr))\n",
    "    for i, price1 in enumerate(rev_arr):\n",
    "        for j, price2 in enumerate(rev_arr[:i]):\n",
    "            if price2 - price1 > diff_max:\n",
    "                 diff_max = price2 - price1\n",
    "    return diff_max\n",
    "\n",
    "_input = {'arr': [ [7, 1, 2, 5], [7, 5, 3,1] ] }\n",
    "for i in _input['arr']:\n",
    "    print(MaxDiff(i))"
   ]
  },
  {
   "cell_type": "code",
   "execution_count": null,
   "metadata": {},
   "outputs": [],
   "source": []
  }
 ],
 "metadata": {
  "kernelspec": {
   "display_name": "Python 3",
   "language": "python",
   "name": "python3"
  },
  "language_info": {
   "codemirror_mode": {
    "name": "ipython",
    "version": 3
   },
   "file_extension": ".py",
   "mimetype": "text/x-python",
   "name": "python",
   "nbconvert_exporter": "python",
   "pygments_lexer": "ipython3",
   "version": "3.6.5"
  }
 },
 "nbformat": 4,
 "nbformat_minor": 2
}
