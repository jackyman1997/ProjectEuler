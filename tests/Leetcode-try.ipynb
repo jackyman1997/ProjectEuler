{
 "cells": [
  {
   "cell_type": "markdown",
   "metadata": {},
   "source": [
    "# https://leetcode.com/problems/two-sum/"
   ]
  },
  {
   "cell_type": "code",
   "execution_count": 17,
   "metadata": {},
   "outputs": [],
   "source": [
    "class Solution(object):\n",
    "    def twoSum(nums, target):\n",
    "        \"\"\"\n",
    "        :type nums: List[int]\n",
    "        :type target: int\n",
    "        :rtype: List[int]\n",
    "        \"\"\"\n",
    "        for i in range(len(nums)):\n",
    "            for j in range(i+1,len(nums)):\n",
    "                if nums[i] + nums[j] == target: \n",
    "                    return [i,j]\n",
    "                else:\n",
    "                    pass"
   ]
  },
  {
   "cell_type": "code",
   "execution_count": 18,
   "metadata": {},
   "outputs": [
    {
     "data": {
      "text/plain": [
       "[0, 1]"
      ]
     },
     "execution_count": 18,
     "metadata": {},
     "output_type": "execute_result"
    }
   ],
   "source": [
    "Solution.twoSum([2, 7, 11, 15],9)"
   ]
  },
  {
   "cell_type": "markdown",
   "metadata": {},
   "source": [
    "Solved, but shit code\n",
    "***"
   ]
  },
  {
   "cell_type": "markdown",
   "metadata": {},
   "source": [
    "# https://leetcode.com/problems/reverse-integer/"
   ]
  },
  {
   "cell_type": "code",
   "execution_count": 68,
   "metadata": {},
   "outputs": [],
   "source": [
    "class Solution:\n",
    "    # def reverse(self, x: int) -> int:\n",
    "    def reverse(x: int) -> int:\n",
    "        \n",
    "        # setup\n",
    "        x_abs = abs(x)\n",
    "        x_str_rev = str(x_abs)[::-1]\n",
    "        \n",
    "        # if 1 digit: \n",
    "        if len(x_str_rev) == 1: \n",
    "            return x\n",
    "        \n",
    "        # if 0s at the end: \n",
    "        if x_abs%10 == 0 and x != 0: \n",
    "\n",
    "            while x_str_rev[0] == '0': \n",
    "                x_str_rev = x_str_rev[1:]            \n",
    "        \n",
    "        if x < 0: \n",
    "            x_rev = -1 * int(x_str_rev) \n",
    "            \n",
    "        elif x > 9: \n",
    "            x_rev = int(x_str_rev)\n",
    "            \n",
    "        if x_rev >= 2**31 - 1 or x_rev <= -2**31: \n",
    "            return 0\n",
    "        \n",
    "        else: \n",
    "            return x_rev\n"
   ]
  },
  {
   "cell_type": "code",
   "execution_count": 69,
   "metadata": {},
   "outputs": [
    {
     "data": {
      "text/plain": [
       "321"
      ]
     },
     "execution_count": 69,
     "metadata": {},
     "output_type": "execute_result"
    }
   ],
   "source": [
    "Solution.reverse(x = 123)"
   ]
  },
  {
   "cell_type": "markdown",
   "metadata": {},
   "source": [
    "Solved, accepter, can be improved\n",
    "***"
   ]
  },
  {
   "cell_type": "markdown",
   "metadata": {},
   "source": [
    "# https://leetcode.com/problems/palindrome-number/"
   ]
  },
  {
   "cell_type": "code",
   "execution_count": 70,
   "metadata": {},
   "outputs": [],
   "source": [
    "class Solution:\n",
    "    # def isPalindrome(self, x: int) -> bool:\n",
    "    def isPalindrome(x: int) -> bool:\n",
    "        if str(x) == str(x)[::-1]: \n",
    "            return True\n",
    "        else: return False"
   ]
  },
  {
   "cell_type": "code",
   "execution_count": 71,
   "metadata": {},
   "outputs": [
    {
     "data": {
      "text/plain": [
       "True"
      ]
     },
     "execution_count": 71,
     "metadata": {},
     "output_type": "execute_result"
    }
   ],
   "source": [
    "Solution.isPalindrome(12321)"
   ]
  },
  {
   "cell_type": "markdown",
   "metadata": {},
   "source": [
    "Solved, but can improve on memory\n",
    "***"
   ]
  },
  {
   "cell_type": "markdown",
   "metadata": {},
   "source": [
    "# https://leetcode.com/problems/plus-one"
   ]
  },
  {
   "cell_type": "code",
   "execution_count": 83,
   "metadata": {},
   "outputs": [],
   "source": [
    "class Solution:\n",
    "    #def plusOne(self, digits: List[int]) -> List[int]:\n",
    "    def plusOne(digits):\n",
    "        digits[-1] += 1\n",
    "        \n",
    "        pos = 1\n",
    "        while digits[-pos] == 10: \n",
    "            if pos < len(digits): \n",
    "                digits[-pos] = 0\n",
    "                digits[-pos-1] += 1\n",
    "                pos += 1\n",
    "                \n",
    "            elif pos >= len(digits):\n",
    "                digits[-pos] = 0\n",
    "                digits = [1] + digits\n",
    "\n",
    "        return digits"
   ]
  },
  {
   "cell_type": "code",
   "execution_count": 84,
   "metadata": {},
   "outputs": [
    {
     "data": {
      "text/plain": [
       "[2, 0, 0]"
      ]
     },
     "execution_count": 84,
     "metadata": {},
     "output_type": "execute_result"
    }
   ],
   "source": [
    "Solution.plusOne([1,9,9])"
   ]
  },
  {
   "cell_type": "markdown",
   "metadata": {},
   "source": [
    "Solved, can improve on memory\n",
    "***"
   ]
  },
  {
   "cell_type": "markdown",
   "metadata": {},
   "source": [
    "# https://leetcode.com/problems/add-digits/"
   ]
  },
  {
   "cell_type": "code",
   "execution_count": 98,
   "metadata": {},
   "outputs": [],
   "source": [
    "class Solution:\n",
    "    # def addDigits(self, num: int) -> int:\n",
    "    def addDigits(num):\n",
    "        new = [int(a) for a in str(num)]\n",
    "        while len(new) > 1: \n",
    "            newi = sum(new)\n",
    "            new = [int(a) for a in str(newi)]\n",
    "            \n",
    "        return new[0]"
   ]
  },
  {
   "cell_type": "code",
   "execution_count": 100,
   "metadata": {},
   "outputs": [
    {
     "data": {
      "text/plain": [
       "3"
      ]
     },
     "execution_count": 100,
     "metadata": {},
     "output_type": "execute_result"
    }
   ],
   "source": [
    "Solution.addDigits(954195195)"
   ]
  },
  {
   "cell_type": "markdown",
   "metadata": {},
   "source": [
    "Solved, need to improve Runtime, also a bit in memory\n",
    "***"
   ]
  },
  {
   "cell_type": "markdown",
   "metadata": {},
   "source": [
    "# https://leetcode.com/problems/power-of-two/"
   ]
  },
  {
   "cell_type": "code",
   "execution_count": 101,
   "metadata": {},
   "outputs": [],
   "source": [
    "class Solution:\n",
    "    # def isPowerOfTwo(self, n: int) -> bool:\n",
    "    def isPowerOfTwo(n):\n",
    "        state = False\n",
    "        \n",
    "        if n == 0: \n",
    "            state = False\n",
    "        \n",
    "        else: \n",
    "            while n != 1: \n",
    "                if n%2 == 0:\n",
    "                    n = int(n/2)\n",
    "                else: \n",
    "                    break\n",
    "        \n",
    "        if n == 1: \n",
    "            state = True\n",
    "        \n",
    "        return state"
   ]
  },
  {
   "cell_type": "code",
   "execution_count": 102,
   "metadata": {},
   "outputs": [
    {
     "data": {
      "text/plain": [
       "True"
      ]
     },
     "execution_count": 102,
     "metadata": {},
     "output_type": "execute_result"
    }
   ],
   "source": [
    "Solution.isPowerOfTwo(2**132)"
   ]
  },
  {
   "cell_type": "markdown",
   "metadata": {},
   "source": [
    "Solved, but used shit tons of memory\n",
    "***"
   ]
  },
  {
   "cell_type": "markdown",
   "metadata": {},
   "source": [
    "# https://leetcode.com/problems/valid-perfect-square/"
   ]
  },
  {
   "cell_type": "code",
   "execution_count": 155,
   "metadata": {},
   "outputs": [],
   "source": [
    "class Solution:\n",
    "    # def isPerfectSquare(self, num: int) -> bool:\n",
    "    def isPerfectSquare(num):\n",
    "        return (num**0.5)%1 == 0"
   ]
  },
  {
   "cell_type": "code",
   "execution_count": 156,
   "metadata": {},
   "outputs": [
    {
     "data": {
      "text/plain": [
       "False"
      ]
     },
     "execution_count": 156,
     "metadata": {},
     "output_type": "execute_result"
    }
   ],
   "source": [
    "Solution.isPerfectSquare(num = 14)"
   ]
  },
  {
   "cell_type": "markdown",
   "metadata": {},
   "source": [
    "Solved, can improve in memory, also a bit in time\n",
    "***"
   ]
  },
  {
   "cell_type": "markdown",
   "metadata": {},
   "source": [
    "# https://leetcode.com/problems/missing-number/"
   ]
  },
  {
   "cell_type": "code",
   "execution_count": 130,
   "metadata": {},
   "outputs": [],
   "source": [
    "class Solution:\n",
    "    # def missingNumber(self, nums: List[int]) -> int:\n",
    "    def missingNumber(nums): \n",
    "        missing = list(set(nums) ^ set([i for i in range(max(nums))]))[0]\n",
    "        if missing in nums: \n",
    "            missing = max(nums) + 1\n",
    "        return missing"
   ]
  },
  {
   "cell_type": "code",
   "execution_count": 133,
   "metadata": {},
   "outputs": [
    {
     "data": {
      "text/plain": [
       "2"
      ]
     },
     "execution_count": 133,
     "metadata": {},
     "output_type": "execute_result"
    }
   ],
   "source": [
    "Solution.missingNumber([1,0,3,4])"
   ]
  },
  {
   "cell_type": "markdown",
   "metadata": {},
   "source": [
    "Solved, loads of memory used\n",
    "***"
   ]
  },
  {
   "cell_type": "markdown",
   "metadata": {},
   "source": [
    "# https://leetcode.com/problems/check-if-it-is-a-straight-line/"
   ]
  },
  {
   "cell_type": "code",
   "execution_count": 153,
   "metadata": {},
   "outputs": [],
   "source": [
    "class Solution:\n",
    "    # def checkStraightLine(self, coordinates: List[List[int]]) -> bool:\n",
    "    def checkStraightLine(coordinates):\n",
    "        \n",
    "        state = True\n",
    "        if len(coordinates) == 2: \n",
    "            state = True\n",
    "        else:\n",
    "            x1, y1 = coordinates[0][0], coordinates[0][1]\n",
    "            x2, y2 = coordinates[1][0], coordinates[1][1]\n",
    "            \n",
    "            if (x2 - x1) != 0: \n",
    "                m = (y2 - y1)/(x2 - x1)\n",
    "                c = y1 - m*x1\n",
    "                for i in range(2,len(coordinates)): \n",
    "                    x, y = coordinates[i][0], coordinates[i][1]\n",
    "\n",
    "                    if y != m*x + c: \n",
    "                        state = False\n",
    "                        break\n",
    "                        \n",
    "            else: \n",
    "                for i in coordinates: \n",
    "                    if i[0] != coordinates[0][0]: \n",
    "                        state = False\n",
    "                        break\n",
    "        \n",
    "        return state"
   ]
  },
  {
   "cell_type": "code",
   "execution_count": 154,
   "metadata": {},
   "outputs": [
    {
     "data": {
      "text/plain": [
       "True"
      ]
     },
     "execution_count": 154,
     "metadata": {},
     "output_type": "execute_result"
    }
   ],
   "source": [
    "coordinates = [[1,2],[2,3],[3,4],[4,5],[5,6],[6,7]]\n",
    "Solution.checkStraightLine(coordinates)"
   ]
  },
  {
   "cell_type": "markdown",
   "metadata": {},
   "source": [
    "Solved\n",
    "***"
   ]
  },
  {
   "cell_type": "markdown",
   "metadata": {},
   "source": [
    "# https://leetcode.com/problems/single-number-ii/"
   ]
  },
  {
   "cell_type": "code",
   "execution_count": 1,
   "metadata": {},
   "outputs": [],
   "source": [
    "class Solution:\n",
    "    def singleNumber(nums):\n",
    "        if len(nums) >= 1:\n",
    "            nums.sort()\n",
    "            pos = 0\n",
    "            while pos < len(nums) - 1:\n",
    "                if nums[pos] == nums[pos+1]: \n",
    "                    pos += 3\n",
    "                else: \n",
    "                    break\n",
    "            return nums[pos]"
   ]
  },
  {
   "cell_type": "code",
   "execution_count": 2,
   "metadata": {},
   "outputs": [
    {
     "data": {
      "text/plain": [
       "99"
      ]
     },
     "execution_count": 2,
     "metadata": {},
     "output_type": "execute_result"
    }
   ],
   "source": [
    "Solution.singleNumber(nums = [0,1,0,1,0,1,99])"
   ]
  },
  {
   "cell_type": "markdown",
   "metadata": {},
   "source": [
    "Solved, need improvement in memory\n",
    "***"
   ]
  },
  {
   "cell_type": "markdown",
   "metadata": {},
   "source": [
    "# https://leetcode.com/problems/power-of-four/"
   ]
  },
  {
   "cell_type": "code",
   "execution_count": 6,
   "metadata": {},
   "outputs": [],
   "source": [
    "class Solution:\n",
    "    def isPowerOfFour(num: int) -> bool:\n",
    "        \n",
    "        # using loop\n",
    "        if num == 0:\n",
    "            return False\n",
    "        \n",
    "        else:\n",
    "            while num != 1:\n",
    "            \n",
    "                num /= 4\n",
    "            \n",
    "                if num%1 != 0:\n",
    "                    return False\n",
    "                    break\n",
    "                \n",
    "            return True"
   ]
  },
  {
   "cell_type": "code",
   "execution_count": 7,
   "metadata": {
    "tags": []
   },
   "outputs": [
    {
     "name": "stdout",
     "output_type": "stream",
     "text": [
      "False\n",
      "True\n",
      "False\n",
      "True\n"
     ]
    }
   ],
   "source": [
    "for i in [0,16,625,4**9]:\n",
    "    print(Solution.isPowerOfFour(i))"
   ]
  },
  {
   "cell_type": "markdown",
   "metadata": {},
   "source": [
    "next, do it without loop or recusion, also improve memory usage\n",
    "***"
   ]
  },
  {
   "cell_type": "markdown",
   "metadata": {},
   "source": [
    "# https://leetcode.com/problems/detect-capital/"
   ]
  },
  {
   "cell_type": "code",
   "execution_count": 15,
   "metadata": {},
   "outputs": [],
   "source": [
    "class Solution:\n",
    "    def detectCapitalUse(word: str) -> bool:\n",
    "        upper = set(['A','B','C','D','E','F','G',\\\n",
    "                     'H','I','J','K','L','M','N',\\\n",
    "                     'O','P','Q','R','S','T','U',\\\n",
    "                     'V','W','X','Y','Z'])\n",
    "        \n",
    "        score = 0\n",
    "        if word[0] in upper:\n",
    "            \n",
    "            for i in word:\n",
    "                if i in upper:\n",
    "                    score += 1\n",
    "                    \n",
    "            if score == 1 or score == len(word):\n",
    "                return True\n",
    "            else: return False\n",
    "                \n",
    "        else:\n",
    "            for i in word:\n",
    "                if i in upper:\n",
    "                    score += 1\n",
    "                    \n",
    "            if score == 0:\n",
    "                return True\n",
    "            else: return False"
   ]
  },
  {
   "cell_type": "code",
   "execution_count": 16,
   "metadata": {
    "tags": []
   },
   "outputs": [
    {
     "name": "stdout",
     "output_type": "stream",
     "text": [
      "True\n",
      "True\n",
      "True\n",
      "False\n"
     ]
    }
   ],
   "source": [
    "for i in [\"USA\",\"leetcode\",\"Google\",\"FlaG\"]:\n",
    "    print(Solution.detectCapitalUse(i))"
   ]
  },
  {
   "cell_type": "markdown",
   "metadata": {},
   "source": [
    "solved but too slow and used to much memory\n",
    "***"
   ]
  },
  {
   "cell_type": "code",
   "execution_count": 2,
   "metadata": {},
   "outputs": [
    {
     "data": {
      "text/plain": [
       "True"
      ]
     },
     "execution_count": 2,
     "metadata": {},
     "output_type": "execute_result"
    }
   ],
   "source": [
    "0 in [0,0,2,3,4]"
   ]
  },
  {
   "cell_type": "code",
   "execution_count": 5,
   "metadata": {},
   "outputs": [],
   "source": [
    "def finder(arr):\n",
    "    repeat = []\n",
    "    for i,n in enumerate(arr):\n",
    "        if n in arr[i+1:]:\n",
    "            repeat.append(n)\n",
    "    return repeat"
   ]
  },
  {
   "cell_type": "code",
   "execution_count": 9,
   "metadata": {},
   "outputs": [
    {
     "data": {
      "text/plain": [
       "[]"
      ]
     },
     "execution_count": 9,
     "metadata": {},
     "output_type": "execute_result"
    }
   ],
   "source": [
    "finder([0,1])"
   ]
  },
  {
   "cell_type": "code",
   "execution_count": 15,
   "metadata": {},
   "outputs": [],
   "source": [
    "def finder(arr):\n",
    "    pos = 0\n",
    "    while pos < len(arr):\n",
    "        if arr[pos] in arr[pos+1:]:\n",
    "            pos += 1\n",
    "        else: arr.pop(pos)\n",
    "    return arr"
   ]
  },
  {
   "cell_type": "code",
   "execution_count": 20,
   "metadata": {},
   "outputs": [
    {
     "data": {
      "text/plain": [
       "[3, 2]"
      ]
     },
     "execution_count": 20,
     "metadata": {},
     "output_type": "execute_result"
    }
   ],
   "source": [
    "finder([4,3,2,7,8,2,3,1])"
   ]
  },
  {
   "cell_type": "markdown",
   "metadata": {},
   "source": [
    "# https://leetcode.com/problems/find-all-duplicates-in-an-array/discuss/?currentPage=3&orderBy=newest_to_oldest&query="
   ]
  },
  {
   "cell_type": "markdown",
   "metadata": {},
   "source": [
    "# https://leetcode.com/problems/excel-sheet-column-number/"
   ]
  },
  {
   "cell_type": "code",
   "execution_count": 11,
   "metadata": {},
   "outputs": [],
   "source": [
    "class Solution:\n",
    "    def titleToNumber(s: str) -> int:\n",
    "        # base-26??        \n",
    "        letter = ['A','B','C','D','E','F','G',\\\n",
    "                  'H','I','J','K','L','M','N',\\\n",
    "                  'O','P','Q','R','S','T','U',\\\n",
    "                  'V','W','X','Y','Z']\n",
    "        num = 0\n",
    "        for n,i in enumerate(s):\n",
    "            num += 26**(len(s)-n-1) * (letter.index(i) + 1)\n",
    "\n",
    "        return num"
   ]
  },
  {
   "cell_type": "code",
   "execution_count": 12,
   "metadata": {},
   "outputs": [
    {
     "data": {
      "text/plain": [
       "28"
      ]
     },
     "execution_count": 12,
     "metadata": {},
     "output_type": "execute_result"
    }
   ],
   "source": [
    "Solution.titleToNumber(s = 'AB')"
   ]
  },
  {
   "cell_type": "markdown",
   "metadata": {},
   "source": [
    "Solved\n",
    "***"
   ]
  },
  {
   "cell_type": "code",
   "execution_count": null,
   "metadata": {},
   "outputs": [],
   "source": []
  },
  {
   "cell_type": "markdown",
   "metadata": {},
   "source": [
    "# https://leetcode.com/problems/reverse-words-in-a-string/submissions/"
   ]
  },
  {
   "cell_type": "code",
   "execution_count": 21,
   "metadata": {},
   "outputs": [],
   "source": [
    "class Solution:\n",
    "    def reverseWords(s: str) -> str:\n",
    "        \n",
    "        s.replace('  ','')\n",
    "        \n",
    "        words = s.split(' ')\n",
    "        \n",
    "        reversed = ''\n",
    "        for i in words:\n",
    "            if i != '':\n",
    "                i.replace(' ','')\n",
    "                reversed = i + ' ' + reversed\n",
    "        \n",
    "        return reversed[:-1]"
   ]
  },
  {
   "cell_type": "code",
   "execution_count": 23,
   "metadata": {},
   "outputs": [
    {
     "data": {
      "text/plain": [
       "'world! hello'"
      ]
     },
     "execution_count": 23,
     "metadata": {},
     "output_type": "execute_result"
    }
   ],
   "source": [
    "Solution.reverseWords(\"  hello world!  \")"
   ]
  },
  {
   "cell_type": "markdown",
   "metadata": {},
   "source": [
    "Solved, maybe improve in memory\n",
    "***"
   ]
  },
  {
   "cell_type": "markdown",
   "metadata": {},
   "source": [
    "# https://leetcode.com/problems/h-index/"
   ]
  },
  {
   "cell_type": "code",
   "execution_count": 219,
   "metadata": {},
   "outputs": [],
   "source": [
    "class Solution:\n",
    "    def hIndex_try(citations) -> int:\n",
    "\n",
    "        if len(citations) == 1:\n",
    "            if citations[0] >= 1:\n",
    "                return 1\n",
    "            else: \n",
    "                return 0\n",
    "        elif len(citations) == 0:\n",
    "            return 0\n",
    "\n",
    "        elif len(citations) > 1:\n",
    "            # hint1: sort\n",
    "            citations.sort()\n",
    "\n",
    "            # hint2: guess h, I tried mean(int,roundup)\n",
    "            h_guess = int(sum(citations)/len(citations)) + 1\n",
    "\n",
    "            h_check = len([i for i in citations if i >= h_guess])\n",
    "            '''\n",
    "            or somehow find since where in the list the value starts to be greater than h_guess, \n",
    "            this uses less space (as no new list)\n",
    "            '''\n",
    "\n",
    "            if h_check == h_guess:\n",
    "                return h_guess\n",
    "\n",
    "            else:\n",
    "                while h_check != h_guess:\n",
    "                    if h_check < h_guess:\n",
    "                        h_guess -= 1\n",
    "                    if h_check > h_guess:\n",
    "                        h_guess += 1\n",
    "                    \n",
    "                    h_check = len([i for i in citations if i >= h_guess])\n",
    "\n",
    "                    # hotfix1 (lol)\n",
    "                    if len(citations) == h_check:\n",
    "                        h_guess = min( min(citations) , len(citations) )\n",
    "                        break\n",
    "\n",
    "                    # hotfix2\n",
    "                    if (h_guess + h_check) == len(citations):\n",
    "                        break\n",
    "\n",
    "                return h_guess"
   ]
  },
  {
   "cell_type": "markdown",
   "metadata": {},
   "source": [
    "The above code was a mess but original, shit code but can be improved (maybe?)  \n",
    "just look at the below version, which uses the formula from wikipage about h-index"
   ]
  },
  {
   "cell_type": "code",
   "execution_count": 220,
   "metadata": {},
   "outputs": [],
   "source": [
    "class Solution:\n",
    "    def hIndex(citations) -> int:\n",
    "\n",
    "        if len(citations) < 1:\n",
    "            return 0\n",
    "        \n",
    "        else:\n",
    "            citations.sort()\n",
    "            find = []\n",
    "            for i,cite in enumerate(citations[::-1]):\n",
    "                find.append(min(i+1,cite))\n",
    "\n",
    "            return max(find)"
   ]
  },
  {
   "cell_type": "code",
   "execution_count": null,
   "metadata": {},
   "outputs": [],
   "source": [
    "# less memory but a bit longer time\n",
    "class Solution:\n",
    "    def hIndex(citations) -> int:\n",
    "        if len(citations) < 1:\n",
    "            return 0\n",
    "        \n",
    "        else:\n",
    "            citations.sort()\n",
    "            h = 0\n",
    "            for i,cite in enumerate(citations[::-1]):\n",
    "                if h < min(i+1,cite):\n",
    "                    h = min(i+1,cite)\n",
    "\n",
    "            return h"
   ]
  },
  {
   "cell_type": "code",
   "execution_count": 221,
   "metadata": {
    "tags": []
   },
   "outputs": [
    {
     "data": {
      "text/plain": [
       "3"
      ]
     },
     "execution_count": 221,
     "metadata": {},
     "output_type": "execute_result"
    }
   ],
   "source": [
    "Solution.hIndex([25,8,5,3,3])"
   ]
  },
  {
   "cell_type": "markdown",
   "metadata": {},
   "source": [
    "Solved\n",
    "***"
   ]
  },
  {
   "cell_type": "markdown",
   "metadata": {},
   "source": [
    "# https://leetcode.com/problems/triangle/"
   ]
  },
  {
   "cell_type": "code",
   "execution_count": 22,
   "metadata": {},
   "outputs": [],
   "source": [
    "class Solution:\n",
    "    def minimumTotal(triangle) -> int:\n",
    "        \n",
    "        for i in reversed( range(len(triangle)-1) ):\n",
    "            for j in range(len(triangle[i])):\n",
    "                triangle[i][j] += min( triangle[i+1][j] , triangle[i+1][j+1])\n",
    "                \n",
    "        return triangle[0][0]"
   ]
  },
  {
   "cell_type": "code",
   "execution_count": 23,
   "metadata": {
    "tags": []
   },
   "outputs": [
    {
     "data": {
      "text/plain": [
       "11"
      ]
     },
     "execution_count": 23,
     "metadata": {},
     "output_type": "execute_result"
    }
   ],
   "source": [
    "Solution.minimumTotal(triangle = [[2], [3, 4], [6, 5, 7], [4, 1, 8, 3]])"
   ]
  },
  {
   "cell_type": "markdown",
   "metadata": {},
   "source": [
    "Solved, learned from ProjectEuler\n",
    "***"
   ]
  },
  {
   "cell_type": "markdown",
   "metadata": {},
   "source": [
    "# https://leetcode.com/problems/pascals-triangle-ii/"
   ]
  },
  {
   "cell_type": "code",
   "execution_count": 4,
   "metadata": {},
   "outputs": [],
   "source": [
    "class Solution:\n",
    "    def getRow(rowIndex: int):\n",
    "        if 0 <= rowIndex <= 33:\n",
    "            row = [1]\n",
    "            for i in range(rowIndex):\n",
    "                row.append(0)\n",
    "                add = row[::-1]\n",
    "                for j in range(len(row)):\n",
    "                    row[j] += add[j]\n",
    "            return row"
   ]
  },
  {
   "cell_type": "code",
   "execution_count": 5,
   "metadata": {},
   "outputs": [
    {
     "data": {
      "text/plain": [
       "[1, 7, 21, 35, 35, 21, 7, 1]"
      ]
     },
     "execution_count": 5,
     "metadata": {},
     "output_type": "execute_result"
    }
   ],
   "source": [
    "Solution.getRow(7)"
   ]
  },
  {
   "cell_type": "markdown",
   "metadata": {},
   "source": [
    "Solved, can try not to use extra list (space/memory) for the adding\n",
    "***"
   ]
  },
  {
   "cell_type": "markdown",
   "metadata": {},
   "source": [
    "# https://leetcode.com/problems/pascals-triangle/"
   ]
  },
  {
   "cell_type": "code",
   "execution_count": 18,
   "metadata": {
    "tags": []
   },
   "outputs": [
    {
     "name": "stdout",
     "output_type": "stream",
     "text": [
      "[[1], [1]]\n",
      "[[1, 1], [1, 1], [1, 1]]\n"
     ]
    },
    {
     "data": {
      "text/plain": [
       "[[1, 2, 1], [1, 2, 1], [1, 2, 1]]"
      ]
     },
     "execution_count": 18,
     "metadata": {},
     "output_type": "execute_result"
    }
   ],
   "source": [
    "class Solution:\n",
    "    def getRow(rowIndex: int):\n",
    "        row = [1]\n",
    "        ans = []\n",
    "        ans.append(row)\n",
    "        for i in range(rowIndex):\n",
    "            ans.insert(-1,row)\n",
    "            print(ans)\n",
    "            row.append(0)\n",
    "            add = row[::-1]\n",
    "            for j in range(len(row)):\n",
    "                row[j] += add[j]\n",
    "        return ans\n",
    "\n",
    "Solution.getRow(2)"
   ]
  },
  {
   "cell_type": "code",
   "execution_count": 3,
   "metadata": {
    "tags": []
   },
   "outputs": [
    {
     "name": "stdout",
     "output_type": "stream",
     "text": [
      "[0]\n",
      "[0, 1]\n",
      "[0, 1, 2]\n",
      "[0, 1, 2, 3]\n",
      "[0, 1, 2, 3, 4]\n"
     ]
    },
    {
     "data": {
      "text/plain": [
       "[[0, 1, 2, 3, 4],\n",
       " [0, 1, 2, 3, 4],\n",
       " [0, 1, 2, 3, 4],\n",
       " [0, 1, 2, 3, 4],\n",
       " [0, 1, 2, 3, 4]]"
      ]
     },
     "execution_count": 3,
     "metadata": {},
     "output_type": "execute_result"
    }
   ],
   "source": [
    "a = []\n",
    "row = []\n",
    "for i in range(5):\n",
    "    row.append(i)\n",
    "    a.append(row)\n",
    "    print(row)\n",
    "a"
   ]
  },
  {
   "cell_type": "markdown",
   "metadata": {},
   "source": [
    "read this https://stackoverflow.com/questions/58576588/appending-to-list-of-lists-in-for-loop  \n",
    "the issue is about append list in loop only append the copy of the wanted list,  \n",
    "this is about memory and comsci stuff.  \n",
    "so on append, use list[:] instead of just list"
   ]
  },
  {
   "cell_type": "code",
   "execution_count": 5,
   "metadata": {
    "tags": []
   },
   "outputs": [
    {
     "name": "stdout",
     "output_type": "stream",
     "text": [
      "[0]\n",
      "[0, 1]\n",
      "[0, 1, 2]\n",
      "[0, 1, 2, 3]\n",
      "[0, 1, 2, 3, 4]\n"
     ]
    },
    {
     "data": {
      "text/plain": [
       "[[0], [0, 1], [0, 1, 2], [0, 1, 2, 3], [0, 1, 2, 3, 4]]"
      ]
     },
     "execution_count": 5,
     "metadata": {},
     "output_type": "execute_result"
    }
   ],
   "source": [
    "a = []\n",
    "row = []\n",
    "for i in range(5):\n",
    "    row.append(i)\n",
    "    a.append(row[:])   # see here row[:], instead of row\n",
    "    print(row)\n",
    "a"
   ]
  },
  {
   "cell_type": "code",
   "execution_count": 32,
   "metadata": {
    "tags": []
   },
   "outputs": [
    {
     "name": "stdout",
     "output_type": "stream",
     "text": [
      "0 []\n",
      "1 [[1]]\n",
      "2 [[1], [1, 1]]\n",
      "3 [[1], [1, 1], [1, 2, 1]]\n",
      "4 [[1], [1, 1], [1, 2, 1], [1, 3, 3, 1]]\n"
     ]
    }
   ],
   "source": [
    "class Solution:\n",
    "    def generate(numRows: int):\n",
    "        row = [1]\n",
    "        ans = []\n",
    "        for i in range(numRows):\n",
    "            if i == 0:    # the first append\n",
    "                ans.append(row[:])\n",
    "            else:\n",
    "                row.append(0)\n",
    "                add = row[::-1]\n",
    "                for j in range(len(row)):\n",
    "                    row[j] += add[j]\n",
    "                ans.append(row[:])\n",
    "        return ans\n",
    "\n",
    "for i in range(5):\n",
    "    print(i,Solution.generate(i))"
   ]
  },
  {
   "cell_type": "markdown",
   "metadata": {},
   "source": [
    "solved, can improve a little bit in memory\n",
    "***"
   ]
  },
  {
   "cell_type": "code",
   "execution_count": 2,
   "metadata": {},
   "outputs": [],
   "source": [
    "class Solution:\n",
    "    def findTargetSumWays(self, nums, S) -> int:\n",
    "        index = len(nums) - 1\n",
    "        curSum = 0\n",
    "        self.memo = {}\n",
    "        return self.dp(nums, S, index, curSum)\n",
    "    \n",
    "    def dp(self, nums, target, index, curSum):\n",
    "        if (index, curSum) in self.memo:\n",
    "            return self.memo[(index, curSum)]\n",
    "        \n",
    "        if index < 0 and curSum  == target:\n",
    "            return 1\n",
    "        if index < 0:\n",
    "            return 0\n",
    "        \n",
    "        positive = self.dp(nums, target, index-1, curSum + nums[index])\n",
    "        negative = self.dp(nums, target, index-1, curSum - nums[index])\n",
    "        \n",
    "        self.memo[(index, curSum)] = positive + negative\n",
    "        return self.memo[(index, curSum)]"
   ]
  },
  {
   "cell_type": "code",
   "execution_count": 4,
   "metadata": {},
   "outputs": [
    {
     "ename": "NameError",
     "evalue": "name 'self' is not defined",
     "output_type": "error",
     "traceback": [
      "\u001b[1;31m---------------------------------------------------------------------------\u001b[0m",
      "\u001b[1;31mNameError\u001b[0m                                 Traceback (most recent call last)",
      "\u001b[1;32m<ipython-input-4-d464de534110>\u001b[0m in \u001b[0;36m<module>\u001b[1;34m\u001b[0m\n\u001b[1;32m----> 1\u001b[1;33m \u001b[0mSolution\u001b[0m\u001b[1;33m.\u001b[0m\u001b[0mfindTargetSumWays\u001b[0m\u001b[1;33m(\u001b[0m\u001b[0mself\u001b[0m\u001b[1;33m,\u001b[0m \u001b[1;33m[\u001b[0m\u001b[1;36m1\u001b[0m\u001b[1;33m,\u001b[0m\u001b[1;36m1\u001b[0m\u001b[1;33m,\u001b[0m\u001b[1;36m1\u001b[0m\u001b[1;33m,\u001b[0m\u001b[1;36m1\u001b[0m\u001b[1;33m,\u001b[0m\u001b[1;36m1\u001b[0m\u001b[1;33m]\u001b[0m\u001b[1;33m,\u001b[0m \u001b[1;36m3\u001b[0m\u001b[1;33m)\u001b[0m\u001b[1;33m\u001b[0m\u001b[0m\n\u001b[0m",
      "\u001b[1;31mNameError\u001b[0m: name 'self' is not defined"
     ]
    }
   ],
   "source": [
    "Solution.findTargetSumWays(self, [1,1,1,1,1], 3)"
   ]
  },
  {
   "cell_type": "code",
   "execution_count": 5,
   "metadata": {},
   "outputs": [],
   "source": [
    "def findTargetSumWays(nums, S):\n",
    "    index = len(nums) - 1\n",
    "    curr_sum = 0\n",
    "    return dp(nums, S, index, curr_sum)\n",
    "\n",
    "def dp(nums, target, index, curr_sum):\n",
    "    print(index, curr_sum)\n",
    "    # Base Cases\n",
    "    if index < 0 and curr_sum == target:\n",
    "        print(1)\n",
    "        return 1\n",
    "    if index < 0:\n",
    "        print(0)\n",
    "        return 0\n",
    "\n",
    "    # Decisions\n",
    "    positive = dp(nums, target, index-1, curr_sum + nums[index])\n",
    "    negative = dp(nums, target, index-1, curr_sum + -nums[index])\n",
    "\n",
    "    return positive + negative"
   ]
  },
  {
   "cell_type": "code",
   "execution_count": 8,
   "metadata": {},
   "outputs": [],
   "source": [
    "# easier to understand but Exceed RunTime\n",
    "\n",
    "def findTargetSumWays(nums, S):\n",
    "    index = len(nums) - 1\n",
    "    curr_sum = 0\n",
    "    return dp(nums, S, index, curr_sum)\n",
    "\n",
    "def dp(nums, target, index, curr_sum):\n",
    "    print(index, curr_sum)\n",
    "    # Base Cases\n",
    "    if index < 0 and curr_sum == target:\n",
    "        return 1\n",
    "    if index < 0:\n",
    "        return 0\n",
    "\n",
    "    # Decisions\n",
    "    positive = dp(nums, target, index-1, curr_sum + nums[index])\n",
    "    negative = dp(nums, target, index-1, curr_sum + -nums[index])\n",
    "\n",
    "    return positive + negative"
   ]
  },
  {
   "cell_type": "code",
   "execution_count": 9,
   "metadata": {
    "tags": []
   },
   "outputs": [
    {
     "name": "stdout",
     "output_type": "stream",
     "text": [
      "4 0\n",
      "3 1\n",
      "2 2\n",
      "1 3\n",
      "0 4\n",
      "-1 5\n",
      "-1 3\n",
      "0 2\n",
      "-1 3\n",
      "-1 1\n",
      "1 1\n",
      "0 2\n",
      "-1 3\n",
      "-1 1\n",
      "0 0\n",
      "-1 1\n",
      "-1 -1\n",
      "2 0\n",
      "1 1\n",
      "0 2\n",
      "-1 3\n",
      "-1 1\n",
      "0 0\n",
      "-1 1\n",
      "-1 -1\n",
      "1 -1\n",
      "0 0\n",
      "-1 1\n",
      "-1 -1\n",
      "0 -2\n",
      "-1 -1\n",
      "-1 -3\n",
      "3 -1\n",
      "2 0\n",
      "1 1\n",
      "0 2\n",
      "-1 3\n",
      "-1 1\n",
      "0 0\n",
      "-1 1\n",
      "-1 -1\n",
      "1 -1\n",
      "0 0\n",
      "-1 1\n",
      "-1 -1\n",
      "0 -2\n",
      "-1 -1\n",
      "-1 -3\n",
      "2 -2\n",
      "1 -1\n",
      "0 0\n",
      "-1 1\n",
      "-1 -1\n",
      "0 -2\n",
      "-1 -1\n",
      "-1 -3\n",
      "1 -3\n",
      "0 -2\n",
      "-1 -1\n",
      "-1 -3\n",
      "0 -4\n",
      "-1 -3\n",
      "-1 -5\n"
     ]
    },
    {
     "data": {
      "text/plain": [
       "5"
      ]
     },
     "execution_count": 9,
     "metadata": {},
     "output_type": "execute_result"
    }
   ],
   "source": [
    "findTargetSumWays(nums = [1,1,1,1,1], S = 3)"
   ]
  },
  {
   "cell_type": "code",
   "execution_count": null,
   "metadata": {},
   "outputs": [],
   "source": []
  }
 ],
 "metadata": {
  "kernelspec": {
   "display_name": "Python 3",
   "language": "python",
   "name": "python3"
  },
  "language_info": {
   "codemirror_mode": {
    "name": "ipython",
    "version": 3
   },
   "file_extension": ".py",
   "mimetype": "text/x-python",
   "name": "python",
   "nbconvert_exporter": "python",
   "pygments_lexer": "ipython3",
   "version": "3.6.5"
  }
 },
 "nbformat": 4,
 "nbformat_minor": 2
}
