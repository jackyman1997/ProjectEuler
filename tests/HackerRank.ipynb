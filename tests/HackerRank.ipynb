{
 "cells": [
  {
   "cell_type": "code",
   "execution_count": 2,
   "metadata": {
    "tags": []
   },
   "outputs": [
    {
     "name": "stdout",
     "output_type": "stream",
     "text": [
      "123456789101112131415161718192021222324252627282930313233343536373839404142434445464748495051525354555657585960616263646566676869707172737475767778798081828384858687888990919293949596979899100101\n"
     ]
    }
   ],
   "source": [
    "# https://www.hackerrank.com/challenges/python-print/problem?h_r=next-challenge&h_v=zen&h_r=next-challenge&h_v=zen&h_r=next-challenge&h_v=zen&h_r=next-challenge&h_v=zen&h_r=next-challenge&h_v=zen&h_r=next-challenge&h_v=zen\n",
    "def print_concatinate_numbers(n):\n",
    "    n = int(input())\n",
    "    digit = 0\n",
    "    if 1 <= n <= 150:\n",
    "        ans = 1\n",
    "        for i in range(2,n+1):\n",
    "            d = i\n",
    "            tenth = 1\n",
    "            while d//10 > 0:\n",
    "                d = d//10\n",
    "                tenth += 1\n",
    "            ans = ans*10**tenth + i\n",
    "        print(ans)\n",
    "    else:\n",
    "        pass\n",
    "print_concatinate_numbers(n = 101)"
   ]
  },
  {
   "cell_type": "code",
   "execution_count": null,
   "metadata": {},
   "outputs": [],
   "source": []
  }
 ],
 "metadata": {
  "kernelspec": {
   "display_name": "Python 3",
   "language": "python",
   "name": "python3"
  },
  "language_info": {
   "codemirror_mode": {
    "name": "ipython",
    "version": 3
   },
   "file_extension": ".py",
   "mimetype": "text/x-python",
   "name": "python",
   "nbconvert_exporter": "python",
   "pygments_lexer": "ipython3",
   "version": "3.6.5"
  }
 },
 "nbformat": 4,
 "nbformat_minor": 2
}
