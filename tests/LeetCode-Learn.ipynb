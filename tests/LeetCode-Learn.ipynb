{
 "cells": [
  {
   "cell_type": "markdown",
   "metadata": {},
   "source": [
    "# https://leetcode.com/explore/learn/card/fun-with-arrays/521/introduction/3238/"
   ]
  },
  {
   "cell_type": "code",
   "execution_count": 5,
   "metadata": {},
   "outputs": [],
   "source": [
    "class Solution:\n",
    "    # def findMaxConsecutiveOnes(self, nums: List[int]) -> int:\n",
    "    def findMaxConsecutiveOnes(nums):\n",
    "        pos = 0\n",
    "        cnt = 0\n",
    "        maxi = 0\n",
    "        while pos < len(nums): \n",
    "            if nums[pos] == 0: \n",
    "                cnt = 0\n",
    "            else: \n",
    "                cnt += 1\n",
    "                if cnt > maxi: \n",
    "                    maxi = cnt\n",
    "            \n",
    "            pos += 1\n",
    "            \n",
    "        return maxi"
   ]
  },
  {
   "cell_type": "code",
   "execution_count": 6,
   "metadata": {},
   "outputs": [
    {
     "data": {
      "text/plain": [
       "8"
      ]
     },
     "execution_count": 6,
     "metadata": {},
     "output_type": "execute_result"
    }
   ],
   "source": [
    "Solution.findMaxConsecutiveOnes([1,1,1,1,0,0,1,1,0,1,1,1,1,1,1,1,1])"
   ]
  },
  {
   "cell_type": "markdown",
   "metadata": {},
   "source": [
    "Solved, need to improve time and memory\n",
    "***"
   ]
  },
  {
   "cell_type": "markdown",
   "metadata": {},
   "source": [
    "# https://leetcode.com/explore/learn/card/fun-with-arrays/521/introduction/3237/"
   ]
  },
  {
   "cell_type": "code",
   "execution_count": 7,
   "metadata": {},
   "outputs": [],
   "source": [
    "class Solution:\n",
    "    # def findNumbers(self, nums: List[int]) -> int:\n",
    "    def findNumbers(nums):\n",
    "        cnt = 0\n",
    "        for i in nums: \n",
    "            if len(str(i))%2 == 0: \n",
    "                cnt += 1\n",
    "        return cnt"
   ]
  },
  {
   "cell_type": "code",
   "execution_count": 8,
   "metadata": {},
   "outputs": [
    {
     "data": {
      "text/plain": [
       "2"
      ]
     },
     "execution_count": 8,
     "metadata": {},
     "output_type": "execute_result"
    }
   ],
   "source": [
    "Solution.findNumbers([12,345,2,6,7896])"
   ]
  },
  {
   "cell_type": "markdown",
   "metadata": {},
   "source": [
    "Solved, need to improve time and memory\n",
    "***"
   ]
  },
  {
   "cell_type": "markdown",
   "metadata": {},
   "source": [
    "# https://leetcode.com/explore/learn/card/fun-with-arrays/521/introduction/3240/"
   ]
  },
  {
   "cell_type": "code",
   "execution_count": 10,
   "metadata": {},
   "outputs": [],
   "source": [
    "class Solution:\n",
    "    # def sortedSquares(self, A: List[int]) -> List[int]:\n",
    "    def sortedSquares(A):\n",
    "        for i in range(len(A)): \n",
    "            A[i] = A[i]**2\n",
    "        A.sort()\n",
    "        return A"
   ]
  },
  {
   "cell_type": "code",
   "execution_count": 11,
   "metadata": {},
   "outputs": [
    {
     "data": {
      "text/plain": [
       "[0, 1, 9, 16, 100]"
      ]
     },
     "execution_count": 11,
     "metadata": {},
     "output_type": "execute_result"
    }
   ],
   "source": [
    "Solution.sortedSquares([-4,-1,0,3,10])"
   ]
  },
  {
   "cell_type": "markdown",
   "metadata": {},
   "source": [
    "Solved, need to improve time and memory\n",
    "***"
   ]
  },
  {
   "cell_type": "markdown",
   "metadata": {},
   "source": [
    "# https://leetcode.com/explore/learn/card/fun-with-arrays/525/inserting-items-into-an-array/3245/"
   ]
  },
  {
   "cell_type": "code",
   "execution_count": 12,
   "metadata": {},
   "outputs": [],
   "source": [
    "class Solution:\n",
    "    # def duplicateZeros(self, arr: List[int]) -> None:\n",
    "    def duplicateZeros(arr): \n",
    "        \"\"\"\n",
    "        Do not return anything, modify arr in-place instead.\n",
    "        \"\"\"\n",
    "        pos = 0\n",
    "        while pos < len(arr):\n",
    "            if arr[pos] == 0: \n",
    "                arr.insert(pos + 1, 0)\n",
    "                arr.pop(-1)\n",
    "                pos += 2\n",
    "            else: \n",
    "                pos += 1\n",
    "        pass"
   ]
  },
  {
   "cell_type": "code",
   "execution_count": 5,
   "metadata": {},
   "outputs": [],
   "source": [
    "class Solution:\n",
    "    # def duplicateZeros(self, arr: List[int]) -> None:\n",
    "    def duplicateZeros(arr): \n",
    "        \"\"\"\n",
    "        Do not return anything, modify arr in-place instead.\n",
    "        \"\"\"\n",
    "        pos = 0\n",
    "        for i in range(len(arr)):\n",
    "            if arr[i] == 0: \n",
    "                arr.insert(pos + i, 0)\n",
    "                arr.pop(-1)\n",
    "                pos += 1\n",
    "        pass"
   ]
  },
  {
   "cell_type": "code",
   "execution_count": 6,
   "metadata": {},
   "outputs": [
    {
     "data": {
      "text/plain": [
       "[1, 0, 0, 0, 2, 0, 3, 0]"
      ]
     },
     "execution_count": 6,
     "metadata": {},
     "output_type": "execute_result"
    }
   ],
   "source": [
    "arr = [1,0,2,3,0,4,5,0]\n",
    "Solution.duplicateZeros(arr)\n",
    "arr"
   ]
  },
  {
   "cell_type": "markdown",
   "metadata": {},
   "source": [
    "Solved, need to improve time and memory\n",
    "***"
   ]
  },
  {
   "cell_type": "markdown",
   "metadata": {},
   "source": [
    "# https://leetcode.com/problems/merge-sorted-array/"
   ]
  },
  {
   "cell_type": "code",
   "execution_count": 16,
   "metadata": {},
   "outputs": [],
   "source": [
    "class Solution:\n",
    "    # def merge(self, nums1: List[int], m: int, nums2: List[int], n: int) -> None:\n",
    "    def merge(nums1, m, nums2, n):\n",
    "        \"\"\"\n",
    "        Do not return anything, modify nums1 in-place instead.\n",
    "        \"\"\"\n",
    "        for i in nums2: \n",
    "            nums1.insert(m, i)\n",
    "            \n",
    "        for j in range(len(nums1) - (m+n)): \n",
    "            nums1.pop(-1)\n",
    "            \n",
    "        nums1.sort()\n",
    "            \n",
    "        pass"
   ]
  },
  {
   "cell_type": "code",
   "execution_count": 17,
   "metadata": {},
   "outputs": [
    {
     "data": {
      "text/plain": [
       "[1, 2, 2, 3, 5, 6]"
      ]
     },
     "execution_count": 17,
     "metadata": {},
     "output_type": "execute_result"
    }
   ],
   "source": [
    "nums1 = [1,2,3,0,0,0]\n",
    "m = 3\n",
    "nums2 = [2,5,6]\n",
    "n = 3\n",
    "Solution.merge(nums1, m, nums2, n)\n",
    "nums1"
   ]
  },
  {
   "cell_type": "markdown",
   "metadata": {},
   "source": [
    "the above code actuallu failed the task as .pop() or .delete() can't be used <br>\n",
    "a better solution:"
   ]
  },
  {
   "cell_type": "code",
   "execution_count": null,
   "metadata": {},
   "outputs": [],
   "source": [
    "class Solution:\n",
    "    # def merge(self, nums1: List[int], m: int, nums2: List[int], n: int) -> None:\n",
    "    def merge(nums1, m, nums2, n):\n",
    "        \"\"\"\n",
    "        Do not return anything, modify nums1 in-place instead.\n",
    "        \"\"\"\n",
    "        for i in range(n):\n",
    "            nums1[i+m] = nums2[i]\n",
    "        nums1.sort()\n",
    "        \n",
    "        pass"
   ]
  },
  {
   "cell_type": "code",
   "execution_count": 18,
   "metadata": {},
   "outputs": [
    {
     "data": {
      "text/plain": [
       "[1, 2, 2, 3, 5, 6]"
      ]
     },
     "execution_count": 18,
     "metadata": {},
     "output_type": "execute_result"
    }
   ],
   "source": [
    "nums1 = [1,2,3,0,0,0]\n",
    "m = 3\n",
    "nums2 = [2,5,6]\n",
    "n = 3\n",
    "Solution.merge(nums1, m, nums2, n)\n",
    "nums1"
   ]
  },
  {
   "cell_type": "markdown",
   "metadata": {},
   "source": [
    "Solved\n",
    "***"
   ]
  },
  {
   "cell_type": "markdown",
   "metadata": {},
   "source": [
    "# https://leetcode.com/explore/learn/card/fun-with-arrays/526/deleting-items-from-an-array/3247/"
   ]
  },
  {
   "cell_type": "code",
   "execution_count": 2,
   "metadata": {},
   "outputs": [],
   "source": [
    "class Solution:\n",
    "    # def removeElement(self, nums: List[int], val: int) -> int:\n",
    "    def removeElement(nums, val):\n",
    "        pos = 0\n",
    "        while pos < len(nums):  \n",
    "            if nums[pos] == val:\n",
    "                nums.pop(pos)\n",
    "                pos -= 1\n",
    "            pos += 1\n",
    "        return nums"
   ]
  },
  {
   "cell_type": "code",
   "execution_count": 3,
   "metadata": {},
   "outputs": [
    {
     "data": {
      "text/plain": [
       "[2, 2]"
      ]
     },
     "execution_count": 3,
     "metadata": {},
     "output_type": "execute_result"
    }
   ],
   "source": [
    "Solution.removeElement(nums = [3,2,2,3], val = 3)"
   ]
  },
  {
   "cell_type": "markdown",
   "metadata": {},
   "source": [
    "Solved\n",
    "***"
   ]
  },
  {
   "cell_type": "markdown",
   "metadata": {},
   "source": [
    "# https://leetcode.com/explore/learn/card/fun-with-arrays/526/deleting-items-from-an-array/3248/"
   ]
  },
  {
   "cell_type": "code",
   "execution_count": 5,
   "metadata": {},
   "outputs": [],
   "source": [
    "class Solution:\n",
    "    # def removeDuplicates(self, nums: List[int]) -> int:\n",
    "    def removeDuplicates(nums):\n",
    "        nums.sort()\n",
    "        pos = 1\n",
    "        while pos < len(nums): \n",
    "            if nums[pos-1] == nums[pos]: \n",
    "                nums.pop(pos-1)\n",
    "            else: \n",
    "                pos += 1\n",
    "        return nums"
   ]
  },
  {
   "cell_type": "code",
   "execution_count": 7,
   "metadata": {},
   "outputs": [
    {
     "data": {
      "text/plain": [
       "[0, 1, 2, 3, 4]"
      ]
     },
     "execution_count": 7,
     "metadata": {},
     "output_type": "execute_result"
    }
   ],
   "source": [
    "Solution.removeDuplicates(nums = [0,0,1,1,1,2,2,3,3,4])"
   ]
  },
  {
   "cell_type": "markdown",
   "metadata": {},
   "source": [
    "Solved, need to improve time and memory\n",
    "***"
   ]
  },
  {
   "cell_type": "markdown",
   "metadata": {},
   "source": [
    "# https://leetcode.com/explore/learn/card/fun-with-arrays/527/searching-for-items-in-an-array/3250/"
   ]
  },
  {
   "cell_type": "code",
   "execution_count": 9,
   "metadata": {},
   "outputs": [],
   "source": [
    "class Solution:\n",
    "    # def checkIfExist(self, arr: List[int]) -> bool:\n",
    "    def checkIfExist(arr):\n",
    "        state = False\n",
    "        cnt = 0\n",
    "        for i in range(len(arr)):\n",
    "            if arr[i] != 0: \n",
    "                for j in range(len(arr)):\n",
    "                    if arr[j]/arr[i] == 2: \n",
    "                        state = True\n",
    "                        break\n",
    "            else: \n",
    "                cnt += 1\n",
    "            if cnt >= 2: \n",
    "                state = True\n",
    "                break \n",
    "        return state"
   ]
  },
  {
   "cell_type": "code",
   "execution_count": 10,
   "metadata": {},
   "outputs": [
    {
     "data": {
      "text/plain": [
       "True"
      ]
     },
     "execution_count": 10,
     "metadata": {},
     "output_type": "execute_result"
    }
   ],
   "source": [
    "Solution.checkIfExist(arr = [10,2,5,7])"
   ]
  },
  {
   "cell_type": "markdown",
   "metadata": {},
   "source": [
    "Solved, need to improve time and memory\n",
    "***"
   ]
  },
  {
   "cell_type": "markdown",
   "metadata": {},
   "source": [
    "# https://leetcode.com/explore/learn/card/fun-with-arrays/527/searching-for-items-in-an-array/3251/"
   ]
  },
  {
   "cell_type": "code",
   "execution_count": 11,
   "metadata": {},
   "outputs": [],
   "source": [
    "class Solution:\n",
    "    # def validMountainArray(self, A: List[int]) -> bool:\n",
    "    def validMountainArray(A):\n",
    "        \n",
    "        state = True\n",
    "        cnt = 0\n",
    "        \n",
    "        if len(A) > 2: \n",
    "            \n",
    "            top = 0\n",
    "            \n",
    "            for i in range(1,len(A)):\n",
    "                if A[i-1] >= A[i]: \n",
    "                    cnt += 1\n",
    "                    top = i - 1\n",
    "                    break\n",
    "            \n",
    "            if top != 0: \n",
    "                \n",
    "                for i in range(top + 1,len(A)):\n",
    "                    if A[i-1] <= A[i]:\n",
    "                        state = False\n",
    "                        break\n",
    "                        \n",
    "            else: \n",
    "                state = False\n",
    "                    \n",
    "        else: \n",
    "            state = False\n",
    "        \n",
    "        return state"
   ]
  },
  {
   "cell_type": "code",
   "execution_count": 12,
   "metadata": {},
   "outputs": [
    {
     "data": {
      "text/plain": [
       "True"
      ]
     },
     "execution_count": 12,
     "metadata": {},
     "output_type": "execute_result"
    }
   ],
   "source": [
    "Solution.validMountainArray(A=[1,2,3,4,5,4,3,2,1])"
   ]
  },
  {
   "cell_type": "markdown",
   "metadata": {},
   "source": [
    "Solved, need to improve time and memory\n",
    "***"
   ]
  },
  {
   "cell_type": "markdown",
   "metadata": {},
   "source": [
    "# https://leetcode.com/problems/move-zeroes/"
   ]
  },
  {
   "cell_type": "code",
   "execution_count": 19,
   "metadata": {},
   "outputs": [],
   "source": [
    "class Solution:\n",
    "    # def moveZeroes(self, nums: List[int]) -> None:\n",
    "    def moveZeroes(nums):\n",
    "        \"\"\"\n",
    "        Do not return anything, modify nums in-place instead.\n",
    "        \"\"\"\n",
    "        nums.sort()\n",
    "        while nums[0] == 0:\n",
    "            nums[0:-1] = nums[1:]  # be careful in this case, if the order changes will end up forever loop\n",
    "            nums[-1] = 0\n",
    "            \n",
    "        return nums"
   ]
  },
  {
   "cell_type": "code",
   "execution_count": 20,
   "metadata": {},
   "outputs": [
    {
     "data": {
      "text/plain": [
       "[1, 3, 12, 0, 0]"
      ]
     },
     "execution_count": 20,
     "metadata": {},
     "output_type": "execute_result"
    }
   ],
   "source": [
    "Solution.moveZeroes(nums = [0,1,0,3,12])"
   ]
  },
  {
   "cell_type": "markdown",
   "metadata": {},
   "source": [
    "Solved, need to improve memory\n",
    "***"
   ]
  },
  {
   "cell_type": "code",
   "execution_count": null,
   "metadata": {},
   "outputs": [],
   "source": []
  }
 ],
 "metadata": {
  "kernelspec": {
   "display_name": "Python 3",
   "language": "python",
   "name": "python3"
  },
  "language_info": {
   "codemirror_mode": {
    "name": "ipython",
    "version": 3
   },
   "file_extension": ".py",
   "mimetype": "text/x-python",
   "name": "python",
   "nbconvert_exporter": "python",
   "pygments_lexer": "ipython3",
   "version": "3.6.5"
  }
 },
 "nbformat": 4,
 "nbformat_minor": 2
}
