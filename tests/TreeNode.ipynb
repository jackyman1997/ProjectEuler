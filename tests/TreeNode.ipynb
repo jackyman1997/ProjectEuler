{
 "cells": [
  {
   "cell_type": "markdown",
   "metadata": {},
   "source": [
    "# https://www.youtube.com/watch?v=6oL-0TdVy28"
   ]
  },
  {
   "cell_type": "code",
   "execution_count": 24,
   "metadata": {},
   "outputs": [],
   "source": [
    "# Definition for a binary tree node.\n",
    "class TreeNode:\n",
    "    def __init__(self, val=0, left=None, right=None):\n",
    "        self.val = val\n",
    "        self.left = left\n",
    "        self.right = right\n",
    "\n",
    "# binary tree class\n",
    "class BinaryTree:\n",
    "    def __init__(self, root):\n",
    "        self.root = TreeNode(root)\n",
    "\n",
    "    # about Binary Tree Traversals\n",
    "    # 1. pre-order\n",
    "    '''\n",
    "    1. check if the current node is None\n",
    "    2. print out current node\n",
    "    3. if left is None, depending on what order, some go back 1 node up, some check right\n",
    "    4. until done\n",
    "    '''\n",
    "    def preorder_print(self, start, traversal):\n",
    "        ''' root > left > right '''\n",
    "        if start:    # this one, if not None (as if start is sth, ie object, this return True)\n",
    "            traversal += str(start.val) + '->'\n",
    "            \n",
    "            # using recusive (calling itself and the function itself)\n",
    "            # this one is just to print, so 1 line leftm 1 line right\n",
    "            traversal = self.preorder_print(start.left, traversal)\n",
    "            traversal = self.preorder_print(start.right, traversal)\n",
    "            \n",
    "        return traversal\n",
    "\n",
    "    # my version\n",
    "    def preorder_print2(self, start, curr = []):\n",
    "\n",
    "        if start: \n",
    "            curr.append(start.val)\n",
    "\n",
    "            curr = self.preorder_print2(start.left, curr)\n",
    "            curr = self.preorder_print2(start.right, curr)\n",
    "            \n",
    "        return curr"
   ]
  },
  {
   "cell_type": "code",
   "execution_count": 28,
   "metadata": {},
   "outputs": [],
   "source": [
    "# creating root\n",
    "tree = BinaryTree(1)\n",
    "\n",
    "# creating left child, also right\n",
    "tree.root.left = TreeNode(2)\n",
    "tree.root.right = TreeNode(3)\n",
    "\n",
    "# sub child\n",
    "tree.root.left.left = TreeNode(4)\n",
    "tree.root.left.right = TreeNode(5)\n",
    "\n",
    "# also sub child\n",
    "tree.root.right.left = TreeNode(6)\n",
    "tree.root.right.right = TreeNode(7)\n",
    "\n",
    "# even more\n",
    "tree.root.right.right.right = TreeNode(8)"
   ]
  },
  {
   "cell_type": "code",
   "execution_count": 29,
   "metadata": {},
   "outputs": [
    {
     "data": {
      "text/plain": [
       "'1->2->4->5->3->0->7->8->'"
      ]
     },
     "execution_count": 29,
     "metadata": {},
     "output_type": "execute_result"
    }
   ],
   "source": [
    "tree.preorder_print(start = tree.root, traversal = '')"
   ]
  },
  {
   "cell_type": "code",
   "execution_count": 30,
   "metadata": {},
   "outputs": [
    {
     "data": {
      "text/plain": [
       "[1, 2, 4, 5, 3, 6, 7, 8, 1, 2, 4, 5, 3, 0, 7, 8]"
      ]
     },
     "execution_count": 30,
     "metadata": {},
     "output_type": "execute_result"
    }
   ],
   "source": [
    "tree.preorder_print2(start = tree.root)"
   ]
  },
  {
   "cell_type": "code",
   "execution_count": null,
   "metadata": {},
   "outputs": [],
   "source": []
  }
 ],
 "metadata": {
  "kernelspec": {
   "display_name": "Python 3",
   "language": "python",
   "name": "python3"
  },
  "language_info": {
   "codemirror_mode": {
    "name": "ipython",
    "version": 3
   },
   "file_extension": ".py",
   "mimetype": "text/x-python",
   "name": "python",
   "nbconvert_exporter": "python",
   "pygments_lexer": "ipython3",
   "version": "3.6.5"
  }
 },
 "nbformat": 4,
 "nbformat_minor": 2
}
