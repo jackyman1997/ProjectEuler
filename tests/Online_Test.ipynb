{
 "cells": [
  {
   "cell_type": "markdown",
   "metadata": {},
   "source": [
    "# fizzbuzz"
   ]
  },
  {
   "cell_type": "code",
   "execution_count": 7,
   "metadata": {},
   "outputs": [],
   "source": [
    "def fizzbuzz(number): \n",
    "    for n in range(1,number+1):\n",
    "        \n",
    "        # if only %3 == 0 \n",
    "        if n%3 == 0 and n%5 != 0: \n",
    "            print('Fizz', end = ' ')\n",
    "        \n",
    "        # if only %5 == 0 \n",
    "        if n%3 != 0 and n%5 == 0: \n",
    "            print('Buzz', end = ' ')\n",
    "        \n",
    "        # if both %5 %3 == 0 \n",
    "        if n%3 == 0 and n%5 == 0: \n",
    "            print('FizzBuzz', end = ' ')\n",
    "        \n",
    "        # others\n",
    "        if n%3 != 0 and n%5 != 0: \n",
    "            print(n, end = ' ')\n",
    "    pass"
   ]
  },
  {
   "cell_type": "code",
   "execution_count": 8,
   "metadata": {},
   "outputs": [
    {
     "name": "stdout",
     "output_type": "stream",
     "text": [
      "1 2 Fizz 4 Buzz Fizz 7 8 Fizz Buzz 11 Fizz 13 14 FizzBuzz "
     ]
    }
   ],
   "source": [
    "fizzbuzz(15)"
   ]
  },
  {
   "cell_type": "markdown",
   "metadata": {},
   "source": [
    "# Compress Array"
   ]
  },
  {
   "cell_type": "code",
   "execution_count": 9,
   "metadata": {},
   "outputs": [],
   "source": [
    "def compress_array(arr):\n",
    "    # for array storage\n",
    "    com = []\n",
    "    \n",
    "    # initialising\n",
    "    pos = 1\n",
    "    cnt = 1\n",
    "\n",
    "    while pos < len(arr): \n",
    "        # compare the ith and ith - 1 elements \n",
    "        if arr[pos - 1] == arr[pos]:\n",
    "            cnt += 1\n",
    "        \n",
    "        # if differ\n",
    "        else: \n",
    "            # store the repeats \n",
    "            com.append(arr[pos-1])\n",
    "            com.append(cnt)    \n",
    "            \n",
    "            # reset counter\n",
    "            cnt = 1  \n",
    "        \n",
    "        # check the next element \n",
    "        pos += 1\n",
    "    \n",
    "    # as the while loop has ended, so the remaining counting has to be stored as well\n",
    "    com.append(arr[pos-1])\n",
    "    com.append(cnt)\n",
    "\n",
    "    return com"
   ]
  },
  {
   "cell_type": "code",
   "execution_count": 11,
   "metadata": {},
   "outputs": [
    {
     "data": {
      "text/plain": [
       "[1, 3, 5, 1, 3, 2, 9, 1, 3, 5]"
      ]
     },
     "execution_count": 11,
     "metadata": {},
     "output_type": "execute_result"
    }
   ],
   "source": [
    "arr = [1,1,1,5,3,3,9,3,3,3,3,3]\n",
    "compress_array(arr)"
   ]
  },
  {
   "cell_type": "markdown",
   "metadata": {},
   "source": [
    "# Counting Sheep"
   ]
  },
  {
   "cell_type": "code",
   "execution_count": 13,
   "metadata": {},
   "outputs": [],
   "source": [
    "def count_sheep(n):\n",
    "    \n",
    "    # using a set to store the appeared digit\n",
    "    # as the repeat digits will not be added again\n",
    "    digit = set()\n",
    "    \n",
    "    # initialise the multiplier \n",
    "    N = 0\n",
    "    \n",
    "    # record the steps the loop needs to take \n",
    "    step = 0\n",
    "    \n",
    "    # and a limit for the loop\n",
    "    limit = 100\n",
    "    # but there should be a method to know that: \n",
    "    # no matter how many times the number get multiplied, \n",
    "    # some digits are not appearing\n",
    "    \n",
    "    # eg, when n is 0\n",
    "    if n == 0: \n",
    "        return print('INSOMNIA') \n",
    "    \n",
    "    # the while loop, running when the set: digit is not full\n",
    "    while digit != set('0123456789'): \n",
    "        \n",
    "        # update multiplier, compute the number number\n",
    "        N += 1\n",
    "        nN = n*N\n",
    "        \n",
    "        # using a for loop to add new digits to the set\n",
    "        for i in range(len(str(nN))): \n",
    "            digit.add(str(nN)[i])\n",
    "        \n",
    "        # record the step\n",
    "        step += 1\n",
    "        \n",
    "        # prevent forever loop (some digits never show up)\n",
    "        if step > limit: \n",
    "            return print('INSOMNIA')\n",
    "            break\n",
    "            \n",
    "    return nN"
   ]
  },
  {
   "cell_type": "code",
   "execution_count": 14,
   "metadata": {},
   "outputs": [
    {
     "data": {
      "text/plain": [
       "5436"
      ]
     },
     "execution_count": 14,
     "metadata": {},
     "output_type": "execute_result"
    }
   ],
   "source": [
    "count_sheep(1359)    # dun try more than this"
   ]
  },
  {
   "cell_type": "markdown",
   "metadata": {},
   "source": [
    "# Get_min_distance"
   ]
  },
  {
   "cell_type": "code",
   "execution_count": 22,
   "metadata": {},
   "outputs": [],
   "source": [
    "def get_min_distance(x,y):\n",
    "    \n",
    "    # constriant 1 \n",
    "    if len(x) < 2 or len(y) < 2: \n",
    "        return('fail c1')\n",
    "    \n",
    "    # c2 \n",
    "    if len(x) > 1000 or len(y) > 1000:\n",
    "        if len(x) != 10**5 or len(y) != 10**5:\n",
    "            return('fail c2')\n",
    "    \n",
    "    # c3\n",
    "    if max(x) > 10**9 -1 or max(y) > 10**9 -1 or min(x) < 0 or min(y) < 0:\n",
    "        return('fail c3')\n",
    "    \n",
    "    min_dis = 10**9 -1\n",
    "    for i in range(len(x)):  # to get the ith step\n",
    "        \n",
    "        for j in range(i+1,len(x)):  # to get the (i+1)th step\n",
    "            sq_distance = ((x[i]-x[j])**2 + (y[i]-y[j])**2)  # distance from ith to (i+1)th\n",
    "            print((x[i],y[i]),(x[j],y[j]),sq_distance,min_dis)  # just to see, can remove\n",
    "            \n",
    "            if sq_distance < min_dis:  # compare and choose the smaller on\n",
    "                min_dis = sq_distance  # assign\n",
    "     \n",
    "    return min_dis**(0.5)"
   ]
  },
  {
   "cell_type": "code",
   "execution_count": 23,
   "metadata": {},
   "outputs": [
    {
     "name": "stdout",
     "output_type": "stream",
     "text": [
      "(3, 0) (0, 4) 25 999999999\n"
     ]
    },
    {
     "data": {
      "text/plain": [
       "5.0"
      ]
     },
     "execution_count": 23,
     "metadata": {},
     "output_type": "execute_result"
    }
   ],
   "source": [
    "get_min_distance(x = [3,0], y = [0,4])"
   ]
  },
  {
   "cell_type": "markdown",
   "metadata": {},
   "source": [
    "# Get_min_sum"
   ]
  },
  {
   "cell_type": "code",
   "execution_count": 24,
   "metadata": {},
   "outputs": [],
   "source": [
    "def get_min_sum(arr):\n",
    "    \n",
    "    check_set = set()  # for checking if the next number is not repeated\n",
    "    \n",
    "    if len(arr) > 2000 or len(arr) < 1:  # constraints 1\n",
    "        return print('fail, constraints 1')\n",
    "    \n",
    "    if max(arr) > 3000 or min(arr) < 1:  # constraints 2\n",
    "        return print('fail, constraints 2')\n",
    "            \n",
    "    for i in range(len(arr)):\n",
    "        \n",
    "        if arr[i] not in check_set:\n",
    "            check_set.add(arr[i])\n",
    "            \n",
    "        else:\n",
    "            replace = arr[i]\n",
    "            while replace in check_set: \n",
    "                replace += 1\n",
    "            \n",
    "            arr[i] = replace\n",
    "            check_set.add(arr[i])\n",
    "     \n",
    "    min_sum = sum(arr)\n",
    "            \n",
    "    return min_sum"
   ]
  },
  {
   "cell_type": "code",
   "execution_count": 25,
   "metadata": {},
   "outputs": [
    {
     "data": {
      "text/plain": [
       "14"
      ]
     },
     "execution_count": 25,
     "metadata": {},
     "output_type": "execute_result"
    }
   ],
   "source": [
    "arr = [2,2,4,5]\n",
    "get_min_sum(arr)"
   ]
  },
  {
   "cell_type": "markdown",
   "metadata": {},
   "source": [
    "# Rotate the String"
   ]
  },
  {
   "cell_type": "code",
   "execution_count": 26,
   "metadata": {},
   "outputs": [],
   "source": [
    "def rotateTheString(originalString , direction , amount):\n",
    "    \n",
    "    # constrints \n",
    "    if 1 <= len(originalString) <= 10**5 and \\\n",
    "       1 <= len(amount) <= 10**5 and \\\n",
    "       0 <= max(amount) <= 10**9: \n",
    "        \n",
    "        # one less for loop\n",
    "        for i in range(len(amount)): \n",
    "            \n",
    "            # modulus arithmetics, to get the reminder \n",
    "            # eg: rotate 12 times of a string length of 5 latters is the same just just rotating for 2 times\n",
    "            step = amount[i]%len(originalString)  \n",
    "        \n",
    "            if direction[i] == 0:  # left\n",
    "            \n",
    "                originalString = originalString[step:] + originalString[0:step]\n",
    "            \n",
    "            elif direction[i] == 1:  # right\n",
    "            \n",
    "                originalString = originalString[len(originalString)-step:] + originalString[0:len(originalString)-step]\n",
    "            \n",
    "    return originalString"
   ]
  },
  {
   "cell_type": "code",
   "execution_count": 27,
   "metadata": {},
   "outputs": [
    {
     "data": {
      "text/plain": [
       "'joseph'"
      ]
     },
     "execution_count": 27,
     "metadata": {},
     "output_type": "execute_result"
    }
   ],
   "source": [
    "originalString , direction , amount = 'ephjos' , [1,0] , [7,4]\n",
    "rotateTheString(originalString , direction , amount )"
   ]
  },
  {
   "cell_type": "code",
   "execution_count": 28,
   "metadata": {},
   "outputs": [
    {
     "data": {
      "text/plain": [
       "'arthur'"
      ]
     },
     "execution_count": 28,
     "metadata": {},
     "output_type": "execute_result"
    }
   ],
   "source": [
    "originalString , direction , amount = 'hurart' , [0,1] , [4,1]\n",
    "rotateTheString(originalString , direction , amount )"
   ]
  },
  {
   "cell_type": "markdown",
   "metadata": {},
   "source": [
    "# Max Difference"
   ]
  },
  {
   "cell_type": "code",
   "execution_count": 2,
   "metadata": {},
   "outputs": [],
   "source": [
    "def max_diff(qty):\n",
    "    \n",
    "    if len(qty) > 10**5 or len(qty) < 1:  # constraints 1\n",
    "        return print('fail, constraints 1')\n",
    "    \n",
    "    if max(qty) > 10**5 or min(qty) < -10**5:  # constraints 2\n",
    "        return print('fail, constraints 2')\n",
    "    \n",
    "    max_difference = 0\n",
    "    for i in range(1, len(qty)):  # the 0th dun count\n",
    "    \n",
    "        now = qty[i]\n",
    "        previous = qty[0:i]\n",
    "    \n",
    "        for j in range(len(previous)):\n",
    "            difference = now - previous[j]\n",
    "        \n",
    "            if difference < 0:  # if lew, output -1 \n",
    "                difference = -1\n",
    "            \n",
    "            if difference > max_difference:  # update the max\n",
    "                max_difference = difference\n",
    "                \n",
    "    if max_difference == 0:  # to account all elements in list are in descending order\n",
    "        max_difference = -1\n",
    "            \n",
    "    return max_difference"
   ]
  },
  {
   "cell_type": "code",
   "execution_count": 3,
   "metadata": {},
   "outputs": [
    {
     "data": {
      "text/plain": [
       "4"
      ]
     },
     "execution_count": 3,
     "metadata": {},
     "output_type": "execute_result"
    }
   ],
   "source": [
    "qty = [7,1,2,5]\n",
    "max_diff(qty)"
   ]
  },
  {
   "cell_type": "code",
   "execution_count": 17,
   "metadata": {
    "tags": []
   },
   "outputs": [
    {
     "name": "stdout",
     "output_type": "stream",
     "text": [
      "apple mango\n"
     ]
    }
   ],
   "source": [
    "def divide_str(word: str):\n",
    "\n",
    "    if type(word) != str:\n",
    "        print('input not string')\n",
    "        pass\n",
    "\n",
    "    else:\n",
    "        if len(word) >= 2:\n",
    "            odd = ''\n",
    "            even = ''\n",
    "            for index, letter in enumerate(word):\n",
    "                if index%2 == 0:\n",
    "                    even += letter\n",
    "                else:\n",
    "                    odd += letter\n",
    "            ans = even + ' ' + odd\n",
    "            return print(ans)\n",
    "        \n",
    "        else:\n",
    "            print('word to short')\n",
    "            pass\n",
    "\n",
    "word = 'ampapnlgeo'\n",
    "divide_str(word)"
   ]
  },
  {
   "cell_type": "code",
   "execution_count": 24,
   "metadata": {
    "tags": []
   },
   "outputs": [
    {
     "ename": "TypeError",
     "evalue": "object() takes no parameters",
     "output_type": "error",
     "traceback": [
      "\u001b[1;31m---------------------------------------------------------------------------\u001b[0m",
      "\u001b[1;31mTypeError\u001b[0m                                 Traceback (most recent call last)",
      "\u001b[1;32m<ipython-input-24-d07d787d6799>\u001b[0m in \u001b[0;36m<module>\u001b[1;34m\u001b[0m\n\u001b[0;32m     18\u001b[0m '''\n\u001b[0;32m     19\u001b[0m \u001b[1;33m\u001b[0m\u001b[0m\n\u001b[1;32m---> 20\u001b[1;33m \u001b[0mIceCreamMachine\u001b[0m\u001b[1;33m(\u001b[0m\u001b[1;33m[\u001b[0m\u001b[1;34m\"vanilla\"\u001b[0m\u001b[1;33m,\u001b[0m \u001b[1;34m\"chocolate\"\u001b[0m\u001b[1;33m]\u001b[0m\u001b[1;33m,\u001b[0m \u001b[1;33m[\u001b[0m\u001b[1;34m\"chocolate sauce\"\u001b[0m\u001b[1;33m]\u001b[0m\u001b[1;33m)\u001b[0m\u001b[1;33m.\u001b[0m\u001b[0mscoops\u001b[0m\u001b[1;33m(\u001b[0m\u001b[1;33m)\u001b[0m\u001b[1;33m\u001b[0m\u001b[0m\n\u001b[0m",
      "\u001b[1;31mTypeError\u001b[0m: object() takes no parameters"
     ]
    }
   ],
   "source": [
    "class IceCreamMachine:\n",
    "    \n",
    "    def _init_(self, ingredients, toppings):\n",
    "        self.ingredients = ingredients\n",
    "        self.toppings = toppings\n",
    "        \n",
    "    def scoops(self):\n",
    "        ans = []\n",
    "        for i in self.ingredients:\n",
    "            for j in self.toppings:\n",
    "                ans.append([i,j])\n",
    "        \n",
    "        return ans\n",
    "'''\n",
    "if _name_ == \"_main_\":\n",
    "    machine = IceCreamMachine([\"vanilla\", \"chocolate\"], [\"chocolate sauce\"])\n",
    "    print(machine.scoops()) #should print[['vanilla', 'chocolate sauce'], ['chocolate', 'chocolate sauce']]\n",
    "'''\n",
    "\n",
    "IceCreamMachine([\"vanilla\", \"chocolate\"], [\"chocolate sauce\"]).scoops()"
   ]
  },
  {
   "cell_type": "code",
   "execution_count": 25,
   "metadata": {},
   "outputs": [
    {
     "ename": "NameError",
     "evalue": "name '_name_' is not defined",
     "output_type": "error",
     "traceback": [
      "\u001b[1;31m---------------------------------------------------------------------------\u001b[0m",
      "\u001b[1;31mNameError\u001b[0m                                 Traceback (most recent call last)",
      "\u001b[1;32m<ipython-input-25-378868578392>\u001b[0m in \u001b[0;36m<module>\u001b[1;34m\u001b[0m\n\u001b[0;32m     10\u001b[0m     \u001b[1;32mreturn\u001b[0m \u001b[0mowners\u001b[0m\u001b[1;33m\u001b[0m\u001b[0m\n\u001b[0;32m     11\u001b[0m \u001b[1;33m\u001b[0m\u001b[0m\n\u001b[1;32m---> 12\u001b[1;33m \u001b[1;32mif\u001b[0m \u001b[0m_name_\u001b[0m \u001b[1;33m==\u001b[0m \u001b[1;34m\"_main_\"\u001b[0m\u001b[1;33m:\u001b[0m\u001b[1;33m\u001b[0m\u001b[0m\n\u001b[0m\u001b[0;32m     13\u001b[0m     files = {\n\u001b[0;32m     14\u001b[0m         \u001b[1;34m'Input.txt'\u001b[0m\u001b[1;33m:\u001b[0m \u001b[1;34m'Randy'\u001b[0m\u001b[1;33m,\u001b[0m\u001b[1;33m\u001b[0m\u001b[0m\n",
      "\u001b[1;31mNameError\u001b[0m: name '_name_' is not defined"
     ]
    }
   ],
   "source": [
    "# python reversing a dictionary, keys map values and values map keys\n",
    "def group_by_owners(files):\n",
    "    \n",
    "    # google python reverse dict \n",
    "    # https://stackoverflow.com/questions/483666/reverse-invert-a-dictionary-mapping\n",
    "    \n",
    "    owners = {}\n",
    "    for keys_file , values_owner in files.items():\n",
    "        owners[values_owner] = owners.get(values_owner, []) + [keys_file]\n",
    "    return owners\n",
    "\n",
    "if __name__ == \"__main__\":    \n",
    "    files = {\n",
    "        'Input.txt': 'Randy',\n",
    "        'Code.py': 'Stan',\n",
    "        'Output.txt': 'Randy'\n",
    "    }   \n",
    "    print(group_by_owners(files))"
   ]
  },
  {
   "cell_type": "code",
   "execution_count": 16,
   "metadata": {
    "tags": []
   },
   "outputs": [
    {
     "data": {
      "text/plain": [
       "2.5"
      ]
     },
     "execution_count": 16,
     "metadata": {},
     "output_type": "execute_result"
    }
   ],
   "source": [
    "def avg(*arg):\n",
    "    '''\n",
    "    *arg allows def function to take        unlimited args\n",
    "    '''\n",
    "    ans = 0\n",
    "    cnt = 0\n",
    "    for i in arg:\n",
    "        ans += i\n",
    "        cnt += 1\n",
    "    return ans/cnt\n",
    "avg(1,2,3,4)"
   ]
  },
  {
   "cell_type": "code",
   "execution_count": 19,
   "metadata": {},
   "outputs": [
    {
     "data": {
      "text/plain": [
       "(Car with the maximum speed of 120 m/s,\n",
       " Boat with the maximum speed of 3000 knots)"
      ]
     },
     "execution_count": 19,
     "metadata": {},
     "output_type": "execute_result"
    }
   ],
   "source": [
    "class Car:\n",
    "    \n",
    "    def __init__(self, speed, unit:str):\n",
    "        self.speedmax = str(speed) + ' '\n",
    "        self.text = ' with the maximum speed of '\n",
    "        self.units = unit\n",
    "        \n",
    "        pass \n",
    "\n",
    "    def __repr__(self):\n",
    "        return 'Car' + self.text + self.speedmax + self.units\n",
    "    \n",
    "    pass\n",
    "\n",
    "class Boat:\n",
    "    \n",
    "    def __init__(self, speed):\n",
    "        self.speedmax = str(speed) + ' '\n",
    "        self.text = ' with the maximum speed of '\n",
    "        pass        \n",
    "    \n",
    "    def __repr__(self):\n",
    "        return 'Boat' + self.text + self.speedmax + 'knots'\n",
    "        \n",
    "    pass\n",
    "\n",
    "'''\n",
    "__init__ allows the class to take in and store args\n",
    "__repr__ allows the class to print (or return) sth directly, \n",
    "when the variable is called and declared as the class\n",
    "'''\n",
    "\n",
    "C = Car(120, 'm/s')\n",
    "B = Boat(3000)\n",
    "C,B"
   ]
  },
  {
   "cell_type": "code",
   "execution_count": null,
   "metadata": {},
   "outputs": [],
   "source": []
  }
 ],
 "metadata": {
  "kernelspec": {
   "display_name": "Python 3",
   "language": "python",
   "name": "python3"
  },
  "language_info": {
   "codemirror_mode": {
    "name": "ipython",
    "version": 3
   },
   "file_extension": ".py",
   "mimetype": "text/x-python",
   "name": "python",
   "nbconvert_exporter": "python",
   "pygments_lexer": "ipython3",
   "version": "3.6.5"
  }
 },
 "nbformat": 4,
 "nbformat_minor": 2
}
