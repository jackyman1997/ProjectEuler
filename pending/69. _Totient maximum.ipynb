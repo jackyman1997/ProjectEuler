{
 "cells": [
  {
   "cell_type": "markdown",
   "metadata": {},
   "source": [
    "## <a href='https://projecteuler.net/problem=69'>69. Totient maximum</a>\n",
    "\n",
    "<a href='https://en.wikipedia.org/wiki/Euler%27s_totient_function'>Euler's Totient function</a>, $φ(n)$ [sometimes called the phi function], is used to determine the number of numbers less than n which are relatively prime to n. For example, as 1, 2, 4, 5, 7, and 8, are all less than nine and relatively prime to nine, $φ(9)=6$.  \n",
    "\n",
    "| n  | Relatively Prime | $$ φ(n) $$ | $\\frac{n}{φ(n)}$ | \n",
    "|:---|:----------------:|:----------:|:----------------:|  \n",
    "| 2  | 1                | 1          | 2      |  \n",
    "| 3  | 1,2              | 2          | 1.5    |\n",
    "| 4  | 1,3              | 2          | 2      |\n",
    "| 5  | 1,2,3,4          | 4          | 1.25   |\n",
    "| 6  | 1,5              | 2          | 3      |\n",
    "| 7  | 1,2,3,4,5,6      | 6          | 1.1666... |\n",
    "| 8  | 1,3,5,7          | 4          | 2      |\n",
    "| 9  | 1,2,4,5,7,8      | 6          | 1.5    |\n",
    "| 10 | 1,3,7,9          | 4          | 2.5    |\n",
    "\n",
    "It can be seen that $n=6$ produces a maximum $\\frac{n}{φ(n)}$ for $n ≤ 10$.  \n",
    "\n",
    "Find the value of $n ≤ 1,000,000$ for which $\\frac{n}{φ(n)}$ is a maximum.\n",
    "___"
   ]
  },
  {
   "cell_type": "markdown",
   "metadata": {},
   "source": [
    "coprime ==> gcd(a, b) = 1  \n",
    "some gcd is made to create totient function  \n",
    "if prime, max i/totient(i) is impossible to be max  \n",
    "check even number, odd numbers are always one more on totient, as '2'  \n",
    "for less totient number, from some inspections:  \n",
    "< 10: 6  \n",
    "< 100: 30  \n",
    "< 1000: 210  \n",
    "< 10000: 2310  \n",
    "< 100000: 30030  \n",
    "< 1000000: \n",
    "all divide 6  \n",
    "so check from 6 and 6 multiples  \n",
    "actually, check 2310 multiples, as the pattern shows the next max should divide this too  \n",
    "actually, check 30030 multiples, as the pattern shows the next max should divide this too"
   ]
  },
  {
   "cell_type": "code",
   "execution_count": 1,
   "metadata": {},
   "outputs": [],
   "source": [
    "def gcd(a: int, b:int):\n",
    "    # case with 0 \n",
    "    if a == 0 or b == 0:\n",
    "        return max(a, b)\n",
    "    if a < b:\n",
    "        a, b = b, a\n",
    "    if a%b == 0:\n",
    "        return b\n",
    "    else:\n",
    "        return gcd(b, a%b)\n",
    "    \n",
    "def totient(n: int):\n",
    "    # check gcd == 1 loop\n",
    "    coprime_cnt = 0\n",
    "    for i in range(n):\n",
    "        if gcd(n, i) == 1:    # if coprime\n",
    "            coprime_cnt += 1\n",
    "    return coprime_cnt\n",
    "\n",
    "# modify ver for q69\n",
    "def totient_v2(n: int):\n",
    "    # check gcd == 1 loop\n",
    "    coprime_cnt = 0\n",
    "    # if even, check only odd numbers\n",
    "    if n%2 == 0:\n",
    "        for i in range(1, n, 2):\n",
    "            if gcd(n, i) == 1:    # if coprime\n",
    "                coprime_cnt += 1\n",
    "        return coprime_cnt\n",
    "    else:\n",
    "        for i in range(n):\n",
    "            if gcd(n, i) == 1:    # if coprime\n",
    "                coprime_cnt += 1\n",
    "        return coprime_cnt"
   ]
  },
  {
   "cell_type": "code",
   "execution_count": 2,
   "metadata": {},
   "outputs": [],
   "source": [
    "# input \n",
    "q69_input = {'limit': 1000000} \n",
    "\n",
    "# function\n",
    "def q69(limit: int):\n",
    "    ans = {'max': 0, 'ratio': 0}\n",
    "    for i in range(0, limit+1 , 30030):    # check 6 and its multiples\n",
    "        if i != 0:\n",
    "            ratio = i/totient_v2(i)\n",
    "            if ratio > ans['ratio']:\n",
    "                ans['max'] = i\n",
    "                ans['ratio'] = ratio\n",
    "    return print(ans['max'])"
   ]
  },
  {
   "cell_type": "code",
   "execution_count": 3,
   "metadata": {},
   "outputs": [
    {
     "name": "stdout",
     "output_type": "stream",
     "text": [
      "510510\n",
      "16.8 s ± 0 ns per loop (mean ± std. dev. of 1 run, 1 loop each)\n"
     ]
    }
   ],
   "source": [
    "%%timeit -n 1 -r 1 \n",
    "q69(**q69_input)"
   ]
  },
  {
   "cell_type": "markdown",
   "metadata": {},
   "source": [
    "___\n",
    "go back to the pattern 6, 30, 210, 2310, 30030 ...  \n",
    "they are:\n",
    "$$\n",
    "\\begin{aligned}\n",
    "    q &= \\prod^i_1 p_i \\\\\n",
    "    6 &= 2 \\times 3 \\\\ \n",
    "    30 &= 2 \\times 3 \\times 5 \\\\ \n",
    "    210 &= 2 \\times 3 \\times 5 \\times 7 \\\\ \n",
    "    2310 &= 2 \\times 3 \\times 5 \\times 7 \\times 11 \\\\ \n",
    "    30030 &= 2 \\times 3 \\times 5 \\times 7 \\times 11 \\times 13 \\\\ \n",
    "    510510 &= 2 \\times 3 \\times 5 \\times 7 \\times 11 \\times 13 \\times 17\n",
    "\\end{aligned}\n",
    "$$\n",
    "...  \n",
    "hence solve this problem,  \n",
    "the maths is about how euler totient function can be re-write as a formula related to product of prime, need some time to dig in. "
   ]
  },
  {
   "cell_type": "code",
   "execution_count": null,
   "metadata": {},
   "outputs": [],
   "source": []
  }
 ],
 "metadata": {
  "kernelspec": {
   "display_name": "Python 3",
   "language": "python",
   "name": "python3"
  },
  "language_info": {
   "codemirror_mode": {
    "name": "ipython",
    "version": 3
   },
   "file_extension": ".py",
   "mimetype": "text/x-python",
   "name": "python",
   "nbconvert_exporter": "python",
   "pygments_lexer": "ipython3",
   "version": "3.6.5"
  }
 },
 "nbformat": 4,
 "nbformat_minor": 2
}
