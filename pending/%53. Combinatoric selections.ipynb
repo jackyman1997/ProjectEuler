{
 "cells": [
  {
   "cell_type": "markdown",
   "metadata": {},
   "source": [
    "## <a href='https://projecteuler.net/problem=53'>53. Combinatoric selections</a>\n",
    "There are exactly ten ways of selecting three from five, 12345:\n",
    "$$ 123, 124, 125, 134, 135, 145, 234, 235, 245, 345 $$\n",
    "\n",
    "In combinatorics, we use the notation, \n",
    "$$ \\binom{5}{3} = 10 $$\n",
    "\n",
    "In general, \n",
    "$$ \\binom{n}{r} = \\frac{n!}{r!(n-r)!} $$ \n",
    "where:\n",
    "$$\n",
    "\\begin{aligned}\n",
    "    r &\\leq n \\\\\n",
    "    n! &= n×(n−1)×...×3×2×1 \\\\\n",
    "    0! &= 1 \n",
    "\\end{aligned}\n",
    "$$\n",
    "\n",
    "It is not until $n = 23$, that a value exceeds one-million: \n",
    "$$ \\binom{23}{10} = 1144066 $$\n",
    "\n",
    "How many, not necessarily distinct, for $1 ≤ n ≤ 100$, values of \n",
    "$$ \\binom{n}{r} $$ \n",
    "are greater than one-million?\n",
    "___"
   ]
  },
  {
   "cell_type": "markdown",
   "metadata": {},
   "source": [
    ">Few points to make:  \n",
    "1. question stated that not until n = 23, the value starts to exceed 1000000, __so start from 23 ≤ n ≤ 100__  \n",
    "2. the values of '*combination*' for a fixed n has a symetric property, see __Pascal Triangle__  \n",
    "3. the values of '*combination*' for a fixed n always increase until the 'mid' point (coz of the symetric property)  \n",
    "4. so finding how many terms exceed 1000000 can be easily done, algorithm explained below  \n",
    "\n",
    "> algorithm:  \n",
    "1. for a particalur n, check at what number of r the nCr value will exceed 1000000  \n",
    "2. get the 'mid' point of this n:  \n",
    "if n is even, the 'mid' point is single, <br>\n",
    "so it will be the (n/2)th term. <br>\n",
    "And the number of terms exceeding 1000000 will be:\n",
    "$$ \\Bigg( \\Big( \\frac{n}{2} - \\text{first exceeding term} \\Big) \\times 2 \\Bigg) + 1 $$ <br>\n",
    "if n is odd, the 'mid' point is a pair, <br>\n",
    "take the upper term, <br> \n",
    "so it will be the ((n+1)/2)th term. <br>\n",
    "And the number of terms exceeding 1000000 will be:\n",
    "$$ \\Bigg( \\frac{(n+1)}{2} - \\text{first exceeding term} \\Bigg) \\times 2 $$ <br>"
   ]
  },
  {
   "cell_type": "code",
   "execution_count": 1,
   "metadata": {},
   "outputs": [],
   "source": [
    "import numpy as np\n",
    "import time"
   ]
  },
  {
   "cell_type": "code",
   "execution_count": 2,
   "metadata": {},
   "outputs": [],
   "source": [
    "# define Factorial\n",
    "def factorial(n):\n",
    "    f = 1\n",
    "    for i in range(n):\n",
    "        f = f * (i+1)\n",
    "    return f\n",
    "\n",
    "# define combination (nCr)\n",
    "def nCr(n,r):\n",
    "    return factorial(n)/(factorial(r) * factorial(n-r))"
   ]
  },
  {
   "cell_type": "code",
   "execution_count": 3,
   "metadata": {},
   "outputs": [
    {
     "data": {
      "text/plain": [
       "4075.0"
      ]
     },
     "execution_count": 3,
     "metadata": {},
     "output_type": "execute_result"
    }
   ],
   "source": [
    "ans = np.array([])\n",
    "for i in range(23 - 1,100):\n",
    "    n = i + 1\n",
    "    r = 0\n",
    "    a1 = nCr(n,r)\n",
    "    \n",
    "    while a1 < 1000000:\n",
    "        r += 1\n",
    "        a1 = nCr(n,r)\n",
    "        \n",
    "        if a1 > 1000000:\n",
    "            break\n",
    "    \n",
    "    if n%2 == 0:\n",
    "        mid = n/2\n",
    "        ans_ = (mid - r)*2 + 1\n",
    "        \n",
    "    else:\n",
    "        mid = (n + 1)/2\n",
    "        ans_ = (mid - r)*2\n",
    "        \n",
    "    ans = np.append(ans,ans_)\n",
    "\n",
    "sum(ans)"
   ]
  },
  {
   "cell_type": "markdown",
   "metadata": {},
   "source": [
    "> yup, 4075"
   ]
  },
  {
   "cell_type": "code",
   "execution_count": null,
   "metadata": {},
   "outputs": [],
   "source": []
  }
 ],
 "metadata": {
  "kernelspec": {
   "display_name": "Python 3",
   "language": "python",
   "name": "python3"
  },
  "language_info": {
   "codemirror_mode": {
    "name": "ipython",
    "version": 3
   },
   "file_extension": ".py",
   "mimetype": "text/x-python",
   "name": "python",
   "nbconvert_exporter": "python",
   "pygments_lexer": "ipython3",
   "version": "3.6.5"
  }
 },
 "nbformat": 4,
 "nbformat_minor": 2
}
