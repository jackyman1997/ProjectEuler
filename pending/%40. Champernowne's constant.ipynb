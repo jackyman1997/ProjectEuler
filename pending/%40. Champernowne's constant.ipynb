{
 "cells": [
  {
   "cell_type": "markdown",
   "metadata": {},
   "source": [
    "## <a href='https://projecteuler.net/problem=40'>40. Champernowne's constant</a>\n",
    "An irrational decimal fraction is created by concatenating the positive integers:\n",
    "\n",
    "$$ 0.123456789101112131415161718192021... $$\n",
    "\n",
    "It can be seen that the 12th digit of the fractional part is 1.\n",
    "\n",
    "If d_n represents the nth digit of the fractional part, find the value of the following expression.\n",
    "\n",
    "$$ d_{1} × d_{10} × d_{100} × d_{1000} × d_{10000} × d_{100000} × d_{1000000} $$\n",
    "___"
   ]
  },
  {
   "cell_type": "markdown",
   "metadata": {},
   "source": [
    "> start with classifying group of number with the same number of digits: <br> \n",
    "1-digits --> 123456789, cost 9 digits <br>\n",
    "2-digits --> 101112 ... , cost some digits <br><br>\n",
    "then recognise when d = {1,10,100, ... , 1000000} lie in which n-digit group of number"
   ]
  },
  {
   "cell_type": "code",
   "execution_count": 1,
   "metadata": {},
   "outputs": [],
   "source": [
    "import numpy as np\n",
    "import math\n",
    "import time"
   ]
  },
  {
   "cell_type": "code",
   "execution_count": 38,
   "metadata": {},
   "outputs": [
    {
     "name": "stdout",
     "output_type": "stream",
     "text": [
      "from 1 to 10 : \n",
      "digit range (d): 1 to 9 \n",
      "\n",
      "from 10 to 100 : \n",
      "digit range (d): 10 to 180 \n",
      "\n"
     ]
    }
   ],
   "source": [
    "# constructing Champernowne's constant, by grouping digits\n",
    "n = 1\n",
    "\n",
    "# define initial start digits (both d & n)\n",
    "di = 1\n",
    "dn = 0\n",
    "\n",
    "# construct the array\n",
    "number_to_concat = np.arange( 10**(n-1) , 10**(n) )\n",
    "\n",
    "concat_n = ''\n",
    "for concat_i in range(len(number_to_concat)):\n",
    "    \n",
    "    concat_n += str(number_to_concat[concat_i])\n",
    "\n",
    "di = dn + 1  # for each time the di has to renew, so - the previous dn\n",
    "dn = len(concat_n)\n",
    "\n",
    "print('from',10**(n-1),'to',10**(n),':'\\\n",
    "     ,'\\ndigit range (d):',di,'to',dn,'\\n')\n",
    "\n",
    "\n",
    "# constructing Champernowne's constant, by grouping digits\n",
    "n = 2\n",
    "\n",
    "# define initial start digits (both d & n)\n",
    "di = 1\n",
    "dn = dn\n",
    "\n",
    "# construct the array\n",
    "number_to_concat = np.arange( 10**(n-1) , 10**(n) )\n",
    "\n",
    "concat_n = ''\n",
    "for concat_i in range(len(number_to_concat)):\n",
    "    \n",
    "    concat_n += str(number_to_concat[concat_i])\n",
    "\n",
    "di = dn + 1  # for each time the di has to renew, so - the previous dn\n",
    "dn = len(concat_n)\n",
    "\n",
    "print('from',10**(n-1),'to',10**(n),':'\\\n",
    "     ,'\\ndigit range (d):',di,'to',dn,'\\n')"
   ]
  },
  {
   "cell_type": "markdown",
   "metadata": {},
   "source": [
    "> now let us find where dn = 1000000 is, the upper bound"
   ]
  },
  {
   "cell_type": "code",
   "execution_count": 13,
   "metadata": {},
   "outputs": [
    {
     "name": "stdout",
     "output_type": "stream",
     "text": [
      "from 1 to 10 : \n",
      "digit range (d): 1 to 9 \n",
      "\n",
      "from 10 to 100 : \n",
      "digit range (d): 10 to 180 \n",
      "\n",
      "from 100 to 1000 : \n",
      "digit range (d): 181 to 2700 \n",
      "\n",
      "from 1000 to 10000 : \n",
      "digit range (d): 2701 to 36000 \n",
      "\n",
      "from 10000 to 100000 : \n",
      "digit range (d): 36001 to 450000 \n",
      "\n",
      "from 100000 to 1000000 : \n",
      "digit range (d): 450001 to 5400000 \n",
      "\n"
     ]
    }
   ],
   "source": [
    "# constructing Champernowne's constant, by grouping digits\n",
    "n = 1\n",
    "d_limit = 1000000\n",
    "\n",
    "# define initial start digits (both d & n)\n",
    "di = 1\n",
    "dn = 0\n",
    "\n",
    "while dn < d_limit:\n",
    "    \n",
    "    # construct the array\n",
    "    # rmb this step is the most inefficient line, as number get larger, this get bigger\n",
    "    # eat memory and consume time\n",
    "    number_to_concat = np.arange( 10**(n-1) , 10**(n) )\n",
    "\n",
    "    concat_n = ''\n",
    "    for concat_i in range(len(number_to_concat)):\n",
    "    \n",
    "        concat_n += str(number_to_concat[concat_i])\n",
    "\n",
    "    di = dn + 1  # for each time the di has to renew, so - the previous dn\n",
    "    dn = len(concat_n)\n",
    "\n",
    "    print('from',10**(n-1),'to',10**(n),':'\\\n",
    "         ,'\\ndigit range (d):',di,'to',dn,'\\n')\n",
    "    \n",
    "    n += 1"
   ]
  },
  {
   "cell_type": "code",
   "execution_count": 43,
   "metadata": {},
   "outputs": [
    {
     "name": "stdout",
     "output_type": "stream",
     "text": [
      "from 1 to 10 : \n",
      "digit range (d): 1 to 9 \n",
      "\n",
      "from 10 to 100 : \n",
      "digit range (d): 10 to 189 \n",
      "\n",
      "d 100 : 5\n",
      "from 100 to 1000 : \n",
      "digit range (d): 190 to 2889 \n",
      "\n",
      "d 1000 : 3\n",
      "from 1000 to 10000 : \n",
      "digit range (d): 2890 to 38889 \n",
      "\n",
      "d 10000 : 7\n",
      "from 10000 to 100000 : \n",
      "digit range (d): 38890 to 488889 \n",
      "\n",
      "d 100000 : 2\n",
      "from 100000 to 1000000 : \n",
      "digit range (d): 488890 to 5888889 \n",
      "\n",
      "d 1000000 : 1\n",
      "2.3537774085998535 seconds taken\n"
     ]
    },
    {
     "data": {
      "text/plain": [
       "210"
      ]
     },
     "execution_count": 43,
     "metadata": {},
     "output_type": "execute_result"
    }
   ],
   "source": [
    "# constructing Champernowne's constant, by grouping digits\n",
    "n = 1\n",
    "d_limit = 1000000\n",
    "\n",
    "# storage for ans\n",
    "ans = 1    # we know d1 and d10 are 1, so dun care\n",
    "\n",
    "# define initial start digits (both d & n)\n",
    "di = 1\n",
    "dn = 0   # we dunno yet but just assign sth, will re-asssign later in the loop\n",
    "\n",
    "t1 = time.time()\n",
    "\n",
    "while dn < d_limit:\n",
    "    \n",
    "    # construct the array\n",
    "    # rmb this step is the most inefficient line, as number get larger, this get bigger\n",
    "    # eat memory and consume time\n",
    "    number_to_concat = np.arange( 10**(n-1) , 10**(n) )\n",
    "\n",
    "    concat_n = ''\n",
    "    for concat_i in range(len(number_to_concat)):\n",
    "    \n",
    "        concat_n += str(number_to_concat[concat_i])\n",
    "\n",
    "    di = dn + 1  # for each time the di has to renew, so - the previous dn\n",
    "    dn = len(concat_n) - 1 + di\n",
    "\n",
    "    print('from',10**(n-1),'to',10**(n),':'\\\n",
    "         ,'\\ndigit range (d):',di,'to',dn,'\\n')\n",
    "           \n",
    "    if di <= 10**(n) <= dn:\n",
    "        loc = 10**(n) - ( - 1 + di) - 1    # the (-1 + di) is to restore the dn above, \n",
    "                                           # the -1 is because python starts counting from 0\n",
    "        \n",
    "        print('d',str(10**(n)),':',concat_n[loc])\n",
    "        ans *= int(concat_n[loc])\n",
    "        \n",
    "    n += 1\n",
    "       \n",
    "t2 = time.time() \n",
    "print(t2-t1,'seconds taken')\n",
    "ans"
   ]
  },
  {
   "cell_type": "markdown",
   "metadata": {},
   "source": [
    "> yup, 210"
   ]
  },
  {
   "cell_type": "code",
   "execution_count": null,
   "metadata": {},
   "outputs": [],
   "source": []
  }
 ],
 "metadata": {
  "kernelspec": {
   "display_name": "Python 3",
   "language": "python",
   "name": "python3"
  },
  "language_info": {
   "codemirror_mode": {
    "name": "ipython",
    "version": 3
   },
   "file_extension": ".py",
   "mimetype": "text/x-python",
   "name": "python",
   "nbconvert_exporter": "python",
   "pygments_lexer": "ipython3",
   "version": "3.6.5"
  }
 },
 "nbformat": 4,
 "nbformat_minor": 2
}
