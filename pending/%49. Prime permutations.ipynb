{
 "cells": [
  {
   "cell_type": "markdown",
   "metadata": {},
   "source": [
    "## <a href='https://projecteuler.net/problem=49'>49. Prime permutations</a>\n",
    "The arithmetic sequence, 1487, 4817, 8147, in which each of the terms increases by 3330, is unusual in two ways: (i) each of the three terms are prime, and, (ii) each of the 4-digit numbers are permutations of one another.\n",
    "\n",
    "There are no arithmetic sequences made up of three 1-, 2-, or 3-digit primes, exhibiting this property, but there is one other 4-digit increasing sequence.\n",
    "\n",
    "What 12-digit number do you form by concatenating the three terms in this sequence?\n",
    "___"
   ]
  },
  {
   "cell_type": "markdown",
   "metadata": {},
   "source": [
    "> hints for the question:  \n",
    "1. find the 3 4-digit primes with the same difference  \n",
    "2. all these 3 primes contain the same digits of number  \n",
    "3. only 2 sets, one is given, need to find the other one  \n",
    "4. answer is the 12-digit number by concatenating thoes 3 primes"
   ]
  },
  {
   "cell_type": "markdown",
   "metadata": {},
   "source": [
    "> we need prime list:"
   ]
  },
  {
   "cell_type": "code",
   "execution_count": 3,
   "metadata": {},
   "outputs": [],
   "source": [
    "import math\n",
    "import numpy as np\n",
    "import time"
   ]
  },
  {
   "cell_type": "code",
   "execution_count": 23,
   "metadata": {},
   "outputs": [],
   "source": [
    "def primelist(ub):\n",
    "    \n",
    "    # get a list of odd consecutive numbers\n",
    "    # coz even numbers are not prime, except for 2\n",
    "    prime = ( np.arange(round(ub/2)) + 1 )*2 - 1\n",
    "    \n",
    "    # the first element is 1, replace it as 2\n",
    "    prime[0] = 2\n",
    "\n",
    "    checkpos = 0\n",
    "    while prime[checkpos] < np.sqrt(ub):  # check only upto sqrt of n\n",
    "        \n",
    "        # checking the modular (reminder) of each number in the list to a particular number \n",
    "        # like [1,2,3] check with 1 , then with 2, then with 3 \n",
    "        check = prime%(prime[checkpos])   \n",
    "        \n",
    "        # keep the checking number\n",
    "        # a number is divisible by itself (a%a = 0)\n",
    "        # so in order to keep the 'particular' checking number \n",
    "        # make the reminder of it = 1\n",
    "        # otherwise will be removed in the next step\n",
    "        # the 'checkpos'th is the prime (checking number) itself \n",
    "        # any numbers less than that are not divisible by it\n",
    "        check[checkpos] = 1\n",
    "    \n",
    "        # for those number has the reminder of 0 to the 'particular' checking number, \n",
    "        # means they are divisible by the 'particular' checking number\n",
    "        # so they must not be primes\n",
    "        # then delete from the list\n",
    "        prime = np.delete(prime,np.where(check==0)[0])\n",
    "        # tbh, for large array, avoid using delete, coz this function rather than removing elements, it creates a new one\n",
    "        ### maybe use list rather than np.array, and pop instead of delete\n",
    "        \n",
    "        # go to the next number (next nth ( (n+1)th ) in the list) \n",
    "        checkpos += 1\n",
    "\n",
    "    prime = np.array(prime)\n",
    "    return prime"
   ]
  },
  {
   "cell_type": "markdown",
   "metadata": {},
   "source": [
    "> since we need permutation, <br>\n",
    "copied from q24:"
   ]
  },
  {
   "cell_type": "code",
   "execution_count": 87,
   "metadata": {},
   "outputs": [],
   "source": [
    "# define Lexicographic permutations\n",
    "def LP(element,n_th):\n",
    "    \n",
    "    di = len(element)\n",
    "    cnt = 0\n",
    "    \n",
    "    while cnt != n_th:\n",
    "               \n",
    "        while math.factorial(di) > n_th - cnt and di != 0:\n",
    "            di -= 1\n",
    "        \n",
    "        to = len(element) - di\n",
    "        head = element[:to]\n",
    "        tail = element[to:]\n",
    "        \n",
    "        if sum(head[-1] < tail) > 0:\n",
    "            pos = np.where( tail == min( tail[ np.where( tail > head[-1] )[0] ] ) )[0][0]\n",
    "            head[-1] , tail[pos] = tail[pos] , head[-1]\n",
    "        \n",
    "        element = np.append(head,np.sort(tail))\n",
    "        cnt += math.factorial(di)\n",
    "        \n",
    "    return element"
   ]
  },
  {
   "cell_type": "code",
   "execution_count": 79,
   "metadata": {},
   "outputs": [
    {
     "name": "stdout",
     "output_type": "stream",
     "text": [
      "[1 4 7 8][1 4 8 7][1 7 4 8][1 8 7 4][1 8 4 7][1 8 7 4][4 1 7 8][7 1 8 4][8 4 1 7][8 4 7 1][8 7 1 4][8 7 4 1][8 1 4 7][8 1 7 4][8 4 1 7][8 4 7 1][8 7 1 4][8 7 4 1][8 1 4 7][8 1 7 4][8 4 1 7][8 4 7 1][8 7 1 4][8 7 4 1]"
     ]
    }
   ],
   "source": [
    "n = np.array([1,4,7,8])\n",
    "for i in range(24):\n",
    "    print(LP(n,i),end = '')"
   ]
  },
  {
   "cell_type": "markdown",
   "metadata": {},
   "source": [
    "> see, sometimes it doesn't work, coz LP is only for pandigital number <br>\n",
    "need some modifications, <br>\n",
    "and LP tells u the n-th permutation, input and output return an array, <br>\n",
    "but i want all, and returns in str or number"
   ]
  },
  {
   "cell_type": "markdown",
   "metadata": {},
   "source": [
    "> well i know why it doesn't work <br>\n",
    "to do for loop with LP <br>\n",
    "need a re-define of the np.arange after the loop ==> at #@1"
   ]
  },
  {
   "cell_type": "code",
   "execution_count": 125,
   "metadata": {},
   "outputs": [],
   "source": [
    "# define permutations\n",
    "def permu(n):\n",
    "    \n",
    "# making use of LP\n",
    "# we know LP only works of pandigital number\n",
    "# ok no problem\n",
    "# treat them as the position array\n",
    "\n",
    "    # 1. make the input into array\n",
    "    n_str = str(n)\n",
    "    n_array = np.array([], dtype = 'int32')\n",
    "    for i in range(len(n_str)):\n",
    "        n_array = np.append(n_array, int(n_str[i]))\n",
    "    \n",
    "    # 2. apply LP, should return position array\n",
    "    pos_array = np.array([], dtype = 'int32')\n",
    "    for i in range( math.factorial( len(n_str) ) ):\n",
    "        \n",
    "        #@1\n",
    "        LP_array = np.arange(len(n_str))  \n",
    "        \n",
    "        pos_array = np.append(pos_array, LP(LP_array,i)).reshape( (i+1) , len(n_str) )\n",
    "        \n",
    "    # 3. permutation according to the position array\n",
    "    permu_array = np.array([], dtype = 'int32')\n",
    "    for i in range( len(pos_array) ):\n",
    "        \n",
    "        permu_i = ''\n",
    "        for j in range( len(n_str) ):\n",
    "            permu_i += n_str[ pos_array[i][j] ]\n",
    "\n",
    "        permu_array = np.append( permu_array , int(permu_i) )\n",
    "        \n",
    "    return permu_array"
   ]
  },
  {
   "cell_type": "code",
   "execution_count": 127,
   "metadata": {},
   "outputs": [
    {
     "data": {
      "text/plain": [
       "array([1487, 1478, 1847, 1874, 1748, 1784, 4187, 4178, 4817, 4871, 4718,\n",
       "       4781, 8147, 8174, 8417, 8471, 8714, 8741, 7148, 7184, 7418, 7481,\n",
       "       7814, 7841])"
      ]
     },
     "execution_count": 127,
     "metadata": {},
     "output_type": "execute_result"
    }
   ],
   "source": [
    "permu(1487)"
   ]
  },
  {
   "cell_type": "markdown",
   "metadata": {},
   "source": [
    "> now we have all we need:\n"
   ]
  },
  {
   "cell_type": "code",
   "execution_count": 150,
   "metadata": {},
   "outputs": [
    {
     "name": "stdout",
     "output_type": "stream",
     "text": [
      "1487 4817 8147\n",
      "2969 6299 9629\n",
      "0.3401186466217041 seconds taken\n"
     ]
    }
   ],
   "source": [
    "# get primes from 1000 to 9999\n",
    "limit = 10000\n",
    "p_to10000 = primelist(limit)\n",
    "\n",
    "p1000 = p_to10000[(np.where(p_to10000 > 1000)[0][0]):]\n",
    "\n",
    "# set operation\n",
    "p1000_set = set(p1000)\n",
    "\n",
    "# use while loop can stop immediately after we find the 2nd set\n",
    "# counting\n",
    "cnt = 0\n",
    "\n",
    "# define the position in primelist\n",
    "pos = 0\n",
    "\n",
    "t1 = time.time()    \n",
    "while cnt < 2:\n",
    "    \n",
    "    # for each prime, go thru permu\n",
    "    check_prime = permu(p1000[pos])\n",
    "    \n",
    "    # remove the non-prime\n",
    "    permu_prime = np.array([], dtype = 'int32')\n",
    "    for i in range( len( check_prime ) ):\n",
    "        if check_prime[i] in p1000_set:\n",
    "            permu_prime = np.append( permu_prime , check_prime[i] )\n",
    "            \n",
    "    # now we can check the difference\n",
    "    # pick any 3 from those\n",
    "    \n",
    "    pick = 3\n",
    "    \n",
    "    pi = len(permu_prime) - pick + 1  # coz must not choose the last 2\n",
    "    pj = len(permu_prime) - pick + 2  # coz must not choose the last 1\n",
    "    pk = len(permu_prime) - pick + 3  # coz must not choose the last 0, well it is the whole len\n",
    "    \n",
    "    for i in range(pi): \n",
    "        d1 = permu_prime[i]\n",
    "        \n",
    "        for j in range(i,pj):\n",
    "            d2 = permu_prime[j]\n",
    "        \n",
    "            for k in range(j,pk):\n",
    "                d3 = permu_prime[k]\n",
    "                \n",
    "                # check difference\n",
    "                if d2 - d1 == d3 - d2 and  d1 < d2 < d3 : \n",
    "                    print(d1,d2,d3)\n",
    "                    cnt += 1\n",
    "                \n",
    "                # stop switch    \n",
    "                if cnt == 2:\n",
    "                    break\n",
    "                        \n",
    "    pos += 1\n",
    "    \n",
    "    # stop switch\n",
    "    if pos == len(p1000):\n",
    "        break\n",
    "                \n",
    "t2 = time.time()\n",
    "print(t2-t1,'seconds taken')"
   ]
  },
  {
   "cell_type": "markdown",
   "metadata": {},
   "source": [
    "> yup, 296962999629 is correct"
   ]
  },
  {
   "cell_type": "code",
   "execution_count": null,
   "metadata": {},
   "outputs": [],
   "source": []
  }
 ],
 "metadata": {
  "kernelspec": {
   "display_name": "Python 3",
   "language": "python",
   "name": "python3"
  },
  "language_info": {
   "codemirror_mode": {
    "name": "ipython",
    "version": 3
   },
   "file_extension": ".py",
   "mimetype": "text/x-python",
   "name": "python",
   "nbconvert_exporter": "python",
   "pygments_lexer": "ipython3",
   "version": "3.6.5"
  }
 },
 "nbformat": 4,
 "nbformat_minor": 2
}
