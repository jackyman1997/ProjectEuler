{
 "cells": [
  {
   "cell_type": "markdown",
   "metadata": {},
   "source": [
    "___\n",
    "# <a href='https://projecteuler.net/problem=735'>735</a>"
   ]
  },
  {
   "cell_type": "code",
   "execution_count": 14,
   "metadata": {},
   "outputs": [
    {
     "name": "stdout",
     "output_type": "stream",
     "text": [
      "Wall time: 77 ms\n"
     ]
    },
    {
     "data": {
      "text/plain": [
       "(63, 15066)"
      ]
     },
     "execution_count": 14,
     "metadata": {},
     "output_type": "execute_result"
    }
   ],
   "source": [
    "def divisor(n: int, proper: bool=False, count: bool=False):\n",
    "    '''\n",
    "    using set, somehow list is a bit faster\n",
    "    proper: proper divisors, not including n itself, default False (including n)\n",
    "    count: return how many divisors instead of list of divisors, default False (return list)\n",
    "    '''\n",
    "    # set and setup\n",
    "    d = set()\n",
    "    d.add(1)    # 1 is divisor of all integers\n",
    "    # proper divisor (not including n itself)\n",
    "    if not proper:\n",
    "        d.add(n)\n",
    "    # loop\n",
    "    for i in range(2, int(n**0.5)+1):\n",
    "        if n/i == n//i:    # if n divides i (checking if int, or (n/i)%1 == 0)\n",
    "            d.add(i)\n",
    "            d.add(n//i)    # a pair of divisors, repeated if n is square\n",
    "    # counting only\n",
    "    if count:\n",
    "        return len(d)\n",
    "    else:\n",
    "        return [i for i in d]    # or list(d)\n",
    "    \n",
    "def q735(n: int): \n",
    "    _sum = 0\n",
    "    for i in range(1, n+1):\n",
    "        _sum += len( [d for d in divisor(2*i**2) if d <= i] )\n",
    "    return _sum\n",
    "\n",
    "%time q735(15), q735(1000)"
   ]
  },
  {
   "cell_type": "markdown",
   "metadata": {},
   "source": [
    "___\n",
    "# <a href='https://projecteuler.net/problem=179'>179<a/>"
   ]
  },
  {
   "cell_type": "code",
   "execution_count": 40,
   "metadata": {},
   "outputs": [
    {
     "name": "stdout",
     "output_type": "stream",
     "text": [
      "986262 9999997\r",
      "Wall time: 1h 3min 17s\n"
     ]
    }
   ],
   "source": [
    "%%time\n",
    "\n",
    "from IPython.display import display, clear_output\n",
    "\n",
    "n = 10**7\n",
    "cnt = 0\n",
    "for i in range(2, n-1):\n",
    "    if i == 2:\n",
    "        last = divisor(i, count=True)\n",
    "        current = divisor(i+1, count=True)\n",
    "    else:\n",
    "        current = divisor(i+1, count=True)\n",
    "    if last == current:\n",
    "        cnt += 1\n",
    "        clear_output(wait=True)\n",
    "        print(cnt, i, end='\\r')\n",
    "    last = current\n",
    "print(cnt)"
   ]
  },
  {
   "cell_type": "code",
   "execution_count": null,
   "metadata": {},
   "outputs": [],
   "source": []
  }
 ],
 "metadata": {
  "kernelspec": {
   "display_name": "Python 3",
   "language": "python",
   "name": "python3"
  },
  "language_info": {
   "codemirror_mode": {
    "name": "ipython",
    "version": 3
   },
   "file_extension": ".py",
   "mimetype": "text/x-python",
   "name": "python",
   "nbconvert_exporter": "python",
   "pygments_lexer": "ipython3",
   "version": "3.6.5"
  }
 },
 "nbformat": 4,
 "nbformat_minor": 2
}
