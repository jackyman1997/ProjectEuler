{
 "cells": [
  {
   "cell_type": "markdown",
   "metadata": {},
   "source": [
    "## <a href='https://projecteuler.net/problem=32'>32. Pandigital products</a>\n",
    "\n",
    "We shall say that an n-digit number is pandigital if it makes use of all the digits 1 to n exactly once; for example, the 5-digit number, 15234, is 1 through 5 pandigital.\n",
    "\n",
    "The product 7254 is unusual, as the identity, $39 × 186 = 7254$, containing multiplicand, multiplier, and product is 1 through 9 pandigital.\n",
    "\n",
    "Find the sum of all products whose multiplicand/multiplier/product identity can be written as a 1 through 9 pandigital.\n",
    "\n",
    "HINT: Some products can be obtained in more than one way so be sure to only include it once in your sum.\n",
    "___"
   ]
  },
  {
   "cell_type": "markdown",
   "metadata": {},
   "source": [
    "> try finding all pandigital numbers with 9-digit? <br>\n",
    "no, 9! = 362880, so a huge number to check"
   ]
  },
  {
   "cell_type": "markdown",
   "metadata": {},
   "source": [
    "> try number of digits of multiplicand/multiplier/product <br>\n",
    "let d(n) = number of digit of n <br>\n",
    "for a * b = c, and set a<b:\n",
    "1. d(a) <= d(c) & d(b) <= d(c)\n",
    "2. sum( d( [a,b,c] ) ) = 9 <br>\n",
    "so [(1,4),4] [(2,3),4]"
   ]
  },
  {
   "cell_type": "code",
   "execution_count": 11,
   "metadata": {},
   "outputs": [],
   "source": [
    "import numpy as np\n",
    "import time\n",
    "import math"
   ]
  },
  {
   "cell_type": "code",
   "execution_count": 12,
   "metadata": {},
   "outputs": [],
   "source": [
    "a = 1234\n",
    "b = 5678\n",
    "c = 5\n",
    "\n",
    "sa,sb,sc = set(str(a)) , set(str(b)) , set(str(c))"
   ]
  },
  {
   "cell_type": "code",
   "execution_count": 13,
   "metadata": {},
   "outputs": [
    {
     "data": {
      "text/plain": [
       "({'1', '2', '3', '4'}, {'5', '6', '7', '8'}, {'5'})"
      ]
     },
     "execution_count": 13,
     "metadata": {},
     "output_type": "execute_result"
    }
   ],
   "source": [
    "sa,sb,sc"
   ]
  },
  {
   "cell_type": "code",
   "execution_count": 14,
   "metadata": {},
   "outputs": [
    {
     "name": "stdout",
     "output_type": "stream",
     "text": [
      "nah\n"
     ]
    }
   ],
   "source": [
    "if sc & sb == set([]):\n",
    "    print(sc & sb)\n",
    "\n",
    "else:\n",
    "    print('nah')"
   ]
  },
  {
   "cell_type": "code",
   "execution_count": 15,
   "metadata": {},
   "outputs": [
    {
     "data": {
      "text/plain": [
       "True"
      ]
     },
     "execution_count": 15,
     "metadata": {},
     "output_type": "execute_result"
    }
   ],
   "source": [
    "# try example\n",
    "a = 39\n",
    "b = 186\n",
    "c = 7254\n",
    "\n",
    "a*b == c"
   ]
  },
  {
   "cell_type": "code",
   "execution_count": 16,
   "metadata": {},
   "outputs": [
    {
     "data": {
      "text/plain": [
       "(True, True, True)"
      ]
     },
     "execution_count": 16,
     "metadata": {},
     "output_type": "execute_result"
    }
   ],
   "source": [
    "# try example\n",
    "sa,sb,sc = set(str(a)) , set(str(b)) , set(str(c))\n",
    "sa & sb == set([]) , sb & sc == set([]) , sa & sc == set([]) "
   ]
  },
  {
   "cell_type": "code",
   "execution_count": 17,
   "metadata": {},
   "outputs": [
    {
     "data": {
      "text/plain": [
       "({'1', '2'}, {'0', '5'})"
      ]
     },
     "execution_count": 17,
     "metadata": {},
     "output_type": "execute_result"
    }
   ],
   "source": [
    "a = 112\n",
    "b = 50\n",
    "sa,sb = set(str(a)) , set(str(b))\n",
    "sa,sb"
   ]
  },
  {
   "cell_type": "code",
   "execution_count": 18,
   "metadata": {},
   "outputs": [
    {
     "data": {
      "text/plain": [
       "(2, 3)"
      ]
     },
     "execution_count": 18,
     "metadata": {},
     "output_type": "execute_result"
    }
   ],
   "source": [
    "len(sa) , len(str(a))"
   ]
  },
  {
   "cell_type": "code",
   "execution_count": 19,
   "metadata": {},
   "outputs": [
    {
     "data": {
      "text/plain": [
       "True"
      ]
     },
     "execution_count": 19,
     "metadata": {},
     "output_type": "execute_result"
    }
   ],
   "source": [
    "'0' in sa | sb"
   ]
  },
  {
   "cell_type": "markdown",
   "metadata": {},
   "source": [
    "> so length of the set =/= length of that string, <br>\n",
    "contains repeated digits with itself <br><br>\n",
    "str(0) in set = true, <br>\n",
    "means 0 is in"
   ]
  },
  {
   "cell_type": "code",
   "execution_count": 20,
   "metadata": {},
   "outputs": [
    {
     "data": {
      "text/plain": [
       "True"
      ]
     },
     "execution_count": 20,
     "metadata": {},
     "output_type": "execute_result"
    }
   ],
   "source": [
    "sa | sb == set(['1','2','5','0'])"
   ]
  },
  {
   "cell_type": "markdown",
   "metadata": {},
   "source": [
    "> i have some new idea <br>\n",
    "a = 12 , b = 345 , c = 6789 <br>\n",
    "set(a) | set(b) | set(b) == set(1,2,3,4,5,6,7,8,9) <br>"
   ]
  },
  {
   "cell_type": "code",
   "execution_count": 21,
   "metadata": {},
   "outputs": [
    {
     "name": "stdout",
     "output_type": "stream",
     "text": [
      "4 * 1738 = 6952\n",
      "4 * 1963 = 7852\n",
      "12 * 483 = 5796\n",
      "18 * 297 = 5346\n",
      "27 * 198 = 5346\n",
      "28 * 157 = 4396\n",
      "39 * 186 = 7254\n",
      "42 * 138 = 5796\n",
      "48 * 159 = 7632\n"
     ]
    },
    {
     "data": {
      "text/plain": [
       "56370.0"
      ]
     },
     "execution_count": 21,
     "metadata": {},
     "output_type": "execute_result"
    }
   ],
   "source": [
    "ans = np.array([])\n",
    "check = set(str(123456789))\n",
    "\n",
    "# 144\n",
    "for a in range(1,9+1):\n",
    "    b = np.arange(1000,9999+1)\n",
    "    \n",
    "    c = a * b\n",
    "    \n",
    "    for ci in range(len(c)):\n",
    "        \n",
    "        if c[ci] <= 9999:\n",
    "            sa = set(str(a))\n",
    "            sb = set(str(b[ci]))\n",
    "            sc = set(str(c[ci]))\n",
    "\n",
    "            if sa | sb | sc == check:\n",
    "                print(a,'*',b[ci],'=',c[ci])\n",
    "                ans = np.append(ans,c[ci])\n",
    "            \n",
    "# 234\n",
    "for a in range(10,99+1):\n",
    "    b = np.arange(100,999+1)\n",
    "    \n",
    "    c = a * b\n",
    "       \n",
    "    for ci in range(len(c)):\n",
    "        \n",
    "        if c[ci] <= 9999:\n",
    "            sa = set(str(a))\n",
    "            sb = set(str(b[ci]))\n",
    "            sc = set(str(c[ci]))\n",
    "\n",
    "            if sa | sb | sc == check:\n",
    "                print(a,'*',b[ci],'=',c[ci])\n",
    "                ans = np.append(ans,c[ci])\n",
    "                \n",
    "sum(ans)"
   ]
  },
  {
   "cell_type": "markdown",
   "metadata": {},
   "source": [
    "> wrong <br>\n",
    "coz question stated: <br>\n",
    "__HINT: Some products can be obtained in more than one way so be sure to only include it once in your sum.__ <br>\n",
    "so is any product repeats, only add once"
   ]
  },
  {
   "cell_type": "code",
   "execution_count": 172,
   "metadata": {},
   "outputs": [
    {
     "data": {
      "text/plain": [
       "45228"
      ]
     },
     "execution_count": 172,
     "metadata": {},
     "output_type": "execute_result"
    }
   ],
   "source": [
    "6952 + 7852 + 5796 + 5346 + 4396 + 7254 + 7632"
   ]
  },
  {
   "cell_type": "markdown",
   "metadata": {},
   "source": [
    "> so this is correct"
   ]
  },
  {
   "cell_type": "code",
   "execution_count": 28,
   "metadata": {},
   "outputs": [
    {
     "name": "stdout",
     "output_type": "stream",
     "text": [
      "4 * 1738 = 6952\n",
      "4 * 1963 = 7852\n",
      "12 * 483 = 5796\n",
      "18 * 297 = 5346\n",
      "27 * 198 = 5346\n",
      "28 * 157 = 4396\n",
      "39 * 186 = 7254\n",
      "42 * 138 = 5796\n",
      "48 * 159 = 7632\n",
      "0.13862991333007812 seconds taken\n"
     ]
    },
    {
     "data": {
      "text/plain": [
       "45228.0"
      ]
     },
     "execution_count": 28,
     "metadata": {},
     "output_type": "execute_result"
    }
   ],
   "source": [
    "# another way\n",
    "\n",
    "t1 = time.time()\n",
    "\n",
    "ans = np.array([])\n",
    "check = set(str(123456789))\n",
    "\n",
    "# 144\n",
    "for a in range(1,9+1):\n",
    "    b = np.arange(1000,9999+1)\n",
    "    \n",
    "    c = a * b\n",
    "    \n",
    "    for ci in range(len(c)):\n",
    "        \n",
    "        if c[ci] <= 9999:\n",
    "            sa = set(str(a))\n",
    "            sb = set(str(b[ci]))\n",
    "            sc = set(str(c[ci]))\n",
    "\n",
    "            if sa | sb | sc == check:\n",
    "                print(a,'*',b[ci],'=',c[ci])\n",
    "                ans = np.append(ans,c[ci])\n",
    "            \n",
    "# 234\n",
    "for a in range(10,99+1):\n",
    "    b = np.arange(100,999+1)\n",
    "    \n",
    "    c = a * b\n",
    "       \n",
    "    for ci in range(len(c)):\n",
    "        \n",
    "        if c[ci] <= 9999:\n",
    "            sa = set(str(a))\n",
    "            sb = set(str(b[ci]))\n",
    "            sc = set(str(c[ci]))\n",
    "\n",
    "            if sa | sb | sc == check:\n",
    "                print(a,'*',b[ci],'=',c[ci])\n",
    "                ans = np.append(ans,c[ci])\n",
    "                \n",
    "t2 = time.time()\n",
    "print(t2-t1,'seconds taken')\n",
    "                \n",
    "ans = set(ans)  # this removes the repeated ones \n",
    "sum(ans)"
   ]
  },
  {
   "cell_type": "code",
   "execution_count": null,
   "metadata": {},
   "outputs": [],
   "source": []
  }
 ],
 "metadata": {
  "kernelspec": {
   "display_name": "Python 3",
   "language": "python",
   "name": "python3"
  },
  "language_info": {
   "codemirror_mode": {
    "name": "ipython",
    "version": 3
   },
   "file_extension": ".py",
   "mimetype": "text/x-python",
   "name": "python",
   "nbconvert_exporter": "python",
   "pygments_lexer": "ipython3",
   "version": "3.6.5"
  }
 },
 "nbformat": 4,
 "nbformat_minor": 2
}
