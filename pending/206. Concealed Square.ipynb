{
 "cells": [
  {
   "cell_type": "markdown",
   "metadata": {},
   "source": [
    "## <a href='https://projecteuler.net/problem=206'>206. Concealed Square</a>\n",
    "Find the unique positive integer whose square has the form 1_2_3_4_5_6_7_8_9_0, where each \"_\" is a single digit.\n",
    "___"
   ]
  },
  {
   "cell_type": "markdown",
   "metadata": {},
   "source": [
    "> 1121314151617181910 is the minimum <br>\n",
    "1929394959697989990 is the maximum <br>\n",
    "so test the sqrt of the between. "
   ]
  },
  {
   "cell_type": "code",
   "execution_count": 1,
   "metadata": {},
   "outputs": [
    {
     "data": {
      "text/plain": [
       "1058921220.685081"
      ]
     },
     "execution_count": 1,
     "metadata": {},
     "output_type": "execute_result"
    }
   ],
   "source": [
    "mini = 1121314151617181910\n",
    "1121314151617181910**0.5"
   ]
  },
  {
   "cell_type": "code",
   "execution_count": 2,
   "metadata": {},
   "outputs": [
    {
     "data": {
      "text/plain": [
       "1389026623.1062636"
      ]
     },
     "execution_count": 2,
     "metadata": {},
     "output_type": "execute_result"
    }
   ],
   "source": [
    "maxi = 1929394959697989990\n",
    "1929394959697989990**0.5"
   ]
  },
  {
   "cell_type": "code",
   "execution_count": 3,
   "metadata": {},
   "outputs": [],
   "source": [
    "import math\n",
    "import time \n",
    "import numpy as np"
   ]
  },
  {
   "cell_type": "code",
   "execution_count": 6,
   "metadata": {},
   "outputs": [
    {
     "name": "stdout",
     "output_type": "stream",
     "text": [
      "1389019170\n",
      "238.502592086792 second taken\n"
     ]
    }
   ],
   "source": [
    "# brute force\n",
    "\n",
    "'''\n",
    "t1 = time.time()\n",
    "\n",
    "mini = 1121314151617181910\n",
    "maxi = 1929394959697989990\n",
    "\n",
    "for i in range( int(np.sqrt(mini)) , int(np.sqrt(maxi)) ):\n",
    "    \n",
    "    # make the number into str so that I can check str digit \n",
    "    check = str(i**2)\n",
    "    \n",
    "    if check[0] == '1':\n",
    "        if check[2] == '2':\n",
    "            if check[4] == '3':\n",
    "                if check[6] == '4':\n",
    "                    if check[8] == '5':\n",
    "                        if check[10] == '6':\n",
    "                            if check[12] == '7':\n",
    "                                if check[14] == '8':\n",
    "                                    if check[16] == '9':\n",
    "                                        if check[18] == '0':\n",
    "                                            print(i)\n",
    "                                            break\n",
    "t2 = time.time()\n",
    "print(t2-t1,'second taken')\n",
    "'''\n",
    "\n",
    "print('1389019170\\n238.502592086792 second taken')"
   ]
  },
  {
   "cell_type": "code",
   "execution_count": 5,
   "metadata": {},
   "outputs": [
    {
     "data": {
      "text/plain": [
       "1929374254627488900"
      ]
     },
     "execution_count": 5,
     "metadata": {},
     "output_type": "execute_result"
    }
   ],
   "source": [
    "1389019170**2"
   ]
  },
  {
   "cell_type": "markdown",
   "metadata": {},
   "source": [
    "> yup, 1389019170 is correct, give <br>\n",
    "[1]9[2]9[3]7[4]2[5]4[6]2[7]4[8]8[9]0[0]"
   ]
  },
  {
   "cell_type": "markdown",
   "metadata": {},
   "source": [
    "> imporvement, need time to digest: "
   ]
  },
  {
   "cell_type": "code",
   "execution_count": 3,
   "metadata": {},
   "outputs": [
    {
     "data": {
      "text/plain": [
       "1389019170"
      ]
     },
     "execution_count": 3,
     "metadata": {},
     "output_type": "execute_result"
    }
   ],
   "source": [
    "i = 1010101030\n",
    "while i < 1389026623:\n",
    "\tif str(i*i)[::2] == \"1234567890\": break\n",
    "\ti += 40\n",
    "\tif str(i*i)[::2] == \"1234567890\": break\n",
    "\ti += 60\n",
    "i"
   ]
  },
  {
   "cell_type": "markdown",
   "metadata": {},
   "source": [
    "1. The pattern is 1_2_3_4_5_6_7_8_9_0, where # orignially was an underscore, but we know it actually is 0, so divide by 10 resp. 100 to get the pattern 1_2_3_4_5_6_7_8_9 for the square of n/10, so n/10 must end in 3 or 7, since its square ends in 9.\n",
    "2. The square ends with a 0, so n must be a multiple of 10, hence n2 is a multiple of 100.\n",
    "3. Square must end in 900 so n must end in 30 or 70.  This makes brute force very feasible.\n",
    "4. Let n^2 = 1_2_3_4_5_6_7_8_9_0 <br>\n",
    "Since n^2 ends with 0, 10|n, and hence 100|n^2. <br>\n",
    "Since n^2/100 ends with 9, n/10 ends with either 3 or 7. <br>\n",
    "First digit is 1. "
   ]
  },
  {
   "cell_type": "markdown",
   "metadata": {},
   "source": [
    "from https://projecteuler.net/thread=206;page=3 : dmishin @ Fri, 12 Sep 2008, 22:56 :\n",
    "\n",
    "> I used following approach: <br>\n",
    "Starting from maximal integer that fits pattern: <br>\n",
    "  x = 19293949596979899990  <br>\n",
    "I repeated two steps:  <br>\n",
    "1. x := k^2 , where k^2 <= x < (k+1)^2 \n",
    "2. x := m , where m fits pattern, m<x and any bigger integer m1>m that fits pattern exceeds x: m1>x  <br><br>\n",
    "It can be seen that repeating such steps will eventually bring us to the square that fits pattern. <br>\n",
    "My code is quite bulky (I did no beautifications), but it is universal: It finds all squares that fit arbitrary pattern. With simple modifications, it can be used not only for squares. <br><br>\n",
    "By the way, here are some interesting patterns and squares that match them:  <br>\n",
    "1_1_1_1_1_1_1_1 : 10065739^2=101319101616121  (the only solution) <br>\n",
    "1_1_1_1_1_1_1_1_1_1_1_1:  <br>\n",
    "  138424402261^2=19161315141315141912121 <br>\n",
    "  122967520881^2=15121011191619171016161 <br>\n",
    "  105504114381^2=11131118151319131013161 <br><br>\n",
    "7_6_5_4_3_2_1: (no solution for longer sequences of such kind) <br>\n",
    "  2713399^2=7362534133201 <br>\n",
    "  2657351^2=7061514337201 <br>\n",
    "1_1_1_1_1_1_1_1_1_1_1_1_1_1: <br>\n",
    "  13476465835381^2=181615131412191314191415161 <br>"
   ]
  },
  {
   "cell_type": "code",
   "execution_count": null,
   "metadata": {},
   "outputs": [],
   "source": []
  }
 ],
 "metadata": {
  "kernelspec": {
   "display_name": "Python 3",
   "language": "python",
   "name": "python3"
  },
  "language_info": {
   "codemirror_mode": {
    "name": "ipython",
    "version": 3
   },
   "file_extension": ".py",
   "mimetype": "text/x-python",
   "name": "python",
   "nbconvert_exporter": "python",
   "pygments_lexer": "ipython3",
   "version": "3.6.5"
  }
 },
 "nbformat": 4,
 "nbformat_minor": 2
}
