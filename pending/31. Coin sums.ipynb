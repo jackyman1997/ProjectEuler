{
 "cells": [
  {
   "cell_type": "markdown",
   "metadata": {},
   "source": [
    "## <a href='https://projecteuler.net/problem=31'>31. Coin sums</a>\n",
    "In England the currency is made up of pound, £, and pence, p, and there are eight coins in general circulation:\n",
    "\n",
    "1p, 2p, 5p, 10p, 20p, 50p, £1 (100p) and £2 (200p).\n",
    "\n",
    "It is possible to make £2 in the following way:\n",
    "\n",
    "1×£1 + 1×50p + 2×20p + 1×5p + 1×2p + 3×1p\n",
    "\n",
    "How many different ways can £2 be made using any number of coins?\n",
    "___"
   ]
  },
  {
   "cell_type": "markdown",
   "metadata": {},
   "source": [
    "idea from <a href='https://www.youtube.com/watch?v=VLbePGBOVeg'>youtube</a>:  \n",
    "for how many ways a coin set of {1p, 2p, 5p, 10p, 20p, 50p, 100p, 200p} to make 200p,  \n",
    "is the same as asking how many ways of a 200p coin change using a coin set of {1p, 2p, 5p, 10p, 20p, 50p, 100p, 200p}.  \n",
    "\n",
    "Generally, it is:  \n",
    "\n",
    "let:  \n",
    "$$ \n",
    "p(x) = (1+x^1+x^2+...+x^{200}) \\cdot (1+x^2+x^4+...+x^{200})  \\cdot (1+x^5+x^{10}+...+x^{200})  \\cdot (1+x^{10}+x^{20}+...+x^{200})  \\cdot (1+x^{20}+x^{40}+...+x^{200})  \\cdot (1+x^{50}+x^{100}+x^{150}+x^{200})  \\cdot (1+x^{100}+x^{200})  \\cdot (1+x^{200}) \n",
    "$$\n",
    "the coefficiect of $x^{200}$ of $p(x)$ is the answer.  \n",
    "\n",
    "this idea can be extended to do integer partition, simply speaking:  \n",
    "how many ways of an integer k coin change using a coin set of {1 unit, 2 units, 3 units, 4 units, ... ,k units} \n",
    "$\\equiv$ integer partition\n",
    "\n",
    "___\n",
    "for this question, a function to multiply polynomial and obtain the coefficients is required,  \n",
    "then use dictionery for storage"
   ]
  },
  {
   "cell_type": "code",
   "execution_count": 1,
   "metadata": {},
   "outputs": [],
   "source": [
    "def polynomial_product(coef1: list, coef2: list) -> list: \n",
    "    \n",
    "    new_coef_get = {}\n",
    "    \n",
    "    for power1, c1 in enumerate(coef1):\n",
    "        for power2, c2 in enumerate(coef2):\n",
    "            new_coef_get[power1+power2] = new_coef_get.get(power1+power2, 0) + c1*c2\n",
    "            \n",
    "    # to list\n",
    "    new_coef = []\n",
    "    for power in new_coef_get:\n",
    "        new_coef.append(new_coef_get[power])\n",
    "            \n",
    "    return new_coef"
   ]
  },
  {
   "cell_type": "code",
   "execution_count": 2,
   "metadata": {},
   "outputs": [],
   "source": [
    "# input \n",
    "q31_input = {'pence_set': [1, 2, 5, 10, 20, 50, 100, 200], 'target': 200}\n",
    "\n",
    "# function \n",
    "def q31(pence_set: list, target: list): \n",
    "    \n",
    "    # store all required polynomial\n",
    "    polynomial_set = dict()\n",
    "    for pence in pence_set: \n",
    "        coef_poly = [1 if i%pence == 0 else 0 for i in range(0, target+1)]\n",
    "        polynomial_set[pence] = polynomial_set.get(pence, coef_poly)\n",
    "        \n",
    "    # multiply polynomial\n",
    "    new_polynomial = [1]\n",
    "    for polynomial in polynomial_set:\n",
    "        new_polynomial = polynomial_product(new_polynomial, polynomial_set[polynomial])\n",
    "        \n",
    "    return print(f'there are {new_polynomial[target]} ways to coin change {target} pence with {pence_set} pence coins')"
   ]
  },
  {
   "cell_type": "code",
   "execution_count": 3,
   "metadata": {},
   "outputs": [
    {
     "name": "stdout",
     "output_type": "stream",
     "text": [
      "there are 73682 ways to coin change 200 pence with [1, 2, 5, 10, 20, 50, 100, 200] pence coins\n",
      "284 ms ± 0 ns per loop (mean ± std. dev. of 1 run, 1 loop each)\n"
     ]
    }
   ],
   "source": [
    "%%timeit -n 1 -r 1\n",
    "q31(**q31_input)"
   ]
  },
  {
   "cell_type": "markdown",
   "metadata": {},
   "source": [
    "___\n",
    "recall back to the integer partition,  \n",
    "let see how well the function above does"
   ]
  },
  {
   "cell_type": "code",
   "execution_count": 4,
   "metadata": {},
   "outputs": [
    {
     "name": "stdout",
     "output_type": "stream",
     "text": [
      "1, 1, 2, 3, 5, 7, 11, 15, 22, 30, 42, 56, 77, 101, 135, 176, 231, 297, 385, 490, "
     ]
    }
   ],
   "source": [
    "# modify function \n",
    "def integer_partition(n: int) -> int: \n",
    "    \n",
    "    # required list\n",
    "    below_int = [j for j in range(1, n+1)]\n",
    "    \n",
    "    # store all required polynomial\n",
    "    polynomial_set = dict()\n",
    "    for i in below_int: \n",
    "        coef_poly = [1 if j%i == 0 else 0 for j in range(0, n+1)]\n",
    "        polynomial_set[i] = polynomial_set.get(i, coef_poly)\n",
    "        \n",
    "    # multiply polynomial\n",
    "    new_polynomial = [1]\n",
    "    for polynomial in polynomial_set:\n",
    "        new_polynomial = polynomial_product(new_polynomial, polynomial_set[polynomial])\n",
    "        \n",
    "    return new_polynomial[n]\n",
    "\n",
    "for i in range(20): \n",
    "    integer_partition_input = {'n': i}\n",
    "    print(integer_partition(**integer_partition_input), end=', ')"
   ]
  },
  {
   "cell_type": "markdown",
   "metadata": {},
   "source": [
    "seems like it works, but obviously the code is kinda inefficient, so be careful when using it"
   ]
  },
  {
   "cell_type": "markdown",
   "metadata": {},
   "source": [
    "___\n",
    "old codes below"
   ]
  },
  {
   "cell_type": "code",
   "execution_count": 5,
   "metadata": {},
   "outputs": [
    {
     "data": {
      "text/plain": [
       "5768123130"
      ]
     },
     "execution_count": 5,
     "metadata": {},
     "output_type": "execute_result"
    }
   ],
   "source": [
    "201 * 101 * 41 * 21 * 11 * 5 * 3 * 2"
   ]
  },
  {
   "cell_type": "markdown",
   "metadata": {},
   "source": [
    "in total, if using brute force, there will be 5768123130 combinations to check, gna take forever\n",
    "\n",
    "so, consider a simpler case:  \n",
    "in how many way, that 1p and 2p can be arranged in to the multiples of 5p?"
   ]
  },
  {
   "cell_type": "code",
   "execution_count": 6,
   "metadata": {},
   "outputs": [
    {
     "data": {
      "text/plain": [
       "2081"
      ]
     },
     "execution_count": 6,
     "metadata": {},
     "output_type": "execute_result"
    }
   ],
   "source": [
    "import numpy as np\n",
    "import math\n",
    "import time\n",
    "\n",
    "cnt = 0\n",
    "\n",
    "for i in range(200 + 1):\n",
    "    \n",
    "    for j in range(100 + 1):\n",
    "        \n",
    "        money = i * 1 + j * 2\n",
    "        \n",
    "        if money%5 == 0 and money <= 200:  # the mod5 is because 5p is excluded\n",
    "            cnt += 1\n",
    "            \n",
    "cnt"
   ]
  },
  {
   "cell_type": "markdown",
   "metadata": {},
   "source": [
    "___\n",
    "to get 200p:\n",
    "1. 450 ways to get 50p with only 1p,2p,5p,10p,20p <br>\n",
    "will bind with 3(50p) or 1(1£)+1(50p) --> twice as much of this case\n",
    "2. 4111 ways to get 100p with only 1p,2p,5p,10p,20p <br>\n",
    "will bind with 2(50p) or 1(1£) --> twice as much of this case\n",
    "3. 16860 ways to get 150p with only 1p,2p,5p,10p,20p <br>\n",
    "will bind with only 1(50p)\n",
    "4. 16860 ways to get 200p with only 1p,2p,5p,10p,20p <br>\n",
    "will bind with no more coins <br><br>\n",
    "also rmb cases without any 1p,2p,5p,10p,20p: <br><br>\n",
    "1. 1(2£)\n",
    "2. 2(1£)\n",
    "3. 4(50p)\n",
    "4. 1(1£)+2(50p)"
   ]
  },
  {
   "cell_type": "code",
   "execution_count": 7,
   "metadata": {},
   "outputs": [
    {
     "name": "stdout",
     "output_type": "stream",
     "text": [
      "output: \n",
      "73.02263712882996 seconds taken\n",
      "array([  450.,  4111., 16860., 47696.])\n"
     ]
    }
   ],
   "source": [
    "'''\n",
    "# multiples of 50p\n",
    "\n",
    "# brute force\n",
    "t1 = time.time()\n",
    "\n",
    "# cnt = [50,100,150,200]\n",
    "cnt = np.zeros(4)\n",
    "\n",
    "for i in range(200 + 1):\n",
    "    \n",
    "    for j in range(100 + 1):\n",
    "        \n",
    "        for k in range(40+1):\n",
    "            \n",
    "            for ii in range(20+1):\n",
    "                \n",
    "                for jj in range(10+1):\n",
    "                               \n",
    "                    money = i * 1 + j * 2 + k * 5 + ii * 10 + jj * 20\n",
    "        \n",
    "                    if money == 50:\n",
    "                        cnt[0] += 1\n",
    "                    \n",
    "                    if money == 100:\n",
    "                        cnt[1] += 1\n",
    "                        \n",
    "                    if money == 150:\n",
    "                        cnt[2] += 1\n",
    "                        \n",
    "                    if money == 200:\n",
    "                        cnt[3] += 1\n",
    "            \n",
    "t2 = time.time()\n",
    "print(t2-t1,'seconds taken')\n",
    "\n",
    "cnt\n",
    "'''\n",
    "print('output:', '\\n73.02263712882996 seconds taken\\narray([  450.,  4111., 16860., 47696.])')"
   ]
  },
  {
   "cell_type": "markdown",
   "metadata": {},
   "source": [
    "___\n",
    "some faster code: "
   ]
  },
  {
   "cell_type": "code",
   "execution_count": 8,
   "metadata": {},
   "outputs": [
    {
     "name": "stdout",
     "output_type": "stream",
     "text": [
      "Number of combinations: 73682\n"
     ]
    }
   ],
   "source": [
    "# eg, from https://projecteuler.net/thread=31;page=9, veronica248yu\n",
    "count=1\n",
    "\n",
    "for x1 in range(3):\n",
    "    for x2 in range(1+int((200-x1*100)/50)):\n",
    "        for x3 in range(1+int((200-x1*100-x2*50)/20)):\n",
    "            for x4 in range(1+int((200-x1*100-x2*50-x3*20)/10)):\n",
    "                for x5 in range(1+int((200-x1*100-x2*50-x3*20-x4*10)/5)):\n",
    "                    for x6 in range(1+int((200-x1*100-x2*50-x3*20-x4*10-x5*5)/2)):\n",
    "                        #You can also calculate x7 if you want, but it is not necessary\n",
    "                        count+=1\n",
    "\n",
    "print('Number of combinations:',count)"
   ]
  },
  {
   "cell_type": "code",
   "execution_count": null,
   "metadata": {},
   "outputs": [],
   "source": []
  }
 ],
 "metadata": {
  "kernelspec": {
   "display_name": "Python 3",
   "language": "python",
   "name": "python3"
  },
  "language_info": {
   "codemirror_mode": {
    "name": "ipython",
    "version": 3
   },
   "file_extension": ".py",
   "mimetype": "text/x-python",
   "name": "python",
   "nbconvert_exporter": "python",
   "pygments_lexer": "ipython3",
   "version": "3.6.5"
  }
 },
 "nbformat": 4,
 "nbformat_minor": 2
}
