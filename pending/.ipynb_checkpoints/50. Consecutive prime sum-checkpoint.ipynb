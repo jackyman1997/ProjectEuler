{
 "cells": [
  {
   "cell_type": "markdown",
   "metadata": {},
   "source": [
    "## <a href='https://projecteuler.net/problem=50'>50. Consecutive prime sum</a>\n",
    "\n",
    "The prime 41, can be written as the sum of six consecutive primes:\n",
    "\n",
    "$$ 41 = 2 + 3 + 5 + 7 + 11 + 13 $$\n",
    "\n",
    "This is the longest sum of consecutive primes that adds to a prime below one-hundred.\n",
    "\n",
    "The longest sum of consecutive primes below one-thousand that adds to a prime, contains 21 terms, and is equal to 953.\n",
    "\n",
    "Which prime, below one-million, can be written as the sum of the most consecutive primes?\n",
    "___"
   ]
  },
  {
   "cell_type": "code",
   "execution_count": 1,
   "metadata": {},
   "outputs": [],
   "source": [
    "# libs\n",
    "from sympy import primerange, isprime\n",
    "\n",
    "# input\n",
    "q50_input = {'limit': 1000000}\n",
    "\n",
    "# function\n",
    "def q50(limit: int):\n",
    "    # prime list\n",
    "    primelist = list(primerange(0,limit))\n",
    "    n = len(primelist)\n",
    "    # storage\n",
    "    term = 0\n",
    "    long_term_add_prime = 0\n",
    "    chain = []\n",
    "    # loop\n",
    "    for i in range(n):\n",
    "        for j in range(i+1, n):\n",
    "            adding = sum( primelist[i:j] )\n",
    "            if adding > limit:\n",
    "                break\n",
    "            if isprime(adding) and j-i > term and adding < limit:\n",
    "                term = j-i\n",
    "                long_term_add_prime = adding\n",
    "                chain = primelist[i:j]\n",
    "    \n",
    "    return print('the longest is %i, with %i terms, under %i\\n'%(long_term_add_prime, term, limit), chain)"
   ]
  },
  {
   "cell_type": "code",
   "execution_count": 2,
   "metadata": {},
   "outputs": [
    {
     "name": "stdout",
     "output_type": "stream",
     "text": [
      "the longest is 997651, with 543 terms, under 1000000\n",
      " [7, 11, 13, 17, 19, 23, 29, 31, 37, 41, 43, 47, 53, 59, 61, 67, 71, 73, 79, 83, 89, 97, 101, 103, 107, 109, 113, 127, 131, 137, 139, 149, 151, 157, 163, 167, 173, 179, 181, 191, 193, 197, 199, 211, 223, 227, 229, 233, 239, 241, 251, 257, 263, 269, 271, 277, 281, 283, 293, 307, 311, 313, 317, 331, 337, 347, 349, 353, 359, 367, 373, 379, 383, 389, 397, 401, 409, 419, 421, 431, 433, 439, 443, 449, 457, 461, 463, 467, 479, 487, 491, 499, 503, 509, 521, 523, 541, 547, 557, 563, 569, 571, 577, 587, 593, 599, 601, 607, 613, 617, 619, 631, 641, 643, 647, 653, 659, 661, 673, 677, 683, 691, 701, 709, 719, 727, 733, 739, 743, 751, 757, 761, 769, 773, 787, 797, 809, 811, 821, 823, 827, 829, 839, 853, 857, 859, 863, 877, 881, 883, 887, 907, 911, 919, 929, 937, 941, 947, 953, 967, 971, 977, 983, 991, 997, 1009, 1013, 1019, 1021, 1031, 1033, 1039, 1049, 1051, 1061, 1063, 1069, 1087, 1091, 1093, 1097, 1103, 1109, 1117, 1123, 1129, 1151, 1153, 1163, 1171, 1181, 1187, 1193, 1201, 1213, 1217, 1223, 1229, 1231, 1237, 1249, 1259, 1277, 1279, 1283, 1289, 1291, 1297, 1301, 1303, 1307, 1319, 1321, 1327, 1361, 1367, 1373, 1381, 1399, 1409, 1423, 1427, 1429, 1433, 1439, 1447, 1451, 1453, 1459, 1471, 1481, 1483, 1487, 1489, 1493, 1499, 1511, 1523, 1531, 1543, 1549, 1553, 1559, 1567, 1571, 1579, 1583, 1597, 1601, 1607, 1609, 1613, 1619, 1621, 1627, 1637, 1657, 1663, 1667, 1669, 1693, 1697, 1699, 1709, 1721, 1723, 1733, 1741, 1747, 1753, 1759, 1777, 1783, 1787, 1789, 1801, 1811, 1823, 1831, 1847, 1861, 1867, 1871, 1873, 1877, 1879, 1889, 1901, 1907, 1913, 1931, 1933, 1949, 1951, 1973, 1979, 1987, 1993, 1997, 1999, 2003, 2011, 2017, 2027, 2029, 2039, 2053, 2063, 2069, 2081, 2083, 2087, 2089, 2099, 2111, 2113, 2129, 2131, 2137, 2141, 2143, 2153, 2161, 2179, 2203, 2207, 2213, 2221, 2237, 2239, 2243, 2251, 2267, 2269, 2273, 2281, 2287, 2293, 2297, 2309, 2311, 2333, 2339, 2341, 2347, 2351, 2357, 2371, 2377, 2381, 2383, 2389, 2393, 2399, 2411, 2417, 2423, 2437, 2441, 2447, 2459, 2467, 2473, 2477, 2503, 2521, 2531, 2539, 2543, 2549, 2551, 2557, 2579, 2591, 2593, 2609, 2617, 2621, 2633, 2647, 2657, 2659, 2663, 2671, 2677, 2683, 2687, 2689, 2693, 2699, 2707, 2711, 2713, 2719, 2729, 2731, 2741, 2749, 2753, 2767, 2777, 2789, 2791, 2797, 2801, 2803, 2819, 2833, 2837, 2843, 2851, 2857, 2861, 2879, 2887, 2897, 2903, 2909, 2917, 2927, 2939, 2953, 2957, 2963, 2969, 2971, 2999, 3001, 3011, 3019, 3023, 3037, 3041, 3049, 3061, 3067, 3079, 3083, 3089, 3109, 3119, 3121, 3137, 3163, 3167, 3169, 3181, 3187, 3191, 3203, 3209, 3217, 3221, 3229, 3251, 3253, 3257, 3259, 3271, 3299, 3301, 3307, 3313, 3319, 3323, 3329, 3331, 3343, 3347, 3359, 3361, 3371, 3373, 3389, 3391, 3407, 3413, 3433, 3449, 3457, 3461, 3463, 3467, 3469, 3491, 3499, 3511, 3517, 3527, 3529, 3533, 3539, 3541, 3547, 3557, 3559, 3571, 3581, 3583, 3593, 3607, 3613, 3617, 3623, 3631, 3637, 3643, 3659, 3671, 3673, 3677, 3691, 3697, 3701, 3709, 3719, 3727, 3733, 3739, 3761, 3767, 3769, 3779, 3793, 3797, 3803, 3821, 3823, 3833, 3847, 3851, 3853, 3863, 3877, 3881, 3889, 3907, 3911, 3917, 3919, 3923, 3929, 3931]\n",
      "5.31 s ± 0 ns per loop (mean ± std. dev. of 1 run, 1 loop each)\n"
     ]
    }
   ],
   "source": [
    "%%timeit -n 1 -r 1\n",
    "q50(**q50_input)"
   ]
  },
  {
   "cell_type": "markdown",
   "metadata": {},
   "source": [
    "___\n",
    "old code, somehow is a little bit faster"
   ]
  },
  {
   "cell_type": "code",
   "execution_count": 2,
   "metadata": {},
   "outputs": [],
   "source": [
    "# get prime generator\n",
    "def primelist(ub):\n",
    "    prime = np.arange(ub) + 1  # get a list of consecutive numbers\n",
    "    \n",
    "    prime = np.delete(prime,0) # remove the 0\n",
    "\n",
    "    checkpos = 0  # \n",
    "    while prime[checkpos] < np.sqrt(ub):  # check only upto sqrt of n\n",
    "        \n",
    "        # checking the modular (reminder) of each number in the list to a particular number \n",
    "        # like [1,2,3] check with 1 , then with 2, then with 3 \n",
    "        check = prime%(prime[checkpos])   \n",
    "        \n",
    "        # keep the checking number\n",
    "        # a number is divisible by itself (a%a = 0)\n",
    "        # so in order to keep the 'particular' checking number \n",
    "        # make the reminder of it = 1\n",
    "        # otherwise will be removed in the next step\n",
    "        check[np.where(prime==prime[checkpos])[0]] = 1\n",
    "    \n",
    "        # for those number has the reminder of 0 to the 'particular' checking number, \n",
    "        # means they are divisible by the 'particular' checking number\n",
    "        # so they must not be primes\n",
    "        # then delete from the list\n",
    "        prime = np.delete(prime,np.where(check==0)[0])\n",
    "        \n",
    "        # go to the next number (next nth ( (n+1)th ) in the list) \n",
    "        checkpos += 1\n",
    "\n",
    "    prime = np.array(prime)\n",
    "    return prime\n"
   ]
  },
  {
   "cell_type": "code",
   "execution_count": 3,
   "metadata": {},
   "outputs": [
    {
     "data": {
      "text/plain": [
       "(array([ 0,  6,  6, 41]), array([ 2,  3,  5,  7, 11, 13]))"
      ]
     },
     "execution_count": 3,
     "metadata": {},
     "output_type": "execute_result"
    }
   ],
   "source": [
    "# try the 41 case\n",
    "limit = 100\n",
    "p100 = primelist(limit)\n",
    "pcheck = set(p100)\n",
    "pmore = set(primelist(limit * 10))\n",
    "\n",
    "n_term = 0\n",
    "i = 0\n",
    "j = 0\n",
    "sumij = 0\n",
    "ans = np.array([i,j,n_term,sumij])\n",
    "\n",
    "for i in range(0,len(p100)):\n",
    "    j = i + 1\n",
    "            \n",
    "    while i < j <= len(p100):\n",
    "        sumij = sum(p100[i:j])\n",
    "        \n",
    "        if sumij in pcheck and j-i > ans[2]:\n",
    "            ans[0] = i\n",
    "            ans[1] = j\n",
    "            ans[2] = j-i\n",
    "            ans[3] = sumij\n",
    "        \n",
    "        # print(i,'to',j,'terms:', j-i , '\\n',p100[i:j],sumij,'\\n',sumij in pmore,'\\n')\n",
    "        j += 1\n",
    "        \n",
    "ans,p100[ans[0]:ans[1]]     "
   ]
  },
  {
   "cell_type": "code",
   "execution_count": 4,
   "metadata": {},
   "outputs": [
    {
     "name": "stdout",
     "output_type": "stream",
     "text": [
      "0.0019943714141845703 seconds taken\n"
     ]
    },
    {
     "data": {
      "text/plain": [
       "(array([ 0,  6,  6, 41]), array([ 2,  3,  5,  7, 11, 13]))"
      ]
     },
     "execution_count": 4,
     "metadata": {},
     "output_type": "execute_result"
    }
   ],
   "source": [
    "# try the 41 case, kinda work\n",
    "# lets see the time\n",
    "t1 = time.time()\n",
    "\n",
    "limit = 100\n",
    "p100 = primelist(limit)\n",
    "pcheck = set(p100)\n",
    "pmore = set(primelist(limit * 10))\n",
    "\n",
    "n_term = 0\n",
    "i = 0\n",
    "j = 0\n",
    "sumij = 0\n",
    "ans = np.array([i,j,n_term,sumij])\n",
    "\n",
    "for i in range(0,len(p100)):\n",
    "    j = i + 1\n",
    "            \n",
    "    while i < j <= len(p100):\n",
    "        sumij = sum(p100[i:j])\n",
    "        \n",
    "        if sumij in pcheck and j-i > ans[2]:\n",
    "            ans[0] = i\n",
    "            ans[1] = j\n",
    "            ans[2] = j-i\n",
    "            ans[3] = sumij\n",
    "        \n",
    "        j += 1\n",
    "\n",
    "t2 = time.time()\n",
    "print(t2-t1,'seconds taken')\n",
    "ans,p100[ans[0]:ans[1]]     "
   ]
  },
  {
   "cell_type": "code",
   "execution_count": 5,
   "metadata": {},
   "outputs": [
    {
     "name": "stdout",
     "output_type": "stream",
     "text": [
      "0.07477831840515137 seconds taken\n"
     ]
    },
    {
     "data": {
      "text/plain": [
       "(array([  3,  24,  21, 953]),\n",
       " array([ 7, 11, 13, 17, 19, 23, 29, 31, 37, 41, 43, 47, 53, 59, 61, 67, 71,\n",
       "        73, 79, 83, 89]))"
      ]
     },
     "execution_count": 5,
     "metadata": {},
     "output_type": "execute_result"
    }
   ],
   "source": [
    "# try the under 1000 case\n",
    "t1 = time.time()\n",
    "\n",
    "limit = 1000\n",
    "p100 = primelist(limit)\n",
    "pcheck = set(p100)\n",
    "pmore = set(primelist(limit * 10))\n",
    "\n",
    "n_term = 0\n",
    "i = 0\n",
    "j = 0\n",
    "sumij = 0\n",
    "ans = np.array([i,j,n_term,sumij])\n",
    "\n",
    "for i in range(0,len(p100)):\n",
    "    j = i + 1\n",
    "            \n",
    "    while i < j <= len(p100):\n",
    "        sumij = sum(p100[i:j])\n",
    "        \n",
    "        if sumij in pcheck and j-i > ans[2]:\n",
    "            ans[0] = i\n",
    "            ans[1] = j\n",
    "            ans[2] = j-i\n",
    "            ans[3] = sumij\n",
    "        \n",
    "        j += 1\n",
    "\n",
    "t2 = time.time()\n",
    "print(t2-t1,'seconds taken')\n",
    "ans,p100[ans[0]:ans[1]]     "
   ]
  },
  {
   "cell_type": "code",
   "execution_count": 6,
   "metadata": {},
   "outputs": [
    {
     "name": "stdout",
     "output_type": "stream",
     "text": [
      "0.019946813583374023 seconds taken\n"
     ]
    },
    {
     "data": {
      "text/plain": [
       "(array([   1,   66,   65, 9521]),\n",
       " array([  3,   5,   7,  11,  13,  17,  19,  23,  29,  31,  37,  41,  43,\n",
       "         47,  53,  59,  61,  67,  71,  73,  79,  83,  89,  97, 101, 103,\n",
       "        107, 109, 113, 127, 131, 137, 139, 149, 151, 157, 163, 167, 173,\n",
       "        179, 181, 191, 193, 197, 199, 211, 223, 227, 229, 233, 239, 241,\n",
       "        251, 257, 263, 269, 271, 277, 281, 283, 293, 307, 311, 313, 317]))"
      ]
     },
     "execution_count": 6,
     "metadata": {},
     "output_type": "execute_result"
    }
   ],
   "source": [
    "t1 = time.time()\n",
    "\n",
    "limit = 10000\n",
    "p100 = primelist(limit)\n",
    "pcheck = set(p100)\n",
    "\n",
    "n_term = 0\n",
    "i = 0\n",
    "j = 0\n",
    "sumij = 0\n",
    "ans = np.array([i,j,n_term,sumij])\n",
    "\n",
    "for i in range(0,len(p100)):\n",
    "    j = i + 1\n",
    "            \n",
    "    while i < j <= len(p100):\n",
    "        sumij = sum(p100[i:j])\n",
    "        \n",
    "        if sumij in pcheck and j-i > ans[2]:\n",
    "            ans[0] = i\n",
    "            ans[1] = j\n",
    "            ans[2] = j-i\n",
    "            ans[3] = sumij\n",
    "        \n",
    "        j += 1\n",
    "        \n",
    "        if sumij >= p100[-1]:  # added to remove excess checkings\n",
    "            break\n",
    "\n",
    "t2 = time.time()\n",
    "print(t2-t1,'seconds taken')\n",
    "ans,p100[ans[0]:ans[1]]     "
   ]
  },
  {
   "cell_type": "code",
   "execution_count": 7,
   "metadata": {},
   "outputs": [
    {
     "name": "stdout",
     "output_type": "stream",
     "text": [
      "4.453111410140991 seconds taken\n"
     ]
    },
    {
     "data": {
      "text/plain": [
       "(array([     3,    546,    543, 997651]),\n",
       " array([   7,   11,   13,   17,   19,   23,   29,   31,   37,   41,   43,\n",
       "          47,   53,   59,   61,   67,   71,   73,   79,   83,   89,   97,\n",
       "         101,  103,  107,  109,  113,  127,  131,  137,  139,  149,  151,\n",
       "         157,  163,  167,  173,  179,  181,  191,  193,  197,  199,  211,\n",
       "         223,  227,  229,  233,  239,  241,  251,  257,  263,  269,  271,\n",
       "         277,  281,  283,  293,  307,  311,  313,  317,  331,  337,  347,\n",
       "         349,  353,  359,  367,  373,  379,  383,  389,  397,  401,  409,\n",
       "         419,  421,  431,  433,  439,  443,  449,  457,  461,  463,  467,\n",
       "         479,  487,  491,  499,  503,  509,  521,  523,  541,  547,  557,\n",
       "         563,  569,  571,  577,  587,  593,  599,  601,  607,  613,  617,\n",
       "         619,  631,  641,  643,  647,  653,  659,  661,  673,  677,  683,\n",
       "         691,  701,  709,  719,  727,  733,  739,  743,  751,  757,  761,\n",
       "         769,  773,  787,  797,  809,  811,  821,  823,  827,  829,  839,\n",
       "         853,  857,  859,  863,  877,  881,  883,  887,  907,  911,  919,\n",
       "         929,  937,  941,  947,  953,  967,  971,  977,  983,  991,  997,\n",
       "        1009, 1013, 1019, 1021, 1031, 1033, 1039, 1049, 1051, 1061, 1063,\n",
       "        1069, 1087, 1091, 1093, 1097, 1103, 1109, 1117, 1123, 1129, 1151,\n",
       "        1153, 1163, 1171, 1181, 1187, 1193, 1201, 1213, 1217, 1223, 1229,\n",
       "        1231, 1237, 1249, 1259, 1277, 1279, 1283, 1289, 1291, 1297, 1301,\n",
       "        1303, 1307, 1319, 1321, 1327, 1361, 1367, 1373, 1381, 1399, 1409,\n",
       "        1423, 1427, 1429, 1433, 1439, 1447, 1451, 1453, 1459, 1471, 1481,\n",
       "        1483, 1487, 1489, 1493, 1499, 1511, 1523, 1531, 1543, 1549, 1553,\n",
       "        1559, 1567, 1571, 1579, 1583, 1597, 1601, 1607, 1609, 1613, 1619,\n",
       "        1621, 1627, 1637, 1657, 1663, 1667, 1669, 1693, 1697, 1699, 1709,\n",
       "        1721, 1723, 1733, 1741, 1747, 1753, 1759, 1777, 1783, 1787, 1789,\n",
       "        1801, 1811, 1823, 1831, 1847, 1861, 1867, 1871, 1873, 1877, 1879,\n",
       "        1889, 1901, 1907, 1913, 1931, 1933, 1949, 1951, 1973, 1979, 1987,\n",
       "        1993, 1997, 1999, 2003, 2011, 2017, 2027, 2029, 2039, 2053, 2063,\n",
       "        2069, 2081, 2083, 2087, 2089, 2099, 2111, 2113, 2129, 2131, 2137,\n",
       "        2141, 2143, 2153, 2161, 2179, 2203, 2207, 2213, 2221, 2237, 2239,\n",
       "        2243, 2251, 2267, 2269, 2273, 2281, 2287, 2293, 2297, 2309, 2311,\n",
       "        2333, 2339, 2341, 2347, 2351, 2357, 2371, 2377, 2381, 2383, 2389,\n",
       "        2393, 2399, 2411, 2417, 2423, 2437, 2441, 2447, 2459, 2467, 2473,\n",
       "        2477, 2503, 2521, 2531, 2539, 2543, 2549, 2551, 2557, 2579, 2591,\n",
       "        2593, 2609, 2617, 2621, 2633, 2647, 2657, 2659, 2663, 2671, 2677,\n",
       "        2683, 2687, 2689, 2693, 2699, 2707, 2711, 2713, 2719, 2729, 2731,\n",
       "        2741, 2749, 2753, 2767, 2777, 2789, 2791, 2797, 2801, 2803, 2819,\n",
       "        2833, 2837, 2843, 2851, 2857, 2861, 2879, 2887, 2897, 2903, 2909,\n",
       "        2917, 2927, 2939, 2953, 2957, 2963, 2969, 2971, 2999, 3001, 3011,\n",
       "        3019, 3023, 3037, 3041, 3049, 3061, 3067, 3079, 3083, 3089, 3109,\n",
       "        3119, 3121, 3137, 3163, 3167, 3169, 3181, 3187, 3191, 3203, 3209,\n",
       "        3217, 3221, 3229, 3251, 3253, 3257, 3259, 3271, 3299, 3301, 3307,\n",
       "        3313, 3319, 3323, 3329, 3331, 3343, 3347, 3359, 3361, 3371, 3373,\n",
       "        3389, 3391, 3407, 3413, 3433, 3449, 3457, 3461, 3463, 3467, 3469,\n",
       "        3491, 3499, 3511, 3517, 3527, 3529, 3533, 3539, 3541, 3547, 3557,\n",
       "        3559, 3571, 3581, 3583, 3593, 3607, 3613, 3617, 3623, 3631, 3637,\n",
       "        3643, 3659, 3671, 3673, 3677, 3691, 3697, 3701, 3709, 3719, 3727,\n",
       "        3733, 3739, 3761, 3767, 3769, 3779, 3793, 3797, 3803, 3821, 3823,\n",
       "        3833, 3847, 3851, 3853, 3863, 3877, 3881, 3889, 3907, 3911, 3917,\n",
       "        3919, 3923, 3929, 3931]))"
      ]
     },
     "execution_count": 7,
     "metadata": {},
     "output_type": "execute_result"
    }
   ],
   "source": [
    "t1 = time.time()\n",
    "\n",
    "limit = 1000000\n",
    "p100 = primelist(limit)\n",
    "pcheck = set(p100)\n",
    "\n",
    "n_term = 0\n",
    "i = 0\n",
    "j = 0\n",
    "sumij = 0\n",
    "ans = np.array([i,j,n_term,sumij])\n",
    "\n",
    "for i in range(0,len(p100)):\n",
    "    j = i + 1\n",
    "            \n",
    "    while i < j <= len(p100):\n",
    "        sumij = sum(p100[i:j])\n",
    "        \n",
    "        if sumij in pcheck and j-i > ans[2]:\n",
    "            ans[0] = i\n",
    "            ans[1] = j\n",
    "            ans[2] = j-i\n",
    "            ans[3] = sumij\n",
    "        \n",
    "        j += 1\n",
    "        \n",
    "        if sumij >= p100[-1]:  # added to remove excess checkings\n",
    "            break\n",
    "\n",
    "t2 = time.time()\n",
    "print(t2-t1,'seconds taken')\n",
    "ans,p100[ans[0]:ans[1]]     "
   ]
  },
  {
   "cell_type": "markdown",
   "metadata": {},
   "source": [
    "> yup, 997651 is the one, got 543, from 3 to 546"
   ]
  },
  {
   "cell_type": "code",
   "execution_count": null,
   "metadata": {},
   "outputs": [],
   "source": []
  }
 ],
 "metadata": {
  "kernelspec": {
   "display_name": "Python 3",
   "language": "python",
   "name": "python3"
  },
  "language_info": {
   "codemirror_mode": {
    "name": "ipython",
    "version": 3
   },
   "file_extension": ".py",
   "mimetype": "text/x-python",
   "name": "python",
   "nbconvert_exporter": "python",
   "pygments_lexer": "ipython3",
   "version": "3.6.5"
  }
 },
 "nbformat": 4,
 "nbformat_minor": 2
}
