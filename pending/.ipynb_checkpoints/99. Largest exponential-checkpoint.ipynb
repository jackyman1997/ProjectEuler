{
 "cells": [
  {
   "cell_type": "markdown",
   "metadata": {},
   "source": [
    "## <a href='https://projecteuler.net/problem=99'>99. Largest exponential</a>\n",
    "Comparing two numbers written in index form like $2^{11}$ and $3^7$ is not difficult, as any calculator would confirm that $2^{11} = 2048 < 3^7 = 2187$.\n",
    "\n",
    "However, confirming that $632382^{518061} > 519432^{525806}$ would be much more difficult, as both numbers contain over three million digits.\n",
    "\n",
    "Using <a href='https://projecteuler.net/project/resources/p099_base_exp.txt'>base_exp.txt</a> (right click and 'Save Link/Target As...'), a 22K text file containing one thousand lines with a base/exponent pair on each line, determine which line number has the greatest numerical value.\n",
    "\n",
    "NOTE: The first two lines in the file represent the numbers in the example given above.\n",
    "___"
   ]
  },
  {
   "cell_type": "markdown",
   "metadata": {},
   "source": [
    "so my idea is: take log <br>\n",
    "$$ a^b > c^d $$\n",
    "$$ b\\log(a) > d\\log(c) $$\n",
    "$$ \\text{given that } a,b,c,d > 0 $$\n",
    "\n",
    "anyway, import the numbers first"
   ]
  },
  {
   "cell_type": "code",
   "execution_count": 1,
   "metadata": {},
   "outputs": [],
   "source": [
    "# input \n",
    "q99_input = {'filename': 'p099_base_exp.txt'} \n",
    "\n",
    "# function\n",
    "def q99(filename: str):\n",
    "    \n",
    "    # import text file\n",
    "    with open('..\\\\data\\\\'+filename) as t:\n",
    "        data = t.read()\n",
    "    \n",
    "    # extract numbers\n",
    "    nums = data.split('\\n')\n",
    "    \n",
    "    # convert into pairs tuple of integers\n",
    "    for index, pair in enumerate(nums):\n",
    "        # each pair is seperated with ','\n",
    "        base, exponent = pair.split(',')\n",
    "        # str to int\n",
    "        nums[index] = (int(base), int(exponent))\n",
    "        \n",
    "    # need math.log or numpy.log\n",
    "    if 'log' not in dir():\n",
    "        from numpy import log\n",
    "        \n",
    "    # log compair\n",
    "    log_values = [exponent*log(base) for base, exponent in nums]\n",
    "    # plus 1 for line count starting from 1, not 0\n",
    "    ans = log_values.index(max(log_values)) + 1\n",
    "        \n",
    "    return print('line %i' % ans)"
   ]
  },
  {
   "cell_type": "code",
   "execution_count": 2,
   "metadata": {},
   "outputs": [
    {
     "name": "stdout",
     "output_type": "stream",
     "text": [
      "line 709\n",
      "94.8 ms ± 0 ns per loop (mean ± std. dev. of 1 run, 1 loop each)\n"
     ]
    }
   ],
   "source": [
    "%%timeit -n 1 -r 1\n",
    "q99(**q99_input)"
   ]
  },
  {
   "cell_type": "code",
   "execution_count": null,
   "metadata": {},
   "outputs": [],
   "source": []
  }
 ],
 "metadata": {
  "kernelspec": {
   "display_name": "Python 3",
   "language": "python",
   "name": "python3"
  },
  "language_info": {
   "codemirror_mode": {
    "name": "ipython",
    "version": 3
   },
   "file_extension": ".py",
   "mimetype": "text/x-python",
   "name": "python",
   "nbconvert_exporter": "python",
   "pygments_lexer": "ipython3",
   "version": "3.6.5"
  }
 },
 "nbformat": 4,
 "nbformat_minor": 2
}
