{
 "cells": [
  {
   "cell_type": "markdown",
   "metadata": {},
   "source": [
    "## <a href='https://projecteuler.net/problem=5959'>59. XOR decryption</a>\n",
    "Each character on a computer is assigned a unique code and the preferred standard is ASCII (American Standard Code for Information Interchange). For example, uppercase A = 65, asterisk (`*`) = 42, and lowercase k = 107.\n",
    "\n",
    "A modern encryption method is to take a text file, convert the bytes to ASCII, then XOR each byte with a given value, taken from a secret key. The advantage with the XOR function is that using the same encryption key on the cipher text, restores the plain text; for example, 65 XOR 42 = 107, then 107 XOR 42 = 65.\n",
    "\n",
    "For unbreakable encryption, the key is the same length as the plain text message, and the key is made up of random bytes. The user would keep the encrypted message and the encryption key in different locations, and without both \"halves\", it is impossible to decrypt the message.\n",
    "\n",
    "Unfortunately, this method is impractical for most users, so the modified method is to use a password as a key. If the password is shorter than the message, which is likely, the key is repeated cyclically throughout the message. The balance for this method is using a sufficiently long password key for security, but short enough to be memorable.\n",
    "\n",
    "Your task has been made easy, as the encryption key consists of three lower case characters. Using <a href='https://projecteuler.net/project/resources/p059_cipher.txt'>p059_cipher.txt</a> (right click and 'Save Link/Target As...'), a file containing the encrypted ASCII codes, and the knowledge that the plain text must contain common English words, decrypt the message and find the sum of the ASCII values in the original text.\n",
    "___"
   ]
  },
  {
   "cell_type": "code",
   "execution_count": 4,
   "metadata": {},
   "outputs": [],
   "source": [
    "import time\n",
    "import numpy as np\n",
    "import math"
   ]
  },
  {
   "cell_type": "markdown",
   "metadata": {},
   "source": [
    "> import the text first"
   ]
  },
  {
   "cell_type": "code",
   "execution_count": 5,
   "metadata": {},
   "outputs": [],
   "source": [
    "# import the text file (copy and paste)\n",
    "data = np.array([36,22,80,0,0,4,23,25,19,17,88,4,4,19,21,11,88,22,23,23,29,69,12,24,0,88,25,11,12,2,10,28,5,6,12,25,10,22,80,10,30,80,10,22,21,69,23,22,69,61,5,9,29,2,66,11,80,8,23,3,17,88,19,0,20,21,7,10,17,17,29,20,69,8,17,21,29,2,22,84,80,71,60,21,69,11,5,8,21,25,22,88,3,0,10,25,0,10,5,8,88,2,0,27,25,21,10,31,6,25,2,16,21,82,69,35,63,11,88,4,13,29,80,22,13,29,22,88,31,3,88,3,0,10,25,0,11,80,10,30,80,23,29,19,12,8,2,10,27,17,9,11,45,95,88,57,69,16,17,19,29,80,23,29,19,0,22,4,9,1,80,3,23,5,11,28,92,69,9,5,12,12,21,69,13,30,0,0,0,0,27,4,0,28,28,28,84,80,4,22,80,0,20,21,2,25,30,17,88,21,29,8,2,0,11,3,12,23,30,69,30,31,23,88,4,13,29,80,0,22,4,12,10,21,69,11,5,8,88,31,3,88,4,13,17,3,69,11,21,23,17,21,22,88,65,69,83,80,84,87,68,69,83,80,84,87,73,69,83,80,84,87,65,83,88,91,69,29,4,6,86,92,69,15,24,12,27,24,69,28,21,21,29,30,1,11,80,10,22,80,17,16,21,69,9,5,4,28,2,4,12,5,23,29,80,10,30,80,17,16,21,69,27,25,23,27,28,0,84,80,22,23,80,17,16,17,17,88,25,3,88,4,13,29,80,17,10,5,0,88,3,16,21,80,10,30,80,17,16,25,22,88,3,0,10,25,0,11,80,12,11,80,10,26,4,4,17,30,0,28,92,69,30,2,10,21,80,12,12,80,4,12,80,10,22,19,0,88,4,13,29,80,20,13,17,1,10,17,17,13,2,0,88,31,3,88,4,13,29,80,6,17,2,6,20,21,69,30,31,9,20,31,18,11,94,69,54,17,8,29,28,28,84,80,44,88,24,4,14,21,69,30,31,16,22,20,69,12,24,4,12,80,17,16,21,69,11,5,8,88,31,3,88,4,13,17,3,69,11,21,23,17,21,22,88,25,22,88,17,69,11,25,29,12,24,69,8,17,23,12,80,10,30,80,17,16,21,69,11,1,16,25,2,0,88,31,3,88,4,13,29,80,21,29,2,12,21,21,17,29,2,69,23,22,69,12,24,0,88,19,12,10,19,9,29,80,18,16,31,22,29,80,1,17,17,8,29,4,0,10,80,12,11,80,84,67,80,10,10,80,7,1,80,21,13,4,17,17,30,2,88,4,13,29,80,22,13,29,69,23,22,69,12,24,12,11,80,22,29,2,12,29,3,69,29,1,16,25,28,69,12,31,69,11,92,69,17,4,69,16,17,22,88,4,13,29,80,23,25,4,12,23,80,22,9,2,17,80,70,76,88,29,16,20,4,12,8,28,12,29,20,69,26,9,69,11,80,17,23,80,84,88,31,3,88,4,13,29,80,21,29,2,12,21,21,17,29,2,69,12,31,69,12,24,0,88,20,12,25,29,0,12,21,23,86,80,44,88,7,12,20,28,69,11,31,10,22,80,22,16,31,18,88,4,13,25,4,69,12,24,0,88,3,16,21,80,10,30,80,17,16,25,22,88,3,0,10,25,0,11,80,17,23,80,7,29,80,4,8,0,23,23,8,12,21,17,17,29,28,28,88,65,75,78,68,81,65,67,81,72,70,83,64,68,87,74,70,81,75,70,81,67,80,4,22,20,69,30,2,10,21,80,8,13,28,17,17,0,9,1,25,11,31,80,17,16,25,22,88,30,16,21,18,0,10,80,7,1,80,22,17,8,73,88,17,11,28,80,17,16,21,11,88,4,4,19,25,11,31,80,17,16,21,69,11,1,16,25,2,0,88,2,10,23,4,73,88,4,13,29,80,11,13,29,7,29,2,69,75,94,84,76,65,80,65,66,83,77,67,80,64,73,82,65,67,87,75,72,69,17,3,69,17,30,1,29,21,1,88,0,23,23,20,16,27,21,1,84,80,18,16,25,6,16,80,0,0,0,23,29,3,22,29,3,69,12,24,0,88,0,0,10,25,8,29,4,0,10,80,10,30,80,4,88,19,12,10,19,9,29,80,18,16,31,22,29,80,1,17,17,8,29,4,0,10,80,12,11,80,84,86,80,35,23,28,9,23,7,12,22,23,69,25,23,4,17,30,69,12,24,0,88,3,4,21,21,69,11,4,0,8,3,69,26,9,69,15,24,12,27,24,69,49,80,13,25,20,69,25,2,23,17,6,0,28,80,4,12,80,17,16,25,22,88,3,16,21,92,69,49,80,13,25,6,0,88,20,12,11,19,10,14,21,23,29,20,69,12,24,4,12,80,17,16,21,69,11,5,8,88,31,3,88,4,13,29,80,22,29,2,12,29,3,69,73,80,78,88,65,74,73,70,69,83,80,84,87,72,84,88,91,69,73,95,87,77,70,69,83,80,84,87,70,87,77,80,78,88,21,17,27,94,69,25,28,22,23,80,1,29,0,0,22,20,22,88,31,11,88,4,13,29,80,20,13,17,1,10,17,17,13,2,0,88,31,3,88,4,13,29,80,6,17,2,6,20,21,75,88,62,4,21,21,9,1,92,69,12,24,0,88,3,16,21,80,10,30,80,17,16,25,22,88,29,16,20,4,12,8,28,12,29,20,69,26,9,69,65,64,69,31,25,19,29,3,69,12,24,0,88,18,12,9,5,4,28,2,4,12,21,69,80,22,10,13,2,17,16,80,21,23,7,0,10,89,69,23,22,69,12,24,0,88,19,12,10,19,16,21,22,0,10,21,11,27,21,69,23,22,69,12,24,0,88,0,0,10,25,8,29,4,0,10,80,10,30,80,4,88,19,12,10,19,9,29,80,18,16,31,22,29,80,1,17,17,8,29,4,0,10,80,12,11,80,84,86,80,36,22,20,69,26,9,69,11,25,8,17,28,4,10,80,23,29,17,22,23,30,12,22,23,69,49,80,13,25,6,0,88,28,12,19,21,18,17,3,0,88,18,0,29,30,69,25,18,9,29,80,17,23,80,1,29,4,0,10,29,12,22,21,69,12,24,0,88,3,16,21,3,69,23,22,69,12,24,0,88,3,16,26,3,0,9,5,0,22,4,69,11,21,23,17,21,22,88,25,11,88,7,13,17,19,13,88,4,13,29,80,0,0,0,10,22,21,11,12,3,69,25,2,0,88,21,19,29,30,69,22,5,8,26,21,23,11,94])"
   ]
  },
  {
   "cell_type": "code",
   "execution_count": 6,
   "metadata": {},
   "outputs": [],
   "source": [
    "# or this way to import\n",
    "data = open('p059_cipher.txt', 'r')\n",
    "encrypted = data.read().split(',')\n",
    "data.close()"
   ]
  },
  {
   "cell_type": "code",
   "execution_count": 7,
   "metadata": {},
   "outputs": [
    {
     "data": {
      "text/plain": [
       "array([36, 22, 80, ..., 23, 11, 94])"
      ]
     },
     "execution_count": 7,
     "metadata": {},
     "output_type": "execute_result"
    }
   ],
   "source": [
    "for i in range(len(encrypted)):\n",
    "    encrypted[i] = int(encrypted[i])\n",
    "    \n",
    "encrypted = np.array(encrypted)\n",
    "encrypted"
   ]
  },
  {
   "cell_type": "markdown",
   "metadata": {},
   "source": [
    "> easier way: "
   ]
  },
  {
   "cell_type": "code",
   "execution_count": 8,
   "metadata": {},
   "outputs": [
    {
     "data": {
      "text/plain": [
       "[36,\n",
       " 22,\n",
       " 80,\n",
       " 0,\n",
       " 0,\n",
       " 4,\n",
       " 23,\n",
       " 25,\n",
       " 19,\n",
       " 17,\n",
       " 88,\n",
       " 4,\n",
       " 4,\n",
       " 19,\n",
       " 21,\n",
       " 11,\n",
       " 88,\n",
       " 22,\n",
       " 23,\n",
       " 23,\n",
       " 29,\n",
       " 69,\n",
       " 12,\n",
       " 24,\n",
       " 0,\n",
       " 88,\n",
       " 25,\n",
       " 11,\n",
       " 12,\n",
       " 2,\n",
       " 10,\n",
       " 28,\n",
       " 5,\n",
       " 6,\n",
       " 12,\n",
       " 25,\n",
       " 10,\n",
       " 22,\n",
       " 80,\n",
       " 10,\n",
       " 30,\n",
       " 80,\n",
       " 10,\n",
       " 22,\n",
       " 21,\n",
       " 69,\n",
       " 23,\n",
       " 22,\n",
       " 69,\n",
       " 61,\n",
       " 5,\n",
       " 9,\n",
       " 29,\n",
       " 2,\n",
       " 66,\n",
       " 11,\n",
       " 80,\n",
       " 8,\n",
       " 23,\n",
       " 3,\n",
       " 17,\n",
       " 88,\n",
       " 19,\n",
       " 0,\n",
       " 20,\n",
       " 21,\n",
       " 7,\n",
       " 10,\n",
       " 17,\n",
       " 17,\n",
       " 29,\n",
       " 20,\n",
       " 69,\n",
       " 8,\n",
       " 17,\n",
       " 21,\n",
       " 29,\n",
       " 2,\n",
       " 22,\n",
       " 84,\n",
       " 80,\n",
       " 71,\n",
       " 60,\n",
       " 21,\n",
       " 69,\n",
       " 11,\n",
       " 5,\n",
       " 8,\n",
       " 21,\n",
       " 25,\n",
       " 22,\n",
       " 88,\n",
       " 3,\n",
       " 0,\n",
       " 10,\n",
       " 25,\n",
       " 0,\n",
       " 10,\n",
       " 5,\n",
       " 8,\n",
       " 88,\n",
       " 2,\n",
       " 0,\n",
       " 27,\n",
       " 25,\n",
       " 21,\n",
       " 10,\n",
       " 31,\n",
       " 6,\n",
       " 25,\n",
       " 2,\n",
       " 16,\n",
       " 21,\n",
       " 82,\n",
       " 69,\n",
       " 35,\n",
       " 63,\n",
       " 11,\n",
       " 88,\n",
       " 4,\n",
       " 13,\n",
       " 29,\n",
       " 80,\n",
       " 22,\n",
       " 13,\n",
       " 29,\n",
       " 22,\n",
       " 88,\n",
       " 31,\n",
       " 3,\n",
       " 88,\n",
       " 3,\n",
       " 0,\n",
       " 10,\n",
       " 25,\n",
       " 0,\n",
       " 11,\n",
       " 80,\n",
       " 10,\n",
       " 30,\n",
       " 80,\n",
       " 23,\n",
       " 29,\n",
       " 19,\n",
       " 12,\n",
       " 8,\n",
       " 2,\n",
       " 10,\n",
       " 27,\n",
       " 17,\n",
       " 9,\n",
       " 11,\n",
       " 45,\n",
       " 95,\n",
       " 88,\n",
       " 57,\n",
       " 69,\n",
       " 16,\n",
       " 17,\n",
       " 19,\n",
       " 29,\n",
       " 80,\n",
       " 23,\n",
       " 29,\n",
       " 19,\n",
       " 0,\n",
       " 22,\n",
       " 4,\n",
       " 9,\n",
       " 1,\n",
       " 80,\n",
       " 3,\n",
       " 23,\n",
       " 5,\n",
       " 11,\n",
       " 28,\n",
       " 92,\n",
       " 69,\n",
       " 9,\n",
       " 5,\n",
       " 12,\n",
       " 12,\n",
       " 21,\n",
       " 69,\n",
       " 13,\n",
       " 30,\n",
       " 0,\n",
       " 0,\n",
       " 0,\n",
       " 0,\n",
       " 27,\n",
       " 4,\n",
       " 0,\n",
       " 28,\n",
       " 28,\n",
       " 28,\n",
       " 84,\n",
       " 80,\n",
       " 4,\n",
       " 22,\n",
       " 80,\n",
       " 0,\n",
       " 20,\n",
       " 21,\n",
       " 2,\n",
       " 25,\n",
       " 30,\n",
       " 17,\n",
       " 88,\n",
       " 21,\n",
       " 29,\n",
       " 8,\n",
       " 2,\n",
       " 0,\n",
       " 11,\n",
       " 3,\n",
       " 12,\n",
       " 23,\n",
       " 30,\n",
       " 69,\n",
       " 30,\n",
       " 31,\n",
       " 23,\n",
       " 88,\n",
       " 4,\n",
       " 13,\n",
       " 29,\n",
       " 80,\n",
       " 0,\n",
       " 22,\n",
       " 4,\n",
       " 12,\n",
       " 10,\n",
       " 21,\n",
       " 69,\n",
       " 11,\n",
       " 5,\n",
       " 8,\n",
       " 88,\n",
       " 31,\n",
       " 3,\n",
       " 88,\n",
       " 4,\n",
       " 13,\n",
       " 17,\n",
       " 3,\n",
       " 69,\n",
       " 11,\n",
       " 21,\n",
       " 23,\n",
       " 17,\n",
       " 21,\n",
       " 22,\n",
       " 88,\n",
       " 65,\n",
       " 69,\n",
       " 83,\n",
       " 80,\n",
       " 84,\n",
       " 87,\n",
       " 68,\n",
       " 69,\n",
       " 83,\n",
       " 80,\n",
       " 84,\n",
       " 87,\n",
       " 73,\n",
       " 69,\n",
       " 83,\n",
       " 80,\n",
       " 84,\n",
       " 87,\n",
       " 65,\n",
       " 83,\n",
       " 88,\n",
       " 91,\n",
       " 69,\n",
       " 29,\n",
       " 4,\n",
       " 6,\n",
       " 86,\n",
       " 92,\n",
       " 69,\n",
       " 15,\n",
       " 24,\n",
       " 12,\n",
       " 27,\n",
       " 24,\n",
       " 69,\n",
       " 28,\n",
       " 21,\n",
       " 21,\n",
       " 29,\n",
       " 30,\n",
       " 1,\n",
       " 11,\n",
       " 80,\n",
       " 10,\n",
       " 22,\n",
       " 80,\n",
       " 17,\n",
       " 16,\n",
       " 21,\n",
       " 69,\n",
       " 9,\n",
       " 5,\n",
       " 4,\n",
       " 28,\n",
       " 2,\n",
       " 4,\n",
       " 12,\n",
       " 5,\n",
       " 23,\n",
       " 29,\n",
       " 80,\n",
       " 10,\n",
       " 30,\n",
       " 80,\n",
       " 17,\n",
       " 16,\n",
       " 21,\n",
       " 69,\n",
       " 27,\n",
       " 25,\n",
       " 23,\n",
       " 27,\n",
       " 28,\n",
       " 0,\n",
       " 84,\n",
       " 80,\n",
       " 22,\n",
       " 23,\n",
       " 80,\n",
       " 17,\n",
       " 16,\n",
       " 17,\n",
       " 17,\n",
       " 88,\n",
       " 25,\n",
       " 3,\n",
       " 88,\n",
       " 4,\n",
       " 13,\n",
       " 29,\n",
       " 80,\n",
       " 17,\n",
       " 10,\n",
       " 5,\n",
       " 0,\n",
       " 88,\n",
       " 3,\n",
       " 16,\n",
       " 21,\n",
       " 80,\n",
       " 10,\n",
       " 30,\n",
       " 80,\n",
       " 17,\n",
       " 16,\n",
       " 25,\n",
       " 22,\n",
       " 88,\n",
       " 3,\n",
       " 0,\n",
       " 10,\n",
       " 25,\n",
       " 0,\n",
       " 11,\n",
       " 80,\n",
       " 12,\n",
       " 11,\n",
       " 80,\n",
       " 10,\n",
       " 26,\n",
       " 4,\n",
       " 4,\n",
       " 17,\n",
       " 30,\n",
       " 0,\n",
       " 28,\n",
       " 92,\n",
       " 69,\n",
       " 30,\n",
       " 2,\n",
       " 10,\n",
       " 21,\n",
       " 80,\n",
       " 12,\n",
       " 12,\n",
       " 80,\n",
       " 4,\n",
       " 12,\n",
       " 80,\n",
       " 10,\n",
       " 22,\n",
       " 19,\n",
       " 0,\n",
       " 88,\n",
       " 4,\n",
       " 13,\n",
       " 29,\n",
       " 80,\n",
       " 20,\n",
       " 13,\n",
       " 17,\n",
       " 1,\n",
       " 10,\n",
       " 17,\n",
       " 17,\n",
       " 13,\n",
       " 2,\n",
       " 0,\n",
       " 88,\n",
       " 31,\n",
       " 3,\n",
       " 88,\n",
       " 4,\n",
       " 13,\n",
       " 29,\n",
       " 80,\n",
       " 6,\n",
       " 17,\n",
       " 2,\n",
       " 6,\n",
       " 20,\n",
       " 21,\n",
       " 69,\n",
       " 30,\n",
       " 31,\n",
       " 9,\n",
       " 20,\n",
       " 31,\n",
       " 18,\n",
       " 11,\n",
       " 94,\n",
       " 69,\n",
       " 54,\n",
       " 17,\n",
       " 8,\n",
       " 29,\n",
       " 28,\n",
       " 28,\n",
       " 84,\n",
       " 80,\n",
       " 44,\n",
       " 88,\n",
       " 24,\n",
       " 4,\n",
       " 14,\n",
       " 21,\n",
       " 69,\n",
       " 30,\n",
       " 31,\n",
       " 16,\n",
       " 22,\n",
       " 20,\n",
       " 69,\n",
       " 12,\n",
       " 24,\n",
       " 4,\n",
       " 12,\n",
       " 80,\n",
       " 17,\n",
       " 16,\n",
       " 21,\n",
       " 69,\n",
       " 11,\n",
       " 5,\n",
       " 8,\n",
       " 88,\n",
       " 31,\n",
       " 3,\n",
       " 88,\n",
       " 4,\n",
       " 13,\n",
       " 17,\n",
       " 3,\n",
       " 69,\n",
       " 11,\n",
       " 21,\n",
       " 23,\n",
       " 17,\n",
       " 21,\n",
       " 22,\n",
       " 88,\n",
       " 25,\n",
       " 22,\n",
       " 88,\n",
       " 17,\n",
       " 69,\n",
       " 11,\n",
       " 25,\n",
       " 29,\n",
       " 12,\n",
       " 24,\n",
       " 69,\n",
       " 8,\n",
       " 17,\n",
       " 23,\n",
       " 12,\n",
       " 80,\n",
       " 10,\n",
       " 30,\n",
       " 80,\n",
       " 17,\n",
       " 16,\n",
       " 21,\n",
       " 69,\n",
       " 11,\n",
       " 1,\n",
       " 16,\n",
       " 25,\n",
       " 2,\n",
       " 0,\n",
       " 88,\n",
       " 31,\n",
       " 3,\n",
       " 88,\n",
       " 4,\n",
       " 13,\n",
       " 29,\n",
       " 80,\n",
       " 21,\n",
       " 29,\n",
       " 2,\n",
       " 12,\n",
       " 21,\n",
       " 21,\n",
       " 17,\n",
       " 29,\n",
       " 2,\n",
       " 69,\n",
       " 23,\n",
       " 22,\n",
       " 69,\n",
       " 12,\n",
       " 24,\n",
       " 0,\n",
       " 88,\n",
       " 19,\n",
       " 12,\n",
       " 10,\n",
       " 19,\n",
       " 9,\n",
       " 29,\n",
       " 80,\n",
       " 18,\n",
       " 16,\n",
       " 31,\n",
       " 22,\n",
       " 29,\n",
       " 80,\n",
       " 1,\n",
       " 17,\n",
       " 17,\n",
       " 8,\n",
       " 29,\n",
       " 4,\n",
       " 0,\n",
       " 10,\n",
       " 80,\n",
       " 12,\n",
       " 11,\n",
       " 80,\n",
       " 84,\n",
       " 67,\n",
       " 80,\n",
       " 10,\n",
       " 10,\n",
       " 80,\n",
       " 7,\n",
       " 1,\n",
       " 80,\n",
       " 21,\n",
       " 13,\n",
       " 4,\n",
       " 17,\n",
       " 17,\n",
       " 30,\n",
       " 2,\n",
       " 88,\n",
       " 4,\n",
       " 13,\n",
       " 29,\n",
       " 80,\n",
       " 22,\n",
       " 13,\n",
       " 29,\n",
       " 69,\n",
       " 23,\n",
       " 22,\n",
       " 69,\n",
       " 12,\n",
       " 24,\n",
       " 12,\n",
       " 11,\n",
       " 80,\n",
       " 22,\n",
       " 29,\n",
       " 2,\n",
       " 12,\n",
       " 29,\n",
       " 3,\n",
       " 69,\n",
       " 29,\n",
       " 1,\n",
       " 16,\n",
       " 25,\n",
       " 28,\n",
       " 69,\n",
       " 12,\n",
       " 31,\n",
       " 69,\n",
       " 11,\n",
       " 92,\n",
       " 69,\n",
       " 17,\n",
       " 4,\n",
       " 69,\n",
       " 16,\n",
       " 17,\n",
       " 22,\n",
       " 88,\n",
       " 4,\n",
       " 13,\n",
       " 29,\n",
       " 80,\n",
       " 23,\n",
       " 25,\n",
       " 4,\n",
       " 12,\n",
       " 23,\n",
       " 80,\n",
       " 22,\n",
       " 9,\n",
       " 2,\n",
       " 17,\n",
       " 80,\n",
       " 70,\n",
       " 76,\n",
       " 88,\n",
       " 29,\n",
       " 16,\n",
       " 20,\n",
       " 4,\n",
       " 12,\n",
       " 8,\n",
       " 28,\n",
       " 12,\n",
       " 29,\n",
       " 20,\n",
       " 69,\n",
       " 26,\n",
       " 9,\n",
       " 69,\n",
       " 11,\n",
       " 80,\n",
       " 17,\n",
       " 23,\n",
       " 80,\n",
       " 84,\n",
       " 88,\n",
       " 31,\n",
       " 3,\n",
       " 88,\n",
       " 4,\n",
       " 13,\n",
       " 29,\n",
       " 80,\n",
       " 21,\n",
       " 29,\n",
       " 2,\n",
       " 12,\n",
       " 21,\n",
       " 21,\n",
       " 17,\n",
       " 29,\n",
       " 2,\n",
       " 69,\n",
       " 12,\n",
       " 31,\n",
       " 69,\n",
       " 12,\n",
       " 24,\n",
       " 0,\n",
       " 88,\n",
       " 20,\n",
       " 12,\n",
       " 25,\n",
       " 29,\n",
       " 0,\n",
       " 12,\n",
       " 21,\n",
       " 23,\n",
       " 86,\n",
       " 80,\n",
       " 44,\n",
       " 88,\n",
       " 7,\n",
       " 12,\n",
       " 20,\n",
       " 28,\n",
       " 69,\n",
       " 11,\n",
       " 31,\n",
       " 10,\n",
       " 22,\n",
       " 80,\n",
       " 22,\n",
       " 16,\n",
       " 31,\n",
       " 18,\n",
       " 88,\n",
       " 4,\n",
       " 13,\n",
       " 25,\n",
       " 4,\n",
       " 69,\n",
       " 12,\n",
       " 24,\n",
       " 0,\n",
       " 88,\n",
       " 3,\n",
       " 16,\n",
       " 21,\n",
       " 80,\n",
       " 10,\n",
       " 30,\n",
       " 80,\n",
       " 17,\n",
       " 16,\n",
       " 25,\n",
       " 22,\n",
       " 88,\n",
       " 3,\n",
       " 0,\n",
       " 10,\n",
       " 25,\n",
       " 0,\n",
       " 11,\n",
       " 80,\n",
       " 17,\n",
       " 23,\n",
       " 80,\n",
       " 7,\n",
       " 29,\n",
       " 80,\n",
       " 4,\n",
       " 8,\n",
       " 0,\n",
       " 23,\n",
       " 23,\n",
       " 8,\n",
       " 12,\n",
       " 21,\n",
       " 17,\n",
       " 17,\n",
       " 29,\n",
       " 28,\n",
       " 28,\n",
       " 88,\n",
       " 65,\n",
       " 75,\n",
       " 78,\n",
       " 68,\n",
       " 81,\n",
       " 65,\n",
       " 67,\n",
       " 81,\n",
       " 72,\n",
       " 70,\n",
       " 83,\n",
       " 64,\n",
       " 68,\n",
       " 87,\n",
       " 74,\n",
       " 70,\n",
       " 81,\n",
       " 75,\n",
       " 70,\n",
       " 81,\n",
       " 67,\n",
       " 80,\n",
       " 4,\n",
       " 22,\n",
       " 20,\n",
       " 69,\n",
       " 30,\n",
       " 2,\n",
       " 10,\n",
       " 21,\n",
       " 80,\n",
       " 8,\n",
       " 13,\n",
       " 28,\n",
       " 17,\n",
       " 17,\n",
       " 0,\n",
       " 9,\n",
       " 1,\n",
       " 25,\n",
       " 11,\n",
       " 31,\n",
       " 80,\n",
       " 17,\n",
       " 16,\n",
       " 25,\n",
       " 22,\n",
       " 88,\n",
       " 30,\n",
       " 16,\n",
       " 21,\n",
       " 18,\n",
       " 0,\n",
       " 10,\n",
       " 80,\n",
       " 7,\n",
       " 1,\n",
       " 80,\n",
       " 22,\n",
       " 17,\n",
       " 8,\n",
       " 73,\n",
       " 88,\n",
       " 17,\n",
       " 11,\n",
       " 28,\n",
       " 80,\n",
       " 17,\n",
       " 16,\n",
       " 21,\n",
       " 11,\n",
       " 88,\n",
       " 4,\n",
       " 4,\n",
       " 19,\n",
       " 25,\n",
       " 11,\n",
       " 31,\n",
       " 80,\n",
       " 17,\n",
       " 16,\n",
       " 21,\n",
       " 69,\n",
       " 11,\n",
       " 1,\n",
       " 16,\n",
       " 25,\n",
       " 2,\n",
       " 0,\n",
       " 88,\n",
       " 2,\n",
       " 10,\n",
       " 23,\n",
       " 4,\n",
       " 73,\n",
       " 88,\n",
       " 4,\n",
       " 13,\n",
       " 29,\n",
       " 80,\n",
       " 11,\n",
       " 13,\n",
       " 29,\n",
       " 7,\n",
       " 29,\n",
       " 2,\n",
       " 69,\n",
       " 75,\n",
       " 94,\n",
       " 84,\n",
       " 76,\n",
       " 65,\n",
       " 80,\n",
       " 65,\n",
       " 66,\n",
       " 83,\n",
       " 77,\n",
       " 67,\n",
       " 80,\n",
       " 64,\n",
       " 73,\n",
       " 82,\n",
       " 65,\n",
       " 67,\n",
       " 87,\n",
       " 75,\n",
       " 72,\n",
       " 69,\n",
       " 17,\n",
       " 3,\n",
       " 69,\n",
       " 17,\n",
       " 30,\n",
       " 1,\n",
       " 29,\n",
       " 21,\n",
       " 1,\n",
       " 88,\n",
       " 0,\n",
       " 23,\n",
       " 23,\n",
       " 20,\n",
       " 16,\n",
       " 27,\n",
       " 21,\n",
       " 1,\n",
       " 84,\n",
       " 80,\n",
       " 18,\n",
       " 16,\n",
       " 25,\n",
       " 6,\n",
       " 16,\n",
       " 80,\n",
       " 0,\n",
       " 0,\n",
       " 0,\n",
       " 23,\n",
       " 29,\n",
       " 3,\n",
       " 22,\n",
       " 29,\n",
       " 3,\n",
       " 69,\n",
       " 12,\n",
       " 24,\n",
       " 0,\n",
       " 88,\n",
       " 0,\n",
       " 0,\n",
       " 10,\n",
       " 25,\n",
       " 8,\n",
       " 29,\n",
       " 4,\n",
       " 0,\n",
       " 10,\n",
       " 80,\n",
       " 10,\n",
       " 30,\n",
       " 80,\n",
       " 4,\n",
       " 88,\n",
       " 19,\n",
       " 12,\n",
       " 10,\n",
       " 19,\n",
       " 9,\n",
       " 29,\n",
       " 80,\n",
       " 18,\n",
       " 16,\n",
       " 31,\n",
       " 22,\n",
       " 29,\n",
       " 80,\n",
       " 1,\n",
       " 17,\n",
       " 17,\n",
       " 8,\n",
       " 29,\n",
       " 4,\n",
       " 0,\n",
       " 10,\n",
       " 80,\n",
       " 12,\n",
       " 11,\n",
       " 80,\n",
       " 84,\n",
       " 86,\n",
       " 80,\n",
       " 35,\n",
       " 23,\n",
       " 28,\n",
       " 9,\n",
       " 23,\n",
       " 7,\n",
       " 12,\n",
       " 22,\n",
       " 23,\n",
       " 69,\n",
       " 25,\n",
       " 23,\n",
       " 4,\n",
       " 17,\n",
       " 30,\n",
       " 69,\n",
       " 12,\n",
       " 24,\n",
       " 0,\n",
       " 88,\n",
       " 3,\n",
       " 4,\n",
       " 21,\n",
       " 21,\n",
       " 69,\n",
       " 11,\n",
       " 4,\n",
       " 0,\n",
       " ...]"
      ]
     },
     "execution_count": 8,
     "metadata": {},
     "output_type": "execute_result"
    }
   ],
   "source": [
    "data = open('p059_cipher.txt', 'r').read().split(',')\n",
    "\n",
    "for i in range(len(data)):\n",
    "    data[i] = int(data[i])\n",
    "    \n",
    "data"
   ]
  },
  {
   "cell_type": "markdown",
   "metadata": {},
   "source": [
    "> ASCII code: <br>\n",
    "https://www.rapidtables.com/code/text/ascii-table.html <br>\n",
    "hand type <br>\n",
    "2 places are different: \n",
    "1. ' = ` (the 39th) (the actual ` is 96th)\n",
    "2. \\ = / (the 92th) (the actual / is 47th) <br><br>\n",
    "and for the sake of differing, % is used to discribe the action, <br>\n",
    "as % was not within ASCII"
   ]
  },
  {
   "cell_type": "code",
   "execution_count": 9,
   "metadata": {},
   "outputs": [],
   "source": [
    "ASCII = np.array(['NUL','SOH','STX','ETX','EOT','ENQ','ACK'\\\n",
    "                 ,'BEL','BS','HT','LF','VT','FF','CR'\\\n",
    "                 ,'SO','SI','DLE','DC1','DC2','DC3','DC4'\\\n",
    "                 ,'NAK','SYN','ETB','CAN','EM','SUB','ESC'\\\n",
    "                 ,'FS','GS','RS','US',' ','!','\"','#'\\\n",
    "                 ,'$','%','&','`','(',')','*'\\\n",
    "                 ,'+',',','-','.','/','0','1'\\\n",
    "                 ,'2','3','4','5','6','7','8'\\\n",
    "                 ,'9',':',';','<','=','>','?'\\\n",
    "                 ,'@','A','B','C','D','E','F'\\\n",
    "                 ,'G','H','I','J','K','L','M'\\\n",
    "                 ,'N','O','P','Q','R','S','T'\\\n",
    "                 ,'U','V','W','X','Y','Z','['\\\n",
    "                 ,'/',']','^','_','`','a','b'\\\n",
    "                 ,'c','d','e','f','g','h','i'\\\n",
    "                 ,'j','k','l','m','n','o','p'\\\n",
    "                 ,'q','r','s','t','u','v','w'\\\n",
    "                 ,'x','y','z','{','|','}','~'\\\n",
    "                 ,'DEL' ])"
   ]
  },
  {
   "cell_type": "code",
   "execution_count": 10,
   "metadata": {},
   "outputs": [
    {
     "name": "stdout",
     "output_type": "stream",
     "text": [
      "0 : NUL\n",
      "1 : SOH\n",
      "2 : STX\n",
      "3 : ETX\n",
      "4 : EOT\n",
      "5 : ENQ\n",
      "6 : ACK\n",
      "7 : BEL\n",
      "8 : BS\n",
      "9 : HT\n",
      "10 : LF\n",
      "11 : VT\n",
      "12 : FF\n",
      "13 : CR\n",
      "14 : SO\n",
      "15 : SI\n",
      "16 : DLE\n",
      "17 : DC1\n",
      "18 : DC2\n",
      "19 : DC3\n",
      "20 : DC4\n",
      "21 : NAK\n",
      "22 : SYN\n",
      "23 : ETB\n",
      "24 : CAN\n",
      "25 : EM\n",
      "26 : SUB\n",
      "27 : ESC\n",
      "28 : FS\n",
      "29 : GS\n",
      "30 : RS\n",
      "31 : US\n",
      "32 :  \n",
      "33 : !\n",
      "34 : \"\n",
      "35 : #\n",
      "36 : $\n",
      "37 : %\n",
      "38 : &\n",
      "39 : `\n",
      "40 : (\n",
      "41 : )\n",
      "42 : *\n",
      "43 : +\n",
      "44 : ,\n",
      "45 : -\n",
      "46 : .\n",
      "47 : /\n",
      "48 : 0\n",
      "49 : 1\n",
      "50 : 2\n",
      "51 : 3\n",
      "52 : 4\n",
      "53 : 5\n",
      "54 : 6\n",
      "55 : 7\n",
      "56 : 8\n",
      "57 : 9\n",
      "58 : :\n",
      "59 : ;\n",
      "60 : <\n",
      "61 : =\n",
      "62 : >\n",
      "63 : ?\n",
      "64 : @\n",
      "65 : A\n",
      "66 : B\n",
      "67 : C\n",
      "68 : D\n",
      "69 : E\n",
      "70 : F\n",
      "71 : G\n",
      "72 : H\n",
      "73 : I\n",
      "74 : J\n",
      "75 : K\n",
      "76 : L\n",
      "77 : M\n",
      "78 : N\n",
      "79 : O\n",
      "80 : P\n",
      "81 : Q\n",
      "82 : R\n",
      "83 : S\n",
      "84 : T\n",
      "85 : U\n",
      "86 : V\n",
      "87 : W\n",
      "88 : X\n",
      "89 : Y\n",
      "90 : Z\n",
      "91 : [\n",
      "92 : /\n",
      "93 : ]\n",
      "94 : ^\n",
      "95 : _\n",
      "96 : `\n",
      "97 : a\n",
      "98 : b\n",
      "99 : c\n",
      "100 : d\n",
      "101 : e\n",
      "102 : f\n",
      "103 : g\n",
      "104 : h\n",
      "105 : i\n",
      "106 : j\n",
      "107 : k\n",
      "108 : l\n",
      "109 : m\n",
      "110 : n\n",
      "111 : o\n",
      "112 : p\n",
      "113 : q\n",
      "114 : r\n",
      "115 : s\n",
      "116 : t\n",
      "117 : u\n",
      "118 : v\n",
      "119 : w\n",
      "120 : x\n",
      "121 : y\n",
      "122 : z\n",
      "123 : {\n",
      "124 : |\n",
      "125 : }\n",
      "126 : ~\n",
      "127 : DEL\n"
     ]
    }
   ],
   "source": [
    "# check ASCII\n",
    "for i in range(len(ASCII)):\n",
    "    print(i,':',ASCII[i])"
   ]
  },
  {
   "cell_type": "code",
   "execution_count": 12,
   "metadata": {},
   "outputs": [
    {
     "name": "stdout",
     "output_type": "stream",
     "text": [
      "$SYNPNULNULEOTETBEMDC3DC1XEOTEOTDC3NAKVTXSYNETBETBGSEFFCANNULXEMVTFFSTXLFFSENQACKFFEMLFSYNPLFRSPLFSYNNAKEETBSYNE=ENQHTGSSTXBVTPBSETBETXDC1XDC3NULDC4NAKBELLFDC1DC1GSDC4EBSDC1NAKGSSTXSYNTPG<NAKEVTENQBSNAKEMSYNXETXNULLFEMNULLFENQBSXSTXNULESCEMNAKLFUSACKEMSTXDLENAKRE#?VTXEOTCRGSPSYNCRGSSYNXUSETXXETXNULLFEMNULVTPLFRSPETBGSDC3FFBSSTXLFESCDC1HTVT-_X9EDLEDC1DC3GSPETBGSDC3NULSYNEOTHTSOHPETXETBENQVTFS/EHTENQFFFFNAKECRRSNULNULNULNULESCEOTNULFSFSFSTPEOTSYNPNULDC4NAKSTXEMRSDC1XNAKGSBSSTXNULVTETXFFETBRSERSUSETBXEOTCRGSPNULSYNEOTFFLFNAKEVTENQBSXUSETXXEOTCRDC1ETXEVTNAKETBDC1NAKSYNXAESPTWDESPTWIESPTWASX[EGSEOTACKV/ESICANFFESCCANEFSNAKNAKGSRSSOHVTPLFSYNPDC1DLENAKEHTENQEOTFSSTXEOTFFENQETBGSPLFRSPDC1DLENAKEESCEMETBESCFSNULTPSYNETBPDC1DLEDC1DC1XEMETXXEOTCRGSPDC1LFENQNULXETXDLENAKPLFRSPDC1DLEEMSYNXETXNULLFEMNULVTPFFVTPLFSUBEOTEOTDC1RSNULFS/ERSSTXLFNAKPFFFFPEOTFFPLFSYNDC3NULXEOTCRGSPDC4CRDC1SOHLFDC1DC1CRSTXNULXUSETXXEOTCRGSPACKDC1STXACKDC4NAKERSUSHTDC4USDC2VT^E6DC1BSGSFSFSTP,XCANEOTSONAKERSUSDLESYNDC4EFFCANEOTFFPDC1DLENAKEVTENQBSXUSETXXEOTCRDC1ETXEVTNAKETBDC1NAKSYNXEMSYNXDC1EVTEMGSFFCANEBSDC1ETBFFPLFRSPDC1DLENAKEVTSOHDLEEMSTXNULXUSETXXEOTCRGSPNAKGSSTXFFNAKNAKDC1GSSTXEETBSYNEFFCANNULXDC3FFLFDC3HTGSPDC2DLEUSSYNGSPSOHDC1DC1BSGSEOTNULLFPFFVTPTCPLFLFPBELSOHPNAKCREOTDC1DC1RSSTXXEOTCRGSPSYNCRGSEETBSYNEFFCANFFVTPSYNGSSTXFFGSETXEGSSOHDLEEMFSEFFUSEVT/EDC1EOTEDLEDC1SYNXEOTCRGSPETBEMEOTFFETBPSYNHTSTXDC1PFLXGSDLEDC4EOTFFBSFSFFGSDC4ESUBHTEVTPDC1ETBPTXUSETXXEOTCRGSPNAKGSSTXFFNAKNAKDC1GSSTXEFFUSEFFCANNULXDC4FFEMGSNULFFNAKETBVP,XBELFFDC4FSEVTUSLFSYNPSYNDLEUSDC2XEOTCREMEOTEFFCANNULXETXDLENAKPLFRSPDC1DLEEMSYNXETXNULLFEMNULVTPDC1ETBPBELGSPEOTBSNULETBETBBSFFNAKDC1DC1GSFSFSXAKNDQACQHFS@DWJFQKFQCPEOTSYNDC4ERSSTXLFNAKPBSCRFSDC1DC1NULHTSOHEMVTUSPDC1DLEEMSYNXRSDLENAKDC2NULLFPBELSOHPSYNDC1BSIXDC1VTFSPDC1DLENAKVTXEOTEOTDC3EMVTUSPDC1DLENAKEVTSOHDLEEMSTXNULXSTXLFETBEOTIXEOTCRGSPVTCRGSBELGSSTXEK^TLAPABSMCP@IRACWKHEDC1ETXEDC1RSSOHGSNAKSOHXNULETBETBDC4DLEESCNAKSOHTPDC2DLEEMACKDLEPNULNULNULETBGSETXSYNGSETXEFFCANNULXNULNULLFEMBSGSEOTNULLFPLFRSPEOTXDC3FFLFDC3HTGSPDC2DLEUSSYNGSPSOHDC1DC1BSGSEOTNULLFPFFVTPTVP#ETBFSHTETBBELFFSYNETBEEMETBEOTDC1RSEFFCANNULXETXEOTNAKNAKEVTEOTNULBSETXESUBHTESICANFFESCCANE1PCREMDC4EEMSTXETBDC1ACKNULFSPEOTFFPDC1DLEEMSYNXETXDLENAK/E1PCREMACKNULXDC4FFVTDC3LFSONAKETBGSDC4EFFCANEOTFFPDC1DLENAKEVTENQBSXUSETXXEOTCRGSPSYNGSSTXFFGSETXEIPNXAJIFESPTWHTX[EI_WMFESPTWFWMPNXNAKDC1ESC^EEMFSSYNETBPSOHGSNULNULSYNDC4SYNXUSVTXEOTCRGSPDC4CRDC1SOHLFDC1DC1CRSTXNULXUSETXXEOTCRGSPACKDC1STXACKDC4NAKKX>EOTNAKNAKHTSOH/EFFCANNULXETXDLENAKPLFRSPDC1DLEEMSYNXGSDLEDC4EOTFFBSFSFFGSDC4ESUBHTEA@EUSEMDC3GSETXEFFCANNULXDC2FFHTENQEOTFSSTXEOTFFNAKEPSYNLFCRSTXDC1DLEPNAKETBBELNULLFYEETBSYNEFFCANNULXDC3FFLFDC3DLENAKSYNNULLFNAKVTESCNAKEETBSYNEFFCANNULXNULNULLFEMBSGSEOTNULLFPLFRSPEOTXDC3FFLFDC3HTGSPDC2DLEUSSYNGSPSOHDC1DC1BSGSEOTNULLFPFFVTPTVP$SYNDC4ESUBHTEVTEMBSDC1FSEOTLFPETBGSDC1SYNETBRSFFSYNETBE1PCREMACKNULXFSFFDC3NAKDC2DC1ETXNULXDC2NULGSRSEEMDC2HTGSPDC1ETBPSOHGSEOTNULLFGSFFSYNNAKEFFCANNULXETXDLENAKETXEETBSYNEFFCANNULXETXDLESUBETXNULHTENQNULSYNEOTEVTNAKETBDC1NAKSYNXEMVTXBELCRDC1DC3CRXEOTCRGSPNULNULNULLFSYNNAKVTFFETXEEMSTXNULXNAKDC3GSRSESYNENQBSSUBNAKETBVT^\n"
     ]
    }
   ],
   "source": [
    "# trials (just playing)\n",
    "ans = ''\n",
    "for i in range(len(encrypted)):\n",
    "    ans_i = ASCII[ encrypted[i] ]\n",
    "    ans += ans_i\n",
    "    \n",
    "print(ans)"
   ]
  },
  {
   "cell_type": "markdown",
   "metadata": {},
   "source": [
    "> about the XOR operator, i guess this has to be worked under base2 <br>"
   ]
  },
  {
   "cell_type": "code",
   "execution_count": 13,
   "metadata": {},
   "outputs": [],
   "source": [
    "# define function T7\n",
    "\n",
    "def base10to2(n):\n",
    "    remain = n\n",
    "    tobase = 2   \n",
    "    trans = ''\n",
    "    from numpy import log as ln\n",
    "    \n",
    "    # case of 0\n",
    "    if n == 0: \n",
    "        trans = '0'\n",
    "    \n",
    "    # case of 2^n\n",
    "    elif ( ln(n)/ln(tobase) )%1 == 0:\n",
    "        trans = '1' + int( ln(n)/ln(tobase) ) * '0'\n",
    "\n",
    "    elif ( ln(n)/ln(tobase) )%1 != 0: \n",
    "        while remain > 0:\n",
    "               \n",
    "            if remain%tobase == 0:\n",
    "                remain /= tobase\n",
    "                trans = '0' + trans # add to the left\n",
    "        \n",
    "            else: \n",
    "                remain -= 1\n",
    "                remain /= tobase\n",
    "                trans = '1' + trans # add to the left \n",
    "    \n",
    "    # this time the number of digits is 2^8 = 128, so 8 is the full length            \n",
    "    if len(trans) < 8: \n",
    "        trans = (8 - len(trans))* '0' + trans\n",
    "\n",
    "    return trans"
   ]
  },
  {
   "cell_type": "code",
   "execution_count": 14,
   "metadata": {},
   "outputs": [
    {
     "data": {
      "text/plain": [
       "array(['00100100', '00010110', '01010000', ..., '00010111', '00001011',\n",
       "       '01011110'], dtype='<U32')"
      ]
     },
     "execution_count": 14,
     "metadata": {},
     "output_type": "execute_result"
    }
   ],
   "source": [
    "encrypted_base2 = np.array([])\n",
    "for i in range(len(encrypted)):\n",
    "    e2i = base10to2(encrypted[i])\n",
    "    encrypted_base2 = np.append(encrypted_base2,e2i)\n",
    "\n",
    "encrypted_base2"
   ]
  },
  {
   "cell_type": "code",
   "execution_count": 15,
   "metadata": {},
   "outputs": [
    {
     "data": {
      "text/plain": [
       "'00000000'"
      ]
     },
     "execution_count": 15,
     "metadata": {},
     "output_type": "execute_result"
    }
   ],
   "source": [
    "base10to2(0)"
   ]
  },
  {
   "cell_type": "markdown",
   "metadata": {},
   "source": [
    "> XOR is, well i dunno <br>\n",
    "but i dun care <br>\n",
    "just rmb: \n",
    "1. 0 XOR 0 = 0\n",
    "2. 0 XOR 1 = 1\n",
    "3. 1 XOR 0 = 1\n",
    "4. 1 XOR 1 = 0 <br>\n",
    "thats the reason i need binary <br><br>\n",
    "and the analytical representation is: \n",
    "$$ a \\text{ XOR } b = a + b - 2 \\times a \\times b $$"
   ]
  },
  {
   "cell_type": "code",
   "execution_count": 16,
   "metadata": {},
   "outputs": [],
   "source": [
    "def XOR(a,b): \n",
    "        \n",
    "    if a == b: \n",
    "        ab = '0'\n",
    "    if a != b: \n",
    "        ab = '1'\n",
    "    \n",
    "    return ab"
   ]
  },
  {
   "cell_type": "code",
   "execution_count": 17,
   "metadata": {},
   "outputs": [
    {
     "name": "stdout",
     "output_type": "stream",
     "text": [
      "01000001 00101010 01101011\n",
      "01000001 00101010 01101011\n"
     ]
    }
   ],
   "source": [
    "# test for the XOR example\n",
    "a = 65\n",
    "b = 42\n",
    "c = 107\n",
    "\n",
    "ab2, bb2, cb2 = base10to2(a) , base10to2(b) , base10to2(c)\n",
    "print(ab2, bb2, cb2 )\n",
    "\n",
    "axb = ''\n",
    "axc = ''\n",
    "bxc = ''\n",
    "for i in range(len(ab2)):\n",
    "    \n",
    "    aa = ab2[i]\n",
    "    bb = bb2[i]\n",
    "    cc = cb2[i]\n",
    "    \n",
    "    axb += XOR(aa,bb)\n",
    "    axc += XOR(aa,cc)\n",
    "    bxc += XOR(bb,cc)\n",
    "    \n",
    "print(bxc,axc,axb)"
   ]
  },
  {
   "cell_type": "code",
   "execution_count": 18,
   "metadata": {},
   "outputs": [
    {
     "data": {
      "text/plain": [
       "'1'"
      ]
     },
     "execution_count": 18,
     "metadata": {},
     "output_type": "execute_result"
    }
   ],
   "source": [
    "XOR(65,42)"
   ]
  },
  {
   "cell_type": "markdown",
   "metadata": {},
   "source": [
    "> and i need a key, <br>\n",
    "but this key, need to be sorted out using brute force <br>\n",
    "we can, as there are only 128 cases. "
   ]
  },
  {
   "cell_type": "raw",
   "metadata": {},
   "source": [
    "# try\n",
    "\n",
    "for key in range(0,128):\n",
    "    key_b2 = base10to2(key)\n",
    "    \n",
    "    decrypted = np.array([])\n",
    "    for i in range(len(encrypted)):\n",
    "        encryptedi_b2 = base10to2(encrypted[i])\n",
    "        \n",
    "        decryptedi_b2 = ''\n",
    "        for j in range(len(encryptedi_b2)):   \n",
    "            a = key_b2[j]\n",
    "            b = encryptedi_b2[j]\n",
    "            \n",
    "            decryptedi_b2 += XOR(a,b)\n",
    "            \n",
    "        # base2 to base10\n",
    "        decryptedi = 0\n",
    "        for k in range(len(decryptedi_b2)):\n",
    "            decryptedi += 2**( len(decryptedi_b2) - (k+1) ) * int(decryptedi_b2[k])\n",
    "            \n",
    "        decrypted = np.append(decrypted,decryptedi)\n",
    "    \n",
    "    ans = ''  \n",
    "    for ii in range(len(decrypted)):\n",
    "        ansi = ASCII[ int(decrypted[ii]) ]\n",
    "        ans += ansi\n",
    "        \n",
    "    print(ans,'\\n')"
   ]
  },
  {
   "cell_type": "markdown",
   "metadata": {},
   "source": [
    "> i just found out, XOR is ^"
   ]
  },
  {
   "cell_type": "code",
   "execution_count": 19,
   "metadata": {},
   "outputs": [
    {
     "data": {
      "text/plain": [
       "107"
      ]
     },
     "execution_count": 19,
     "metadata": {},
     "output_type": "execute_result"
    }
   ],
   "source": [
    "# so\n",
    "65^42"
   ]
  },
  {
   "cell_type": "code",
   "execution_count": 20,
   "metadata": {},
   "outputs": [
    {
     "data": {
      "text/plain": [
       "42"
      ]
     },
     "execution_count": 20,
     "metadata": {},
     "output_type": "execute_result"
    }
   ],
   "source": [
    "65^107"
   ]
  },
  {
   "cell_type": "code",
   "execution_count": 21,
   "metadata": {},
   "outputs": [
    {
     "data": {
      "text/plain": [
       "107"
      ]
     },
     "execution_count": 21,
     "metadata": {},
     "output_type": "execute_result"
    }
   ],
   "source": [
    "42^65"
   ]
  },
  {
   "cell_type": "code",
   "execution_count": 22,
   "metadata": {},
   "outputs": [
    {
     "data": {
      "text/plain": [
       "65"
      ]
     },
     "execution_count": 22,
     "metadata": {},
     "output_type": "execute_result"
    }
   ],
   "source": [
    "107^42"
   ]
  },
  {
   "cell_type": "code",
   "execution_count": 23,
   "metadata": {},
   "outputs": [
    {
     "data": {
      "text/plain": [
       "'01000001'"
      ]
     },
     "execution_count": 23,
     "metadata": {},
     "output_type": "execute_result"
    }
   ],
   "source": [
    "base10to2(65)"
   ]
  },
  {
   "cell_type": "code",
   "execution_count": 24,
   "metadata": {},
   "outputs": [
    {
     "data": {
      "text/plain": [
       "'00101010'"
      ]
     },
     "execution_count": 24,
     "metadata": {},
     "output_type": "execute_result"
    }
   ],
   "source": [
    "base10to2(42)"
   ]
  },
  {
   "cell_type": "markdown",
   "metadata": {},
   "source": [
    "> so the bitwise XOR should be '01101011'"
   ]
  },
  {
   "cell_type": "code",
   "execution_count": 25,
   "metadata": {},
   "outputs": [
    {
     "data": {
      "text/plain": [
       "'01101011'"
      ]
     },
     "execution_count": 25,
     "metadata": {},
     "output_type": "execute_result"
    }
   ],
   "source": [
    "a = base10to2(107)\n",
    "a"
   ]
  },
  {
   "cell_type": "code",
   "execution_count": 26,
   "metadata": {},
   "outputs": [
    {
     "data": {
      "text/plain": [
       "107"
      ]
     },
     "execution_count": 26,
     "metadata": {},
     "output_type": "execute_result"
    }
   ],
   "source": [
    "2**6 + 2**5 + 2**3 + 2+1"
   ]
  },
  {
   "cell_type": "code",
   "execution_count": 27,
   "metadata": {},
   "outputs": [
    {
     "name": "stdout",
     "output_type": "stream",
     "text": [
      "7\n",
      "6\n",
      "5\n",
      "4\n",
      "3\n",
      "2\n",
      "1\n",
      "0\n"
     ]
    }
   ],
   "source": [
    "for i in range(len(a)):\n",
    "    print(len(a)-i-1)"
   ]
  },
  {
   "cell_type": "markdown",
   "metadata": {},
   "source": [
    "> yes, so we need to redo our XOR function (just for fun), we can always use ^"
   ]
  },
  {
   "cell_type": "code",
   "execution_count": 28,
   "metadata": {},
   "outputs": [],
   "source": [
    "def XOR(a,b): \n",
    "    \n",
    "    # we need to convert to base 2\n",
    "    a = base10to2(a)\n",
    "    b = base10to2(b)\n",
    "    \n",
    "    if len(a) == len(b): \n",
    "        \n",
    "        c2 = ''\n",
    "        for i in range(len(a)): \n",
    "            \n",
    "            if a[i] == b[i]: \n",
    "                c2 += '0'\n",
    "                \n",
    "            elif a[i] != b[i]: \n",
    "                c2 += '1'\n",
    "                \n",
    "    else: \n",
    "        print('bruh')\n",
    "        \n",
    "    # return in base 10\n",
    "    c = 0\n",
    "    for i in range(len(c2)):\n",
    "        c += 2**(len(c2)-i-1) * int(c2[i])\n",
    "    \n",
    "    return c"
   ]
  },
  {
   "cell_type": "code",
   "execution_count": 29,
   "metadata": {},
   "outputs": [
    {
     "data": {
      "text/plain": [
       "107"
      ]
     },
     "execution_count": 29,
     "metadata": {},
     "output_type": "execute_result"
    }
   ],
   "source": [
    "XOR(42,65)"
   ]
  },
  {
   "cell_type": "markdown",
   "metadata": {},
   "source": [
    "> yes mate, lets use ^"
   ]
  },
  {
   "cell_type": "code",
   "execution_count": 30,
   "metadata": {},
   "outputs": [
    {
     "name": "stdout",
     "output_type": "stream",
     "text": [
      "36,22,80,0,0,4,23,25,19,17,88,4,4,19,21,11,88,22,23,23,29,69,12,24,0,88,25,11,12,2,10,28,5,6,12,25,10,22,80,10,30,80,10,22,21,69,23,22,69,61,5,9,29,2,66,11,80,8,23,3,17,88,19,0,20,21,7,10,17,17,29,20,69,8,17,21,29,2,22,84,80,71,60,21,69,11,5,8,21,25,22,88,3,0,10,25,0,10,5,8,88,2,0,27,25,21,10,31,6,25,2,16,21,82,69,35,63,11,88,4,13,29,80,22,13,29,22,88,31,3,88,3,0,10,25,0,11,80,10,30,80,23,29,19,12,8,2,10,27,17,9,11,45,95,88,57,69,16,17,19,29,80,23,29,19,0,22,4,9,1,80,3,23,5,11,28,92,69,9,5,12,12,21,69,13,30,0,0,0,0,27,4,0,28,28,28,84,80,4,22,80,0,20,21,2,25,30,17,88,21,29,8,2,0,11,3,12,23,30,69,30,31,23,88,4,13,29,80,0,22,4,12,10,21,69,11,5,8,88,31,3,88,4,13,17,3,69,11,21,23,17,21,22,88,65,69,83,80,84,87,68,69,83,80,84,87,73,69,83,80,84,87,65,83,88,91,69,29,4,6,86,92,69,15,24,12,27,24,69,28,21,21,29,30,1,11,80,10,22,80,17,16,21,69,9,5,4,28,2,4,12,5,23,29,80,10,30,80,17,16,21,69,27,25,23,27,28,0,84,80,22,23,80,17,16,17,17,88,25,3,88,4,13,29,80,17,10,5,0,88,3,16,21,80,10,30,80,17,16,25,22,88,3,0,10,25,0,11,80,12,11,80,10,26,4,4,17,30,0,28,92,69,30,2,10,21,80,12,12,80,4,12,80,10,22,19,0,88,4,13,29,80,20,13,17,1,10,17,17,13,2,0,88,31,3,88,4,13,29,80,6,17,2,6,20,21,69,30,31,9,20,31,18,11,94,69,54,17,8,29,28,28,84,80,44,88,24,4,14,21,69,30,31,16,22,20,69,12,24,4,12,80,17,16,21,69,11,5,8,88,31,3,88,4,13,17,3,69,11,21,23,17,21,22,88,25,22,88,17,69,11,25,29,12,24,69,8,17,23,12,80,10,30,80,17,16,21,69,11,1,16,25,2,0,88,31,3,88,4,13,29,80,21,29,2,12,21,21,17,29,2,69,23,22,69,12,24,0,88,19,12,10,19,9,29,80,18,16,31,22,29,80,1,17,17,8,29,4,0,10,80,12,11,80,84,67,80,10,10,80,7,1,80,21,13,4,17,17,30,2,88,4,13,29,80,22,13,29,69,23,22,69,12,24,12,11,80,22,29,2,12,29,3,69,29,1,16,25,28,69,12,31,69,11,92,69,17,4,69,16,17,22,88,4,13,29,80,23,25,4,12,23,80,22,9,2,17,80,70,76,88,29,16,20,4,12,8,28,12,29,20,69,26,9,69,11,80,17,23,80,84,88,31,3,88,4,13,29,80,21,29,2,12,21,21,17,29,2,69,12,31,69,12,24,0,88,20,12,25,29,0,12,21,23,86,80,44,88,7,12,20,28,69,11,31,10,22,80,22,16,31,18,88,4,13,25,4,69,12,24,0,88,3,16,21,80,10,30,80,17,16,25,22,88,3,0,10,25,0,11,80,17,23,80,7,29,80,4,8,0,23,23,8,12,21,17,17,29,28,28,88,65,75,78,68,81,65,67,81,72,70,83,64,68,87,74,70,81,75,70,81,67,80,4,22,20,69,30,2,10,21,80,8,13,28,17,17,0,9,1,25,11,31,80,17,16,25,22,88,30,16,21,18,0,10,80,7,1,80,22,17,8,73,88,17,11,28,80,17,16,21,11,88,4,4,19,25,11,31,80,17,16,21,69,11,1,16,25,2,0,88,2,10,23,4,73,88,4,13,29,80,11,13,29,7,29,2,69,75,94,84,76,65,80,65,66,83,77,67,80,64,73,82,65,67,87,75,72,69,17,3,69,17,30,1,29,21,1,88,0,23,23,20,16,27,21,1,84,80,18,16,25,6,16,80,0,0,0,23,29,3,22,29,3,69,12,24,0,88,0,0,10,25,8,29,4,0,10,80,10,30,80,4,88,19,12,10,19,9,29,80,18,16,31,22,29,80,1,17,17,8,29,4,0,10,80,12,11,80,84,86,80,35,23,28,9,23,7,12,22,23,69,25,23,4,17,30,69,12,24,0,88,3,4,21,21,69,11,4,0,8,3,69,26,9,69,15,24,12,27,24,69,49,80,13,25,20,69,25,2,23,17,6,0,28,80,4,12,80,17,16,25,22,88,3,16,21,92,69,49,80,13,25,6,0,88,20,12,11,19,10,14,21,23,29,20,69,12,24,4,12,80,17,16,21,69,11,5,8,88,31,3,88,4,13,29,80,22,29,2,12,29,3,69,73,80,78,88,65,74,73,70,69,83,80,84,87,72,84,88,91,69,73,95,87,77,70,69,83,80,84,87,70,87,77,80,78,88,21,17,27,94,69,25,28,22,23,80,1,29,0,0,22,20,22,88,31,11,88,4,13,29,80,20,13,17,1,10,17,17,13,2,0,88,31,3,88,4,13,29,80,6,17,2,6,20,21,75,88,62,4,21,21,9,1,92,69,12,24,0,88,3,16,21,80,10,30,80,17,16,25,22,88,29,16,20,4,12,8,28,12,29,20,69,26,9,69,65,64,69,31,25,19,29,3,69,12,24,0,88,18,12,9,5,4,28,2,4,12,21,69,80,22,10,13,2,17,16,80,21,23,7,0,10,89,69,23,22,69,12,24,0,88,19,12,10,19,16,21,22,0,10,21,11,27,21,69,23,22,69,12,24,0,88,0,0,10,25,8,29,4,0,10,80,10,30,80,4,88,19,12,10,19,9,29,80,18,16,31,22,29,80,1,17,17,8,29,4,0,10,80,12,11,80,84,86,80,36,22,20,69,26,9,69,11,25,8,17,28,4,10,80,23,29,17,22,23,30,12,22,23,69,49,80,13,25,6,0,88,28,12,19,21,18,17,3,0,88,18,0,29,30,69,25,18,9,29,80,17,23,80,1,29,4,0,10,29,12,22,21,69,12,24,0,88,3,16,21,3,69,23,22,69,12,24,0,88,3,16,26,3,0,9,5,0,22,4,69,11,21,23,17,21,22,88,25,11,88,7,13,17,19,13,88,4,13,29,80,0,0,0,10,22,21,11,12,3,69,25,2,0,88,21,19,29,30,69,22,5,8,26,21,23,11,94,"
     ]
    }
   ],
   "source": [
    "for i in encrypted: \n",
    "    print(i , end=',')"
   ]
  },
  {
   "cell_type": "code",
   "execution_count": 31,
   "metadata": {},
   "outputs": [
    {
     "name": "stdout",
     "output_type": "stream",
     "text": [
      "0 : NUL       1 : SOH       2 : STX       3 : ETX       4 : EOT       5 : ENQ       6 : ACK       7 : BEL       8 : BS       9 : HT       10 : LF       11 : VT       12 : FF       13 : CR       14 : SO       15 : SI       16 : DLE       17 : DC1       18 : DC2       19 : DC3       20 : DC4       21 : NAK       22 : SYN       23 : ETB       24 : CAN       25 : EM       26 : SUB       27 : ESC       28 : FS       29 : GS       30 : RS       31 : US       32 :         33 : !       34 : \"       35 : #       36 : $       37 : %       38 : &       39 : `       40 : (       41 : )       42 : *       43 : +       44 : ,       45 : -       46 : .       47 : /       48 : 0       49 : 1       50 : 2       51 : 3       52 : 4       53 : 5       54 : 6       55 : 7       56 : 8       57 : 9       58 : :       59 : ;       60 : <       61 : =       62 : >       63 : ?       64 : @       65 : A       66 : B       67 : C       68 : D       69 : E       70 : F       71 : G       72 : H       73 : I       74 : J       75 : K       76 : L       77 : M       78 : N       79 : O       80 : P       81 : Q       82 : R       83 : S       84 : T       85 : U       86 : V       87 : W       88 : X       89 : Y       90 : Z       91 : [       92 : /       93 : ]       94 : ^       95 : _       96 : `       97 : a       98 : b       99 : c       100 : d       101 : e       102 : f       103 : g       104 : h       105 : i       106 : j       107 : k       108 : l       109 : m       110 : n       111 : o       112 : p       113 : q       114 : r       115 : s       116 : t       117 : u       118 : v       119 : w       120 : x       121 : y       122 : z       123 : {       124 : |       125 : }       126 : ~       127 : DEL       "
     ]
    }
   ],
   "source": [
    "# check ASCII\n",
    "for i in range(len(ASCII)):\n",
    "    print(i,':',ASCII[i], end = '       ' )"
   ]
  },
  {
   "cell_type": "markdown",
   "metadata": {},
   "source": [
    "> so lets tackle the problem, <br>\n",
    "1. **the encryption key consists of three lower case characters** <br>\n",
    "this tells us that the 2nd XOR applier ({1st} XOR {2nd}) will be cycled every 3 times. <br>\n",
    "lets look back the data <br><br>\n",
    "$$ \\text{key} = [ k_0,k_1,k_2 ] $$\n",
    "$$ \\text{encrypted} = [ e_0,e_1,...,e_{n-1},e_n ] $$\n",
    "so , $ \\text{decrypted} = $ <br>\n",
    "$$ [ XOR(e_0,k_0) , XOR(e_1,k_1) , XOR(e_2,k_2) , ... $$\n",
    "$$ XOR(e_{3i},k_{0}) , XOR(e_{3i+1},k_{1}) , XOR(e_{3i+2},k_{2}) , ...] $$ <br>\n",
    "or, \n",
    "$$ \\text{if } i \\text{ mod } 3 == 0 \\text{ , } XOR(e_{i},k_{0}) $$\n",
    "$$ \\text{if } i \\text{ mod } 3 == 1 \\text{ , } XOR(e_{i},k_{1}) $$\n",
    "$$ \\text{if } i \\text{ mod } 3 == 2 \\text{ , } XOR(e_{i},k_{2}) $$ <br><br>\n",
    "for the **three lower case characters**: <br> \n",
    "only 97 to 122 on the ASCII table will be used"
   ]
  },
  {
   "cell_type": "markdown",
   "metadata": {},
   "source": [
    "> i saw 0 in the encrypted data <br>\n",
    "lets tackle from here"
   ]
  },
  {
   "cell_type": "code",
   "execution_count": 32,
   "metadata": {},
   "outputs": [
    {
     "data": {
      "text/plain": [
       "1"
      ]
     },
     "execution_count": 32,
     "metadata": {},
     "output_type": "execute_result"
    }
   ],
   "source": [
    "# sth XOR sth = 0?\n",
    "1^0"
   ]
  },
  {
   "cell_type": "code",
   "execution_count": 33,
   "metadata": {},
   "outputs": [
    {
     "data": {
      "text/plain": [
       "0"
      ]
     },
     "execution_count": 33,
     "metadata": {},
     "output_type": "execute_result"
    }
   ],
   "source": [
    "1^1"
   ]
  },
  {
   "cell_type": "markdown",
   "metadata": {},
   "source": [
    "> so, in order to get: \n",
    "$$ XOR(a,b) = 0 $$\n",
    "$$ a = b $$"
   ]
  },
  {
   "cell_type": "markdown",
   "metadata": {},
   "source": [
    "> look back to the ASCII table, <br>\n",
    "0 to 31 is some nonsense, shouldn't be appeared on a text"
   ]
  },
  {
   "cell_type": "markdown",
   "metadata": {},
   "source": [
    "> the mode and models can be a key to decrypt"
   ]
  },
  {
   "cell_type": "code",
   "execution_count": 34,
   "metadata": {},
   "outputs": [
    {
     "data": {
      "text/plain": [
       "80"
      ]
     },
     "execution_count": 34,
     "metadata": {},
     "output_type": "execute_result"
    }
   ],
   "source": [
    "max(set(list(encrypted)), key=list(encrypted).count)"
   ]
  },
  {
   "cell_type": "code",
   "execution_count": 35,
   "metadata": {},
   "outputs": [],
   "source": [
    "encrypted_3 = encrypted.reshape(int(len(encrypted)/3),3)"
   ]
  },
  {
   "cell_type": "code",
   "execution_count": 36,
   "metadata": {},
   "outputs": [
    {
     "name": "stdout",
     "output_type": "stream",
     "text": [
      "[36 22 80],[0 0 4],[23 25 19],[17 88  4],[ 4 19 21],[11 88 22],[23 23 29],[69 12 24],[ 0 88 25],[11 12  2],[10 28  5],[ 6 12 25],[10 22 80],[10 30 80],[10 22 21],[69 23 22],[69 61  5],[ 9 29  2],[66 11 80],[ 8 23  3],[17 88 19],[ 0 20 21],[ 7 10 17],[17 29 20],[69  8 17],[21 29  2],[22 84 80],[71 60 21],[69 11  5],[ 8 21 25],[22 88  3],[ 0 10 25],[ 0 10  5],[ 8 88  2],[ 0 27 25],[21 10 31],[ 6 25  2],[16 21 82],[69 35 63],[11 88  4],[13 29 80],[22 13 29],[22 88 31],[ 3 88  3],[ 0 10 25],[ 0 11 80],[10 30 80],[23 29 19],[12  8  2],[10 27 17],[ 9 11 45],[95 88 57],[69 16 17],[19 29 80],[23 29 19],[ 0 22  4],[ 9  1 80],[ 3 23  5],[11 28 92],[69  9  5],[12 12 21],[69 13 30],[0 0 0],[ 0 27  4],[ 0 28 28],[28 84 80],[ 4 22 80],[ 0 20 21],[ 2 25 30],[17 88 21],[29  8  2],[ 0 11  3],[12 23 30],[69 30 31],[23 88  4],[13 29 80],[ 0 22  4],[12 10 21],[69 11  5],[ 8 88 31],[ 3 88  4],[13 17  3],[69 11 21],[23 17 21],[22 88 65],[69 83 80],[84 87 68],[69 83 80],[84 87 73],[69 83 80],[84 87 65],[83 88 91],[69 29  4],[ 6 86 92],[69 15 24],[12 27 24],[69 28 21],[21 29 30],[ 1 11 80],[10 22 80],[17 16 21],[69  9  5],[ 4 28  2],[ 4 12  5],[23 29 80],[10 30 80],[17 16 21],[69 27 25],[23 27 28],[ 0 84 80],[22 23 80],[17 16 17],[17 88 25],[ 3 88  4],[13 29 80],[17 10  5],[ 0 88  3],[16 21 80],[10 30 80],[17 16 25],[22 88  3],[ 0 10 25],[ 0 11 80],[12 11 80],[10 26  4],[ 4 17 30],[ 0 28 92],[69 30  2],[10 21 80],[12 12 80],[ 4 12 80],[10 22 19],[ 0 88  4],[13 29 80],[20 13 17],[ 1 10 17],[17 13  2],[ 0 88 31],[ 3 88  4],[13 29 80],[ 6 17  2],[ 6 20 21],[69 30 31],[ 9 20 31],[18 11 94],[69 54 17],[ 8 29 28],[28 84 80],[44 88 24],[ 4 14 21],[69 30 31],[16 22 20],[69 12 24],[ 4 12 80],[17 16 21],[69 11  5],[ 8 88 31],[ 3 88  4],[13 17  3],[69 11 21],[23 17 21],[22 88 25],[22 88 17],[69 11 25],[29 12 24],[69  8 17],[23 12 80],[10 30 80],[17 16 21],[69 11  1],[16 25  2],[ 0 88 31],[ 3 88  4],[13 29 80],[21 29  2],[12 21 21],[17 29  2],[69 23 22],[69 12 24],[ 0 88 19],[12 10 19],[ 9 29 80],[18 16 31],[22 29 80],[ 1 17 17],[ 8 29  4],[ 0 10 80],[12 11 80],[84 67 80],[10 10 80],[ 7  1 80],[21 13  4],[17 17 30],[ 2 88  4],[13 29 80],[22 13 29],[69 23 22],[69 12 24],[12 11 80],[22 29  2],[12 29  3],[69 29  1],[16 25 28],[69 12 31],[69 11 92],[69 17  4],[69 16 17],[22 88  4],[13 29 80],[23 25  4],[12 23 80],[22  9  2],[17 80 70],[76 88 29],[16 20  4],[12  8 28],[12 29 20],[69 26  9],[69 11 80],[17 23 80],[84 88 31],[ 3 88  4],[13 29 80],[21 29  2],[12 21 21],[17 29  2],[69 12 31],[69 12 24],[ 0 88 20],[12 25 29],[ 0 12 21],[23 86 80],[44 88  7],[12 20 28],[69 11 31],[10 22 80],[22 16 31],[18 88  4],[13 25  4],[69 12 24],[ 0 88  3],[16 21 80],[10 30 80],[17 16 25],[22 88  3],[ 0 10 25],[ 0 11 80],[17 23 80],[ 7 29 80],[4 8 0],[23 23  8],[12 21 17],[17 29 28],[28 88 65],[75 78 68],[81 65 67],[81 72 70],[83 64 68],[87 74 70],[81 75 70],[81 67 80],[ 4 22 20],[69 30  2],[10 21 80],[ 8 13 28],[17 17  0],[ 9  1 25],[11 31 80],[17 16 25],[22 88 30],[16 21 18],[ 0 10 80],[ 7  1 80],[22 17  8],[73 88 17],[11 28 80],[17 16 21],[11 88  4],[ 4 19 25],[11 31 80],[17 16 21],[69 11  1],[16 25  2],[ 0 88  2],[10 23  4],[73 88  4],[13 29 80],[11 13 29],[ 7 29  2],[69 75 94],[84 76 65],[80 65 66],[83 77 67],[80 64 73],[82 65 67],[87 75 72],[69 17  3],[69 17 30],[ 1 29 21],[ 1 88  0],[23 23 20],[16 27 21],[ 1 84 80],[18 16 25],[ 6 16 80],[0 0 0],[23 29  3],[22 29  3],[69 12 24],[ 0 88  0],[ 0 10 25],[ 8 29  4],[ 0 10 80],[10 30 80],[ 4 88 19],[12 10 19],[ 9 29 80],[18 16 31],[22 29 80],[ 1 17 17],[ 8 29  4],[ 0 10 80],[12 11 80],[84 86 80],[35 23 28],[ 9 23  7],[12 22 23],[69 25 23],[ 4 17 30],[69 12 24],[ 0 88  3],[ 4 21 21],[69 11  4],[0 8 3],[69 26  9],[69 15 24],[12 27 24],[69 49 80],[13 25 20],[69 25  2],[23 17  6],[ 0 28 80],[ 4 12 80],[17 16 25],[22 88  3],[16 21 92],[69 49 80],[13 25  6],[ 0 88 20],[12 11 19],[10 14 21],[23 29 20],[69 12 24],[ 4 12 80],[17 16 21],[69 11  5],[ 8 88 31],[ 3 88  4],[13 29 80],[22 29  2],[12 29  3],[69 73 80],[78 88 65],[74 73 70],[69 83 80],[84 87 72],[84 88 91],[69 73 95],[87 77 70],[69 83 80],[84 87 70],[87 77 80],[78 88 21],[17 27 94],[69 25 28],[22 23 80],[ 1 29  0],[ 0 22 20],[22 88 31],[11 88  4],[13 29 80],[20 13 17],[ 1 10 17],[17 13  2],[ 0 88 31],[ 3 88  4],[13 29 80],[ 6 17  2],[ 6 20 21],[75 88 62],[ 4 21 21],[ 9  1 92],[69 12 24],[ 0 88  3],[16 21 80],[10 30 80],[17 16 25],[22 88 29],[16 20  4],[12  8 28],[12 29 20],[69 26  9],[69 65 64],[69 31 25],[19 29  3],[69 12 24],[ 0 88 18],[12  9  5],[ 4 28  2],[ 4 12 21],[69 80 22],[10 13  2],[17 16 80],[21 23  7],[ 0 10 89],[69 23 22],[69 12 24],[ 0 88 19],[12 10 19],[16 21 22],[ 0 10 21],[11 27 21],[69 23 22],[69 12 24],[ 0 88  0],[ 0 10 25],[ 8 29  4],[ 0 10 80],[10 30 80],[ 4 88 19],[12 10 19],[ 9 29 80],[18 16 31],[22 29 80],[ 1 17 17],[ 8 29  4],[ 0 10 80],[12 11 80],[84 86 80],[36 22 20],[69 26  9],[69 11 25],[ 8 17 28],[ 4 10 80],[23 29 17],[22 23 30],[12 22 23],[69 49 80],[13 25  6],[ 0 88 28],[12 19 21],[18 17  3],[ 0 88 18],[ 0 29 30],[69 25 18],[ 9 29 80],[17 23 80],[ 1 29  4],[ 0 10 29],[12 22 21],[69 12 24],[ 0 88  3],[16 21  3],[69 23 22],[69 12 24],[ 0 88  3],[16 26  3],[0 9 5],[ 0 22  4],[69 11 21],[23 17 21],[22 88 25],[11 88  7],[13 17 19],[13 88  4],[13 29 80],[0 0 0],[10 22 21],[11 12  3],[69 25  2],[ 0 88 21],[19 29 30],[69 22  5],[ 8 26 21],[23 11 94],"
     ]
    }
   ],
   "source": [
    "for i in encrypted_3: \n",
    "    print(i , end=',')"
   ]
  },
  {
   "cell_type": "markdown",
   "metadata": {},
   "source": [
    "> ok some very rough inspection, <br>\n",
    "80 always appears at the last <br>\n",
    "88 always appears at te middle <br>\n",
    "69 always appears at the first"
   ]
  },
  {
   "cell_type": "markdown",
   "metadata": {},
   "source": [
    "> lets also tackle with the range: <br>\n",
    "the range of key is : {97 to 122} <br>\n",
    "output range is : {32:126} <br>\n",
    "so if we test all encrpyted with the range of key, we can rule out some of the key"
   ]
  },
  {
   "cell_type": "raw",
   "metadata": {},
   "source": [
    "input_range = set(encrypted)\n",
    "key_range = set(np.arange(97,122+1))\n",
    "output_range = set(np.arange(32,126+1))\n",
    "\n",
    "for i in key_range: \n",
    "    \n",
    "    fail_key = []\n",
    "    for j in input_range: \n",
    "        \n",
    "        out = i^j\n",
    "        \n",
    "        if out not in output_range: \n",
    "            fail_key.append(i)\n",
    "            break \n",
    "            \n",
    "fail_key"
   ]
  },
  {
   "cell_type": "markdown",
   "metadata": {},
   "source": [
    "> umm lets narrow it down"
   ]
  },
  {
   "cell_type": "raw",
   "metadata": {},
   "source": [
    "input_range = set(encrypted)\n",
    "key_range = set(np.arange(97,122+1))\n",
    "output_range = set(np.arange(32,122+1))\n",
    "\n",
    "for i in key_range: \n",
    "    \n",
    "    fail_key = []\n",
    "    for j in input_range: \n",
    "        \n",
    "        out = i^j\n",
    "        \n",
    "        if out not in output_range: \n",
    "            fail_key.append(i)\n",
    "            break \n",
    "            \n",
    "fail_key"
   ]
  },
  {
   "cell_type": "raw",
   "metadata": {},
   "source": [
    "only = [32, 33, 34, 37, 39, 40, 41, 44, 46, 48, 49, 50, 51, 52, 53, 54, 55, 56, 57, 58, 59, 63, 65, 66, 67, 68, 69, 70, 71, 72, 73, 74, 75, 76, 77, 78, 79, 80, 81, 82, 83, 84, 85, 86, 87, 88, 89, 90, 96, 97, 98, 99, 100, 101, 102, 103, 104, 105, 106, 107, 108, 109, 110, 111, 112, 113, 114, 115, 116, 117, 118, 119, 120, 121, 122]"
   ]
  },
  {
   "cell_type": "raw",
   "metadata": {},
   "source": [
    "input_range = set(encrypted)\n",
    "key_range = set(np.arange(97,122+1))\n",
    "output_range = set(only)\n",
    "\n",
    "for i in key_range: \n",
    "    \n",
    "    fail_key = []\n",
    "    for j in input_range: \n",
    "        \n",
    "        out = i^j\n",
    "        \n",
    "        if out not in output_range: \n",
    "            fail_key.append(i)\n",
    "            break \n",
    "            \n",
    "fail_key"
   ]
  },
  {
   "cell_type": "raw",
   "metadata": {},
   "source": [
    "input_range = set(encrypted)\n",
    "key_range = set(np.arange(97,121+1))\n",
    "output_range = set(only)\n",
    "\n",
    "k0 = []\n",
    "for i in key_range: \n",
    "\n",
    "    for j in only: \n",
    "        \n",
    "        out = i^j\n",
    "        \n",
    "        if out == 69: \n",
    "            k0.append(i)"
   ]
  },
  {
   "cell_type": "raw",
   "metadata": {},
   "source": [
    "input_range = set(encrypted)\n",
    "key_range = set(np.arange(97,121+1))\n",
    "output_range = set(only)\n",
    "\n",
    "k1 = []\n",
    "for i in key_range: \n",
    "\n",
    "    for j in output_range: \n",
    "        \n",
    "        out = i^j\n",
    "        \n",
    "        if out == 88: \n",
    "            k1.append(i)"
   ]
  },
  {
   "cell_type": "raw",
   "metadata": {},
   "source": [
    "input_range = set(encrypted)\n",
    "key_range = set(np.arange(97,121+1))\n",
    "output_range = set(only)\n",
    "\n",
    "k2 = []\n",
    "for i in key_range: \n",
    "\n",
    "    for j in output_range: \n",
    "        \n",
    "        out = i^j\n",
    "        \n",
    "        if out == 80: \n",
    "            k2.append(i)"
   ]
  },
  {
   "cell_type": "raw",
   "metadata": {},
   "source": [
    "key = np.array([])\n",
    "\n",
    "for i in k0: \n",
    "    \n",
    "    for j in k1: \n",
    "        \n",
    "        for k in k2: \n",
    "            \n",
    "            keyi = np.array([i,j,k])\n",
    "            \n",
    "            key = np.append(key,keyi).reshape(int(len(key))+1,3)"
   ]
  },
  {
   "cell_type": "raw",
   "metadata": {},
   "source": [
    "key"
   ]
  },
  {
   "cell_type": "raw",
   "metadata": {},
   "source": [
    "a = 'alsdfhasdf'\n",
    "\n",
    "k = [98,97,97]\n",
    "\n",
    "filename = '59. XOR decryption' + str(k) + '.txt'\n",
    "open(filename, 'w').write(a)"
   ]
  },
  {
   "cell_type": "raw",
   "metadata": {},
   "source": [
    "for keyi in key[0:2]: \n",
    "    \n",
    "    decrypted_number = []\n",
    "    for i in range(len(encrypted)): \n",
    "        \n",
    "        decrypted_number.append(encrypted[i]^int(keyi[i%3]))\n",
    "        \n",
    "    decrypted = ''  \n",
    "    for ii in range(len(decrypted_number)):\n",
    "        decrypted += ASCII[ int(decrypted_number[ii]) ]\n",
    "        \n",
    "    filename = '59. XOR decryption' + str(keyi) + '.txt'\n",
    "    open(filename, 'w').write(decrypted)\n",
    "        \n",
    "    "
   ]
  },
  {
   "cell_type": "markdown",
   "metadata": {},
   "source": [
    "> that looks ok <br>\n",
    "maybe i would like to reduce some more keys"
   ]
  },
  {
   "cell_type": "raw",
   "metadata": {},
   "source": [
    "t1 = time.time()\n",
    "\n",
    "for keyi in key: \n",
    "    \n",
    "    decrypted_number = []\n",
    "    for i in range(len(encrypted)): \n",
    "        \n",
    "        decrypted_number.append(encrypted[i]^int(keyi[i%3]))\n",
    "        \n",
    "    decrypted = ''  \n",
    "    for ii in range(len(decrypted_number)):\n",
    "        decrypted += ASCII[ int(decrypted_number[ii]) ]\n",
    "        \n",
    "    filename = '59. XOR decryption' + str(keyi) + '.txt'\n",
    "    open(filename, 'w').write(decrypted)\n",
    "        \n",
    "t2 = time.time()\n",
    "print(t2-t1,'seconds taken')\n",
    "\n",
    "50.84817719459534 seconds taken"
   ]
  },
  {
   "cell_type": "markdown",
   "metadata": {},
   "source": [
    "> lol, ok please check the folder"
   ]
  },
  {
   "cell_type": "raw",
   "metadata": {},
   "source": [
    "t1 = time.time()\n",
    "\n",
    "now = '[' + str(time.localtime()[0]) + ']' + \\\n",
    "'[' + str(time.localtime()[1]) +  str(time.localtime()[2]) + ']' \\\n",
    "'[' + str(time.localtime()[3]) + str(time.localtime()[4]) + ']'\n",
    "\n",
    "filename = '59. XOR decryption_check' + now + '.txt'\n",
    "open(filename, 'w').write(now)\n",
    "\n",
    "for keyi in key: \n",
    "    \n",
    "    decrypted_number = []\n",
    "    for i in range(len(encrypted)): \n",
    "        \n",
    "        decrypted_number.append(encrypted[i]^int(keyi[i%3]))\n",
    "        \n",
    "    decrypted = ''  \n",
    "    for ii in range(len(decrypted_number)):\n",
    "        decrypted += ASCII[ int(decrypted_number[ii]) ]\n",
    "        \n",
    "    open(filename, 'a').write('\\n' + '\\n' + str(keyi) + '\\n' + decrypted)\n",
    "        \n",
    "t2 = time.time()\n",
    "print(t2-t1,'seconds taken')\n",
    "\n"
   ]
  },
  {
   "cell_type": "markdown",
   "metadata": {},
   "source": [
    "> there are too many cases to brute force, <br>\n",
    "however, i found this: https://idafchev.github.io/crypto/2017/04/13/crypto_part1.html <br>\n",
    "so I m going to try: <br>\n",
    "1. key length = 3; \n",
    "2. divide the encrypted into groups of 3; \n",
    "3. for the 1st one of all groups of 3, brute force all the XOR;\n",
    "4. if u see one key element (letter), output all the same thing, then this will be the key[0]"
   ]
  },
  {
   "cell_type": "code",
   "execution_count": 65,
   "metadata": {},
   "outputs": [
    {
     "data": {
      "text/plain": [
       "array([36, 22, 80, ..., 23, 11, 94])"
      ]
     },
     "execution_count": 65,
     "metadata": {},
     "output_type": "execute_result"
    }
   ],
   "source": [
    "encrypted"
   ]
  },
  {
   "cell_type": "code",
   "execution_count": 38,
   "metadata": {},
   "outputs": [
    {
     "data": {
      "text/plain": [
       "array([[36, 22, 80],\n",
       "       [ 0,  0,  4],\n",
       "       [23, 25, 19],\n",
       "       ...,\n",
       "       [69, 22,  5],\n",
       "       [ 8, 26, 21],\n",
       "       [23, 11, 94]])"
      ]
     },
     "execution_count": 38,
     "metadata": {},
     "output_type": "execute_result"
    }
   ],
   "source": [
    "# step 2\n",
    "encrypted_3 "
   ]
  },
  {
   "cell_type": "code",
   "execution_count": 42,
   "metadata": {},
   "outputs": [],
   "source": [
    "# step 3\n",
    "encrypted_1st = encrypted_3[:,0]\n",
    "encrypted_2nd = encrypted_3[:,1]\n",
    "encrypted_3rd = encrypted_3[:,2]"
   ]
  },
  {
   "cell_type": "code",
   "execution_count": 64,
   "metadata": {},
   "outputs": [
    {
     "data": {
      "text/plain": [
       "array([80,  4, 19,  4, 21, 22, 29, 24, 25,  2,  5, 25, 80, 80, 21, 22,  5,\n",
       "        2, 80,  3, 19, 21, 17, 20, 17,  2, 80, 21,  5, 25,  3, 25,  5,  2,\n",
       "       25, 31,  2, 82, 63,  4, 80, 29, 31,  3, 25, 80, 80, 19,  2, 17, 45,\n",
       "       57, 17, 80, 19,  4, 80,  5, 92,  5, 21, 30,  0,  4, 28, 80, 80, 21,\n",
       "       30, 21,  2,  3, 30, 31,  4, 80,  4, 21,  5, 31,  4,  3, 21, 21, 65,\n",
       "       80, 68, 80, 73, 80, 65, 91,  4, 92, 24, 24, 21, 30, 80, 80, 21,  5,\n",
       "        2,  5, 80, 80, 21, 25, 28, 80, 80, 17, 25,  4, 80,  5,  3, 80, 80,\n",
       "       25,  3, 25, 80, 80,  4, 30, 92,  2, 80, 80, 80, 19,  4, 80, 17, 17,\n",
       "        2, 31,  4, 80,  2, 21, 31, 31, 94, 17, 28, 80, 24, 21, 31, 20, 24,\n",
       "       80, 21,  5, 31,  4,  3, 21, 21, 25, 17, 25, 24, 17, 80, 80, 21,  1,\n",
       "        2, 31,  4, 80,  2, 21,  2, 22, 24, 19, 19, 80, 31, 80, 17,  4, 80,\n",
       "       80, 80, 80, 80,  4, 30,  4, 80, 29, 22, 24, 80,  2,  3,  1, 28, 31,\n",
       "       92,  4, 17,  4, 80,  4, 80,  2, 70, 29,  4, 28, 20,  9, 80, 80, 31,\n",
       "        4, 80,  2, 21,  2, 31, 24, 20, 29, 21, 80,  7, 28, 31, 80, 31,  4,\n",
       "        4, 24,  3, 80, 80, 25,  3, 25, 80, 80, 80,  0,  8, 17, 28, 65, 68,\n",
       "       67, 70, 68, 70, 70, 80, 20,  2, 80, 28,  0, 25, 80, 25, 30, 18, 80,\n",
       "       80,  8, 17, 80, 21,  4, 25, 80, 21,  1,  2,  2,  4,  4, 80, 29,  2,\n",
       "       94, 65, 66, 67, 73, 67, 72,  3, 30, 21,  0, 20, 21, 80, 25, 80,  0,\n",
       "        3,  3, 24,  0, 25,  4, 80, 80, 19, 19, 80, 31, 80, 17,  4, 80, 80,\n",
       "       80, 28,  7, 23, 23, 30, 24,  3, 21,  4,  3,  9, 24, 24, 80, 20,  2,\n",
       "        6, 80, 80, 25,  3, 92, 80,  6, 20, 19, 21, 20, 24, 80, 21,  5, 31,\n",
       "        4, 80,  2,  3, 80, 65, 70, 80, 72, 91, 95, 70, 80, 70, 80, 21, 94,\n",
       "       28, 80,  0, 20, 31,  4, 80, 17, 17,  2, 31,  4, 80,  2, 21, 62, 21,\n",
       "       92, 24,  3, 80, 80, 25, 29,  4, 28, 20,  9, 64, 25,  3, 24, 18,  5,\n",
       "        2, 21, 22,  2, 80,  7, 89, 22, 24, 19, 19, 22, 21, 21, 22, 24,  0,\n",
       "       25,  4, 80, 80, 19, 19, 80, 31, 80, 17,  4, 80, 80, 80, 20,  9, 25,\n",
       "       28, 80, 17, 30, 23, 80,  6, 28, 21,  3, 18, 30, 18, 80, 80,  4, 29,\n",
       "       21, 24,  3,  3, 22, 24,  3,  3,  5,  4, 21, 21, 25,  7, 19,  4, 80,\n",
       "        0, 21,  3,  2, 21, 30,  5, 21, 94])"
      ]
     },
     "execution_count": 64,
     "metadata": {},
     "output_type": "execute_result"
    }
   ],
   "source": [
    "encrypted_3rd"
   ]
  },
  {
   "cell_type": "code",
   "execution_count": 53,
   "metadata": {},
   "outputs": [
    {
     "data": {
      "text/plain": [
       "array(['a', 'b', 'c', 'd', 'e', 'f', 'g', 'h', 'i', 'j', 'k', 'l', 'm',\n",
       "       'n', 'o', 'p', 'q', 'r', 's', 't', 'u', 'v', 'w', 'x', 'y', 'z'],\n",
       "      dtype='<U3')"
      ]
     },
     "execution_count": 53,
     "metadata": {},
     "output_type": "execute_result"
    }
   ],
   "source": [
    "# step 4\n",
    "key_bin = np.arange(97,123)\n",
    "key_bin\n",
    "ASCII[key_bin]"
   ]
  },
  {
   "cell_type": "code",
   "execution_count": 77,
   "metadata": {},
   "outputs": [
    {
     "name": "stdout",
     "output_type": "stream",
     "text": [
      "a\n",
      "Eavpejv$ajkgkkk$$h#ipafp$tw&$iwaaiatgq$jlwwbaakvmkh>$rvahbj$m$aaa}eacp|am$vlam$ibl$vw$5$5$52$g$m$t`kp$eevkp$vawppblpaqkpwaamkea$kmekalu`pablgg$hs$i}Me$q$ep$ibl$vww$|$vkp$qabltmp$$amhsw`iam5kftpclw$$mwm$q$$$$wlvmwp-qmm$$p5bltmp$$amavMm$kwsl$aqkpwaapfevmp}*002600e$kiphjpwqafw(jpjejp$qak(ljf$512136$$``vq`sgavw$aaiakemhsw`iam5Bhm$e$ae$a$$m$l$vaepwq$lamkv$ep$iblwm$/+$55$6$56/p$w`awjlu`pablgg*eh$aqkpwqmm$$$r$amee$kpta$$amqaj$$aaiakemhsw`iam5E$$ievwm$lamsaa$hp`am$aq$$aqaa$vwjlllakj$ar$iv\n",
      "\n",
      "b\n",
      "Fbusfiu`bihdhhh``k jsbes`wt%`jtbbjbwdr`iottabbhunhk=`qubkai`n`bbb~fb`sDELbn`uobn`jao`ut`6`6`61`d`n`wchs`ffuhs`ubtssaosbrhstbbnhfb`hnfhbovcsbaodd`kp`j~Nf`r`fs`jao`utt`DEL`uhs`rbaowns``bnkptcjbn6hews`ot``ntn`r````tounts.rnn``s6aowns``bnbuNn`htpo`brhstbbsefuns~)331533f`hjskistrbet+isifis`rbh+oie`621205``ccurcpdbut`bbjbhfnkptcjbn6Akn`f`bf`b``n`o`ubfstr`obnhu`fs`jaotn`,(`66`5`65,s`tcbtiovcsbaodd)fk`brhstrnn```q`bnff`hswb``bnrbi``bbjbhfnkptcjbn6F``jfutn`obnpbb`kscbn`br``brbb`utiooobhi`bq`ju\n",
      "\n",
      "c\n",
      "Gctrght&chieiii&&j!krcdr&vu$&kucckcves&hnuu`ccitoij<&ptcj`h&o&cccDELgcar~co&tnco&k`n&tu&7&7&70&e&o&vbir&ggtir&tcurr`nrcsiruccoigc&iogicnwbrc`nee&jq&kDELOg&s&gr&k`n&tuu&~&tir&sc`nvor&&cojqubkco7idvranu&&ouo&s&&&&untour/soo&&r7`nvor&&coctOo&iuqn&csiruccrdgtorDEL(220422g&ikrjhruscdu*hrhghr&sci*nhd&730314&&bbtsbqectu&cckcigojqubkco7@jo&g&cg&c&&o&n&tcgrus&ncoit&gr&k`nuo&-)&77&4&74-r&ubcuhnwbrc`nee(gj&csirusoo&&&p&cogg&irvc&&cosch&&cckcigojqubkco7G&&kgtuo&ncoqcc&jrbco&cs&&cscc&tuhnnncih&cp&kt\n",
      "\n",
      "d\n",
      "@dsu`os!donbnnn!!m&ludcu!qr#!lrddldqbt!oirrgddnshnm;!wsdmgo!h!dddx`dfuydh!sidh!lgi!sr!0!0!07!b!h!qenu!``snu!sdruugiudtnurddhn`d!nh`ndipeudgibb!mv!lxH`!t!`u!lgi!srr!y!snu!tdgiqhu!!dhmvreldh0ncqufir!!hrh!t!!!!rishru(thh!!u0giqhu!!dhdsHh!nrvi!dtnurdduc`shux/557355`!nlumourtdcr-ouo`ou!tdn-ioc!047463!!eestevbdsr!ddldn`hmvreldh0Gmh!`!d`!d!!h!i!sd`urt!idhns!`u!lgirh!*.!00!3!03*u!redroipeudgibb/`m!dtnurthh!!!w!dh``!nuqd!!dhtdo!!ddldn`hmvreldh0@!!l`srh!idhvdd!muedh!dt!!dtdd!sroiiidno!dw!ls\n",
      "\n",
      "e\n",
      "Aertanr enocooo  l`mtebt ps\" mseemepcu nhssfeeoriol: vrelfn i eeeyaegtxei rhei mfh rs 1 1 16 c i pdot aarot resttfhteuotseeioae oiaoehqdtefhcc lw myIa u at mfh rss x rot uefhpit  eilwsdmei1obptghs  isi u    shrist)uii  t1fhpit  eierIi oswh euotseetbarity.446244a omtlntsuebs,ntnant ueo,hnb 156572  ddrudwcers eemeoailwsdmei1Fli a ea e  i h reatsu heior at mfhsi +/ 11 2 12+t sdesnhqdtefhcc.al euotsuii   v eiaa otpe  eiuen  eemeoailwsdmei1A  marsi heiwee ltdei eu  euee rsnhhheon ev mr\n",
      "\n",
      "f\n",
      "Bfqwbmq#fml`lll##o$nwfaw#sp!#npffnfs`v#mkppefflqjlo9#uqfoem#j#fffzbfdw{fj#qkfj#nek#qp#2#2#25#`#j#sglw#bbqlw#qfpwwekwfvlwpffjlbf#ljblfkrgwfek``#ot#nzJb#v#bw#nek#qpp#{#qlw#vfeksjw##fjotpgnfj2laswdkp##jpj#v####pkqjpw*vjj##w2eksjw##fjfqJj#lptk#fvlwpffwabqjwz-775177b#lnwomwpvfap/mwmbmw#vfl/kma#265641##ggqvgt`fqp#ffnflbjotpgnfj2Eoj#b#fb#f##j#k#qfbwpv#kfjlq#bw#nekpj#(,#22#1#21(w#pgfpmkrgwfek``-bo#fvlwpvjj###u#fjbb#lwsf##fjvfm##ffnflbjotpgnfj2B##nbqpj#kfjtff#owgfj#fv##fvff#qpmkkkflm#fu#nq\n",
      "\n",
      "g\n",
      "Cgpvclp\"glmammm\"\"n%ovg`v\"rq \"oqggograw\"ljqqdggmpkmn8\"tpgndl\"k\"ggg{cgevzgk\"pjgk\"odj\"pq\"3\"3\"34\"a\"k\"rfmv\"ccpmv\"pgqvvdjvgwmvqggkmcg\"mkcmgjsfvgdjaa\"nu\"o{Kc\"w\"cv\"odj\"pqq\"z\"pmv\"wgdjrkv\"\"gknuqfogk3m`rvejq\"\"kqk\"w\"\"\"\"qjpkqv+wkk\"\"v3djrkv\"\"gkgpKk\"mquj\"gwmvqggv`cpkv{,664066c\"movnlvqwg`q.lvlclv\"wgm.jl`\"374750\"\"ffpwfuagpq\"ggogmcknuqfogk3Dnk\"c\"gc\"g\"\"k\"j\"pgcvqw\"jgkmp\"cv\"odjqk\")-\"33\"0\"30)v\"qfgqljsfvgdjaa,cn\"gwmvqwkk\"\"\"t\"gkcc\"mvrg\"\"gkwgl\"\"ggogmcknuqfogk3C\"\"ocpqk\"jgkugg\"nvfgk\"gw\"\"gwgg\"pqljjjgml\"gt\"op\n",
      "\n",
      "h\n",
      "LhDELylcDEL-hcbnbbb--a*`yhoy-}~/-`~hh`h}nx-ce~~khhbDELdba7-{DELhakc-d-hhhtlhjyuhd-DELehd-`ke-DEL~-<-<-<;-n-d-}iby-llDELby-DELh~yykeyhxby~hhdblh-bdlbhe|iyhkenn-az-`tDl-x-ly-`ke-DEL~~-u-DELby-xhke}dy--hdaz~i`hd<bo}yje~--d~d-x----~eDELd~y$xdd--y<ke}dy--hdhDELDd-b~ze-hxby~hhyolDELdyt#99;?99l-b`yacy~xho~!cyclcy-xhb!eco-<8;8:?--iiDELxiznhDEL~-hh`hbldaz~i`hd<Kad-l-hl-h--d-e-DELhly~x-ehdbDEL-ly-`ke~d-&\"-<<-?-<?&y-~ih~ce|iyhkenn#la-hxby~xdd---{-hdll-by}h--hdxhc--hh`hbldaz~i`hd<L--`lDEL~d-ehdzhh-ayihd-hx--hxhh-DEL~ceeehbc-h{-`DEL\n",
      "\n",
      "i\n",
      "Mi~xmb~,ibcoccc,,`+axinx,|DEL.,aDELiiai|oy,bdDELDELjiic~ec`6,z~i`jb,e,iiiumikxtie,~die,ajd,~DEL,=,=,=:,o,e,|hcx,mm~cx,~iDELxxjdxiycxDELiiecmi,cemcid}hxijdoo,`{,auEm,y,mx,ajd,~DELDEL,t,~cx,yijd|ex,,ie`{DELhaie=cn|xkdDEL,,eDELe,y,,,,DELd~eDELx%yee,,x=jd|ex,,iei~Ee,cDEL{d,iycxDELiixnm~exu\"88:>88m,cax`bxDELyinDEL bxbmbx,yic dbn,=9:9;>,,hh~yh{oi~DEL,iiaicme`{DELhaie=J`e,m,im,i,,e,d,~imxDELy,diec~,mx,ajdDELe,`#,==,>,=>`x,DELhiDELbd}hxijdoo\"m`,iycxDELyee,,,z,iemm,cx|i,,ieyib,,iiaicme`{DELhaie=M,,am~DELe,die{ii,`xhie,iy,,iyii,~DELbdddicb,iz,a~\n",
      "\n",
      "j\n",
      "Nj}{na}/ja`l```//c(b{jm{/DEL|-/b|jjbjDELlz/ag||ijj`}f`c5/y}jcia/f/jjjvnjh{wjf/}gjf/big/}|/>/>/>9/l/f/DELk`{/nn}`{/}j|{{ig{jz`{|jjf`nj/`fn`jg~k{jigll/cx/bvFn/z/n{/big/}||/w/}`{/zjigDELf{//jfcx|kbjf>`mDEL{hg|//f|f/z////|g}f|{&zff//{>igDELf{//jfj}Ff/`|xg/jz`{|jj{mn}f{v!;;9=;;n/`b{ca{|zjm|#a{ana{/zj`#gam/>:9:8=//kk}zkxlj}|/jjbj`nfcx|kbjf>Icf/n/jn/j//f/g/}jn{|z/gjf`}/n{/big|f/$ />>/=/>=${/|kj|ag~k{jigll!nc/jz`{|zff///y/jfnn/`{DELj//jfzja//jjbj`nfcx|kbjf>N//bn}|f/gjfxjj/c{kjf/jz//jzjj/}|agggj`a/jy/b}\n",
      "\n",
      "k\n",
      "Ok|zo`|.k`amaaa..b)czklz.~},.c}kkck~m{.`f}}hkka|gab4.x|kbh`.g.kkkwokizvkg.|fkg.chf.|}.?.?.?8.m.g.~jaz.oo|az.|k}zzhfzk{az}kkgaok.agoakfDELjzkhfmm.by.cwGo.{.oz.chf.|}}.v.|az.{khf~gz..kgby}jckg?al~zif}..g}g.{....}f|g}z`{gg..z?hf~gz..kgk|Gg.a}yf.k{az}kkzlo|gzw ::8<::o.aczb`z}{kl}\"`z`o`z.{ka\"f`l.?;8;9<..jj|{jymk|}.kkckaogby}jckg?Hbg.o.ko.k..g.f.|koz}{.fkga|.oz.chf}g.%!.??.<.?<%z.}jk}`fDELjzkhfmm ob.k{az}{gg...x.kgoo.az~k..kg{k`..kkckaogby}jckg?O..co|}g.fkgykk.bzjkg.k{..k{kk.|}`fffka`.kx.c|\n",
      "\n",
      "l\n",
      "Hl{}hg{)lgfjfff))e.d}lk})yz+)dzlldlyj|)gazzollf{`fe3)DEL{leog)`)lllphln}ql`){al`)doa){z)8)8)8?)j)`)ymf})hh{f}){lz}}oa}l|f}zll`fhl)f`hflaxm}loajj)e~)dp@h)|)h})doa){zz)q){f})|loay`}))l`e~zmdl`8fky}naz))`z`)|))))za{`z} |``))}8oay`}))l`l{@`)fz~a)l|f}zll}kh{`}p`==?;==h)fd}eg}z|lkz%g}ghg})|lf%agk)8<?<>;))mm{|m~jl{z)lldlfh`e~zmdl`8Oe`)h)lh)l))`)a){lh}z|)al`f{)h})doaz`)\"&)88);)8;\"})zmlzgaxm}loajj`he)l|f}z|``)))DEL)l`hh)f}yl))l`|lg))lldlfh`e~zmdl`8H))dh{z`)al`~ll)e}ml`)l|))l|ll){zgaaalfg)lDEL)d{\n",
      "\n",
      "m\n",
      "Imz|ifz(mfgkggg((d/e|mj|(x{*(e{mmemxk}(f`{{nmmgzagd2(~zmdnf(a(mmmqimo|pma(z`ma(en`(z{(9(9(9>(k(a(xlg|(iizg|(zm{||n`|m}g|{mmagim(gaigm`yl|mn`kk(dDEL(eqAi(}(i|(en`(z{{(p(zg|(}mn`xa|((madDEL{lema9gjx|o`{((a{a(}(((({`za{|!}aa((|9n`xa|((mamzAa(g{DEL`(m}g|{mm|jiza|q&<<>:<<i(ge|df|{}mj{$f|fif|(}mg$`fj(9=>=?:((llz}lDELkmz{(mmemgiadDEL{lema9Nda(i(mi(m((a(`(zmi|{}(`magz(i|(en`{a(#`(99(:(9:#|({lm{f`yl|mn`kk&id(m}g|{}aa(((~(maii(g|xm((ma}mf((mmemgiadDEL{lema9I((eiz{a(`maDELmm(d|lma(m}((m}mm(z{f```mgf(m~(ez\n",
      "\n",
      "n\n",
      "JnyDELjey+nedhddd++g,fDELniDEL+{x)+fxnnfn{h~+ecxxmnndybdg1+}yngme+b+nnnrjnlDELsnb+ycnb+fmc+yx+:+:+:=+h+b+{odDEL+jjydDEL+ynxDELDELmcDELn~dDELxnnbdjn+dbjdnczoDELnmchh+g|+frBj+~+jDEL+fmc+yxx+s+ydDEL+~nmc{bDEL++nbg|xofnb:di{DELlcx++bxb+~++++xcybxDEL\"~bb++DEL:mc{bDEL++nbnyBb+dx|c+n~dDELxnnDELijybDELr%??=9??j+dfDELgeDELx~nix`eDELejeDEL+~nd`cei+:>=><9++ooy~o|hnyx+nnfndjbg|xofnb:Mgb+j+nj+n++b+c+ynjDELx~+cnbdy+jDEL+fmcxb+ $+::+9+:9 DEL+xonxeczoDELnmchh%jg+n~dDELx~bb+++}+nbjj+dDEL{n++nb~ne++nnfndjbg|xofnb:J++fjyxb+cnb|nn+gDELonb+n~++n~nn+yxecccnde+n}+fy\n",
      "\n",
      "o\n",
      "Kox~kdx*odeieee**f-g~oh~*zy(*gyoogoziDEL*dbyylooexcef0*|xofld*c*oooskom~roc*xboc*glb*xy*;*;*;<*i*c*zne~*kkxe~*xoy~~lb~oDELe~yooceko*eckeob{n~olbii*f}*gsCk*DEL*k~*glb*xyy*r*xe~*DELolbzc~**ocf}yngoc;ehz~mby**cyc*DEL****ybxcy~#DELcc**~;lbzc~**ocoxCc*ey}b*oDELe~yoo~hkxc~s$>><8>>k*eg~fd~yDELohy&d~dkd~*DELoe&bdh*;?<?=8**nnxDELn}ioxy*oogoekcf}yngoc;Lfc*k*ok*o**c*b*xok~yDEL*bocex*k~*glbyc*!%*;;*8*;8!~*ynoydb{n~olbii$kf*oDELe~yDELcc***|*ockk*e~zo**ocDELod**oogoekcf}yngoc;K**gkxyc*boc}oo*f~noc*oDEL**oDELoo*xydbbboed*o|*gx\n",
      "\n",
      "p\n",
      "Tpgat{g5p{zvzzz55y2xapwa5ef75xfppxpev`5{}ffsppzg|zy/5cgpys{5|5pppltpramp|5g}p|5xs}5gf5$5$5$#5v5|5eqza5ttgza5gpfaas}ap`zafpp|ztp5z|tzp}dqaps}vv5yb5xl/t5`5ta5xs}5gff5m5gza5`ps}e|a55p|ybfqxp|$zwear}f55|f|5`5555f}g|fa<`||55a$s}e|a55p|pg/|5zfb}5p`zafppawtg|al;!!#`!!t5zxay{af`pwf9{a{t{a5`pz9}{w5$ # \"`55qqg`qbvpgf5ppxpzt|ybfqxp|$Sy|5t5pt5p55|5}5gptaf`5}p|zg5ta5xs}f|5>:5$$5`5$`>a5fqpf{}dqaps}vv;ty5p`zaf`||555c5p|tt5zaep55p|`p{55ppxpzt|ybfqxp|$T55xtgf|5}p|bpp5yaqp|5p`55p`pp5gf{}}}pz{5pc5xg\n",
      "\n",
      "q\n",
      "Uqf`uzf4qz{w{{{44x3y`qv`4dg64ygqqyqdwa4z|ggrqq{f}{x.4bfqxrz4}4qqqmuqs`lq}4f|q}4yr|4fg4%4%4%\"4w4}4dp{`4uuf{`4fqg``r|`qa{`gqq}{uq4{}u{q|ep`qr|ww4xc4ym]u4a4u`4yr|4fgg4l4f{`4aqr|d}`44q}xcgpyq}%{vd`s|g44}g}4a4444g|f}g`=a}}44`%r|d}`44q}qf]}4{gc|4qa{`gqq`vuf}`m:  \"&  u4{y`xz`gaqvg8z`zuz`4aq{8|zv4%!\"!#&44ppfapcwqfg4qqyq{u}xcgpyq}%Rx}4u4qu4q44}4|4fqu`ga4|q}{f4u`4yr|g}4?;4%%4&4%&?`4gpqgz|ep`qr|ww:ux4qa{`ga}}444b4q}uu4{`dq44q}aqz44qqyq{u}xcgpyq}%U44yufg}4|q}cqq4x`pq}4qa44qaqq4fgz|||q{z4qb4yf\n",
      "\n",
      "r\n",
      "Vrecvye7ryxtxxx77{0zcruc7gd57zdrrzrgtb7yDELddqrrxe~x{-7aer{qy7~7rrrnvrpcor~7eDELr~7zqDEL7ed7&7&7&!7t7~7gsxc7vvexc7erdccqDELcrbxcdrr~xvr7x~vxrDELfscrqDELtt7{`7zn^v7b7vc7zqDEL7edd7o7exc7brqDELg~c77r~{`dszr~&xugcpDELd77~d~7b7777dDELe~dc>b~~77c&qDELg~c77r~re^~7xd`DEL7rbxcdrrcuve~cn9##!%##v7xzc{ycdbrud;ycyvyc7brx;DELyu7&\"!\" %77ssebs`tred7rrzrxv~{`dszr~&Q{~7v7rv7r77~7DEL7ervcdb7DELr~xe7vc7zqDELd~7<87&&7%7&%<c7dsrdyDELfscrqDELtt9v{7rbxcdb~~777a7r~vv7xcgr77r~bry77rrzrxv~{`dszr~&V77zved~7DELr~`rr7{csr~7rb77rbrr7edyDELDELDELrxy7ra7ze\n",
      "\n",
      "s\n",
      "Wsdbwxd6sxyuyyy66z1{bstb6fe46{ess{sfuc6x~eepssydDELyz,6`dszpx6DEL6sssowsqbnsDEL6d~sDEL6{p~6de6`6`6` 6u6DEL6fryb6wwdyb6dsebbp~bscybessDELyws6yDELwys~grbsp~uu6za6{o_w6c6wb6{p~6dee6n6dyb6csp~fDELb66sDELzaer{sDEL`ytfbq~e66DELeDEL6c6666e~dDELeb?cDELDEL66b`p~fDELb66sDELsd_DEL6yea~6scybessbtwdDELbo8\"\" $\"\"w6y{bzxbecste:xbxwxb6csy:~xt6`# #!$66rrdcrausde6ss{sywDELzaer{sDEL`PzDEL6w6sw6s66DEL6~6dswbec6~sDELyd6wb6{p~eDEL6=96``6$6`$=b6ersex~grbsp~uu8wz6scybecDELDEL666`6sDELww6ybfs66sDELcsx66ss{sywDELzaer{sDEL`W66{wdeDEL6~sDELass6zbrsDEL6sc66scss6dex~~~syx6s`6{d\n",
      "\n",
      "t\n",
      "PtcepDELc1tDEL~r~~~11}6|etse1ab31|btt|tard1DELybbwtt~cx~}+1gct}wDEL1x1ttthptveitx1cytx1|wy1cb1 1 1 `1r1x1au~e1ppc~e1ctbeewyetd~ebttx~pt1~xp~ty`uetwyrr1}f1|hXp1d1pe1|wy1cbb1i1c~e1dtwyaxe11tx}fbu|tx ~saevyb11xbx1d1111bycxbe8dxx11e wyaxe11txtcXx1~bfy1td~ebttespcxeh?%%`#%%p1~|e}DELebdtsb=DELeDELpDELe1dt~=yDELs1 $`$&#11uucdufrtcb1tt|t~px}fbu|tx W}x1p1tp1t11x1y1ctpebd1ytx~c1pe1|wybx1:>1  1#1 #:e1butbDELy`uetwyrr?p}1td~ebdxx111g1txpp1~eat11txdtDEL11tt|t~px}fbu|tx P11|pcbx1ytxftt1}eutx1td11tdtt1cbDELyyyt~DEL1tg1|c\n",
      "\n",
      "u\n",
      "Qubdq~b0u~DELsDELDELDEL00|7}durd0`c20}cuu}u`se0~xccvuuDELbyDEL|*0fbu|v~0y0uuuiquwdhuy0bxuy0}vx0bc0!0!0!&0s0y0`tDELd0qqbDELd0bucddvxdueDELdcuuyDELqu0DELyqDELuxatduvxss0|g0}iYq0e0qd0}vx0bcc0h0bDELd0euvx`yd00uy|gct}uy!DELr`dwxc00ycy0e0000cxbycd9eyy00d!vx`yd00uyubYy0DELcgx0ueDELdcuudrqbydi>$$&\"$$q0DEL}d|~dceurc<~d~q~d0euDEL<x~r0!%&%`\"00ttbetgsubc0uu}uDELqy|gct}uy!V|y0q0uq0u00y0x0buqdce0xuyDELb0qd0}vxcy0;?0!!0\"0!\";d0ctuc~xatduvxss>q|0ueDELdceyy000f0uyqq0DELd`u00uyeu~00uu}uDELqy|gct}uy!Q00}qbcy0xuyguu0|dtuy0ue00ueuu0bc~xxxuDEL~0uf0}b\n",
      "\n",
      "v\n",
      "Rvagr}a3v}|p|||33DEL4~gvqg3c`13~`vv~vcpf3}{``uvv|az|DEL)3eavDELu}3z3vvvjrvtgkvz3a{vz3~u{3a`3\"3\"3\"%3p3z3cw|g3rra|g3av`ggu{gvf|g`vvz|rv3|zr|v{bwgvu{pp3DELd3~jZr3f3rg3~u{3a``3k3a|g3fvu{czg33vzDELd`w~vz\"|qcgt{`33z`z3f3333`{az`g:fzz33g\"u{czg33vzvaZz3|`d{3vf|g`vvgqrazgj=``%!``r3|~gDEL}g`fvq`?}g}r}g3fv|?{}q3\"&%&$!33wwafwdpva`3vv~v|rzDELd`w~vz\"UDELz3r3vr3v33z3{3avrg`f3{vz|a3rg3~u{`z38<3\"\"3!3\"!8g3`wv`}{bwgvu{pp=rDEL3vf|g`fzz333e3vzrr3|gcv33vzfv}33vv~v|rzDELd`w~vz\"R33~ra`z3{vzdvv3DELgwvz3vf33vfvv3a`}{{{v|}3ve3~a\n",
      "\n",
      "w\n",
      "Sw`fs|`2w|}q}}}22~5DELfwpf2ba02DELawwDELwbqg2|zaatww}`{}~(2d`w~t|2{2wwwkswufjw{2`zw{2DELtz2`a2#2#2#$2q2{2bv}f2ss`}f2`wafftzfwg}faww{}sw2}{s}wzcvfwtzqq2~e2DELk[s2g2sf2DELtz2`aa2j2`}f2gwtzb{f22w{~eavDELw{#}pbfuza22{a{2g2222az`{af;g{{22f#tzb{f22w{w`[{2}aez2wg}fawwfps`{fk<&&$ &&s2}DELf~|fagwpa>|f|s|f2gw}>z|p2#`$`% 22vv`gveqw`a2wwDELw}s{~eavDELw{#T~{2s2ws2w22{2z2`wsfag2zw{}`2sf2DELtza{29=2##2 2# 9f2avwa|zcvfwtzqq<s~2wg}fag{{222d2w{ss2}fbw22w{gw|22wwDELw}s{~eavDELw{#S22DELs`a{2zw{eww2~fvw{2wg22wgww2`a|zzzw}|2wd2DEL`\n",
      "\n",
      "x\n",
      "/xoi|so=xsr~rrr==q:pixDELi=mn?=pnxxpxm~h=sunn{xxrotrq`=koxq{s=t=xxxd|xziext=ouxt=p{u=on=,=,=,+=~=t=myri=||ori=oxnii{uixhrinxxtr|x=rt|rxulyix{u~~=qj=pdT|=h=|i=p{u=onn=e=ori=hx{umti==xtqjnypxt,rDELmizun==tnt=h====nuotni4htt==i,{umti==xtxoTt=rnju=xhrinxxiDEL|otid3))+/))|=rpiqsinhxDELn1sis|si=hxr1usDEL=,(+(*/==yyohyj~xon=xxpxr|tqjnypxt,[qt=|=x|=x==t=u=ox|inh=uxtro=|i=p{unt=62=,,=/=,/6i=nyxnsulyix{u~~3|q=xhrinhtt===k=xt||=rimx==xthxs==xxpxr|tqjnypxt,/==p|ont=uxtjxx=qiyxt=xh==xhxx=onsuuuxrs=xk=po\n",
      "\n",
      "y\n",
      "]ynh}rn<yrsDELsss<<p;qhy~h<lo><qoyyqylDELi<rtoozyysnusp&<jnypzr<u<yyye}y{hdyu<ntyu<qzt<no<-<-<-*<DEL<u<lxsh<}}nsh<nyohhzthyishoyyus}y<su}sytmxhyztDELDEL<pk<qeU}<i<}h<qzt<noo<d<nsh<iyztluh<<yupkoxqyu-s~lh{to<<uou<i<<<<otnuoh5iuu<<h-ztluh<<yuynUu<sokt<yishoyyh~}nuhe2((*.((}<sqhprhoiy~o0rhr}rh<iys0tr~<-)*)+.<<xxnixkDELyno<yyqys}upkoxqyu-Zpu<}<y}<y<<u<t<ny}hoi<tyusn<}h<qztou<73<--<.<-.7h<oxyortmxhyztDELDEL2}p<yishoiuu<<<j<yu}}<shly<<yuiyr<<yyqys}upkoxqyu-]<<q}nou<tyukyy<phxyu<yi<<yiyy<nortttysr<yj<qn\n",
      "\n",
      "z\n",
      "^zmk~qm?zqp|ppp??s8rkz}k?ol=?rlzzrzo|j?qwllyzzpmvps%?imzsyq?v?zzzf~zxkgzv?mwzv?ryw?ml?.?.?.)?|?v?o{pk?~~mpk?mzlkkywkzjpklzzvp~z?pv~pzwn{kzyw||?sh?rfV~?j?~k?ryw?mll?g?mpk?jzywovk??zvshl{rzv.p}okxwl??vlv?j????lwmvlk6jvv??k.ywovk??zvzmVv?plhw?zjpklzzk}~mvkf1++)-++~?prksqkljz}l3qkq~qk?jzp3wq}?.*)*(-??{{mj{h|zml?zzrzp~vshl{rzv.Ysv?~?z~?z??v?w?mz~klj?wzvpm?~k?rywlv?40?..?-?.-4k?l{zlqwn{kzyw||1~s?zjpkljvv???i?zv~~?pkoz??zvjzq??zzrzp~vshl{rzv.^??r~mlv?wzvhzz?sk{zv?zj??zjzz?mlqwwwzpq?zi?rm\n",
      "\n"
     ]
    }
   ],
   "source": [
    "# step 4\n",
    "for i in range(len(key_bin)):\n",
    "    \n",
    "    test = encrypted_1st ^ key_bin[i]\n",
    "    \n",
    "    ans = ''\n",
    "    for j in range(len(test)):\n",
    "        ans_i = ASCII[ test[j] ]\n",
    "        ans += ans_i\n",
    "    \n",
    "    print(ASCII[key_bin[i]]+'\\n'+ans, end = '\\n\\n')"
   ]
  },
  {
   "cell_type": "markdown",
   "metadata": {},
   "source": [
    ">1. {c,h,i,j,l,n,o,r,t,u,v,w} not in <br>\n",
    "e has spacebar, so high possibilty"
   ]
  },
  {
   "cell_type": "code",
   "execution_count": 76,
   "metadata": {},
   "outputs": [
    {
     "name": "stdout",
     "output_type": "stream",
     "text": [
      "a\n",
      "wax9r9vm9m}mwDELwv/|jv9uk|i|5]jt9kk9zkxtB9|l99kjDEL|izj9q||w`v}hmlaz}5wux9ijvDEL9|wkj99pjp92626269|7nz}|jwqh}m|DELqzz5vq99|k9tDELq9kjj{p}DELtmmw9|lkl99|puDELujW|59oDELwmmqj99pjp99jmimDELqjx99||t|vm9k|q|p|kj\"k`lp9|lvmj|||xmjpq9|xvh19ui|{jv99||t|mm9xm79ujwq9xm9tDELq9kjv|ivt|9/ )!+*\"wDELtlp`~q9tk`p9}q9r~qjx9v9|l|*- ,! *pp|9vz5qqa||m9k|kDEL9k|q|p|kj7vvwxpm9tji{nzPxxp}mq9tPx9jo|mmqj99|||(9(269(,26,9zxv|w99|lkl99|pu9t`m9tDELq9ui|{ ~|m9h}m1lqvkvm9ktkzvm9k|kDEL9k|q|p|kj7w{jpk|vwPx9rp9|x|v|kwm9tvm9{hwjp99p9|awmx9|w{j\n",
      "\n",
      "b\n",
      "tb{:q:un:n~nt|tu_DELiu:vhDELjDEL6^iw:hh:yh{wA:DELo::hi|DELjyi:rDELDELtcu~knoby~6tv{:jiu|:DELthi::sis:151515:DEL4my~DELitrk~nDEL|ryy6ur::DELh:w|r:hiixs~|wnnt:DELoho::DELsv|viTDEL6:l|tnnri::sis::injn|ri{::DELDELwDELun:hDELrDELsDELhi!hcos:DELouniDELDELDEL{nisr:DEL{uk2:vjDELxiu::DELDELwDELnn:{n4:vitr:{n:w|r:hiuDELjuwDEL:,#*\"()!t|wosc}r:whcs:~r:q}ri{:u:DELoDEL).#/\"#)ssDEL:uy6rrbDELDELn:hDELh|:hDELrDELsDELhi4uut{sn:wijxmyS{{s~nr:wS{:ilDELnnri::DELDELDEL+:+15:+/15/:y{uDELt::DELoho::DELsv:wcn:w|r:vjDELx#}DELn:k~n2oruhun:hwhyun:hDELh|:hDELrDELsDELhi4txishDELutS{:qs:DEL{DELuDELhtn:wun:xktis::s:DELbtn{:DELtxi\n",
      "\n",
      "c\n",
      "ucz;p;to;oDELou}ut^~ht;wi~k~7_hv;ii;xizv@;~n;;ih}~kxh;s~~ubtDELjoncxDEL7uwz;kht};~uih;;rhr;040404;~5lxDEL~husjDELo~}sxx7ts;;~i;v}s;ihhyrDEL}voou;~nin;;~rw}whU~7;m}uoosh;;rhr;;hoko}shz;;~~v~to;i~s~r~ih ibnr;~ntoh~~~zohrs;~ztj3;wk~yht;;~~v~oo;zo5;whus;zo;v}s;iht~ktv~;-\"+#)( u}vnrb|s;vibr;DELs;p|shz;t;~n~(/\".#\"(rr~;tx7ssc~~o;i~i};i~s~r~ih5ttuzro;vhkylxRzzrDELos;vRz;hm~oosh;;~~~*;*04;*.04.;xzt~u;;~nin;;~rw;vbo;v}s;wk~y\"|~o;jDELo3nstito;ivixto;i~i};i~s~r~ih5uyhri~tuRz;pr;~z~t~iuo;vto;yjuhr;;r;~cuoz;~uyh\n",
      "\n",
      "d\n",
      "rd}<w<sh<hxhrzrsYyos<pnyly0Xoq<nn<DELn}qG<yi<<nozylDELo<tyyresxmhidDELx0rp}<losz<yrno<<uou<737373<y2kDELxyortmxhyztDELDEL0st<<yn<qzt<noo~uxzqhhr<yini<<yupzpoRy0<jzrhhto<<uou<<ohlhzto}<<yyqysh<nytyuyno`neiu<yishoyyy}hout<y}sm4<ply~os<<yyqyhh<}h2<port<}h<qzt<nosylsqy<*%,$./`rzqiue{t<qneu<xt<w{to}<s<yiy/(%)$%/uuy<sDEL0ttdyyh<nynz<nytyuyno2ssr}uh<qol~kDELU}}uxht<qU}<ojyhhto<<yyy-<-73<-)73)<DEL}syr<<yini<<yup<qeh<qzt<ply~%{yh<mxh4itsnsh<nqnDELsh<nynz<nytyuyno2r~ounysrU}<wu<y}ysynrh<qsh<~mrou<<u<ydrh}<yr~o\n",
      "\n",
      "e\n",
      "se|=v=ri=iyis{srXxnr=qoxmx1Ynp=oo=~o|pF=xh==on{xm~n=uxxsdrylihe~y1sq|=mnr{=xson==tnt=626262=x3j~yxnsulyix{u~~1ru==xo=p{u=onnDELty{piis=xhoh==xtq{qnSx1=k{siiun==tnt==nimi{un|==xxpxri=oxuxtxon&odht=xhrinxxx|intu=x|rl5=qmxDELnr==xxpxii=|i3=qnsu=|i=p{u=onrxmrpx=+$-%/.&s{phtdzu=podt=yu=vzun|=r=xhx.)$(%$.ttx=r~1uuexxi=oxo{=oxuxtxon3rrs|ti=pnmDELj~T||tyiu=pT|=nkxiiun==xxx,=,62=,(62(=~|rxs==xhoh==xtq=pdi=p{u=qmxDEL$zxi=lyi5hurori=opo~ri=oxo{=oxuxtxon3sDELntoxrsT|=vt=x|xrxosi=pri=DELlsnt==t=xesi|=xsDELn\n",
      "\n",
      "f\n",
      "pfDEL>u>qj>jzjpxpq[{mq>rl{n{2Zms>ll>}lDELsE>{k>>lmx{n}m>v{{pgqzojkf}z2prDEL>nmqx>{plm>>wmw>515151>{0i}z{mpvozj{xv}}2qv>>{l>sxv>lmm|wzxsjjp>{klk>>{wrxrmP{2>hxpjjvm>>wmw>>mjnjxvmDEL>>{{s{qj>l{v{w{lm%lgkw>{kqjm{{{DELjmwv>{DELqo6>rn{|mq>>{{s{jj>DELj0>rmpv>DELj>sxv>lmq{nqs{>(`.&,-%pxskwgyv>slgw>zv>uyvmDEL>q>{k{-*`+&`-ww{>q}2vvf{{j>l{lx>l{v{w{lm0qqpDELwj>smn|i}WDELDELwzjv>sWDEL>mh{jjvm>>{{{/>/51>/+51+>}DELq{p>>{klk>>{wr>sgj>sxv>rn{|`y{j>ozj6kvqlqj>lsl}qj>l{lx>l{v{w{lm0p|mwl{qpWDEL>uw>{DEL{q{lpj>sqj>|opmw>>w>{fpjDEL>{p|m\n",
      "\n",
      "g\n",
      "qg~?t?pk?k{kqyqpZzlp?smzoz3[lr?mm?|m~rD?zj??mlyzo|l?wzzqfp{nkjg|{3qs~?olpy?zqml??vlv?404040?z1h|{zlqwn{kzyw||3pw??zm?ryw?mll}v{yrkkq?zjmj??zvsyslQz3?iyqkkwl??vlv??lkokywl~??zzrzpk?mzwzvzml$mfjv?zjpklzzz~klvw?z~pn7?soz}lp??zzrzkk?~k1?slqw?~k?ryw?mlpzoprz?)&/`-,$qyrjvfxw?rmfv?{w?txwl~?p?zjz,+&*`&,vvz?p|3wwgzzk?mzmy?mzwzvzml1ppq~vk?rlo}h|V~~v{kw?rV~?lizkkwl??zzz.?.40?.*40*?|~pzq??zjmj??zvs?rfk?ryw?soz}&xzk?n{k7jwpmpk?mrm|pk?mzmy?mzwzvzml1q}lvmzpqV~?tv?z~zpzmqk?rpk?}nqlv??v?zgqk~?zq}l\n",
      "\n",
      "h\n",
      "~hq0{0DELd0dtd~v~DELUucDEL0|bu`u<Tc}0bb0sbq}K0ue00bcvu`sc0xuu~iDELtadehst<~|q0`cDELv0u~bc00ycy0;?;?;?0u>gstuc~xatduvxss<DELx00ub0}vx0bccrytv}dd~0uebe00uy|v|c^u<0fv~ddxc00ycy00cd`dvxcq00uu}uDELd0buxuyubc+biey0ueDELdcuuuqdcyx0uqDELa80|`urcDEL00uu}udd0qd>0|c~x0qd0}vx0bcDELu`DEL}u0&) (\"#+~v}eyiwx0}biy0tx0{wxcq0DEL0ueu#$)%()#yyu0DELs<xxhuud0bubv0buxuyubc>DELDEL~qyd0}c`rgsYqqytdx0}Yq0cfuddxc00uuu!0!;?0!%;?%0sqDELu~00uebe00uy|0}id0}vx0|`ur)wud0atd8exDELbDELd0b}bsDELd0bubv0buxuyubc>~rcybuDEL~Yq0{y0uquDELub~d0}DELd0ra~cy00y0uh~dq0u~rc\n",
      "\n",
      "i\n",
      "DELip1z1~e1eueDELwDEL~Ttb~1}ctat=Ub|1cc1rcp|J1td11cbwtarb1yttDELh~u`ediru=DEL}p1ab~w1tDELcb11xbx1:>:>:>1t?frutbDELy`uetwyrr=~y11tc1|wy1cbbsxuw|eeDEL1tdcd11tx}w}b_t=1gwDELeeyb11xbx11beaewybp11tt|t~e1ctytxtcb*chdx1td~ebtttpebxy1tp~`91}atsb~11tt|tee1pe?1}bDELy1pe1|wy1cb~ta~|t1`(!)#\"*DELw|dxhvy1|chx1uy1zvybp1~1tdt\"%($)(\"xxt1~r=yyitte1ctcw1ctytxtcb?~~DELpxe1|basfrXppxuey1|Xp1bgteeyb11ttt 1 :>1 $:>$1rp~tDEL11tdcd11tx}1|he1|wy1}ats(vte1`ue9dy~c~e1c|cr~e1ctcw1ctytxtcb?DELsbxct~DELXp1zx1tpt~tcDELe1|~e1s`DELbx11x1tiDELep1tDELsb\n",
      "\n",
      "j\n",
      "|js2y2}f2fvf|t|}Wwa}2~`wbw>VaDEL2``2q`sDELI2wg22`atwbqa2zww|k}vcfgjqv>|~s2ba}t2w|`a22{a{29=9=9=2w<eqvwa|zcvfwtzqq>}z22w`2DELtz2`aap{vtDELff|2wg`g22w{~t~a/w>2dt|ffza22{a{22afbftzas22wwDELw}f2`wzw{w`a)`kg{2wg}fawwwsfa{z2ws}c:2~bwpa}22wwDELwff2sf<2~a|z2sf2DELtz2`a}wb}DELw2$+\"* !)|tDELg{kuz2DEL`k{2vz2yuzas2}2wgw!&+`*+!{{w2}q>zzjwwf2`w`t2`wzw{w`a<}}|s{f2DELabpeq[ss{vfz2DEL[s2adwffza22www#2#9=2#`9=`2qs}w|22wg`g22w{~2DELkf2DELtz2~bwp+uwf2cvf:gz}`}f2`DEL`q}f2`w`t2`wzw{w`a<|pa{`w}|[s2y{2wsw}w`|f2DEL}f2pc|a{22{2wj|fs2w|pa\n",
      "\n",
      "k\n",
      "}kr3x3|g3gwg}u}|Vv`|3DELavcv?W`~3aa3par~H3vf33a`uvcp`3{vv}j|wbgfkpw?}DELr3c`|u3v}a`33z`z38<8<8<3v=dpwv`}{bwgvu{pp?|{33va3~u{3a``qzwu~gg}3vfaf33vzDELuDEL`]v?3eu}gg{`33z`z33`gcgu{`r33vv~v|g3av{vzva`(ajfz3vf|g`vvvrg`z{3vr|b;3DELcvq`|33vv~vgg3rg=3DEL`}{3rg3~u{3a`|vc|~v3%*#+! (}u~fzjt{3~ajz3w{3xt{`r3|3vfv `*&+* zzv3|p?{{kvvg3avau3av{vzva`=||}rzg3~`cqdpZrrzwg{3~Zr3`evgg{`33vvv\"3\"8<3\"&8<&3pr|v}33vfaf33vzDEL3~jg3~u{3DELcvq*tvg3bwg;f{|a|g3a~ap|g3avau3av{vzva`=}q`zav|}Zr3xz3vrv|va}g3~|g3qb}`z33z3vk}gr3v}q`\n",
      "\n",
      "l\n",
      "zlu4DEL4{`4`p`zrz{Qqg{4xfqdq8Pgy4ff4wfuyO4qa44fgrqdwg4|qqzm{pe`alwp8zxu4dg{r4qzfg44}g}4?;?;?;4q:cwpqgz|ep`qr|ww8{|44qf4yr|4fggv}pry``z4qafa44q}xrxgZq84brz``|g44}g}44g`d`r|gu44qqyq{`4fq|q}qfg/fma}4qa{`gqqqu`g}|4qu{e<4xdqvg{44qqyq``4u`:4xgz|4u`4yr|4fg{qd{yq4\"-$,&`/zrya}ms|4yfm}4p|4DELs|gu4{4qaq` -!,-`}}q4{w8||lqq`4fqfr4fq|q}qfg:{{zu}`4ygdvcw]uu}p`|4y]u4gbq``|g44qqq%4%?;4%!?;!4wu{qz44qafa44q}x4ym`4yr|4xdqv-sq`4ep`<a|{f{`4fyfw{`4fqfr4fq|q}qfg:zvg}fq{z]u4DEL}4quq{qfz`4y{`4vezg}44}4qlz`u4qzvg\n",
      "\n",
      "m\n",
      "{mt5~5za5aqa{s{zPpfz5ygpep9Qfx5gg5vgtxN5p`55gfspevf5}pp{lzqda`mvq9{yt5efzs5p{gf55|f|5>:>:>:5p;bvqpf{}dqaps}vv9z}55pg5xs}5gffw|qsxaa{5p`g`55p|ysyf[p95cs{aa}f55|f|55faeas}ft55ppxpza5gp}p|pgf.gl`|5p`zafppptaf|}5ptzd=5yepwfz55ppxpaa5ta;5yf{}5ta5xs}5gfzpezxp5#,%-`&.{sx`|lr}5xgl|5q}5~r}ft5z5p`p&!, -,&||p5zv9}}mppa5gpgs5gp}p|pgf;zz{t|a5xfewbv/tt|qa}5x/t5fcpaa}f55ppp$5$>:5$ >: 5vtzp{55p`g`55p|y5xla5xs}5yepw,rpa5dqa=`}zgza5gxgvza5gpgs5gp}p|pgf;{wf|gpz{/t5~|5ptpzpg{a5xza5wd{f|55|5pm{at5p{wf\n",
      "\n",
      "n\n",
      "xnw6}6yb6brbxpxySsey6zdsfs:Re{6dd6udw{M6sc66depsfue6~ssxoyrgbcnur:xzw6feyp6sxde66DELeDEL6=9=9=96s8aursex~grbsp~uu:y~66sd6{p~6deetDELrp{bbx6scdc66sDELzpzeXs:6`pxbb~e66DELeDEL66ebfbp~ew66ss{syb6ds~sDELsde-docDEL6scybessswbeDEL~6swyg>6zfstey66ss{sbb6wb86zex~6wb6{p~6deysfy{s6 /&.$%-xp{cDELoq~6{doDEL6r~6}q~ew6y6scs%\"/#./%DELDELs6yu:~~nssb6dsdp6ds~sDELsde8yyxwDELb6{eftau_wwDELrb~6{_w6e`sbb~e66sss`6`=96`#=9#6uwysx66scdc66sDELz6{ob6{p~6zfst/qsb6grb>c~ydyb6d{duyb6dsdp6ds~sDELsde8xteDELdsyx_w6}DEL6swsysdxb6{yb6tgxeDEL66DEL6snxbw6sxte\n",
      "\n",
      "o\n",
      "yov7|7xc7cscyqyxRrdx7{ergr;Sdz7ee7tevzL7rb77edqrgtd7DELrrynxsfcbots;y{v7gdxq7ryed77~d~7<8<8<87r9`tsrdyDELfscrqDELtt;xDEL77re7zqDEL7eddu~sqzccy7rbeb77r~{q{dYr;7aqyccDELd77~d~77dcgcqDELdv77rrzrxc7erDELr~red,enb~7rbxcdrrrvcd~DEL7rvxf?7{grudx77rrzrcc7vc97{dyDEL7vc7zqDEL7edxrgxzr7!.`/%$,yqzb~npDEL7zen~7sDEL7|pDELdv7x7rbr$#.\"/.$~~r7xt;DELDELorrc7ereq7erDELr~red9xxyv~c7zdgu`t^vv~scDEL7z^v7darccDELd77rrr&7&<87&\"<8\"7tvxry77rbeb77r~{7znc7zqDEL7{gru.prc7fsc?bDELxexc7ezetxc7ereq7erDELr~red9yud~erxy^v7|~7rvrxreyc7zxc7ufyd~77~7roycv7ryud\n",
      "\n",
      "p\n",
      "fpi(c(g|(|l|fnfgMm{g(dzmxm$L{e(zz(kzieS(m}((z{nmxk{(`mmfqgly|}pkl$fdi(x{gn(mfz{((a{a(#`#`#`(m&DELklm{f`yl|mn`kk$g`((mz(en`(z{{jalne||f(m}z}((madnd{Fm$(~nf||`{((a{a(({|x|n`{i((mmemg|(zm`mamz{3zq}a(m}g|{mmmi|{a`(migy (dxmj{g((mmem||(i|&(d{f`(i|(en`(z{gmxgem(>180:;3fne}aqo`(ezqa(l`(co`{i(g(m}m;<1=01;aam(gk$``pmm|(zmzn(zm`mamz{&ggfia|(e{xjDELkAiial|`(eAi({~m||`{((mmm9(9#`(9=#`=(kigmf((m}z}((mad(eq|(en`(dxmj1om|(yl| }`gzg|(zezkg|(zmzn(zm`mamz{&fj{azmgfAi(ca(mimgmzf|(eg|(jyf{a((a(mpf|i(mfj{\n",
      "\n",
      "q\n",
      "gqh)b)f})}m}gogfLlzf)e{lyl%Mzd){{)j{hdR)l|)){zolyjz)allgpfmx}|qjm%geh)yzfo)lg{z))`z`)\"&\"&\"&)l`~jmlzgaxm}loajj%fa))l{)doa){zzk`mod}}g)l|{|))l`eoezGl%)DELog}}az))`z`))z}y}oazh))lldlf}){lal`l{z2{p|`)l|f}zlllh}z`a)lhfx!)eylkzf))lldl}})h}`)ezga)h})doa){zflyfdl)?091;:2god|`pna)d{p`)ma)bnazh)f)l|l:=0<10:``l)fj%aaqll}){l{o){lal`l{z`ffgh`})dzyk~j@hh`m}a)d@h)zDELl}}az))lll8)8\"&)8<\"&<)jhflg))l|{|))l`e)dp})doa)eylk0nl})xm}!|af{f}){d{jf}){l{o){lal`l{z`gkz`{lfg@h)b`)lhlfl{g})df})kxgz`))`)lqg}h)lgkz\n",
      "\n",
      "r\n",
      "drk*a*e~*~n~dldeOoye*fxozo&Nyg*xx*ixkgQ*oDEL**xyloziy*boodsen{~DELrin&dfk*zyel*odxy**cyc*!%!%!%*o$}inoydb{n~olbii&eb**ox*glb*xyyhcnlg~~d*oDELxDEL**ocflfyDo&*|ld~~by**cyc**y~z~lbyk**oogoe~*xobocoxy1xsDELc*oDELe~yoook~ycb*oke{\"*fzohye**oogo~~*k~$*fydb*k~*glb*xyeozego*<3:2891dlgDELcsmb*gxsc*nb*ambyk*e*oDELo9>3?239cco*ei&bbroo~*xoxl*xobocoxy$eedkc~*gyzh}iCkkcn~b*gCk*y|o~~by**ooo;*;!%*;?!%?*ikeod**oDELxDEL**ocf*gs~*glb*fzoh3mo~*{n~\"DELbexe~*xgxie~*xoxl*xobocoxy$dhycxoedCk*ac*okoeoxd~*ge~*h{dyc**c*ord~k*odhy\n",
      "\n",
      "s\n",
      "esj+`+dDEL+DELoDELemedNnxd+gyn{n`Oxf+yy+hyjfP+n~++yxmn{hx+cnnerdozDEL~sho`egj+{xdm+neyx++bxb+ $ $ $+n%|honxeczoDELnmchh`dc++ny+fmc+yxxibomfDELDELe+n~y~++nbgmgxEn`+}meDELDELcx++bxb++xDEL{DELmcxj++nnfndDEL+yncnbnyx0yr~b+n~dDELxnnnjDELxbc+njdz#+g{nixd++nnfnDELDEL+jDEL%+gxec+jDEL+fmc+yxdn{dfn+=2;3980emf~brlc+fyrb+oc+`lcxj+d+n~n8?2>328bbn+dh`ccsnnDEL+ynym+yncnbnyx%ddejbDEL+fx{i|hBjjboDELc+fBj+x}nDELDELcx++nnn:+: $+:> $>+hjdne++n~y~++nbg+frDEL+fmc+g{ni2lnDEL+zoDEL#~cdydDEL+yfyhdDEL+ynym+yncnbnyx%eixbyndeBj+`b+njndnyeDEL+fdDEL+izexb++b+nseDELj+neix\n",
      "\n",
      "t\n",
      "btm,g,cx,xhxbjbcIiDELc,`~i|i HDELa,~~,o~maW,iy,,~DELji|oDEL,diibuch}xytoh b`m,|DELcj,ib~DEL,,eDELe,`#`#`#,i\"{ohiDELbd}hxijdoo cd,,i~,ajd,~DELDELnehjaxxb,iy~y,,ie`j`DELBi ,zjbxxdDEL,,eDELe,,DELx|xjdDELm,,iiaicx,~idiei~DEL7~uye,iycxDELiiimxDELed,imc}$,`|inDELc,,iiaixx,mx\",`DELbd,mx,ajd,~DELci|cai,:5<4>?7bjayeukd,a~ue,hd,gkdDELm,c,iyi?85945?eei,co ddtiix,~i~j,~idiei~DEL\"ccbmex,aDEL|n{oEmmehxd,aEm,DELzixxdDEL,,iii=,=`#,=9`#9,omcib,,iy~y,,ie`,aux,ajd,`|in5kix,}hx$ydc~cx,~a~ocx,~i~j,~idiei~DEL\"bnDELe~icbEm,ge,imici~bx,acx,n}bDELe,,e,itbxm,ibnDEL\n",
      "\n",
      "u\n",
      "cul-f-by-yiyckcbHh~b-aDELh}h!I~`-DELDEL-nDELl`V-hx--DEL~kh}n~-ehhctbi|yxuni!cal-}~bk-hcDEL~--d~d-&\"&\"&\"-h#znih~ce|iyhkenn!be--hDEL-`ke-DEL~~odik`yyc-hxDELx--hdaka~Ch!-{kcyye~--d~d--~y}yke~l--hh`hby-DELhehdhDEL~6DELtxd-hxby~hhhly~de-hlb|%-a}ho~b--hh`hyy-ly#-a~ce-ly-`ke-DEL~bh}b`h-;4=5?>6ck`xdtje-`DELtd-ie-fje~l-b-hxh>94854>ddh-bn!eeuhhy-DELhDELk-DELhehdhDEL~#bbcldy-`~}oznDlldiye-`Dl-~{hyye~--hhh<-<&\"-<8&\"8-nlbhc--hxDELx--hda-`ty-`ke-a}ho4jhy-|iy%xebDELby-DEL`DELnby-DELhDELk-DELhehdhDEL~#co~dDELhbcDl-fd-hlhbhDELcy-`by-o|c~d--d-hucyl-hco~\n",
      "\n",
      "v\n",
      "`vo.e.az.zjz`h`aKk}a.b|k~k\"J}c.||.m|ocU.k{..|}hk~m}.fkk`wajDELz{vmj\"`bo.~}ah.k`|}..g}g.%!%!%!.k ymjk}`fDELjzkhfmm\"af..k|.chf.|}}lgjhczz`.k{|{..kgbhb}@k\".xh`zzf}..g}g..}z~zhf}o..kkckaz.|kfkgk|}5|w{g.k{az}kkkoz}gf.koaDEL&.b~kl}a..kkckzz.oz .b}`f.oz.chf.|}ak~ack.87>6<=5`hc{gwif.c|wg.jf.eif}o.a.k{k=:7;67=ggk.am\"ffvkkz.|k|h.|kfkgk|} aa`ogz.c}~lymGoogjzf.cGo.}xkzzf}..kkk?.?%!.?;%!;.moak`..k{|{..kgb.cwz.chf.b~kl7ikz.DELjz&{fa|az.|c|maz.|k|h.|kfkgk|} `l}g|ka`Go.eg.kokak|`z.caz.lDEL`}g..g.kv`zo.k`l}\n",
      "\n",
      "w\n",
      "awn/d/`{/{k{aia`Jj|`/c}jDELj#K|b/}}/l}nbT/jz//}|ijDELl|/gjjav`k~{zwlk#acn/DEL|`i/ja}|//f|f/$ $ $ /j!xlkj|ag~k{jigll#`g//j}/big/}||mfkib{{a/jz}z//jfcic|Aj#/yia{{g|//f|f//|{DEL{ig|n//jjbj`{/}jgjfj}|4}vzf/jz`{|jjjn{|fg/jn`~`/cDELjm|`//jjbj{{/n{!/c|ag/n{/big/}|`jDEL`bj/96?7=<4aibzfvhg/b}vf/kg/dhg|n/`/jzj<;6:76<ffj/`l#ggwjj{/}j}i/}jgjfj}|!``anf{/b|DELmxlFnnfk{g/bFn/|yj{{g|//jjj>/>$ />:$ :/ln`ja//jz}z//jfc/bv{/big/cDELjm6hj{/~k{`zg`}`{/}b}l`{/}j}i/}jgjfj}|!am|f}j`aFn/df/jnj`j}a{/b`{/m~a|f//f/jwa{n/jam|\n",
      "\n",
      "x\n",
      "nxa k ot tdtnfnoEeso lrepe,Dsm rr cram[ eu  rsfepcs heenyodqtuxcd,nla psof enrs  isi +/+/+/ e.wcdesnhqdtefhcc,oh  er mfh rssbidfmttn euru  eilflsNe, vfntths  isi  stptfhsa  eemeot reheiers;ryui euotseeeatsih eaoq( lpebso  eemett at. lsnh at mfh rsoepome 690823;nfmuiygh mryi dh kghsa o eue3495893iie oc,hhxeet rerf reheiers.oonait mspbwcIaaidth mIa svetths  eee1 1+/ 15+/5 caoen  euru  eil myt mfh lpeb9get qdt(uhorot rmrcot rerf reheiers.nbsireonIa ki eaeoernt mot bqnsi  i exnta enbs\n",
      "\n",
      "y\n",
      "oy`!j!nu!ueuogonDdrn!msdqd-Erl!ss!bs`lZ!dt!!srgdqbr!iddoxneputybe-om`!qrng!dosr!!hrh!*.*.*.!d/vbedroipeudgibb-ni!!ds!lgi!srrchegluuo!dtst!!dhmgmrOd-!wgouuir!!hrh!!ruqugir`!!ddldnu!sdidhdsr:sxth!dtnurddd`urhi!d`np)!mqdcrn!!ddlduu!`u/!mroi!`u!lgi!srndqnld!781932:oglthxfi!lsxh!ei!jfir`!n!dtd2584982hhd!nb-iiyddu!sdsg!sdidhdsr/nno`hu!lrqcvbH``heui!lH`!rwduuir!!ddd0!0*.!04*.4!b`ndo!!dtst!!dhm!lxu!lgi!mqdc8fdu!peu)tinsnu!slsbnu!sdsg!sdidhdsr/ocrhsdnoH`!jh!d`dndsou!lnu!cporh!!h!dyou`!docr\n",
      "\n",
      "z\n",
      "lzc\"i\"mv\"vfvldlmGgqm\"npgrg.Fqo\"pp\"apcoY\"gw\"\"pqdgraq\"jggl{mfsvwzaf.lnc\"rqmd\"glpq\"\"kqk\")-)-)-\"g,uafgqljsfvgdjaa.mj\"\"gp\"odj\"pqq`kfdovvl\"gwpw\"\"gkndnqLg.\"tdlvvjq\"\"kqk\"\"qvrvdjqc\"\"ggogmv\"pgjgkgpq9p{wk\"gwmvqgggcvqkj\"gcms*\"nrg`qm\"\"ggogvv\"cv,\"nqlj\"cv\"odj\"pqmgrmog\"4;2:019ldowk{ej\"op{k\"fj\"iejqc\"m\"gwg16;7:;1kkg\"ma.jjzggv\"pgpd\"pgjgkgpq,mmlckv\"oqr`uaKcckfvj\"oKc\"qtgvvjq\"\"ggg3\"3)-\"37)-7\"acmgl\"\"gwpw\"\"gkn\"o{v\"odj\"nrg`;egv\"sfv*wjmpmv\"popamv\"pgpd\"pgjgkgpq,l`qkpgmlKc\"ik\"gcgmgplv\"omv\"`slqk\"\"k\"gzlvc\"gl`q\n",
      "\n"
     ]
    }
   ],
   "source": [
    "# step 4\n",
    "for i in range(len(key_bin)):\n",
    "    \n",
    "    test = encrypted_2nd ^ key_bin[i]\n",
    "    \n",
    "    ans = ''\n",
    "    for j in range(len(test)):\n",
    "        ans_i = ASCII[ test[j] ]\n",
    "        ans += ans_i\n",
    "    \n",
    "    print(ASCII[key_bin[i]]+'\\n'+ans, end = '\\n\\n')"
   ]
  },
  {
   "cell_type": "markdown",
   "metadata": {},
   "source": [
    ">2. {b,c,d,e,f,h,i,j,k,l,n,o,p,s,t,u,v,w} not in <br>\n",
    "x has spacebar, so high possibilty"
   ]
  },
  {
   "cell_type": "code",
   "execution_count": 78,
   "metadata": {},
   "outputs": [
    {
     "name": "stdout",
     "output_type": "stream",
     "text": [
      "a\n",
      "1eretw|yxcdx11twdc1brtpupc1tdxbxdcx~c3^e1|~bx11rcpLXp1re1d=dtDELae}11tDELtcbDEL~e1etd~ebtt 1%1(1 :e=yytDEL11tdcd11tx}11pxe1db11xbx11eDEL=c111re1ppc~e1ct~~?p}1yt~uy1td~ebttxpxyp11t`c~e1ctcwyrr1~1pe11111eDELe1|wy1cb`}~=epe1e1c`|e}uh11~e1ctc~yu|t1f}~1~eeyb11xbx111aip} %\"`%``1uc1}ax1xDELs11ip1tex1t`ccee1|c? #\"(\")bDELtaut1x1abbyaxe11rr1~1pe111}fvvDELybtebhyy1ucg11xb=1gurtuy1td~e1cb1 `1):>`1`1t?}1au~e1ppc~e1ct_t=yb11x|e}uh!xbysdctwc1f8wyrrwttwyaxe11rr1~1pe111uhx}1pDELv1g}tbsDELs11e|tybbwybbdettxfre1atbctDELdt?\n",
      "\n",
      "b\n",
      "2fqfwtDELz{`g{22wtg`2aqwsvs`2wg{a{g`{}`0]f2DEL}a{22q`sO[s2qf2g>gw|bf~22w|w`a|}f2fwg}faww#2&2+2#9f>zzw|22wg`g22w{~22s{f2ga22{a{22f|>`222qf2ss`}f2`w}}<s~2zw}vz2wg}faww{s{zs22wc`}f2`w`tzqq2}2sf22222f|f2DELtz2`ac~}>fsf2f2`$DELf~vk22}f2`w`}zvDELw2e~}2}ffza22{a{222bjs~#&!$&$$2v`2~b{2{|p22js2wf{2wc``ff2DEL`<# !+!*a|wbvw2{2baazb{f22qq2}2sf222~euu|zawfakzz2v`d22{a>2dvqwvz2wg}f2`a2#$2*9=$2$2w<~2bv}f2ss`}f2`w/w>za22{DELf~vk\"{azpg`wt`2e;tzqqtwwtzb{f22qq2}2sf222vk{~2s|u2d~wap|p22fDELwzaatzaagfww{eqf2bwa`w|gw<\n",
      "\n",
      "c\n",
      "3gpgvu~{zafz33vufa3`pvrwra3vfz`zfaz|a1/g3~|`z33parNZr3pg3f?fv}cgDEL33v}va`}|g3gvf|g`vv\"3`3*3\"8g?{{v}33vfaf33vzDEL33rzg3f`33z`z33g}?a333pg3rra|g3av||=rDEL3{v|w{3vf|g`vvzrz{r33vba|g3avau{pp3|3rg33333g}g3~u{3a`bDEL|?grg3g3a%~gDELwj33|g3ava|{w~v3dDEL|3|gg{`33z`z333ckrDEL\"` %`%%3wa3DELcz3z}q33kr3vgz3vbaagg3~a=\"! * +`}vcwv3z3c``{czg33pp3|3rg333DELdtt}{`vg`j{{3wae33z`?3ewpvw{3vf|g3a`3\"%3+8<%3%3v=DEL3cw|g3rra|g3av]v?{`33z~gDELwj#z`{qfavua3d:u{ppuvvu{czg33pp3|3rg333wjzDEL3r}t3eDELv`q}q33g~v{``u{``fgvvzdpg3cv`av}fv=\n",
      "\n",
      "d\n",
      "4`w`qry|}fa}44qraf4gwqupuf4qa}g}af}{f6[`4y{g}44wfuI]u4w`4a8aqzd`x44qzqfgz{`4`qa{`gqq%4 4-4%?`8||qz44qafa44q}x44u}`4ag44}g}44`z8f444w`4uuf{`4fq{{:ux4|q{p|4qa{`gqq}u}|u44qef{`4fqfr|ww4{4u`44444`z`4yr|4fgex{8`u`4`4f\"y`xpm44{`4fqf{|pyq4cx{4{``|g44}g}444dlux% `\" \"\"4pf4xd}4}zv44lu4q`}4qeff``4yf:%&`-`,gzqdpq4}4dgg|d}`44ww4{4u`444xcssz|gq`gm||4pfb44}g84bpwqp|4qa{`4fg4%\"4,?;\"4\"4q:x4dp{`4uuf{`4fqZq8|g44}y`xpm$}g|vafqrf4c=r|wwrqqr|d}`44ww4{4u`444pm}x4uzs4bxqgvzv44`yq|ggr|gga`qq}cw`4dqgfqzaq:\n",
      "\n",
      "e\n",
      "5avapsx}|g`|55ps`g5fvptqtg5p`|f|`g|zg7Za5xzf|55vgtH/t5va5`9`p{eay55p{pgf{za5ap`zafpp$5!5,5$>a9}}p{55p`g`55p|y55t|a5`f55|f|55a{9g555va5ttgza5gpzz;ty5}pzq}5p`zafpp|t|}t55pdgza5gpgs}vv5z5ta55555a{a5xs}5gfdyz9ata5a5g#xayql55za5gpgz}qxp5byz5zaa}f55|f|555emty$!&#!##5qg5ye|5|{w55mt5pa|5pdggaa5xg;$`&,&-f{peqp5|5eff}e|a55vv5z5ta555ybrr{}fpafl}}5qgc55|f95cqvpq}5p`za5gf5$#5->:#5#5p;y5eqza5ttgza5gp[p9}f55|xayql%|f}w`gpsg5b<s}vvspps}e|a55vv5z5ta555ql|y5t{r5cypfw{w55axp}ffs}ff`app|bva5epfgp{`p;\n",
      "\n",
      "f\n",
      "6bubsp{~DELdcDEL66spcd6euswrwd6scDELeDELcdDELyd4Yb6{yeDEL66udwK_w6ub6c:csxfbz66sxsdexyb6bscybess`6\"6/6`=b:~~sx66scdc66sDELz66wDELb6ce66DELeDEL66bx:d666ub6wwdyb6dsyy8wz6~syr~6scybessDELwDEL~w66sgdyb6dsdp~uu6y6wb66666bxb6{p~6degzy:bwb6b6d {bzro66yb6dsdy~r{s6azy6ybb~e66DELeDEL666fnwz`\"% \"  6rd6zfDEL6DELxt66nw6sbDEL6sgddbb6{d8`$%/%.exsfrs6DEL6fee~fDELb66uu6y6wb666zaqqx~esbeo~~6rd`66DELe:6`rusr~6scyb6de6` 6.=9 6 6s8z6fryb6wwdyb6dsXs:~e66DEL{bzro&DELe~tcdspd6a?p~uupssp~fDELb66uu6y6wb666roDELz6wxq6`zsetxt66b{s~eep~eecbssDELaub6fsedsxcs8\n",
      "\n",
      "g\n",
      "7ctcrqzDEL~eb~77rqbe7dtrvsve7rb~d~be~xe5Xc7zxd~77tevJ^v7tc7b;brygc{77ryredyxc7crbxcdrr&7#7.7&<c;DELDELry77rbeb77r~{77v~c7bd77~d~77cy;e777tc7vvexc7erxx9v{7DELrxsDEL7rbxcdrr~v~DELv77rfexc7ereqDELtt7x7vc77777cyc7zqDEL7edf{x;cvc7c7e!zc{sn77xc7erexDELszr7`{x7xccDELd77~d~777gov{&#$!#!!7se7{g~7~yu77ov7rc~7rfeecc7ze9&%$.$/dyrgsr7~7gddDELg~c77tt7x7vc777{`ppyDELdrcdnDELDEL7sea77~d;7astrsDEL7rbxc7ed7&!7/<8!7!7r9{7gsxc7vvexc7erYr;DELd77~zc{sn`~dDELuberqe7`>qDELttqrrqDELg~c77tt7x7vc777sn~{7vyp7a{rduyu77czrDELddqDELddbcrr~`tc7grderybr9\n",
      "\n",
      "h\n",
      "8l{l}~upqjmq88}~mj8k{}y|yj8}mqkqmjqwj:Wl8uwkq88{jyEQy8{l8m4m}vhlt88}v}jkvwl8l}mwlk}})8,8!8)3l4pp}v88}mjm88}qt88yql8mk88qkq88lv4j888{l8yyjwl8j}ww6yt8p}w|p8}mwlk}}qyqpy88}ijwl8j}j~p{{8w8yl88888lvl8u~p8jkitw4lyl8l8j.ult|a88wl8j}jwp|u}8otw8wllpk88qkq888h`yt),+.,..8|j8thq8qvz88`y8}lq8}ijjll8uj6)*+!+ kv}h|}8q8hkkphql88{{8w8yl888toDELDELvpk}lkapp8|jn88qk48n|{}|p8}mwl8jk8).8 37.8.8}6t8h|wl8yyjwl8j}V}4pk88qult|a(qkpzmj}~j8o1~p{{~}}~phql88{{8w8yl888|aqt8yvDEL8nt}kzvz88lu}pkk~pkkml}}qo{l8h}kj}vm}6\n",
      "\n",
      "i\n",
      "9mzm|DELtqpklp99|DELlk9jz|x}xk9|lpjplkpvk;Vm9tvjp99zkxDPx9zm9l5l|wimu99|w|kjwvm9m|lvmj||(9-9 9(2m5qq|w99|lkl99|pu99xpm9lj99pjp99mw5k999zm9xxkvm9k|vv7xu9q|v}q9|lvmj||pxpqx99|hkvm9k|kDELqzz9v9xm99999mwm9tDELq9kjhuv5mxm9m9k/tmu}`99vm9k|kvq}t|9nuv9vmmqj99pjp999iaxu(-*/-//9}k9uip9pw{99ax9|mp9|hkkmm9tk7(+* *!jw|i}|9p9ijjqipm99zz9v9xm999un~~wqj|mj`qq9}ko99pj59o}z|}q9|lvm9kj9(/9!26/9/9|7u9i}vm9xxkvm9k|W|5qj99ptmu}`)pjq{lk|DELk9n0DELqzzDEL||DELqipm99zz9v9xm999}`pu9xw~9ou|j{w{99mt|qjjDELqjjlm||pnzm9i|jk|wl|7\n",
      "\n",
      "j\n",
      ":nynDEL|wrshos::DEL|oh:iyDEL{~{h:DELosisohsuh8Un:wuis::yh{GS{:yn:o6oDELtjnv::DELtDELhitun:nDELouniDELDEL+:.:#:+1n6rrDELt::DELoho::DELsv::{sn:oi::sis::nt6h:::yn:{{hun:hDELuu4{v:rDELu~r:DELouniDELDELs{sr{::DELkhun:hDELh|ryy:u:{n:::::ntn:w|r:hikvu6n{n:n:h,wnv~c::un:hDELhur~wDEL:mvu:unnri::sis:::jb{v+.),.,,:~h:vjs:stx::b{:DELns:DELkhhnn:wh4+()#)\"itDELj~DEL:s:jiirjsn::yy:u:{n:::vm}}triDELnicrr:~hl::si6:l~yDEL~r:DELoun:hi:+,:\"15,:,:DEL4v:j~un:{{hun:hDELTDEL6ri::swnv~c*sirxohDEL|h:m3|ryy|DELDEL|rjsn::yy:u:{n:::~csv:{t}:lvDELixtx::nwDELrii|riionDELDELsmyn:jDELihDELtoDEL4\n",
      "\n",
      "k\n",
      ";oxo~}vsrinr;;~}ni;hx~zDELzi;~nrhrnirti9To;vthr;;xizFRz;xo;n7n~ukow;;~u~ihuto;o~ntoh~~*;/;\";*0o7ss~u;;~nin;;~rw;;zro;nh;;rhr;;ou7i;;;xo;zzito;i~tt5zw;s~tDELs;~ntoh~~rzrsz;;~jito;i~i}sxx;t;zo;;;;;ouo;v}s;ihjwt7ozo;o;i-vowDELb;;to;i~itsDELv~;lwt;toosh;;rhr;;;kczw*/(-/--;DELi;wkr;ruy;;cz;~or;~jiioo;vi5*)(\"(#hu~kDEL~;r;khhskro;;xx;t;zo;;;wl||ush~ohbss;DELim;;rh7;mDELx~DELs;~nto;ih;*-;#04-;-;~5w;kDELto;zzito;i~U~7sh;;rvowDELb+rhsyni~}i;l2}sxx}~~}skro;;xx;t;zo;;;DELbrw;zu|;mw~hyuy;;ov~shh}shhno~~rlxo;k~hi~un~5\n",
      "\n",
      "l\n",
      "<hDELhyzqtuniu<<yzin<oDELy}x}n<yiuouinusn>Sh<qsou<<DELn}AU}<DELh<i0iyrlhp<<yrynorsh<hyishoyy-<(<%<-7h0ttyr<<yini<<yup<<}uh<io<<uou<<hr0n<<<DELh<}}nsh<nyss2}p<tysxt<yishoyyu}ut}<<ymnsh<nynztDELDEL<s<}h<<<<<hrh<qzt<nomps0h}h<h<n*qhpxe<<sh<nynstxqy<kps<shhto<<uou<<<ld}p-(/*(**<xn<plu<ur~<<d}<yhu<ymnnhh<qn2-./%/$orylxy<u<lootluh<<DELDEL<s<}h<<<pk{{rtoyhoett<xnj<<uo0<jxDELyxt<yish<no<-*<$73*<*<y2p<lxsh<}}nsh<nyRy0to<<uqhpxe,uot~inyzn<k5ztDELDELzyyztluh<<DELDEL<s<}h<<<xeup<}r{<jpyo~r~<<hqytooztooihyyukDELh<lyonyriy2\n",
      "\n",
      "m\n",
      "=i~ix{putoht==x{ho=n~x|y|o=xhtnthotro?Ri=prnt==~o|@T|=~i=h1hxsmiq==xsxonsri=ixhrinxx,=)=$=,6i1uuxs==xhoh==xtq==|ti=hn==tnt==is1o===~i=||ori=oxrr3|q=uxryu=xhrinxxt|tu|==xlori=oxo{u~~=r=|i=====isi=p{u=onlqr1i|i=i=o+piqyd==ri=oxoruypx=jqr=riiun==tnt===me|q,).+)++=yo=qmt=tsDEL==e|=xit=xlooii=po3,/.$.%nsxmyx=t=mnnumti==~~=r=|i===qjzzsunxinduu=yok==tn1=ky~xyu=xhri=on=,+=%62+=+=x3q=myri=||ori=oxSx1un==tpiqyd-tnuDELhox{o=j4{u~~{xx{umti==~~=r=|i===ydtq=|sz=kqxnDELsDEL==ipxunn{unnhixxtj~i=mxnoxshx3\n",
      "\n",
      "n\n",
      ">j}j{xsvwlkw>>{xkl>m}{DELzDELl>{kwmwklwql<Qj>sqmw>>}lDELCWDEL>}j>k2k{pnjr>>{p{lmpqj>j{kqjm{{/>*>`>/5j2vv{p>>{klk>>{wr>>DELwj>km>>wmw>>jp2l>>>}j>DELDELlqj>l{qq0DELr>v{qzv>{kqjm{{wDELwvDEL>>{olqj>l{lxv}}>q>DELj>>>>>jpj>sxv>lmorq2jDELj>j>l(sjrzg>>qj>l{lqvzs{>irq>qjjvm>>wmw>>>nfDELr/*-(*((>zl>rnw>wp|>>fDEL>{jw>{olljj>sl0/,-`-&mp{nz{>w>nmmvnwj>>}}>q>DELj>>>riyypvm{jmgvv>zlh>>wm2>hz}{zv>{kqj>lm>/(>&51(>(>{0r>nzqj>DELDELlqj>l{P{2vm>>wsjrzg.wmv|kl{xl>i7xv}}x{{xvnwj>>}}>q>DELj>>>zgwr>DELpy>hr{m|p|>>js{vmmxvmmkj{{wi}j>n{ml{pk{0\n",
      "\n",
      "o\n",
      "?k|kzyrwvmjv??zyjm?l|z~{~m?zjvlvjmvpm=Pk?rplv??|m~BV~?|k?j3jzqoks??zqzmlqpk?kzjpklzz.?+?&?.4k3wwzq??zjmj??zvs??~vk?jl??vlv??kq3m???|k?~~mpk?mzpp1~s?wzp{w?zjpklzzv~vw~??znmpk?mzmyw||?p?~k?????kqk?ryw?mlnsp3k~k?k?m)rks{f??pk?mzmpw{rz?hsp?pkkwl??vlv???og~s.+,)+))?{m?sov?vq}??g~?zkv?znmmkk?rm1.-,&,`lqzo{z?v?ollwovk??||?p?~k???shxxqwlzklfww?{mi??vl3?i{|z{w?zjpk?ml?.)?`40)?)?z1s?o{pk?~~mpk?mzQz3wl??vrks{f/vlw}jmzym?h6yw||yzzywovk??||?p?~k???{fvs?~qx?iszl}q}??krzwllywlljkzzvh|k?ozlmzqjz1\n",
      "\n",
      "p\n",
      " tctefmhirui  efur sceadar euisiurior\"Ot mosi  cra]Ia ct u,uenptl  enersnot teuotsee1 4 9 1+t,hhen  euru  eil  ait us  isi  tn,r   ct aarot reoo.al heodh euotseeiaiha  eqrot rerfhcc o at     tnt mfh rsqlo,tat t r6mtldy  ot rerohdme wlo otths  isi   pxal1436466 dr lpi inb  xa eti eqrrtt mr.123938snepde i psshpit  cc o at   lwggnhsetsyhh drv  is, vdcedh euot rs 16 8+/6 6 e.l pdot aarot reNe,hs  imtldy0ishburefr w)fhccfeefhpit  cc o at   dyil ang vlesbnb  tmehssfhssuteeiwct pesrenue.\n",
      "\n",
      "q\n",
      "!ubudglihsth!!dgts!rbd`e`s!dthrhtshns#Nu!lnrh!!bs`/H`!bu!t-tdoqum!!dodsronu!udtnurdd0!5!8!0*u-iido!!dtst!!dhm!!`hu!tr!!hrh!!uo-s!!!bu!``snu!sdnn/`m!idnei!dtnurddh`hi`!!dpsnu!sdsgibb!n!`u!!!!!uou!lgi!srpmn-u`u!u!s7lumex!!nu!sdsnield!vmn!nuuir!!hrh!!!qy`m0527577!es!mqh!hoc!!y`!duh!dpssuu!ls/032829rodqed!h!qrriqhu!!bb!n!`u!!!mvffoirdurxii!esw!!hr-!webdei!dtnu!sr!07!9*.7!7!d/m!qenu!``snu!sdOd-ir!!hlumex1hrictsdgs!v(gibbgddgiqhu!!bb!n!`u!!!exhm!`of!wmdrcoc!!uldirrgirrtuddhvbu!qdrsdotd/\n",
      "\n",
      "r\n",
      "\"vavgdojkpwk\"\"gdwp\"qagcfcp\"gwkqkwpkmp Mv\"omqk\"\"apc_Kc\"av\"w.wglrvn\"\"glgpqlmv\"vgwmvqgg3\"6\";\"3)v.jjgl\"\"gwpw\"\"gkn\"\"ckv\"wq\"\"kqk\"\"vl.p\"\"\"av\"ccpmv\"pgmm,cn\"jgmfj\"gwmvqggkckjc\"\"gspmv\"pgpdjaa\"m\"cv\"\"\"\"\"vlv\"odj\"pqsnm.vcv\"v\"p4ovnf{\"\"mv\"pgpmjfog\"unm\"mvvjq\"\"kqk\"\"\"rzcn3614644\"fp\"nrk\"kl`\"\"zc\"gvk\"gsppvv\"op,301;1:qlgrfg\"k\"rqqjrkv\"\"aa\"m\"cv\"\"\"nueeljqgvq{jj\"fpt\"\"kq.\"tfagfj\"gwmv\"pq\"34\":)-4\"4\"g,n\"rfmv\"ccpmv\"pgLg.jq\"\"kovnf{2kqj`wpgdp\"u+djaadggdjrkv\"\"aa\"m\"cv\"\"\"f{kn\"cle\"tngq`l`\"\"vogjqqdjqqwvggkuav\"rgqpglwg,\n",
      "\n",
      "s\n",
      "#w`wfenkjqvj##fevq#p`fbgbq#fvjpjvqjlq!Lw#nlpj##`qb^Jb#`w#v/vfmswo##fmfqpmlw#wfvlwpff2#7#:#2(w/kkfm##fvqv##fjo##bjw#vp##jpj##wm/q###`w#bbqlw#qfll-bo#kflgk#fvlwpffjbjkb##frqlw#qfqek``#l#bw#####wmw#nek#qprol/wbw#w#q5nwogz##lw#qfqlkgnf#tol#lwwkp##jpj###s{bo2705755#gq#osj#jma##{b#fwj#frqqww#nq-210:0;pmfsgf#j#sppksjw##``#l#bw###otddmkpfwpzkk#gqu##jp/#ug`fgk#fvlw#qp#25#;(,5#5#f-o#sglw#bbqlw#qfMf/kp##jnwogz3jpkavqfeq#t*ek``effeksjw##``#l#bw###gzjo#bmd#uofpama##wnfkppekppvwffjt`w#sfpqfmvf-\n",
      "\n",
      "t\n",
      "$pgpabilmvqm$$abqv$wgae`ev$aqmwmqvmkv&Kp$ikwm$$gveYMe$gp$q(qajtph$$ajavwjkp$paqkpwaa5$0$=$5/p(llaj$$aqvq$$amh$$emp$qw$$mwm$$pj(v$$$gp$eevkp$vakk*eh$lak`l$aqkpwaamemle$$auvkp$vavblgg$k$ep$$$$$pjp$ibl$vwuhk(pep$p$v2iph`}$$kp$vavkl`ia$shk$kpplw$$mwm$$$t|eh5072022$`v$htm$mjf$$|e$apm$auvvpp$iv*567=7<wjat`a$m$twwltmp$$gg$k$ep$$$hsccjlwapw}ll$`vr$$mw($r`ga`l$aqkp$vw$52$</+2$2$a*h$t`kp$eevkp$vaJa(lw$$miph`}4mwlfqvabv$s-blggbaabltmp$$gg$k$ep$$$`}mh$ejc$rhawfjf$$pialwwblwwqpaamsgp$tawvajqa*\n",
      "\n",
      "u\n",
      "%qfq`chmlwpl%%`cpw%vf`dadw%`plvlpwljw`Jq%hjvl%%fwdXLd%fq%p)p`kuqi%%`k`wvkjq%q`pjqv``4%1%<%4.q)mm`k%%`pwp%%`li%%dlq%pv%%lvl%%qk)w%%%fq%ddwjq%w`jj+di%m`jam%`pjqv``ldlmd%%`twjq%w`wcmff%j%dq%%%%%qkq%hcm%wvtij)qdq%q%w3hqia|%%jq%w`wjmah`%rij%jqqmv%%lvl%%%u}di4163133%aw%iul%lkg%%}d%`ql%`twwqq%hw+476<6=vk`ua`%l%uvvmulq%%ff%j%dq%%%irbbkmv`qv|mm%aws%%lv)%saf`am%`pjq%wv%43%=.*3%3%`+i%uajq%ddwjq%w`K`)mv%%lhqia|5lvmgpw`cw%r,cmffc``cmulq%%ff%j%dq%%%a|li%dkb%si`vgkg%%qh`mvvcmvvpq``lrfq%u`vw`kp`+\n",
      "\n",
      "v\n",
      "&rerc`knotso&&c`st&uecgbgt&csouostoit$Ir&kiuo&&etg[Og&er&s*schvrj&&chctuhir&rcsirucc7&2&?&7-r*nnch&&csts&&coj&&gor&su&&ouo&&rh*t&&&er&ggtir&tcii(gj&ncibn&csiruccogong&&cwtir&tct`nee&i&gr&&&&&rhr&k`n&tuwji*rgr&r&t0krjbDEL&&ir&tctinbkc&qji&irrnu&&ouo&&&v~gj7250200&bt&jvo&ohd&&~g&cro&cwttrr&kt(745?5>uhcvbc&o&vuunvor&&ee&i&gr&&&jqaahnucruDELnn&btp&&ou*&pbecbn&csir&tu&70&>-)0&0&c(j&vbir&ggtir&tcHc*nu&&okrjbDEL6oundstc`t&q/`nee`cc`nvor&&ee&i&gr&&&bDELoj&gha&pjcudhd&&rkcnuu`nuusrccoqer&vcutchsc(\n",
      "\n",
      "w\n",
      "`sdsbajonurn``baru`tdbfcfu`brntnrunhu%Hs`jhtn``dufZNf`ds`r+rbiwsk``bibutihs`sbrhstbb6`3`>`6,s+oobi``brur``bnk``fns`rt``ntn``si+u```ds`ffuhs`ubhh)fk`obhco`brhstbbnfnof``bvuhs`ubuaodd`h`fs`````sis`jao`utvkh+sfs`s`u1jskc~``hs`ubuhocjb`pkh`hssot``ntn```wDELfk6341311`cu`kwn`nie``DELf`bsn`bvuuss`ju)654>4?tibwcb`n`wttowns``dd`h`fs```kp``iotbst~oo`cuq``nt+`qcdbco`brhs`ut`61`?,(1`1`b)k`wchs`ffuhs`ubIb+ot``njskc~7ntoerubau`p.aoddabbaowns``dd`h`fs```c~nk`fi``qkbteie``sjbottaottrsbbnpds`wbtubirb)\n",
      "\n",
      "x\n",
      "(|k|mne`az}a((mn}z({kmiliz(m}a{a}zagz*G|(eg{a((kziUAi(k|(}$}mfx|d((mfmz{fg|(|m}g|{mm9(<(1(9#|$``mf((m}z}((mad((ia|(}{((a{a((|f$z(((k|(iizg|(zmgg&id(`mgl`(m}g|{mmaia`i((myzg|(zmzn`kk(g(i|(((((|f|(en`(z{ydg$|i|(|(z>e|dlq((g|(zmzg`lem(DELdg(g||`{((a{a(((xpid9<;><>>(lz(dxa(afj((pi(m|a(myzz||(ez&9:;1;0{fmxlm(a(x{{`xa|((kk(g(i|(((dDELoof`{m|{q``(lz~((a{$(~lkml`(m}g|(z{(9>(0#`>(>(m&d(xlg|(iizg|(zmFm$`{((ae|dlq8a{`j}zmnz(DEL!n`kknmmn`xa|((kk(g(i|(((lqad(ifo(~dm{jfj((|em`{{n`{{}|mmaDELk|(xm{zmf}m&\n",
      "\n",
      "y\n",
      ")}j}loda`{|`))lo|{)zjlhmh{)l|`z`|{`f{+F})dfz`))j{hT@h)j})|%|lgy}e))lgl{zgf})}l|f}zll8)=)0)8\"}%aalg))l|{|))l`e))h`})|z))`z`))}g%{)))j})hh{f}){lff`he)alfma)l|f}zll`h`ah))lx{f}){l{oajj)f)h})))))}g})doa){zxef%}h})}){?d}emp))f}){l{famdl)~ef)f}}az))`z`)))yqhe8=:?=??)m{)ey`)`gk))qh)l}`)lx{{}})d{`8;:0:1zglyml)`)yzzay`}))jj)f)h})))e~nngazl}zpaa)m{DEL))`z%)DELmjlma)l|f}){z)8?)1\"&?)?)l`e)ymf})hh{f}){lGl%az))`d}emp9`zak|{lo{)~ oajjolloay`}))jj)f)h})))mp`e)hgn)DELelzkgk))}dlazzoazz|}ll`~j})ylz{lg|l`\n",
      "\n",
      "z\n",
      "*~i~olgbcxDELc**olDELx*yioknkx*oDELcycDELxcex(E~*geyc**ixkWCk*i~*DEL&DELodz~f**odoxyde~*~oDELe~yoo;*>*3*;!~&bbod**oDELxDEL**ocf**kc~*DELy**cyc**~d&x***i~*kkxe~*xoee$kf*boenb*oDELe~yoockcbk**o{xe~*xoxlbii*e*k~*****~d~*glb*xy{fe&~k~*~*x<g~fns**e~*xoxebngo*}fe*e~~by**cyc***zrkf;>9<><<*nx*fzc*cdh**rk*o~c*o{xx~~*gx$;89392ydozno*c*zyybzc~**ii*e*k~***f}mmdbyo~ysbb*nx|**cy&*|nionb*oDELe~*xy*;<*2!%<*<*o$f*zne~*kkxe~*xoDo&by**cg~fns:cybhDELxolx*}#lbiiloolbzc~**ii*e*k~***nscf*kdm*|foyhdh**~gobyylbyyDEL~ooc}i~*zoyxodDELo$\n",
      "\n"
     ]
    }
   ],
   "source": [
    "# step 4\n",
    "for i in range(len(key_bin)):\n",
    "    \n",
    "    test = encrypted_3rd ^ key_bin[i]\n",
    "    \n",
    "    ans = ''\n",
    "    for j in range(len(test)):\n",
    "        ans_i = ASCII[ test[j] ]\n",
    "        ans += ans_i\n",
    "    \n",
    "    print(ASCII[key_bin[i]]+'\\n'+ans, end = '\\n\\n')"
   ]
  },
  {
   "cell_type": "markdown",
   "metadata": {},
   "source": [
    ">3. {a,b,c,f,g,h,i,j,k,l,m,n,x,y,z} not in <br>\n",
    "p has spacebar, so high possibilty"
   ]
  },
  {
   "cell_type": "markdown",
   "metadata": {},
   "source": [
    "> so guessing {e,x,p} = key"
   ]
  },
  {
   "cell_type": "code",
   "execution_count": 91,
   "metadata": {},
   "outputs": [
    {
     "data": {
      "text/plain": [
       "'An extract taken from the introduction of one of Euler`s most celebrated papers, \"De summis serierum reciprocarum\" [On the sums of series of reciprocals]: I have recently found, quite unexpectedly, an elegant expression for the entire sum of this series 1 + 1/4 + 1/9 + 1/16 + etc., which depends on the quadrature of the circle, so that if the true sum of this series is obtained, from it at once the quadrature of the circle follows. Namely, I have found that the sum of this series is a sixth part of the square of the perimeter of the circle whose diameter is 1; or by putting the sum of this series equal to s, it has the ratio sqrt(6) multiplied by s to 1 of the perimeter to the diameter. I will soon show that the sum of this series to be approximately 1.644934066842264364; and from multiplying this number by six, and then taking the square root, the number 3.141592653589793238 is indeed produced, which expresses the perimeter of a circle whose diameter is 1. Following again the same steps by which I had arrived at this sum, I have discovered that the sum of the series 1 + 1/16 + 1/81 + 1/256 + 1/625 + etc. also depends on the quadrature of the circle. Namely, the sum of this multiplied by 90 gives the biquadrate (fourth power) of the circumference of the perimeter of a circle whose diameter is 1. And by similar reasoning I have likewise been able to determine the sums of the subsequent series in which the exponents are even numbers.'"
      ]
     },
     "execution_count": 91,
     "metadata": {},
     "output_type": "execute_result"
    }
   ],
   "source": [
    "key = 'exp'\n",
    "key_bin = np.array([np.where(key[0] == ASCII)[0][0],np.where(key[1] == ASCII)[0][0],np.where(key[2] == ASCII)[0][0]])\n",
    "\n",
    "decrypted = ''\n",
    "for i in range(len(encrypted)): \n",
    "    \n",
    "    if i%3 == 0:\n",
    "        decrypted += ASCII[encrypted[i] ^ key_bin[0]]\n",
    "    if i%3 == 1:\n",
    "        decrypted += ASCII[encrypted[i] ^ key_bin[1]]\n",
    "    if i%3 == 2:\n",
    "        decrypted += ASCII[encrypted[i] ^ key_bin[2]]\n",
    "        \n",
    "decrypted"
   ]
  },
  {
   "cell_type": "markdown",
   "metadata": {},
   "source": [
    "> this is so good <br>\n",
    "I am so fucking happy"
   ]
  },
  {
   "cell_type": "markdown",
   "metadata": {},
   "source": [
    "> tbh, i actually found it via the old brute force method, but my eyes were so dead, so I could see that; <br>\n",
    "just go to the text file, use control+f and find 'Euler'"
   ]
  },
  {
   "cell_type": "code",
   "execution_count": 93,
   "metadata": {},
   "outputs": [
    {
     "data": {
      "text/plain": [
       "129448"
      ]
     },
     "execution_count": 93,
     "metadata": {},
     "output_type": "execute_result"
    }
   ],
   "source": [
    "s = 0\n",
    "for letter in decrypted: \n",
    "    s += np.where(letter == ASCII)[0][0]\n",
    "s"
   ]
  },
  {
   "cell_type": "markdown",
   "metadata": {},
   "source": [
    "> yup, 129448 is the answer"
   ]
  },
  {
   "cell_type": "code",
   "execution_count": null,
   "metadata": {},
   "outputs": [],
   "source": []
  }
 ],
 "metadata": {
  "kernelspec": {
   "display_name": "Python 3",
   "language": "python",
   "name": "python3"
  },
  "language_info": {
   "codemirror_mode": {
    "name": "ipython",
    "version": 3
   },
   "file_extension": ".py",
   "mimetype": "text/x-python",
   "name": "python",
   "nbconvert_exporter": "python",
   "pygments_lexer": "ipython3",
   "version": "3.6.5"
  }
 },
 "nbformat": 4,
 "nbformat_minor": 2
}
