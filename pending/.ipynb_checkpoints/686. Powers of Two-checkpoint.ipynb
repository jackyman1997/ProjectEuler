{
 "cells": [
  {
   "cell_type": "markdown",
   "metadata": {},
   "source": [
    "## <a href='https://projecteuler.net/problem=686'>686. Powers of Two</a>\n",
    "$2^7=128$  is the first power of two whose leading digits are \"12\".\n",
    "\n",
    "The next power of two whose leading digits are \"12\" is $2^{80}$.\n",
    "\n",
    "Define $p(L,n)$ to be the nth-smallest value of j such that the base 10 representation of $2^j$ begins with the digits of $L$.\n",
    "So $p(12,1)=7$ and $p(12,2)=80$.\n",
    "\n",
    "You are also given that $p(123,45)=12710$.\n",
    "\n",
    "Find $p(123,678910)$.\n",
    "___"
   ]
  },
  {
   "cell_type": "markdown",
   "metadata": {},
   "source": [
    "so <a href='https://math.stackexchange.com/questions/2006159/leading-digits-of-large-power-of-2'>this</a> mentioned:  \n",
    "any base-10 number can be written as:  \n",
    "$$ d \\times n^k $$  \n",
    "where $ d \\in [1,10) $ and $ k \\in \\mathbb{Z} $  \n",
    "in order to find any leading digit of a base-10 number,  \n",
    "d is the 'float', or the leading digit, which can by 'infinitly long'  \n",
    "if a base-10 number $ = 10^a $:  \n",
    "$$ 10^a = 10^{\\big(integer(a) + decimal(a)\\big)} $$  \n",
    "$ 10^{decimal(a)} $ represents the leading digits  "
   ]
  },
  {
   "cell_type": "code",
   "execution_count": 1,
   "metadata": {},
   "outputs": [],
   "source": [
    "# libs\n",
    "from math import log10\n",
    "\n",
    "# input\n",
    "q686_input = {'L': 123, 'n': 678910}\n",
    "\n",
    "# function\n",
    "def q686(L: int, n: int): \n",
    "\n",
    "    j = 0  # the power starts with 0\n",
    "    cnt = 0 # count the i-th '123'-digit-leading power of 2\n",
    "\n",
    "    # spend some on this, just to make the upper is 1.24 and lower is 1.23\n",
    "    upper = log10((L+1)/(10**(len( str(L) ) - 1)))\n",
    "    lower = log10(L/(10**(len( str(L) ) - 1)))\n",
    "    \n",
    "    # loop thru power j\n",
    "    while cnt < n:\n",
    "        j += 1\n",
    "        dec = (j * log10(2))%1      # getting the decimal part of the power\n",
    "        if lower <= dec < upper:    # check if in between\n",
    "            cnt += 1\n",
    "            \n",
    "    return print(f'p({L}, {n}) = {j}')"
   ]
  },
  {
   "cell_type": "code",
   "execution_count": 2,
   "metadata": {},
   "outputs": [
    {
     "name": "stdout",
     "output_type": "stream",
     "text": [
      "p(123, 678910) = 193060223\n",
      "39.7 s ± 0 ns per loop (mean ± std. dev. of 1 run, 1 loop each)\n"
     ]
    }
   ],
   "source": [
    "%%timeit -n 1 -r 1\n",
    "q686(**q686_input)"
   ]
  },
  {
   "cell_type": "code",
   "execution_count": null,
   "metadata": {},
   "outputs": [],
   "source": []
  }
 ],
 "metadata": {
  "kernelspec": {
   "display_name": "Python 3",
   "language": "python",
   "name": "python3"
  },
  "language_info": {
   "codemirror_mode": {
    "name": "ipython",
    "version": 3
   },
   "file_extension": ".py",
   "mimetype": "text/x-python",
   "name": "python",
   "nbconvert_exporter": "python",
   "pygments_lexer": "ipython3",
   "version": "3.6.5"
  }
 },
 "nbformat": 4,
 "nbformat_minor": 2
}
