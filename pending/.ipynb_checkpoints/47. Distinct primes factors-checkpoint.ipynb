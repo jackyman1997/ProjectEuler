{
 "cells": [
  {
   "cell_type": "markdown",
   "metadata": {},
   "source": [
    "## 47. Distinct primes factors\n",
    "The first two consecutive numbers to have two distinct prime factors are:\n",
    "\n",
    "$$ 14 = 2 × 7 $$\n",
    "$$ 15 = 3 × 5 $$\n",
    "\n",
    "The first three consecutive numbers to have three distinct prime factors are:\n",
    "\n",
    "$$ 644 = 2² × 7 × 23 $$\n",
    "$$ 645 = 3 × 5 × 43 $$\n",
    "$$ 646 = 2 × 17 × 19 $$\n",
    "\n",
    "Find the first four consecutive integers to have four distinct prime factors each. What is the first of these numbers?"
   ]
  },
  {
   "cell_type": "code",
   "execution_count": 1,
   "metadata": {},
   "outputs": [],
   "source": [
    "# copied from q3\n",
    "def PrimeFactors(n: int) -> dict:\n",
    "    '''\n",
    "    this returns {p1: a1, p2: a2, ...}\n",
    "    as Fundamental theorem of arithmetic, \n",
    "    n = p1^a1 * p2^a2 * ...\n",
    "    '''\n",
    "    # storage\n",
    "    compositon = {}\n",
    "    # divide 2 first\n",
    "    while n/2 == n//2:\n",
    "        n = n//2\n",
    "        compositon[2] = compositon.get(2, 0) + 1   \n",
    "    # play the game of getting 1\n",
    "    while n != 1:\n",
    "        # check only odd numbers\n",
    "        for odd in range(3, n+1, 2): \n",
    "            while n/odd == n//odd:\n",
    "                n = n//odd\n",
    "                compositon[odd] = compositon.get(odd, 0) + 1\n",
    "            if n == 1:\n",
    "                break      \n",
    "    return compositon"
   ]
  },
  {
   "cell_type": "code",
   "execution_count": 2,
   "metadata": {},
   "outputs": [],
   "source": [
    "# input\n",
    "q47_input = {'consec': 4}\n",
    "\n",
    "# function\n",
    "def q47(consec: int):\n",
    "    n = 1\n",
    "    while True:\n",
    "        # get consecutive numbers in list\n",
    "        check_list = [i for i in range(n, n+consec)]\n",
    "        # get factors of them\n",
    "        all_factors = set()\n",
    "        # check if each has exactly consec factors\n",
    "        same_length = True\n",
    "        for i in check_list:\n",
    "            primes = PrimeFactors(i)\n",
    "            factors = set(p**primes[p] for p in primes)\n",
    "            # check if same length\n",
    "            if len(factors) != consec:\n",
    "                same_length = False\n",
    "            # join factors\n",
    "            all_factors.update(factors)   \n",
    "        # check if len(all_factors) == consec*consec, equivalent to all Distinct primes factors\n",
    "        if len(all_factors) == consec*consec and same_length:\n",
    "            return print('found', check_list)\n",
    "        else:\n",
    "            n += 1"
   ]
  },
  {
   "cell_type": "code",
   "execution_count": 3,
   "metadata": {},
   "outputs": [
    {
     "name": "stdout",
     "output_type": "stream",
     "text": [
      "found [134043, 134044, 134045, 134046]\n",
      "2min 23s ± 0 ns per loop (mean ± std. dev. of 1 run, 1 loop each)\n"
     ]
    }
   ],
   "source": [
    "%%timeit -n 1 -r 1\n",
    "q47(**q47_input)"
   ]
  },
  {
   "cell_type": "code",
   "execution_count": null,
   "metadata": {},
   "outputs": [],
   "source": []
  },
  {
   "cell_type": "code",
   "execution_count": 3,
   "metadata": {},
   "outputs": [],
   "source": [
    "def AllPrimeFactor(n):\n",
    "    \n",
    "# the goal is to play the game of making the number to 1 by division \n",
    "    \n",
    "    # store\n",
    "    pf = np.array([], dtype = 'int32')\n",
    "    a_pf = np.array([], dtype = 'int32')\n",
    "    \n",
    "    while n != 1: \n",
    "        pf_i = LargestPrimeFactor(n)\n",
    "        a_i = 1\n",
    "        while ( n/(pf_i**a_i) )%1 == 0: \n",
    "            a_i += 1\n",
    "        a_i -= 1 # why a_n - 1? coz the while loop check is to check when it is not divisble\n",
    "        \n",
    "        # get rid of the largest prime factor, now preceed to the next\n",
    "        n = n/(pf_i**(a_i))\n",
    "        \n",
    "        pf = np.append(pf,pf_i)\n",
    "        a_pf = np.append(a_pf,a_i)\n",
    "    \n",
    "    # just to sort\n",
    "    pf = pf[::-1]\n",
    "    a_pf = a_pf[::-1]\n",
    "    \n",
    "    whole = np.array([],dtype = 'int32')\n",
    "    for i in range(len(pf)):\n",
    "        whole_i = np.array([ pf[i] , a_pf[i] ])\n",
    "        whole = np.append(whole,whole_i).reshape( (i+1) , 2 )\n",
    "        \n",
    "    # in the format of \n",
    "    # array( [p_1 a_1] , [p_2 a_2] , ... , [p_i a_i] )\n",
    "    \n",
    "    return whole"
   ]
  },
  {
   "cell_type": "code",
   "execution_count": 20,
   "metadata": {},
   "outputs": [],
   "source": [
    "# copied from q3, list version\n",
    "# numpy\n",
    "import numpy as np\n",
    "    \n",
    "def PrimeFactors_list(n: int) -> list:\n",
    "    '''\n",
    "    this returns [ [p1, 1], [p2, a2], ...]\n",
    "    as Fundamental theorem of arithmetic, \n",
    "    n = p1^a1 * p2^a2 * ...\n",
    "    '''\n",
    "    # storage\n",
    "    compositon = []\n",
    "    # divide 2 first\n",
    "    cnt = 0\n",
    "    while n/2 == n//2:\n",
    "        n = n//2\n",
    "        cnt += 1\n",
    "    if cnt > 0:\n",
    "        compositon.append((2, cnt))\n",
    "    # play the game of getting 1\n",
    "    while n != 1:\n",
    "        # check only odd numbers\n",
    "        for odd in range(3, n+1, 2): \n",
    "            cnt = 0\n",
    "            while n/odd == n//odd:\n",
    "                n = n//odd\n",
    "                cnt += 1\n",
    "            if cnt > 0:\n",
    "                compositon.append((odd, cnt))\n",
    "            if n == 1:\n",
    "                break \n",
    "    return np.array(compositon)"
   ]
  },
  {
   "cell_type": "code",
   "execution_count": 21,
   "metadata": {},
   "outputs": [
    {
     "data": {
      "text/plain": [
       "(14, 15)"
      ]
     },
     "execution_count": 21,
     "metadata": {},
     "output_type": "execute_result"
    }
   ],
   "source": [
    "# check the question examples\n",
    "# 14,15\n",
    "\n",
    "n = 1\n",
    "\n",
    "cnt = 0\n",
    "while cnt < 1: \n",
    "    \n",
    "    n += 1\n",
    "\n",
    "    expression1 = PrimeFactors_list(n)[:,0] ** PrimeFactors_list(n)[:,1]\n",
    "    expression2 = PrimeFactors_list(n+1)[:,0] ** PrimeFactors_list(n+1)[:,1]\n",
    "    \n",
    "    check = set(expression2)\n",
    "    \n",
    "    if len(expression1) == len(expression2) == 2: \n",
    "    \n",
    "        for i in range(len(expression1)): \n",
    "            if expression1[i] in check:\n",
    "                break\n",
    "            \n",
    "            else: \n",
    "                cnt += 1\n",
    "            \n",
    "n , n + 1            "
   ]
  },
  {
   "cell_type": "code",
   "execution_count": 24,
   "metadata": {},
   "outputs": [
    {
     "data": {
      "text/plain": [
       "(644, 645, 646)"
      ]
     },
     "execution_count": 24,
     "metadata": {},
     "output_type": "execute_result"
    }
   ],
   "source": [
    "# check the question examples\n",
    "# 644,645,646\n",
    "\n",
    "n = 1\n",
    "\n",
    "cnt = 0\n",
    "while cnt < 1: \n",
    "    \n",
    "    n += 1\n",
    "\n",
    "    expression1 = PrimeFactors_list(n)[:,0] ** PrimeFactors_list(n)[:,1]\n",
    "    expression2 = PrimeFactors_list(n+1)[:,0] ** PrimeFactors_list(n+1)[:,1]\n",
    "    expression3 = PrimeFactors_list(n+2)[:,0] ** PrimeFactors_list(n+2)[:,1]\n",
    "    \n",
    "    check2 = set(expression2)\n",
    "    check3 = set(expression3)\n",
    "    \n",
    "    if len(expression1) == len(expression2) == len(expression3) == 3: \n",
    "    \n",
    "        for i in range(len(expression1)): \n",
    "            if expression1[i] in check2 or expression1[i] in check3 or expression2[i] in check3:\n",
    "                break\n",
    "            \n",
    "            else: \n",
    "                cnt += 1\n",
    "            \n",
    "n , n + 1 , n + 2       "
   ]
  },
  {
   "cell_type": "code",
   "execution_count": 26,
   "metadata": {},
   "outputs": [
    {
     "ename": "KeyboardInterrupt",
     "evalue": "",
     "output_type": "error",
     "traceback": [
      "\u001b[1;31m---------------------------------------------------------------------------\u001b[0m",
      "\u001b[1;31mKeyboardInterrupt\u001b[0m                         Traceback (most recent call last)",
      "\u001b[1;32m<ipython-input-26-0b6275dee8e8>\u001b[0m in \u001b[0;36m<module>\u001b[1;34m\u001b[0m\n\u001b[0;32m     14\u001b[0m \u001b[1;33m\u001b[0m\u001b[0m\n\u001b[0;32m     15\u001b[0m     \u001b[0mexpression1\u001b[0m \u001b[1;33m=\u001b[0m \u001b[0mPrimeFactors_list\u001b[0m\u001b[1;33m(\u001b[0m\u001b[0mn\u001b[0m\u001b[1;33m)\u001b[0m\u001b[1;33m[\u001b[0m\u001b[1;33m:\u001b[0m\u001b[1;33m,\u001b[0m\u001b[1;36m0\u001b[0m\u001b[1;33m]\u001b[0m \u001b[1;33m**\u001b[0m \u001b[0mPrimeFactors_list\u001b[0m\u001b[1;33m(\u001b[0m\u001b[0mn\u001b[0m\u001b[1;33m)\u001b[0m\u001b[1;33m[\u001b[0m\u001b[1;33m:\u001b[0m\u001b[1;33m,\u001b[0m\u001b[1;36m1\u001b[0m\u001b[1;33m]\u001b[0m\u001b[1;33m\u001b[0m\u001b[0m\n\u001b[1;32m---> 16\u001b[1;33m     \u001b[0mexpression2\u001b[0m \u001b[1;33m=\u001b[0m \u001b[0mPrimeFactors_list\u001b[0m\u001b[1;33m(\u001b[0m\u001b[0mn\u001b[0m\u001b[1;33m+\u001b[0m\u001b[1;36m1\u001b[0m\u001b[1;33m)\u001b[0m\u001b[1;33m[\u001b[0m\u001b[1;33m:\u001b[0m\u001b[1;33m,\u001b[0m\u001b[1;36m0\u001b[0m\u001b[1;33m]\u001b[0m \u001b[1;33m**\u001b[0m \u001b[0mPrimeFactors_list\u001b[0m\u001b[1;33m(\u001b[0m\u001b[0mn\u001b[0m\u001b[1;33m+\u001b[0m\u001b[1;36m1\u001b[0m\u001b[1;33m)\u001b[0m\u001b[1;33m[\u001b[0m\u001b[1;33m:\u001b[0m\u001b[1;33m,\u001b[0m\u001b[1;36m1\u001b[0m\u001b[1;33m]\u001b[0m\u001b[1;33m\u001b[0m\u001b[0m\n\u001b[0m\u001b[0;32m     17\u001b[0m     \u001b[0mexpression3\u001b[0m \u001b[1;33m=\u001b[0m \u001b[0mPrimeFactors_list\u001b[0m\u001b[1;33m(\u001b[0m\u001b[0mn\u001b[0m\u001b[1;33m+\u001b[0m\u001b[1;36m2\u001b[0m\u001b[1;33m)\u001b[0m\u001b[1;33m[\u001b[0m\u001b[1;33m:\u001b[0m\u001b[1;33m,\u001b[0m\u001b[1;36m0\u001b[0m\u001b[1;33m]\u001b[0m \u001b[1;33m**\u001b[0m \u001b[0mPrimeFactors_list\u001b[0m\u001b[1;33m(\u001b[0m\u001b[0mn\u001b[0m\u001b[1;33m+\u001b[0m\u001b[1;36m2\u001b[0m\u001b[1;33m)\u001b[0m\u001b[1;33m[\u001b[0m\u001b[1;33m:\u001b[0m\u001b[1;33m,\u001b[0m\u001b[1;36m1\u001b[0m\u001b[1;33m]\u001b[0m\u001b[1;33m\u001b[0m\u001b[0m\n\u001b[0;32m     18\u001b[0m     \u001b[0mexpression4\u001b[0m \u001b[1;33m=\u001b[0m \u001b[0mPrimeFactors_list\u001b[0m\u001b[1;33m(\u001b[0m\u001b[0mn\u001b[0m\u001b[1;33m+\u001b[0m\u001b[1;36m3\u001b[0m\u001b[1;33m)\u001b[0m\u001b[1;33m[\u001b[0m\u001b[1;33m:\u001b[0m\u001b[1;33m,\u001b[0m\u001b[1;36m0\u001b[0m\u001b[1;33m]\u001b[0m \u001b[1;33m**\u001b[0m \u001b[0mPrimeFactors_list\u001b[0m\u001b[1;33m(\u001b[0m\u001b[0mn\u001b[0m\u001b[1;33m+\u001b[0m\u001b[1;36m3\u001b[0m\u001b[1;33m)\u001b[0m\u001b[1;33m[\u001b[0m\u001b[1;33m:\u001b[0m\u001b[1;33m,\u001b[0m\u001b[1;36m1\u001b[0m\u001b[1;33m]\u001b[0m\u001b[1;33m\u001b[0m\u001b[0m\n",
      "\u001b[1;32m<ipython-input-20-c211657ab1ba>\u001b[0m in \u001b[0;36mPrimeFactors_list\u001b[1;34m(n)\u001b[0m\n\u001b[0;32m     25\u001b[0m             \u001b[1;32mwhile\u001b[0m \u001b[0mn\u001b[0m\u001b[1;33m/\u001b[0m\u001b[0modd\u001b[0m \u001b[1;33m==\u001b[0m \u001b[0mn\u001b[0m\u001b[1;33m//\u001b[0m\u001b[0modd\u001b[0m\u001b[1;33m:\u001b[0m\u001b[1;33m\u001b[0m\u001b[0m\n\u001b[0;32m     26\u001b[0m                 \u001b[0mn\u001b[0m \u001b[1;33m=\u001b[0m \u001b[0mn\u001b[0m\u001b[1;33m//\u001b[0m\u001b[0modd\u001b[0m\u001b[1;33m\u001b[0m\u001b[0m\n\u001b[1;32m---> 27\u001b[1;33m                 \u001b[0mcnt\u001b[0m \u001b[1;33m+=\u001b[0m \u001b[1;36m1\u001b[0m\u001b[1;33m\u001b[0m\u001b[0m\n\u001b[0m\u001b[0;32m     28\u001b[0m             \u001b[1;32mif\u001b[0m \u001b[0mcnt\u001b[0m \u001b[1;33m>\u001b[0m \u001b[1;36m0\u001b[0m\u001b[1;33m:\u001b[0m\u001b[1;33m\u001b[0m\u001b[0m\n\u001b[0;32m     29\u001b[0m                 \u001b[0mcompositon\u001b[0m\u001b[1;33m.\u001b[0m\u001b[0mappend\u001b[0m\u001b[1;33m(\u001b[0m\u001b[1;33m(\u001b[0m\u001b[0modd\u001b[0m\u001b[1;33m,\u001b[0m \u001b[0mcnt\u001b[0m\u001b[1;33m)\u001b[0m\u001b[1;33m)\u001b[0m\u001b[1;33m\u001b[0m\u001b[0m\n",
      "\u001b[1;31mKeyboardInterrupt\u001b[0m: "
     ]
    }
   ],
   "source": [
    "# brute force\n",
    "import time\n",
    "t1 = time.time()\n",
    "\n",
    "# check the question examples\n",
    "# 4 consecutive\n",
    "\n",
    "n = 1\n",
    "\n",
    "cnt = 0\n",
    "while cnt < 1: \n",
    "    \n",
    "    n += 1\n",
    "\n",
    "    expression1 = PrimeFactors_list(n)[:,0] ** PrimeFactors_list(n)[:,1]\n",
    "    expression2 = PrimeFactors_list(n+1)[:,0] ** PrimeFactors_list(n+1)[:,1]\n",
    "    expression3 = PrimeFactors_list(n+2)[:,0] ** PrimeFactors_list(n+2)[:,1]\n",
    "    expression4 = PrimeFactors_list(n+3)[:,0] ** PrimeFactors_list(n+3)[:,1]\n",
    "    \n",
    "    check2 = set(expression2)\n",
    "    check3 = set(expression3)\n",
    "    check4 = set(expression4)\n",
    "    \n",
    "    if len(expression1) == len(expression2) == len(expression3) == len(expression4) == 4: \n",
    "        \n",
    "        print(n)\n",
    "    \n",
    "        for i in range(len(expression1)): \n",
    "            if expression1[i] in check2 or\\\n",
    "               expression1[i] in check3 or\\\n",
    "               expression1[i] in check4 or\\\n",
    "               expression2[i] in check3 or\\\n",
    "               expression2[i] in check4 or\\\n",
    "               expression3[i] in check4:\n",
    "                break\n",
    "            \n",
    "            else: \n",
    "                cnt += 1\n",
    "\n",
    "t2 = time.time()\n",
    "print(t2-t1,'seconds taken') \n",
    "\n",
    "n , n + 1 , n + 2 , n + 3                "
   ]
  },
  {
   "cell_type": "code",
   "execution_count": 28,
   "metadata": {},
   "outputs": [
    {
     "data": {
      "text/plain": [
       "132910"
      ]
     },
     "execution_count": 28,
     "metadata": {},
     "output_type": "execute_result"
    }
   ],
   "source": [
    "n"
   ]
  },
  {
   "cell_type": "code",
   "execution_count": null,
   "metadata": {},
   "outputs": [],
   "source": []
  }
 ],
 "metadata": {
  "kernelspec": {
   "display_name": "Python 3",
   "language": "python",
   "name": "python3"
  },
  "language_info": {
   "codemirror_mode": {
    "name": "ipython",
    "version": 3
   },
   "file_extension": ".py",
   "mimetype": "text/x-python",
   "name": "python",
   "nbconvert_exporter": "python",
   "pygments_lexer": "ipython3",
   "version": "3.6.5"
  }
 },
 "nbformat": 4,
 "nbformat_minor": 2
}
