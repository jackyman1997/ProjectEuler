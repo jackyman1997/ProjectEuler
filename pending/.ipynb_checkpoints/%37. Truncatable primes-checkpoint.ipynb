{
 "cells": [
  {
   "cell_type": "markdown",
   "metadata": {},
   "source": [
    "## <a href='https://projecteuler.net/problem=37'>37. Truncatable primes</a>\n",
    "The number 3797 has an interesting property. Being prime itself, it is possible to continuously remove digits from left to right, and remain prime at each stage: 3797, 797, 97, and 7. Similarly we can work from right to left: 3797, 379, 37, and 3.\n",
    "\n",
    "Find the sum of the only eleven primes that are both truncatable from left to right and right to left.\n",
    "\n",
    "NOTE: 2, 3, 5, and 7 are not considered to be truncatable primes.\n",
    "___"
   ]
  },
  {
   "cell_type": "markdown",
   "metadata": {},
   "source": [
    "> there are hints !!!!!  \n",
    "1. 3797 is one, think about 23, 23 is one too  \n",
    "2. there only 11 of them, but don't know how large the last one would be  \n",
    "3. single digit primes are not"
   ]
  },
  {
   "cell_type": "code",
   "execution_count": 1,
   "metadata": {},
   "outputs": [],
   "source": [
    "import time\n",
    "import numpy as np\n",
    "import math"
   ]
  },
  {
   "cell_type": "code",
   "execution_count": 2,
   "metadata": {},
   "outputs": [
    {
     "name": "stdout",
     "output_type": "stream",
     "text": [
      "3797\n",
      "797\n",
      "97\n",
      "7\n"
     ]
    }
   ],
   "source": [
    "# get '797' , '97' , '7' from '3797'\n",
    "k = 3797\n",
    "split = str(k)\n",
    "\n",
    "for i in range(len(split)):\n",
    "    print(split[i:])\n"
   ]
  },
  {
   "cell_type": "code",
   "execution_count": 3,
   "metadata": {},
   "outputs": [
    {
     "name": "stdout",
     "output_type": "stream",
     "text": [
      "3\n",
      "37\n",
      "379\n",
      "3797\n"
     ]
    }
   ],
   "source": [
    "# another direction\n",
    "k = 3797\n",
    "split = str(k)\n",
    "\n",
    "for i in range(1 , len(split)+1):  # rmb this + 1 coz it is 'upto'    and   start with 1 not 0\n",
    "    print(split[:i])"
   ]
  },
  {
   "cell_type": "markdown",
   "metadata": {},
   "source": [
    "> guessing the max is less than 1000000"
   ]
  },
  {
   "cell_type": "code",
   "execution_count": 4,
   "metadata": {},
   "outputs": [],
   "source": [
    "# get prime list from previous question \n",
    "def primelist(ub):\n",
    "    prime = np.arange(ub) + 1\n",
    "    \n",
    "    prime = np.delete(prime,0)\n",
    "\n",
    "    checkpos = 0\n",
    "    while prime[checkpos] < np.sqrt(ub):  \n",
    "        # check only upto sqrt of n\n",
    "        \n",
    "        check = prime%(prime[checkpos])\n",
    "    \n",
    "        # keep the checking number\n",
    "        check[np.where(prime==prime[checkpos])[0]] = 1\n",
    "    \n",
    "        prime = np.delete(prime,np.where(check==0)[0])\n",
    "    \n",
    "        checkpos += 1\n",
    "\n",
    "    prime = np.array(prime)\n",
    "    return prime"
   ]
  },
  {
   "cell_type": "code",
   "execution_count": 5,
   "metadata": {},
   "outputs": [
    {
     "data": {
      "text/plain": [
       "array([ 2,  3,  5,  7, 11, 13, 17, 19, 23, 29, 31, 37, 41, 43, 47, 53, 59,\n",
       "       61, 67, 71, 73, 79, 83, 89, 97])"
      ]
     },
     "execution_count": 5,
     "metadata": {},
     "output_type": "execute_result"
    }
   ],
   "source": [
    "# as always, considering a simpler case, <100\n",
    "limit = 100\n",
    "p100 = primelist(limit)\n",
    "p100"
   ]
  },
  {
   "cell_type": "markdown",
   "metadata": {},
   "source": [
    "> one-digit primes end at the 4th"
   ]
  },
  {
   "cell_type": "code",
   "execution_count": 6,
   "metadata": {},
   "outputs": [
    {
     "name": "stdout",
     "output_type": "stream",
     "text": [
      "23\n",
      "37\n",
      "53\n",
      "73\n"
     ]
    }
   ],
   "source": [
    "for pi in range(4,len(p100)):\n",
    "    \n",
    "    check = np.array([])\n",
    "    k = p100[pi]\n",
    "    split = str(k)\n",
    "\n",
    "    for lefti in range(len(split)):\n",
    "        check = np.append(check,int(split[lefti:]))\n",
    "        \n",
    "    for righti in range(1,len(split) + 1):\n",
    "        check = np.append(check,int(split[:righti]))\n",
    "    \n",
    "    score = 0\n",
    "    for ci in range(len(check)):\n",
    "        score_i = sum(check[ci] == p100)\n",
    "        score += score_i\n",
    "        \n",
    "    if score == len(check):\n",
    "        print(k)\n",
    "        "
   ]
  },
  {
   "cell_type": "markdown",
   "metadata": {},
   "source": [
    "> looks like there are only 4 within 100"
   ]
  },
  {
   "cell_type": "markdown",
   "metadata": {},
   "source": [
    "> just realise that <br>\n",
    "for 3 or more digits primes, <br>\n",
    "if the 1st or the last digit is 2,4,6,8, or 5 or 1 or 9 <br>\n",
    "not the case <br>\n",
    "so test only numbers start and end with 3 and 7"
   ]
  },
  {
   "cell_type": "code",
   "execution_count": 7,
   "metadata": {},
   "outputs": [
    {
     "name": "stdout",
     "output_type": "stream",
     "text": [
      "0.5675113201141357 seconds taken\n"
     ]
    },
    {
     "data": {
      "text/plain": [
       "(array([2.30000e+01, 3.70000e+01, 5.30000e+01, 7.30000e+01, 3.13000e+02,\n",
       "        3.17000e+02, 3.73000e+02, 7.97000e+02, 3.13700e+03, 3.79700e+03,\n",
       "        7.39397e+05]), 748317.0)"
      ]
     },
     "execution_count": 7,
     "metadata": {},
     "output_type": "execute_result"
    }
   ],
   "source": [
    "# try 1000000\n",
    "t1 = time.time()\n",
    "\n",
    "limit = 1000000\n",
    "p100 = primelist(limit)\n",
    "\n",
    "# another method on checking\n",
    "pcheck = set( p100 )\n",
    "\n",
    "ans = np.array([])\n",
    "for pi in range(4,len(p100)):\n",
    "\n",
    "    check = np.array([])\n",
    "    k = p100[pi]\n",
    "    split = str(k)\n",
    "    \n",
    "    # below 2-digit\n",
    "    if len(split) <= 2:\n",
    "        for lefti in range(len(split)):\n",
    "            check = np.append(check,int(split[lefti:]))\n",
    "        \n",
    "        for righti in range(1,len(split) + 1):\n",
    "            check = np.append(check,int(split[:righti]))\n",
    "        \n",
    "        # another method on checking\n",
    "        score = 0\n",
    "        for ci in range(len(check)):\n",
    "            if check[ci] in pcheck:\n",
    "                score += 1\n",
    "        \n",
    "            else:\n",
    "                break\n",
    "        \n",
    "        if score == len(check):\n",
    "            ans = np.append(ans,k)\n",
    "        \n",
    "    # more than 3-digit, test only starting and end with 3 or 7\n",
    "    else:\n",
    "        d_1st = set([1,2,4,5,6,8,9])\n",
    "        d_last = set([1,9])\n",
    "        if int(split[0]) not in d_1st and int(split[-1]) not in d_last:\n",
    "            \n",
    "            for lefti in range(len(split)):\n",
    "                check = np.append(check,int(split[lefti:]))\n",
    "        \n",
    "            for righti in range(1,len(split) + 1):\n",
    "                check = np.append(check,int(split[:righti]))\n",
    "            \n",
    "            # another method on checking\n",
    "            score = 0\n",
    "            for ci in range(len(check)):\n",
    "                if check[ci] in pcheck:\n",
    "                    score += 1\n",
    "        \n",
    "                else:\n",
    "                    break\n",
    "        \n",
    "            if score == len(check):\n",
    "                ans = np.append(ans,k)\n",
    "            \n",
    "              \n",
    "    if len(ans) == 11:\n",
    "        break  \n",
    "        \n",
    "t2 = time.time()\n",
    "print(t2-t1,'seconds taken')\n",
    "ans, sum(ans)"
   ]
  },
  {
   "cell_type": "markdown",
   "metadata": {},
   "source": [
    "> yup, 748317 <br>\n",
    "and the list is: <br>\n",
    "$$ 23,37,53,73,313,317,373,797,3137,3797,739397 $$"
   ]
  },
  {
   "cell_type": "code",
   "execution_count": null,
   "metadata": {},
   "outputs": [],
   "source": []
  }
 ],
 "metadata": {
  "kernelspec": {
   "display_name": "Python 3",
   "language": "python",
   "name": "python3"
  },
  "language_info": {
   "codemirror_mode": {
    "name": "ipython",
    "version": 3
   },
   "file_extension": ".py",
   "mimetype": "text/x-python",
   "name": "python",
   "nbconvert_exporter": "python",
   "pygments_lexer": "ipython3",
   "version": "3.6.5"
  }
 },
 "nbformat": 4,
 "nbformat_minor": 2
}
