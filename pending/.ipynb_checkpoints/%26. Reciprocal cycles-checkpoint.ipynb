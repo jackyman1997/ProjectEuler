{
 "cells": [
  {
   "cell_type": "markdown",
   "metadata": {},
   "source": [
    "## <a href='https://projecteuler.net/problem=26'>26. Reciprocal cycles</a>\n",
    "A unit fraction contains 1 in the numerator. The decimal representation of the unit fractions with denominators 2 to 10 are given: \n",
    "\n",
    "$ \\frac{1}{2} = 0.5 $<br>\n",
    "$ \\frac{1}{3} = 0.\\dot3 $<br>\n",
    "$ \\frac{1}{4} = 0.25 $<br>\n",
    "$ \\frac{1}{5} = 0.2 $<br>\n",
    "$ \\frac{1}{6} = 0.1\\dot6 $<br>\n",
    "$ \\frac{1}{7} = 0.\\dot14285\\dot7 $<br>\n",
    "$ \\frac{1}{8} = 0.125 $<br>\n",
    "$ \\frac{1}{9} = 0.\\dot1 $<br>\n",
    "$ \\frac{1}{10} = 0.1 $<br>\n",
    "\n",
    "Where $0.1\\dot6$ means $0.166666...$, and has a 1-digit recurring cycle. It can be seen that $\\frac{1}{7}$ has a 6-digit recurring cycle.\n",
    "\n",
    "Find the value of $d < 1000$ for which $\\frac{1}{d}$ contains the longest recurring cycle in its decimal fraction part.\n",
    "___"
   ]
  },
  {
   "cell_type": "markdown",
   "metadata": {},
   "source": [
    "> observed the above example,  <br>\n",
    "1. an odd number (or even a prime) should give a longer recurring cycle (proof required) <br><br>\n",
    "2. since 2/14 = 1/7 ==> i guess that for 1/d if d is multiple of a d_0 , the recurring cycle preserved (ofc proof required) <br><br>\n",
    "3. after reading https://en.wikipedia.org/wiki/Repeating_decimal: \n",
    "    - The period (recurring cycle) of 1/d for integer d is always ≤ d − 1 (again proof required)\n",
    "    - For those d such that 1/d have exactly d − 1 period (recurring cycle) are highly related to Cyclic number <br>\n",
    "    link: https://en.wikipedia.org/wiki/Cyclic_number <br>\n",
    "    or, in other word, if d is a Cyclic number, 1/d have exactly d − 1 period (recurring cycle)"
   ]
  },
  {
   "cell_type": "markdown",
   "metadata": {},
   "source": [
    "> so i guess, if i can work out the largest Cyclic number such that the leading prime is under 1000, may solved the problem <br>\n",
    "rmb, those found Cyclic numbers so that 1/(that prime) can have exactly d − 1 period "
   ]
  },
  {
   "cell_type": "markdown",
   "metadata": {},
   "source": [
    "> there is a formula for Cyclic number: \n",
    "$$ \\frac{b^{p-1}-1}{p} $$\n",
    "where b is the base of number (like base-10) and p is a prime <br><br>\n",
    "this formula can be derived from:\n",
    "1. Fermat quotient <br>\n",
    "    https://en.wikipedia.org/wiki/Fermat_quotient <br><br>\n",
    "2. Fermat's little theorem <br>\n",
    "    https://en.wikipedia.org/wiki/Fermat%27s_little_theorem"
   ]
  },
  {
   "cell_type": "markdown",
   "metadata": {},
   "source": [
    "> in fact: the primes that are both full reptend primes and safe primes will give the answer of this question: <br>\n",
    "- full reptend primes: <br>\n",
    "https://en.wikipedia.org/wiki/Full_reptend_prime <br>\n",
    "- safe primes: <br>\n",
    "https://en.wikipedia.org/wiki/Safe_prime <br><br>\n",
    "the maximum full reptend prime under 1000 is 983, which is the answer <br>\n",
    "https://oeis.org/A000353"
   ]
  },
  {
   "cell_type": "markdown",
   "metadata": {},
   "source": [
    "> nah those method too hard, <br>\n",
    "and i realised i need more decimal places"
   ]
  },
  {
   "cell_type": "markdown",
   "metadata": {},
   "source": [
    "> well, not just too hard  \n",
    "but also too many decimal places to handle  \n",
    "which is a nightmare and limitation of numerical computation"
   ]
  },
  {
   "cell_type": "markdown",
   "metadata": {},
   "source": [
    "> i will come back later, <br>\n",
    "this is the first question that i found the answer while researching it. <br>\n",
    "https://oeis.org/A051626 <br>\n",
    "https://oeis.org/A051626/b051626.txt"
   ]
  },
  {
   "cell_type": "markdown",
   "metadata": {},
   "source": [
    "> another attempt: (23/09) <br>\n",
    "why don't we try from the back, like from 1000, 999, 998 ... <br>\n",
    "once i have the number that creates exactly (n-1) decimals, then done. <br>\n",
    "and such numbers must be a prime, so testing from 997, 991, 983 ..."
   ]
  },
  {
   "cell_type": "markdown",
   "metadata": {},
   "source": [
    "> but still, the floating point calculation makes a problem, <br>\n",
    "gotta solve them "
   ]
  },
  {
   "cell_type": "markdown",
   "metadata": {},
   "source": [
    "> the decimal approach is not feasible,  \n",
    "so i removed most of the old work"
   ]
  },
  {
   "cell_type": "markdown",
   "metadata": {},
   "source": [
    "> update 30jul2020  \n",
    "after reading some of the post in projecteuler about this problem,  \n",
    "if digging more into high-precision decimal places and floating point calculation,  \n",
    "is a trap. (well it s do-able but not really practical)  \n",
    "if think hard,  \n",
    "there are 2(3) links(hints): \n",
    "1. fractions with prime numbers as denominator usually give more decimal places in the decimal representation recurring cycle\n",
    "2. for any number that is not a multiple of the chosen denominator, the reminder when dividing that number by the chosen denominator, tells something about the decimal representation recurring cycle\n",
    "3. for point 2, it s a bit like doing the Long division arithmetics, but this time count the nmumber of time when we see a repeat of reminder. "
   ]
  },
  {
   "cell_type": "markdown",
   "metadata": {},
   "source": [
    "> well, just take a look of the examples  \n",
    "for $ \\frac{1}{7} = 0.\\dot14285\\dot7 $  \n",
    "we know there is 6-digit recurring cycle  \n",
    "lets have a look of the reminder when dividing a number (non multiple of 7) by 7  \n",
    "by long division, we choose 1/7 (this lowest number with the same number of digits, i guess would be good to go)"
   ]
  },
  {
   "cell_type": "code",
   "execution_count": 226,
   "metadata": {},
   "outputs": [],
   "source": [
    "import numpy as np\n",
    "import math\n",
    "import time\n",
    "import decimal"
   ]
  },
  {
   "cell_type": "code",
   "execution_count": 227,
   "metadata": {},
   "outputs": [
    {
     "data": {
      "text/plain": [
       "(6, [0, 1, 4, 2, 8, 5])"
      ]
     },
     "execution_count": 227,
     "metadata": {},
     "output_type": "execute_result"
    }
   ],
   "source": [
    "denominator = 7\n",
    "dividend = 1\n",
    "\n",
    "cycle = []\n",
    "reminders = []\n",
    "\n",
    "digit = 0    \n",
    "# if 0 happens, then can't find cycle as the dividend is a multiple of denominator\n",
    "\n",
    "\n",
    "while True:    # just to turn on the loop\n",
    "    \n",
    "    # no matter what, do the arithmetics\n",
    "    digit = dividend//denominator\n",
    "    reminder = dividend%denominator\n",
    "    \n",
    "    # if there is a repeat in remainder, stop\n",
    "    if reminder in reminders:\n",
    "        break\n",
    "    \n",
    "    # otherwise, preceed to the next long division\n",
    "    else:\n",
    "        cycle.append(digit)\n",
    "        reminders.append(reminder)\n",
    "        dividend = reminder * 10\n",
    "\n",
    "len(cycle), cycle"
   ]
  },
  {
   "cell_type": "markdown",
   "metadata": {},
   "source": [
    "> yup this gives a good sign"
   ]
  },
  {
   "cell_type": "code",
   "execution_count": 228,
   "metadata": {},
   "outputs": [],
   "source": [
    "# function this\n",
    "def recurring_digit(denominator, dividend):\n",
    "    \n",
    "    # storage\n",
    "    cycle = []\n",
    "    reminders = []\n",
    "    \n",
    "    digit = 0    \n",
    "    # if 0 happens, then can't find cycle as the dividend is a multiple of denominator\n",
    "    \n",
    "    while True:    # just to turn on the loop\n",
    "    \n",
    "        # no matter what, do the arithmetics\n",
    "        digit = dividend//denominator\n",
    "        reminder = dividend%denominator\n",
    "    \n",
    "        # if there is a repeat in remainder, stop\n",
    "        if reminder in reminders:\n",
    "            break\n",
    "    \n",
    "        # otherwise, preceed to the next long division\n",
    "        else:\n",
    "            cycle.append(digit)\n",
    "            reminders.append(reminder)\n",
    "            dividend = reminder * 10\n",
    "            \n",
    "    return len(cycle)"
   ]
  },
  {
   "cell_type": "code",
   "execution_count": 229,
   "metadata": {},
   "outputs": [
    {
     "name": "stdout",
     "output_type": "stream",
     "text": [
      "0.30422067642211914 seconds taken\n"
     ]
    },
    {
     "data": {
      "text/plain": [
       "[983, 982]"
      ]
     },
     "execution_count": 229,
     "metadata": {},
     "output_type": "execute_result"
    }
   ],
   "source": [
    "limit = 1000\n",
    "ans = [0,0]\n",
    "\n",
    "t1 = time.time()\n",
    "for i in range(1,1000):\n",
    "    if recurring_digit(i, 100) > ans[1]:\n",
    "        ans[1] = recurring_digit(i , 100)\n",
    "        ans[0] = i\n",
    "\n",
    "print(time.time()-t1, 'seconds taken')\n",
    "ans"
   ]
  },
  {
   "cell_type": "markdown",
   "metadata": {},
   "source": [
    "> yup, 983  \n",
    "with 982 digit of recurring cycle"
   ]
  },
  {
   "cell_type": "markdown",
   "metadata": {},
   "source": [
    "> recurring_digit(), output might be different when using a different dividend,  \n",
    "but if the denominator is an odd prime and the dividend coprime denominator,  \n",
    "the output should stay the same  \n",
    "also, it seems like the recurring_digit() is somewhat linked to the Carmichael function  \n",
    "https://en.wikipedia.org/wiki/Carmichael_function"
   ]
  },
  {
   "cell_type": "code",
   "execution_count": null,
   "metadata": {},
   "outputs": [],
   "source": []
  }
 ],
 "metadata": {
  "kernelspec": {
   "display_name": "Python 3",
   "language": "python",
   "name": "python3"
  },
  "language_info": {
   "codemirror_mode": {
    "name": "ipython",
    "version": 3
   },
   "file_extension": ".py",
   "mimetype": "text/x-python",
   "name": "python",
   "nbconvert_exporter": "python",
   "pygments_lexer": "ipython3",
   "version": "3.6.5"
  }
 },
 "nbformat": 4,
 "nbformat_minor": 2
}
