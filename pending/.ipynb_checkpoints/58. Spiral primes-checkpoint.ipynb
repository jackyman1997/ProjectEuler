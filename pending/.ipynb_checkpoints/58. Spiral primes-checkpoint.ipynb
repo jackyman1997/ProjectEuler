{
 "cells": [
  {
   "cell_type": "markdown",
   "metadata": {},
   "source": [
    "## <a href='https://projecteuler.net/problem=58'>58. Spiral primes</a>\n",
    "Starting with 1 and spiralling anticlockwise in the following way, a square spiral with side length 7 is formed.\n",
    "$$ \n",
    "\\begin{matrix} \n",
    "37 & 36 & 35 & 34 & 33 & 32 & 31 \\\\\n",
    "38 & 17 & 16 & 15 & 14 & 13 & 30 \\\\\n",
    "39 & 18 &  5 &  4 &  3 & 12 & 29 \\\\\n",
    "40 & 19 &  6 &  1 &  2 & 11 & 28 \\\\\n",
    "41 & 20 &  7 &  8 &  9 & 10 & 27 \\\\\n",
    "42 & 21 & 22 & 23 & 24 & 25 & 26 \\\\\n",
    "43 & 44 & 45 & 46 & 47 & 48 & 49 \\\\\n",
    "\\end{matrix}\n",
    "$$\n",
    "\n",
    "It is interesting to note that the odd squares lie along the bottom right diagonal, but what is more interesting is that 8 out of the 13 numbers lying along both diagonals are prime; that is, a ratio of 8/13 ≈ 62%.\n",
    "\n",
    "If one complete new layer is wrapped around the spiral above, a square spiral with side length 9 will be formed. If this process is continued, what is the side length of the square spiral for which the ratio of primes along both diagonals first falls below 10%?\n",
    "___"
   ]
  },
  {
   "cell_type": "markdown",
   "metadata": {},
   "source": [
    "By observations, if $l$ is the number of $l$ by $l$ spiral:  \n",
    "1. $\\nearrow$ : $1,3,13,31, ... = (l-1)^2-(l-2)$\n",
    "2. $\\searrow$ : $1,9,25,49, ... = l^2$    \n",
    "3. $\\swarrow$ : $1,7,21,43, ... = l^2-(l-1)$    \n",
    "4. $\\nwarrow$ : $1,5,17,37, ... = (l-1)^2+1$  \n"
   ]
  },
  {
   "cell_type": "code",
   "execution_count": 1,
   "metadata": {},
   "outputs": [],
   "source": [
    "# libs\n",
    "from sympy import isprime\n",
    "\n",
    "# input\n",
    "q58_input = {'ratio': 0.1}\n",
    "\n",
    "# function\n",
    "def q58(ratio: float): \n",
    "    # the 1st layer\n",
    "    numbers = 1\n",
    "    primes = 0\n",
    "    layer = 1\n",
    "    \n",
    "    # loop\n",
    "    while primes/numbers > ratio or primes/numbers == 0:    # primes/numbers == 0 is to initialise to loop\n",
    "        # next layer\n",
    "        layer += 2\n",
    "        # get the 4 corner numbers of the 4 diagonals\n",
    "        diagonal_gen = [((layer-1)**2-(layer-2)), (layer**2), (layer**2-(layer-1)), ((layer-1)**2+1)]\n",
    "        # update numbers and numberof primes\n",
    "        numbers += 4  \n",
    "        primes += sum( 1 if isprime(i) else 0 for i in diagonal_gen )\n",
    "\n",
    "    return print('the prime ratio has fallen below {0:1.0%} at layer {1}'.format(ratio, layer))"
   ]
  },
  {
   "cell_type": "code",
   "execution_count": 2,
   "metadata": {},
   "outputs": [
    {
     "name": "stdout",
     "output_type": "stream",
     "text": [
      "the prime ratio has fallen below 10% at layer 26241\n",
      "309 ms ± 0 ns per loop (mean ± std. dev. of 1 run, 1 loop each)\n"
     ]
    }
   ],
   "source": [
    "%%timeit -n 1 -r 1\n",
    "q58(**q58_input)"
   ]
  },
  {
   "cell_type": "code",
   "execution_count": null,
   "metadata": {},
   "outputs": [],
   "source": []
  }
 ],
 "metadata": {
  "kernelspec": {
   "display_name": "Python 3",
   "language": "python",
   "name": "python3"
  },
  "language_info": {
   "codemirror_mode": {
    "name": "ipython",
    "version": 3
   },
   "file_extension": ".py",
   "mimetype": "text/x-python",
   "name": "python",
   "nbconvert_exporter": "python",
   "pygments_lexer": "ipython3",
   "version": "3.6.5"
  }
 },
 "nbformat": 4,
 "nbformat_minor": 2
}
