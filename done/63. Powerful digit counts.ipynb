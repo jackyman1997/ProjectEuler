{
 "cells": [
  {
   "cell_type": "markdown",
   "metadata": {},
   "source": [
    "## <a href='https://projecteuler.net/problem=63'>63. Powerful digit counts</a>\n",
    "The 5-digit number, $16807=7^5$, is also a fifth power. Similarly, the 9-digit number, $134217728=8^9$, is a ninth power.\n",
    "\n",
    "How many n-digit positive integers exist which are also an nth power?\n",
    "___"
   ]
  },
  {
   "cell_type": "markdown",
   "metadata": {},
   "source": [
    "consider:  \n",
    "$$ \n",
    "\\log_{10}(10) = 1 \n",
    "$$\n",
    "\n",
    "the number of digit of an integer $k$ is:  \n",
    "$$\n",
    "digit(k) = \\lfloor \\log_{10}(k) \\rfloor + 1\n",
    "$$\n",
    "where $\\lfloor \\text{ } \\rfloor$ is the floor function\n",
    "\n",
    "let $ k = b^p $ :\n",
    "$$\n",
    "\\begin{aligned}\n",
    "    digit(b^p) &= \\lfloor \\log_{10}(b^p) \\rfloor + 1 \\\\\n",
    "    &= \\lfloor p \\log_{10}(b) \\rfloor + 1\n",
    "\\end{aligned}\n",
    "$$\n",
    "\n",
    "the condition $ digit(b^p) = p $ :\n",
    "$$\n",
    "p - 1 = \\lfloor p \\log_{10}(b) \\rfloor\n",
    "$$\n",
    "\n",
    "notice $ p \\times 1 > p-1 $ :\n",
    "$$\n",
    "\\begin{aligned}\n",
    "    &\\therefore 0 \\leq \\log_{10}(b) < 1 \\\\\n",
    "    &\\therefore 1 \\leq b < 10\n",
    "\\end{aligned}\n",
    "$$\n",
    "\n",
    "now move on to $p$ :  \n",
    "from:  \n",
    "$$\n",
    "p - 1 = \\lfloor p \\log_{10}(b) \\rfloor\n",
    "$$\n",
    "\n",
    "knowing that: \n",
    "$$\n",
    "\\begin{aligned}\n",
    "    p - 1 &< p \\log_{10}(b) \\\\\n",
    "    p &< \\frac{1}{1-\\log_{10}(b)}\n",
    "\\end{aligned}\n",
    "$$\n",
    "\n",
    "and $\\max(b) = 9$:\n",
    "$$\n",
    "\\begin{aligned}\n",
    "    p &< \\frac{1}{1-\\log_{10}(9)} \\\\\n",
    "    \\therefore p &< 21.8...\n",
    "\\end{aligned}\n",
    "$$\n",
    "\n",
    "therefore:  \n",
    "$$\n",
    "\\begin{aligned}\n",
    "    &b\\in\\mathbb{Z}^+ \\& b\\in[1,9] \\\\\n",
    "    &p\\in\\mathbb{Z}^+ \\& p\\in[1,21]\n",
    "\\end{aligned}\n",
    "$$"
   ]
  },
  {
   "cell_type": "code",
   "execution_count": 1,
   "metadata": {},
   "outputs": [],
   "source": [
    "def q63():\n",
    "    results = [base**power for base in range(1, 9+1) for power in range(1, 21+1) if len( str(base**power) ) == power]    \n",
    "    return print('there are %i number that have n-digit with nth power'%len(results))"
   ]
  },
  {
   "cell_type": "code",
   "execution_count": 2,
   "metadata": {},
   "outputs": [
    {
     "name": "stdout",
     "output_type": "stream",
     "text": [
      "there are 49 number that have n-digit with nth power\n",
      "177 µs ± 0 ns per loop (mean ± std. dev. of 1 run, 1 loop each)\n"
     ]
    }
   ],
   "source": [
    "%%timeit -n 1 -r 1\n",
    "q63()"
   ]
  },
  {
   "cell_type": "markdown",
   "metadata": {},
   "source": [
    "___\n",
    "the below is all the numbers with this property and their bases and powers"
   ]
  },
  {
   "cell_type": "code",
   "execution_count": 3,
   "metadata": {},
   "outputs": [
    {
     "data": {
      "text/plain": [
       "[(1, 1, 1),\n",
       " (2, 1, 2),\n",
       " (3, 1, 3),\n",
       " (4, 1, 4),\n",
       " (4, 2, 16),\n",
       " (5, 1, 5),\n",
       " (5, 2, 25),\n",
       " (5, 3, 125),\n",
       " (6, 1, 6),\n",
       " (6, 2, 36),\n",
       " (6, 3, 216),\n",
       " (6, 4, 1296),\n",
       " (7, 1, 7),\n",
       " (7, 2, 49),\n",
       " (7, 3, 343),\n",
       " (7, 4, 2401),\n",
       " (7, 5, 16807),\n",
       " (7, 6, 117649),\n",
       " (8, 1, 8),\n",
       " (8, 2, 64),\n",
       " (8, 3, 512),\n",
       " (8, 4, 4096),\n",
       " (8, 5, 32768),\n",
       " (8, 6, 262144),\n",
       " (8, 7, 2097152),\n",
       " (8, 8, 16777216),\n",
       " (8, 9, 134217728),\n",
       " (8, 10, 1073741824),\n",
       " (9, 1, 9),\n",
       " (9, 2, 81),\n",
       " (9, 3, 729),\n",
       " (9, 4, 6561),\n",
       " (9, 5, 59049),\n",
       " (9, 6, 531441),\n",
       " (9, 7, 4782969),\n",
       " (9, 8, 43046721),\n",
       " (9, 9, 387420489),\n",
       " (9, 10, 3486784401),\n",
       " (9, 11, 31381059609),\n",
       " (9, 12, 282429536481),\n",
       " (9, 13, 2541865828329),\n",
       " (9, 14, 22876792454961),\n",
       " (9, 15, 205891132094649),\n",
       " (9, 16, 1853020188851841),\n",
       " (9, 17, 16677181699666569),\n",
       " (9, 18, 150094635296999121),\n",
       " (9, 19, 1350851717672992089),\n",
       " (9, 20, 12157665459056928801),\n",
       " (9, 21, 109418989131512359209)]"
      ]
     },
     "execution_count": 3,
     "metadata": {},
     "output_type": "execute_result"
    }
   ],
   "source": [
    "[(base, power, base**power) for base in range(1, 9+1) for power in range(1, 22) if len( str(base**power) ) == power]"
   ]
  },
  {
   "cell_type": "code",
   "execution_count": null,
   "metadata": {},
   "outputs": [],
   "source": []
  }
 ],
 "metadata": {
  "kernelspec": {
   "display_name": "Python 3",
   "language": "python",
   "name": "python3"
  },
  "language_info": {
   "codemirror_mode": {
    "name": "ipython",
    "version": 3
   },
   "file_extension": ".py",
   "mimetype": "text/x-python",
   "name": "python",
   "nbconvert_exporter": "python",
   "pygments_lexer": "ipython3",
   "version": "3.6.5"
  }
 },
 "nbformat": 4,
 "nbformat_minor": 2
}
