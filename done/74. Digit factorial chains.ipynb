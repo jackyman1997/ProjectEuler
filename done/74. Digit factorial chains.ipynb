{
 "cells": [
  {
   "cell_type": "markdown",
   "metadata": {},
   "source": [
    "## <a href='https://projecteuler.net/problem=74'>74. Digit factorial chains</a>\n",
    "The number 145 is well known for the property that the sum of the factorial of its digits is equal to 145:\n",
    "\n",
    "$$ 1! + 4! + 5! = 1 + 24 + 120 = 145 $$\n",
    "\n",
    "Perhaps less well known is 169, in that it produces the longest chain of numbers that link back to 169; it turns out that there are only three such loops that exist:  \n",
    "\n",
    "169 → 363601 → 1454 → 169  \n",
    "871 → 45361 → 871  \n",
    "872 → 45362 → 872  \n",
    "\n",
    "It is not difficult to prove that EVERY starting number will eventually get stuck in a loop. For example,\n",
    "\n",
    "69 → 363600 → 1454 → 169 → 363601 (→ 1454)  \n",
    "78 → 45360 → 871 → 45361 (→ 871)  \n",
    "540 → 145 (→ 145)  \n",
    "\n",
    "Starting with 69 produces a chain of five non-repeating terms, but the longest non-repeating chain with a starting number below one million is sixty terms.\n",
    "\n",
    "How many chains, with a starting number below one million, contain exactly sixty non-repeating terms?\n",
    "___"
   ]
  },
  {
   "cell_type": "markdown",
   "metadata": {},
   "source": [
    "similar to q92 and q34"
   ]
  },
  {
   "cell_type": "code",
   "execution_count": 1,
   "metadata": {},
   "outputs": [],
   "source": [
    "def digit_factorial_sum(n: int):\n",
    "    '''\n",
    "    this function gives the digit factorial sum of the given int,\n",
    "    from q74\n",
    "    '''\n",
    "    # regulate input to int\n",
    "    try:\n",
    "        if type(n) is not int or n < 0:\n",
    "            n = int(abs(n))\n",
    "            print('ur n is either not an int or -ve, but i int() for u :D')\n",
    "    except (TypeError, ValueError, NameError) as e:    # or just except:\n",
    "        return print('ur input messed up')\n",
    "    \n",
    "    # using string method and list loopie\n",
    "    n = str(n)\n",
    "    \n",
    "    # map [0,1,2,...,9] to their factorial (save as a list)\n",
    "    pre_factorial = [1, 1, 2, 6, 24, 120, 720, 5040, 40320, 362880]\n",
    "    \n",
    "    return sum( pre_factorial[int(i)] for i in n )"
   ]
  },
  {
   "cell_type": "code",
   "execution_count": 2,
   "metadata": {},
   "outputs": [],
   "source": [
    "# input\n",
    "q74_input = {'limit': 1000000, 'step': 60}\n",
    "\n",
    "# function\n",
    "def q74(limit: int, step: int):\n",
    "\n",
    "    cnt = 0\n",
    "    \n",
    "    for i in range(limit):\n",
    "        \n",
    "        cycle = set()\n",
    "        cycle.add(i)\n",
    "        dfs = digit_factorial_sum(i)\n",
    "\n",
    "        while dfs not in cycle:\n",
    "            cycle.add(dfs)\n",
    "            dfs = digit_factorial_sum(dfs)\n",
    "\n",
    "        if len(cycle) == step:\n",
    "            cnt += 1\n",
    "            \n",
    "    return print('there are %i chains have exactly %i steps'%(cnt, step))"
   ]
  },
  {
   "cell_type": "code",
   "execution_count": 3,
   "metadata": {},
   "outputs": [
    {
     "name": "stdout",
     "output_type": "stream",
     "text": [
      "there are 402 chains have exactly 60 steps\n",
      "50.8 s ± 0 ns per loop (mean ± std. dev. of 1 run, 1 loop each)\n"
     ]
    }
   ],
   "source": [
    "%%timeit -n 1 -r 1\n",
    "q74(**q74_input)"
   ]
  },
  {
   "cell_type": "code",
   "execution_count": null,
   "metadata": {},
   "outputs": [],
   "source": []
  }
 ],
 "metadata": {
  "kernelspec": {
   "display_name": "Python 3",
   "language": "python",
   "name": "python3"
  },
  "language_info": {
   "codemirror_mode": {
    "name": "ipython",
    "version": 3
   },
   "file_extension": ".py",
   "mimetype": "text/x-python",
   "name": "python",
   "nbconvert_exporter": "python",
   "pygments_lexer": "ipython3",
   "version": "3.6.5"
  }
 },
 "nbformat": 4,
 "nbformat_minor": 2
}
