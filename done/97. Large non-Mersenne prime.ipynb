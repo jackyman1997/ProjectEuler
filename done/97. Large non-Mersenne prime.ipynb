{
 "cells": [
  {
   "cell_type": "markdown",
   "metadata": {},
   "source": [
    "## <a href='https://projecteuler.net/problem=97'>97. Large non-Mersenne prime</a>\n",
    "\n",
    "The first known prime found to exceed one million digits was discovered in 1999, and is a <a href='https://en.wikipedia.org/wiki/Mersenne_prime'>Mersenne prime</a> of the form $2^{6972593}−1$; it contains exactly 2,098,960 digits. Subsequently other Mersenne primes, of the form $2^p−1$, have been found which contain more digits.\n",
    "\n",
    "However, in 2004 there was found a massive non-Mersenne prime which contains 2,357,207 digits: $28433×2^{7830457}+1$.\n",
    "\n",
    "Find the last ten digits of this prime number.\n",
    "___"
   ]
  },
  {
   "cell_type": "code",
   "execution_count": 1,
   "metadata": {},
   "outputs": [],
   "source": [
    "# input\n",
    "q97_input = {'digit': 10}\n",
    "\n",
    "# function\n",
    "def q97(digit: int) -> int:\n",
    "    \n",
    "    ans = 28433*(2**7830457)%(10**digit) + 1\n",
    "    \n",
    "    return print('the last %i of this prime is %i'%(digit, ans))"
   ]
  },
  {
   "cell_type": "code",
   "execution_count": 2,
   "metadata": {},
   "outputs": [
    {
     "name": "stdout",
     "output_type": "stream",
     "text": [
      "the last 10 of this prime is 8739992577\n",
      "38.9 ms ± 0 ns per loop (mean ± std. dev. of 1 run, 1 loop each)\n"
     ]
    }
   ],
   "source": [
    "%%timeit -r 1 -n 1\n",
    "q97(**q97_input)"
   ]
  },
  {
   "cell_type": "markdown",
   "metadata": {},
   "source": [
    "___\n",
    "however, while i m reading the thread,  \n",
    "some commends caught my attention"
   ]
  },
  {
   "cell_type": "code",
   "execution_count": 3,
   "metadata": {},
   "outputs": [
    {
     "name": "stdout",
     "output_type": "stream",
     "text": [
      "by vertical\n"
     ]
    }
   ],
   "source": [
    "'''\n",
    "This is my first post on Project Euler.\n",
    "\n",
    "I was not aware of modular arithmetic before reading this forum (I'm a biologist not a maths major!). Anyway, after a few attempts in python that were going too slowly I figured it out kind of a weird way that began when I realised that the final digits of powers of 2 follow a repeating cycle.\n",
    "\n",
    "I used this python code to find the length of the cycle for different values of num (Actually, I only calculated the values up to n = 6, then the pattern became obvious so I filled in the rest by hand).\n",
    "\n",
    "digits = []\n",
    "i = 30\n",
    "num = 6\n",
    "\n",
    "while True:\n",
    "    x = 2**i\n",
    "    y = str(x)[-num:]\n",
    "    i += 1\n",
    "    if y in digits:\n",
    "        print i-31\n",
    "        break\n",
    "    digits.append(y)\n",
    "\n",
    "I recorded the length of the cycle for the last n digits:\n",
    "\n",
    "n   length_of_cycle\n",
    "1   4\n",
    "2   20\n",
    "3   100\n",
    "4   500\n",
    "5   2500\n",
    "6   12500\n",
    "7   62500\n",
    "8   312500\n",
    "9   1562500\n",
    "10  7812500\n",
    "\n",
    "since the question asks for the last 10 digits of 28433 x 2^7830457 +1,\n",
    "I firstly needed to know the last 10 digits of 2^7830457\n",
    "\n",
    "Based on the periodic recurrences above, I can infer that the last \n",
    "10 digits of 2^7830457 should be the same as the last 10 digits of \n",
    "2^(7830457-7812500), which is = 2^17957\n",
    "\n",
    "I calculated 2^17957 in python (instant) and noted the last 10 digits  were 9700303872\n",
    "\n",
    "Again in python I calculated: 28433*9700303872+1 = 275808739992577\n",
    "\n",
    "last 10 digits: = 8739992577\n",
    "\n",
    "The main thing is that I now know about modular arithmetic. Thanks Project Euler!\n",
    "'''\n",
    "print('by vertical')"
   ]
  },
  {
   "cell_type": "code",
   "execution_count": 4,
   "metadata": {},
   "outputs": [
    {
     "name": "stdout",
     "output_type": "stream",
     "text": [
      "by Jonesmasta\n"
     ]
    }
   ],
   "source": [
    "'''\n",
    "number_of_digits = 10\n",
    "n = 7830457\n",
    "\n",
    "base_power = (n - number_of_digits) % (4 * 5**(number_of_digits - 1))\n",
    "check_power = 2**(number_of_digits + base_power)\n",
    "\n",
    "check_number = check_power * 28433 + 1\n",
    "print(str(check_number)[-1 * number_of_digits:])\n",
    "'''\n",
    "print('by Jonesmasta')"
   ]
  },
  {
   "cell_type": "code",
   "execution_count": 5,
   "metadata": {},
   "outputs": [
    {
     "data": {
      "text/plain": [
       "'8739992577'"
      ]
     },
     "execution_count": 5,
     "metadata": {},
     "output_type": "execute_result"
    }
   ],
   "source": [
    "digit = 10\n",
    "cycle = 4 * 5**(digit-1)\n",
    "\n",
    "number = 28433 * 2**(7830457%cycle) + 1\n",
    "str(number)[-digit:]"
   ]
  },
  {
   "cell_type": "code",
   "execution_count": null,
   "metadata": {},
   "outputs": [],
   "source": []
  }
 ],
 "metadata": {
  "kernelspec": {
   "display_name": "Python 3",
   "language": "python",
   "name": "python3"
  },
  "language_info": {
   "codemirror_mode": {
    "name": "ipython",
    "version": 3
   },
   "file_extension": ".py",
   "mimetype": "text/x-python",
   "name": "python",
   "nbconvert_exporter": "python",
   "pygments_lexer": "ipython3",
   "version": "3.6.5"
  }
 },
 "nbformat": 4,
 "nbformat_minor": 2
}
