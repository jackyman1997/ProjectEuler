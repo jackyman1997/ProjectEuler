{
 "cells": [
  {
   "cell_type": "markdown",
   "source": [
    "## <a href='https://projecteuler.net/problem=1'>1. Multiples of 3 and 5</a>\n",
    "If we list all the natural numbers below 10 that are multiples of 3 or 5, we get 3, 5, 6 and 9. The sum of these multiples is 23.  \n",
    "\n",
    "Find the sum of all the multiples of 3 or 5 below 1000.\n",
    "___"
   ],
   "metadata": {}
  },
  {
   "cell_type": "markdown",
   "source": [
    "First, find the nearest number that are the multiples  \r\n",
    "\r\n",
    "$$\r\n",
    "\\begin{aligned}\r\n",
    "    \\frac{1000}{3} &= 333.3333... \\\\\r\n",
    "    333 \\times 3 &= 999\r\n",
    "\\end{aligned}\r\n",
    "$$\r\n",
    "so 999 is the largest multiple of 3 under 1000   \r\n",
    "\r\n",
    "For 5:  \r\n",
    "$$\r\n",
    "\\begin{aligned}\r\n",
    "    \\frac{1000}{5} &= 200 \\\\\r\n",
    "    199 \\times 5 &= 999\r\n",
    "\\end{aligned}\r\n",
    "$$\r\n",
    "excluding 1000.\r\n",
    "\r\n",
    "Here is the idea, for the sum of multiples of 3:  \r\n",
    "$$\r\n",
    "\\begin{aligned}\r\n",
    "    &999 + 996 + 993 + ... + 9 + 6 + 3 \\\\\r\n",
    "    &= (3\\times333) + (3\\times332) + (3\\times331) + ... + (3\\times3) + (3\\times2) + (3\\times1) \\\\\r\n",
    "    &= 3(333+332+331+...+3+2+1)\r\n",
    "\\end{aligned}\r\n",
    "$$\r\n",
    "\r\n",
    "apply the suming formula:  \r\n",
    "$$ = 3(333+332+331+...+3+2+1) = 3\\times\\frac{(333+1)\\times333}{2} $$ \r\n",
    "\r\n",
    "same idea applies on the sum of multiples of 5:  \r\n",
    "$$ 5\\times\\frac{(199+1)\\times199}{2} $$  \r\n",
    "\r\n",
    "and remember to minus the repeated numbers, which they are all multiples of both 3 & 5 (15):\r\n",
    "$$\r\n",
    "\\begin{aligned}\r\n",
    "    \\frac{1000}{15} &= 66.66... \\\\\r\n",
    "    66 \\times 15 &= 990 \\\\\r\n",
    "    \\text{sum} &= 15\\times\\frac{(66+1)\\times66}{2}\r\n",
    "\\end{aligned}\r\n",
    "$$\r\n",
    "\r\n",
    "Therefore, the sum of all the multiples of 3 or 5 below 1000:  \r\n",
    "$$\r\n",
    "\\begin{aligned}\r\n",
    "    &3\\times\\frac{(333+1)\\times333}{2} + 5\\times\\frac{(199+1)\\times199}{2} - 15\\times\\frac{(66+1)\\times66}{2} \\\\\r\n",
    "    &= 166833 + 99500 - 33165 \\\\\r\n",
    "    &= 233168\r\n",
    "\\end{aligned}\r\n",
    "$$"
   ],
   "metadata": {}
  },
  {
   "cell_type": "code",
   "execution_count": 1,
   "source": [
    "# input\r\n",
    "q1_input = {'under': 1000}\r\n",
    "\r\n",
    "# function\r\n",
    "def q1(under: int):\r\n",
    "    ans = sum(i for i in range(under) if i%3 == 0 or i%5 == 0)\r\n",
    "    print(ans)"
   ],
   "outputs": [],
   "metadata": {}
  },
  {
   "cell_type": "code",
   "execution_count": 2,
   "source": [
    "%%timeit -n 1 -r 1\r\n",
    "q1(**q1_input)"
   ],
   "outputs": [
    {
     "output_type": "stream",
     "name": "stdout",
     "text": [
      "233168\n",
      "144 µs ± 0 ns per loop (mean ± std. dev. of 1 run, 1 loop each)\n"
     ]
    }
   ],
   "metadata": {}
  },
  {
   "cell_type": "code",
   "execution_count": null,
   "source": [],
   "outputs": [],
   "metadata": {}
  }
 ],
 "metadata": {
  "kernelspec": {
   "name": "python3",
   "display_name": "Python 3.9.2 64-bit"
  },
  "language_info": {
   "codemirror_mode": {
    "name": "ipython",
    "version": 3
   },
   "file_extension": ".py",
   "mimetype": "text/x-python",
   "name": "python",
   "nbconvert_exporter": "python",
   "pygments_lexer": "ipython3",
   "version": "3.9.2"
  },
  "interpreter": {
   "hash": "f1b8aea7277b061024ce78d0366b16218e411aad22af024bb789fe805868a5e7"
  }
 },
 "nbformat": 4,
 "nbformat_minor": 2
}