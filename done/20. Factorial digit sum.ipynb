{
 "cells": [
  {
   "cell_type": "markdown",
   "metadata": {},
   "source": [
    "## <a href='https://projecteuler.net/problem=20'>20. Factorial digit sum<a>\n",
    "$n!$ means $n × (n − 1) × ... × 3 × 2 × 1$\n",
    "\n",
    "For example, $10! = 10 × 9 × ... × 3 × 2 × 1 = 3628800$,  \n",
    "and the sum of the digits in the number $10!$ is $3 + 6 + 2 + 8 + 8 + 0 + 0 = 27$.\n",
    "\n",
    "Find the sum of the digits in the number $100!$\n",
    "___"
   ]
  },
  {
   "cell_type": "code",
   "execution_count": 1,
   "metadata": {},
   "outputs": [],
   "source": [
    "# copied from q15\n",
    "def factorial(n: int) -> int:\n",
    "    '''\n",
    "    my own version of factorial, just for fun\n",
    "    '''\n",
    "    # regulate input to int\n",
    "    try:\n",
    "        n = int(n)\n",
    "    except (TypeError, ValueError, NameError) as e:    # or just except:\n",
    "        pass\n",
    "    # recusion\n",
    "    if n == 0:    # base case\n",
    "        return 1\n",
    "    else:\n",
    "        return n * factorial(n-1)"
   ]
  },
  {
   "cell_type": "code",
   "execution_count": 2,
   "metadata": {},
   "outputs": [],
   "source": [
    "# input\n",
    "q20_input = {'n': 100}\n",
    "\n",
    "# function \n",
    "def q20(n: int):\n",
    "    return print( 'sum: %i'%sum(int(i) for i in str(factorial(n))) )"
   ]
  },
  {
   "cell_type": "code",
   "execution_count": 3,
   "metadata": {},
   "outputs": [
    {
     "name": "stdout",
     "output_type": "stream",
     "text": [
      "sum: 648\n",
      "349 µs ± 0 ns per loop (mean ± std. dev. of 1 run, 1 loop each)\n"
     ]
    }
   ],
   "source": [
    "%%timeit -n 1 -r 1\n",
    "q20(**q20_input)"
   ]
  },
  {
   "cell_type": "code",
   "execution_count": null,
   "metadata": {},
   "outputs": [],
   "source": []
  }
 ],
 "metadata": {
  "kernelspec": {
   "display_name": "Python 3",
   "language": "python",
   "name": "python3"
  },
  "language_info": {
   "codemirror_mode": {
    "name": "ipython",
    "version": 3
   },
   "file_extension": ".py",
   "mimetype": "text/x-python",
   "name": "python",
   "nbconvert_exporter": "python",
   "pygments_lexer": "ipython3",
   "version": "3.6.5"
  }
 },
 "nbformat": 4,
 "nbformat_minor": 2
}
