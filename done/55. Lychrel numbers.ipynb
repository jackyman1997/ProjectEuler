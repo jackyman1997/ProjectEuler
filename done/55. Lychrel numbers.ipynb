{
 "cells": [
  {
   "cell_type": "markdown",
   "metadata": {},
   "source": [
    "## <a href='https://projecteuler.net/problem=55'>55. Lychrel numbers</a>\n",
    "If we take 47, reverse and add, $47 + 74 = 121$, which is palindromic.\n",
    "\n",
    "Not all numbers produce palindromes so quickly. For example,\n",
    "$$\n",
    "\\begin{aligned}\n",
    "    349 + 943 &= 1292 \\\\\n",
    "    1292 + 2921 &= 4213 \\\\\n",
    "    4213 + 3124 &= 7337\n",
    "\\end{aligned}\n",
    "$$\n",
    "\n",
    "That is, 349 took three iterations to arrive at a palindrome.\n",
    "\n",
    "Although no one has proved it yet, it is thought that some numbers, like 196, never produce a palindrome. A number that never forms a palindrome through the reverse and add process is called a <a href='https://en.wikipedia.org/wiki/Lychrel_number'>Lychrel number</a>. Due to the theoretical nature of these numbers, and for the purpose of this problem, we shall assume that a number is Lychrel until proven otherwise. In addition you are given that for every number below ten-thousand, it will either (i) become a palindrome in less than fifty iterations, or, (ii) no one, with all the computing power that exists, has managed so far to map it to a palindrome. In fact, 10677 is the first number to be shown to require over fifty iterations before producing a palindrome: 4668731596684224866951378664 (53 iterations, 28-digits).\n",
    "\n",
    "Surprisingly, there are palindromic numbers that are themselves Lychrel numbers; the first example is 4994.\n",
    "\n",
    "How many Lychrel numbers are there below ten-thousand?\n",
    "\n",
    "NOTE: Wording was modified slightly on 24 April 2007 to emphasise the theoretical nature of Lychrel numbers.\n",
    "___"
   ]
  },
  {
   "cell_type": "code",
   "execution_count": 1,
   "metadata": {},
   "outputs": [],
   "source": [
    "def isPalindromic(n: int) -> bool:\n",
    "    return int( str(n)[::-1] ) == n\n",
    "\n",
    "def isLychrel(n: int, maxIter: int=50) -> bool:\n",
    "    cnt = 0\n",
    "    while cnt <= maxIter: \n",
    "        cnt += 1\n",
    "        n += int( str(n)[::-1] )\n",
    "        if isPalindromic(n):    \n",
    "            # checking Palindromic has to be after \n",
    "            # since there are palindromic numbers that are themselves Lychrel numbers\n",
    "            return False\n",
    "    return True"
   ]
  },
  {
   "cell_type": "code",
   "execution_count": 2,
   "metadata": {},
   "outputs": [],
   "source": [
    "# input\n",
    "q55_input = {'limit': 10000}\n",
    "\n",
    "# function\n",
    "def q55(limit: int):        \n",
    "    return print('there are %i Lychrel numbers under %i'%(sum( isLychrel(i) for i in range(limit+1) ), limit))"
   ]
  },
  {
   "cell_type": "code",
   "execution_count": 3,
   "metadata": {},
   "outputs": [
    {
     "name": "stdout",
     "output_type": "stream",
     "text": [
      "there are 249 Lychrel numbers under 10000\n",
      "76.7 ms ± 0 ns per loop (mean ± std. dev. of 1 run, 1 loop each)\n"
     ]
    }
   ],
   "source": [
    "%%timeit -n 1 -r 1\n",
    "q55(**q55_input)"
   ]
  },
  {
   "cell_type": "code",
   "execution_count": 4,
   "metadata": {},
   "outputs": [],
   "source": [
    "# function\n",
    "def q55_old(limit: int):\n",
    "    Lychrel_cnt = 0\n",
    "    for i in range(limit+1):\n",
    "        cnt = 1\n",
    "        Lychrel = i + int(str(i)[::-1])\n",
    "        while cnt <= 50:\n",
    "            if str(Lychrel) == str(Lychrel)[::-1]:\n",
    "                break\n",
    "            else:\n",
    "                Lychrel += int(str(Lychrel)[::-1])\n",
    "                cnt += 1\n",
    "        if cnt > 50:\n",
    "            Lychrel_cnt += 1\n",
    "            \n",
    "    return print('there are %i Lychrel numbers below %i'%(Lychrel_cnt, limit))"
   ]
  },
  {
   "cell_type": "code",
   "execution_count": 5,
   "metadata": {},
   "outputs": [
    {
     "name": "stdout",
     "output_type": "stream",
     "text": [
      "there are 249 Lychrel numbers below 10000\n",
      "43.6 ms ± 0 ns per loop (mean ± std. dev. of 1 run, 1 loop each)\n"
     ]
    }
   ],
   "source": [
    "%%timeit -n 1 -r 1\n",
    "q55_old(**q55_input)"
   ]
  },
  {
   "cell_type": "code",
   "execution_count": null,
   "metadata": {},
   "outputs": [],
   "source": []
  }
 ],
 "metadata": {
  "kernelspec": {
   "display_name": "Python 3",
   "language": "python",
   "name": "python3"
  },
  "language_info": {
   "codemirror_mode": {
    "name": "ipython",
    "version": 3
   },
   "file_extension": ".py",
   "mimetype": "text/x-python",
   "name": "python",
   "nbconvert_exporter": "python",
   "pygments_lexer": "ipython3",
   "version": "3.6.5"
  }
 },
 "nbformat": 4,
 "nbformat_minor": 2
}
