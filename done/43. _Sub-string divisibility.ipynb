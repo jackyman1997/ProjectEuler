{
 "cells": [
  {
   "cell_type": "markdown",
   "metadata": {},
   "source": [
    "## <a href='https://projecteuler.net/problem=43'>43. Sub-string divisibility</a>\n",
    "The number, 1406357289, is a 0 to 9 pandigital number because it is made up of each of the digits 0 to 9 in some order, but it also has a rather interesting sub-string divisibility property.\n",
    "\n",
    "Let $d_1$ be the 1st digit, $d_2$ be the 2nd digit, and so on. In this way, we note the following:\n",
    "\n",
    "- $d_2d_3d_4=406$ is divisible by 2  \n",
    "- $d_3d_4d_5=063$ is divisible by 3  \n",
    "- $d_4d_5d_6=635$ is divisible by 5  \n",
    "- $d_5d_6d_7=357$ is divisible by 7  \n",
    "- $d_6d_7d_8=572$ is divisible by 11  \n",
    "- $d_7d_8d_9=728$ is divisible by 13  \n",
    "- $d_8d_9d_{10}=289$ is divisible by 17  \n",
    "\n",
    "Find the sum of all 0 to 9 pandigital numbers with this property.\n",
    "___"
   ]
  },
  {
   "cell_type": "code",
   "execution_count": 1,
   "metadata": {},
   "outputs": [
    {
     "name": "stdout",
     "output_type": "stream",
     "text": [
      "4160357289\n",
      "1460357289\n",
      "4106357289\n",
      "1406357289\n",
      "4130952867\n",
      "1430952867\n",
      "Wall time: 119 ms\n"
     ]
    },
    {
     "data": {
      "text/plain": [
       "'the sum is 16695334890'"
      ]
     },
     "execution_count": 1,
     "metadata": {},
     "output_type": "execute_result"
    }
   ],
   "source": [
    "%%time\n",
    "\n",
    "# sum variable\n",
    "_sum = 0\n",
    "\n",
    "# loop, from multiples of 17, re-form list of next prime multiples based on the first 2 digits, they must match    \n",
    "for m17 in [str(i) for i in range(100, 999) if i%17==0]: \n",
    "    \n",
    "    for m13 in ['0'+str(i) for i in range(10, 99) if i%13==0 and ('0'+str(i))[1:]==m17[:2] ] + \\\n",
    "               [str(i) for i in range(100, 999) if i%13==0 and str(i)[1:]==m17[:2]]:\n",
    "            \n",
    "        for m11 in ['0'+str(i) for i in range(10, 99) if i%11==0 and ('0'+str(i))[1:]==m13[:2] ] + \\\n",
    "                   [str(i) for i in range(100, 999) if i%11==0 and str(i)[1:]==m13[:2]]:\n",
    "                \n",
    "                for m7 in ['0'+str(i) for i in range(10, 99) if i%7==0 and ('0'+str(i))[1:]==m11[:2] ] + \\\n",
    "                          [str(i) for i in range(100, 999) if i%7==0 and str(i)[1:]==m11[:2]]:\n",
    "                        \n",
    "                    for m5 in ['0'+str(i) for i in range(10, 99) if i%5==0 and ('0'+str(i))[1:]==m7[:2] ] + \\\n",
    "                              [str(i) for i in range(100, 999) if i%5==0 and str(i)[1:]==m7[:2]]:\n",
    "                            \n",
    "                        for m3 in ['0'+str(i) for i in range(10, 99) if i%3==0 and ('0'+str(i))[1:]==m5[:2] ] + \\\n",
    "                                  [str(i) for i in range(100, 999) if i%3==0 and str(i)[1:]==m5[:2]]:\n",
    "                                \n",
    "                            for m2 in ['0'+str(i) for i in range(10, 99) if i%2==0 and ('0'+str(i))[1:]==m3[:2] ] + \\\n",
    "                                      [str(i) for i in range(100, 999) if i%2==0 and str(i)[1:]==m3[:2]]:\n",
    "                                \n",
    "                                # construct the number\n",
    "                                s = m2 + m3[-1] + m5[-1] + m7[-1] + m11[-1] + m13[-1] + m17[-1]\n",
    "                                \n",
    "                                # check if pandigital\n",
    "                                if len(set(s)) == len(s):\n",
    "                                    \n",
    "                                    # append the last remaining (un-used) digit in left side\n",
    "                                    s = (set(s) ^ set('0123456789')).pop() + s\n",
    "                                    print(s)\n",
    "                                    \n",
    "                                    # update the sum\n",
    "                                    _sum += int(s)\n",
    "\n",
    "f'the sum is {_sum}'"
   ]
  },
  {
   "cell_type": "code",
   "execution_count": null,
   "metadata": {},
   "outputs": [],
   "source": []
  }
 ],
 "metadata": {
  "kernelspec": {
   "display_name": "Python 3",
   "language": "python",
   "name": "python3"
  },
  "language_info": {
   "codemirror_mode": {
    "name": "ipython",
    "version": 3
   },
   "file_extension": ".py",
   "mimetype": "text/x-python",
   "name": "python",
   "nbconvert_exporter": "python",
   "pygments_lexer": "ipython3",
   "version": "3.6.5"
  }
 },
 "nbformat": 4,
 "nbformat_minor": 2
}
