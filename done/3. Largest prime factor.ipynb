{
 "cells": [
  {
   "cell_type": "markdown",
   "metadata": {},
   "source": [
    "## <a href='https://projecteuler.net/problem=3'>3. Largest prime factor</a>\n",
    "The <a href='https://en.wikipedia.org/wiki/Fundamental_theorem_of_arithmetic'>prime factors</a> of 13195 are 5, 7, 13 and 29.\n",
    "\n",
    "What is the largest prime factor of the number 600851475143 ?\n",
    "___"
   ]
  },
  {
   "cell_type": "code",
   "execution_count": 1,
   "metadata": {},
   "outputs": [],
   "source": [
    "def PrimeFactors(n: int) -> dict:\n",
    "    '''\n",
    "    this returns {p1: a1, p2: a2, ...}\n",
    "    as Fundamental theorem of arithmetic, \n",
    "    n = p1^a1 * p2^a2 * ...\n",
    "    '''\n",
    "    # storage\n",
    "    compositon = {}\n",
    "    # divide 2 first\n",
    "    while n/2 == n//2:\n",
    "        n = n//2\n",
    "        compositon[2] = compositon.get(2, 0) + 1   \n",
    "    # play the game of getting 1\n",
    "    while n != 1:\n",
    "        # check only odd numbers\n",
    "        for odd in range(3, n+1, 2): \n",
    "            while n/odd == n//odd:\n",
    "                n = n//odd\n",
    "                compositon[odd] = compositon.get(odd, 0) + 1\n",
    "            if n == 1:\n",
    "                break      \n",
    "    return compositon"
   ]
  },
  {
   "cell_type": "code",
   "execution_count": 2,
   "metadata": {},
   "outputs": [],
   "source": [
    "# input\n",
    "q3_input = {'n': 600851475143}\n",
    "\n",
    "def q3(n):\n",
    "    return print(max(PrimeFactors(n)))"
   ]
  },
  {
   "cell_type": "code",
   "execution_count": 3,
   "metadata": {},
   "outputs": [
    {
     "name": "stdout",
     "output_type": "stream",
     "text": [
      "6857\n",
      "746 µs ± 0 ns per loop (mean ± std. dev. of 1 run, 1 loop each)\n"
     ]
    }
   ],
   "source": [
    "%%timeit -n 1 -r 1\n",
    "q3(**q3_input)"
   ]
  },
  {
   "cell_type": "code",
   "execution_count": null,
   "metadata": {},
   "outputs": [],
   "source": []
  }
 ],
 "metadata": {
  "kernelspec": {
   "display_name": "Python 3",
   "language": "python",
   "name": "python3"
  },
  "language_info": {
   "codemirror_mode": {
    "name": "ipython",
    "version": 3
   },
   "file_extension": ".py",
   "mimetype": "text/x-python",
   "name": "python",
   "nbconvert_exporter": "python",
   "pygments_lexer": "ipython3",
   "version": "3.6.5"
  }
 },
 "nbformat": 4,
 "nbformat_minor": 2
}
