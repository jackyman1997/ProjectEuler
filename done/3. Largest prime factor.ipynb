{
 "cells": [
  {
   "cell_type": "markdown",
   "source": [
    "## <a href='https://projecteuler.net/problem=3'>3. Largest prime factor</a>\n",
    "The <a href='https://en.wikipedia.org/wiki/Fundamental_theorem_of_arithmetic'>prime factors</a> of 13195 are 5, 7, 13 and 29.\n",
    "\n",
    "What is the largest prime factor of the number 600851475143 ?\n",
    "___"
   ],
   "metadata": {}
  },
  {
   "cell_type": "code",
   "execution_count": 1,
   "source": [
    "def PrimeFactors(n: int) -> dict:\r\n",
    "    '''\r\n",
    "    this returns {p1: a1, p2: a2, ...}\r\n",
    "    as Fundamental theorem of arithmetic, \r\n",
    "    n = p1^a1 * p2^a2 * ...\r\n",
    "    '''\r\n",
    "    # storage\r\n",
    "    compositon = {}\r\n",
    "    # divide 2 first\r\n",
    "    while n/2 == n//2:\r\n",
    "        n = n//2\r\n",
    "        compositon[2] = compositon.get(2, 0) + 1   \r\n",
    "    # play the game of getting 1\r\n",
    "    while n != 1:\r\n",
    "        # check only odd numbers\r\n",
    "        for odd in range(3, n+1, 2): \r\n",
    "            while n/odd == n//odd:\r\n",
    "                n = n//odd\r\n",
    "                compositon[odd] = compositon.get(odd, 0) + 1\r\n",
    "            if n == 1:\r\n",
    "                break      \r\n",
    "    return compositon"
   ],
   "outputs": [],
   "metadata": {}
  },
  {
   "cell_type": "code",
   "execution_count": 2,
   "source": [
    "# input\r\n",
    "q3_input = {'n': 600851475143}\r\n",
    "\r\n",
    "def q3(n):\r\n",
    "    return print(max(PrimeFactors(n)))"
   ],
   "outputs": [],
   "metadata": {}
  },
  {
   "cell_type": "code",
   "execution_count": 3,
   "source": [
    "%%timeit -n 1 -r 1\r\n",
    "q3(**q3_input)"
   ],
   "outputs": [
    {
     "output_type": "stream",
     "name": "stdout",
     "text": [
      "6857\n",
      "746 µs ± 0 ns per loop (mean ± std. dev. of 1 run, 1 loop each)\n"
     ]
    }
   ],
   "metadata": {}
  },
  {
   "cell_type": "code",
   "execution_count": null,
   "source": [],
   "outputs": [],
   "metadata": {}
  }
 ],
 "metadata": {
  "kernelspec": {
   "name": "python3",
   "display_name": "Python 3.9.2 64-bit"
  },
  "language_info": {
   "codemirror_mode": {
    "name": "ipython",
    "version": 3
   },
   "file_extension": ".py",
   "mimetype": "text/x-python",
   "name": "python",
   "nbconvert_exporter": "python",
   "pygments_lexer": "ipython3",
   "version": "3.9.2"
  },
  "interpreter": {
   "hash": "f1b8aea7277b061024ce78d0366b16218e411aad22af024bb789fe805868a5e7"
  }
 },
 "nbformat": 4,
 "nbformat_minor": 2
}