{
 "cells": [
  {
   "cell_type": "markdown",
   "metadata": {},
   "source": [
    "## <a href='https://projecteuler.net/problem=23'>23. Non-abundant sums</a>\n",
    "A <a href='https://en.wikipedia.org/wiki/Perfect_number'>perfect number</a> is a number for which the sum of its proper divisors is exactly equal to the number.  \n",
    "For example, the sum of the <a href='https://en.wikipedia.org/wiki/Divisor'>proper divisors</a> of 28 would be $1 + 2 + 4 + 7 + 14 = 28$, which means that 28 is a perfect number.\n",
    "\n",
    "A number n is called <a href='https://en.wikipedia.org/wiki/Deficient_number'>deficient</a> if the sum of its proper divisors is less than n and it is called <a href='https://en.wikipedia.org/wiki/Abundant_number'>abundant</a> if this sum exceeds n.\n",
    "\n",
    "As 12 is the smallest abundant number, $1 + 2 + 3 + 4 + 6 = 16$, the smallest number that can be written as the sum of two abundant numbers is $24$. By mathematical analysis, it can be shown that all integers greater than $28123$ can be written as the sum of two abundant numbers. However, this upper limit cannot be reduced any further by analysis even though it is known that the greatest number that cannot be expressed as the sum of two abundant numbers is less than this limit.\n",
    "\n",
    "Find the sum of all the positive integers which cannot be written as the sum of two abundant numbers.\n",
    "___"
   ]
  },
  {
   "cell_type": "code",
   "execution_count": 1,
   "metadata": {},
   "outputs": [],
   "source": [
    "# copied from q12\n",
    "def divisor(n: int, proper: bool=False, count: bool=False):\n",
    "    '''\n",
    "    using set, somehow list is a bit faster\n",
    "    proper: proper divisors, not including n itself, default False (including n)\n",
    "    count: return how many divisors instead of list of divisors, default False (return list)\n",
    "    '''\n",
    "    # set and setup\n",
    "    d = set()\n",
    "    d.add(1)    # 1 is divisor of all integers\n",
    "    # proper divisor (not including n itself)\n",
    "    if not proper:\n",
    "        d.add(n)\n",
    "    # loop\n",
    "    for i in range(2, int(n**0.5)+1):\n",
    "        if n/i == n//i:    # if n divides i (checking if int, or (n/i)%1 == 0)\n",
    "            d.add(i)\n",
    "            d.add(n//i)    # a pair of divisors, repeated if n is square\n",
    "    # counting only\n",
    "    if count:\n",
    "        return len(d)\n",
    "    else:\n",
    "        return [i for i in d]    # or list(d)"
   ]
  },
  {
   "cell_type": "code",
   "execution_count": 2,
   "metadata": {},
   "outputs": [],
   "source": [
    "def isPerfect(n: int) -> bool:\n",
    "    '''\n",
    "    Perfect number: sum of its proper divisors == itself\n",
    "    '''\n",
    "    return sum(divisor(n, proper=True)) == n\n",
    "\n",
    "def isAbundant(n: int) -> bool:\n",
    "    '''\n",
    "    Abundant number: sum of its proper divisors > itself\n",
    "    '''\n",
    "    return sum(divisor(n, proper=True)) > n\n",
    "\n",
    "def isDeficient(n: int) -> bool:\n",
    "    '''\n",
    "    Deficient number: sum of its proper divisors < itself\n",
    "    '''\n",
    "    return sum(divisor(n, proper=True)) < n"
   ]
  },
  {
   "cell_type": "code",
   "execution_count": 3,
   "metadata": {},
   "outputs": [],
   "source": [
    "# input\n",
    "q23_input = {'limit': 28123}\n",
    "\n",
    "# function\n",
    "def q23(limit: int): \n",
    "    \n",
    "    # create set of Abundant numbers\n",
    "    Abundant = set(i for i in range(1, limit+1) if isAbundant(i))\n",
    "    \n",
    "    # loop for sum\n",
    "    _sum = 0\n",
    "    for i in range(1, limit+1):\n",
    "        difference = set( i-j for j in Abundant if i>j )\n",
    "        if not (difference & Abundant):    # empty set as False\n",
    "            _sum += i\n",
    "            \n",
    "    return print('non-abundant sum: %i'%_sum)"
   ]
  },
  {
   "cell_type": "code",
   "execution_count": 4,
   "metadata": {},
   "outputs": [
    {
     "name": "stdout",
     "output_type": "stream",
     "text": [
      "non-abundant sum: 4179871\n",
      "15 s ± 0 ns per loop (mean ± std. dev. of 1 run, 1 loop each)\n"
     ]
    }
   ],
   "source": [
    "%%timeit -n 1 -r1 \n",
    "q23(**q23_input)"
   ]
  },
  {
   "cell_type": "code",
   "execution_count": null,
   "metadata": {},
   "outputs": [],
   "source": []
  }
 ],
 "metadata": {
  "kernelspec": {
   "display_name": "Python 3",
   "language": "python",
   "name": "python3"
  },
  "language_info": {
   "codemirror_mode": {
    "name": "ipython",
    "version": 3
   },
   "file_extension": ".py",
   "mimetype": "text/x-python",
   "name": "python",
   "nbconvert_exporter": "python",
   "pygments_lexer": "ipython3",
   "version": "3.6.5"
  }
 },
 "nbformat": 4,
 "nbformat_minor": 2
}
