{
 "cells": [
  {
   "cell_type": "markdown",
   "metadata": {},
   "source": [
    "## <a href='https://projecteuler.net/problem=6'>6. Sum square difference</a>\n",
    "The sum of the squares of the first ten natural numbers is,\n",
    "$$ 1^2 + 2^2 + ... + 10^2 = 385 $$\n",
    "\n",
    "The square of the sum of the first ten natural numbers is,\n",
    "$$ (1 + 2 + ... + 10)^2 = 55^2 = 3025 $$\n",
    "\n",
    "Hence the difference between the sum of the squares of the first ten natural numbers and the square of the sum is $3025 − 385 = 2640$.\n",
    "\n",
    "Find the difference between the sum of the squares of the first one hundred natural numbers and the square of the sum.\n",
    "___"
   ]
  },
  {
   "cell_type": "markdown",
   "metadata": {},
   "source": [
    "From Edexcel A-level further pure maths 2  \n",
    "by the method of difference, it is easily shown that:\n",
    "\n",
    "$$\n",
    "\\begin{aligned}\n",
    "    \\sum_{1}^{n} k &= \\frac{n(n+1)}{2} \\\\\n",
    "    \\sum_{1}^{n} k^2 &= \\frac{n(n+1)(2n+1)}{6} \\\\\n",
    "    \\sum_{1}^{n} k^3 &= \\frac{n^2(n+1)^2}{4} = \\Big( \\frac{n(n+1)}{2} \\Big)^2 \\\\\n",
    "    &= \\Big( \\sum_{1}^{n} k \\Big)^2\n",
    "\\end{aligned}\n",
    "$$\n",
    "\n",
    "Therefore, the difference between the square of the sum and the sum of the squares is:  \n",
    "$$\n",
    "\\begin{aligned}\n",
    "    &\\Big( \\sum_{1}^{n} k \\Big)^2 - \\sum_{1}^{n} k^2 \\\\\n",
    "    &= \\sum_{1}^{n} k^3 - \\sum_{1}^{n} k^2 \\\\\n",
    "    &= \\frac{n^2(n+1)^2}{4} - \\frac{n(n+1)(2n+1)}{6}\n",
    "\\end{aligned}\n",
    "$$"
   ]
  },
  {
   "cell_type": "code",
   "execution_count": 1,
   "metadata": {},
   "outputs": [],
   "source": [
    "# input\n",
    "q6_input = {'upto': 100}\n",
    "\n",
    "# function\n",
    "def q6(upto: int):\n",
    "    \n",
    "    # both methods\n",
    "    sum_k = sum(i for i in range(upto+1))\n",
    "    sum_k_sq = sum(i**2 for i in range(upto+1))\n",
    "    sum_k_cube = sum(i**3 for i in range(upto+1))\n",
    "    formula = ( upto*(upto+1)/2 )**2 - upto*(upto+1)*(2*upto+1)/6\n",
    "    \n",
    "    return print('sum(k)^2-sum(k^2) = %i \\\n",
    "                \\nsum(k^3)-sum(k^2) = %i \\\n",
    "                \\nusing formula: %i ' \\\n",
    "                % (sum_k**2 - sum_k_sq, sum_k_cube - sum_k_sq, formula))"
   ]
  },
  {
   "cell_type": "code",
   "execution_count": 2,
   "metadata": {},
   "outputs": [
    {
     "name": "stdout",
     "output_type": "stream",
     "text": [
      "sum(k)^2-sum(k^2) = 25164150                 \n",
      "sum(k^3)-sum(k^2) = 25164150                 \n",
      "using formula: 25164150 \n",
      "460 µs ± 0 ns per loop (mean ± std. dev. of 1 run, 1 loop each)\n"
     ]
    }
   ],
   "source": [
    "%%timeit -n 1 -r 1\n",
    "q6(**q6_input)"
   ]
  },
  {
   "cell_type": "code",
   "execution_count": null,
   "metadata": {},
   "outputs": [],
   "source": []
  }
 ],
 "metadata": {
  "kernelspec": {
   "display_name": "Python 3",
   "language": "python",
   "name": "python3"
  },
  "language_info": {
   "codemirror_mode": {
    "name": "ipython",
    "version": 3
   },
   "file_extension": ".py",
   "mimetype": "text/x-python",
   "name": "python",
   "nbconvert_exporter": "python",
   "pygments_lexer": "ipython3",
   "version": "3.6.5"
  }
 },
 "nbformat": 4,
 "nbformat_minor": 2
}
