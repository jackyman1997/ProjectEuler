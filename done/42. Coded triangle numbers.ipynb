{
 "cells": [
  {
   "cell_type": "markdown",
   "metadata": {},
   "source": [
    "## <a href='https://projecteuler.net/problem=42'>42. Coded triangle numbers</a>\n",
    "The nth term of the sequence of <a href='https://en.wikipedia.org/wiki/Triangular_number'>triangle numbers</a> is given by, $t_n$ = ½n(n+1); so the first ten triangle numbers are:\n",
    "\n",
    "$$ 1, 3, 6, 10, 15, 21, 28, 36, 45, 55, ... $$\n",
    "\n",
    "By converting each letter in a word to a number corresponding to its alphabetical position and adding these values we form a word value. For example, the word value for SKY is $19 + 11 + 25 = 55 = t_{10}$. If the word value is a triangle number then we shall call the word a triangle word.\n",
    "\n",
    "Using <a href='https://projecteuler.net/project/resources/p042_words.txt'>words.txt</a> (right click and 'Save Link/Target As...'), a 16K text file containing nearly two-thousand common English words, how many are triangle words?\n",
    "___"
   ]
  },
  {
   "cell_type": "markdown",
   "metadata": {},
   "source": [
    "so maths:  \n",
    "for checking if the number is a triangle number,  \n",
    "a list of triangle number is not required.  \n",
    "\n",
    "here is why:  \n",
    "for a give number K,  \n",
    "if equate with the triangle number formula:  \n",
    "$$\n",
    "\\begin{aligned}\n",
    "    K &= \\frac{1}{2}(n)(n+1) \\\\\n",
    "    2K &= n^2 + n \\\\\n",
    "    n^2 + n - 2K &= 0 \n",
    "   \\end{aligned}\n",
    "$$\n",
    "\n",
    "we can solve for n to see if K is a triangle number, which the condition is that n is a positive integer,  \n",
    "simply check the delta of this quadratic equation:  \n",
    "$$\n",
    "\\begin{aligned}\n",
    "    \\Delta &= b^2 - 4ac \\\\\n",
    "    &= 1^2 - 4 \\times(-2K \\times 1) \\\\\n",
    "    &= 1 + 8K \n",
    "\\end{aligned}\n",
    "$$\n",
    "if $\\Delta$ is a square number, n would be a positive integer. "
   ]
  },
  {
   "cell_type": "code",
   "execution_count": 1,
   "metadata": {},
   "outputs": [],
   "source": [
    "def isTriangular(n: int) -> bool:\n",
    "    return (1+8*n)**0.5%1 == 0"
   ]
  },
  {
   "cell_type": "code",
   "execution_count": 2,
   "metadata": {},
   "outputs": [],
   "source": [
    "# input \n",
    "q42_input = {'filename': 'p042_words.txt'}\n",
    "\n",
    "# function\n",
    "def q42(filename: str): \n",
    "    \n",
    "    # import text file\n",
    "    with open('..\\\\data\\\\'+filename) as t:\n",
    "        data = t.read()\n",
    "        \n",
    "    # extract element\n",
    "    words = data.replace('\"', '').split(',')\n",
    "    \n",
    "    # count using list comprehension and sum, scoring using ord()\n",
    "    cnt = sum( True for word in words if isTriangular(sum(ord(letter)-ord('A')+1 for letter in word)) )\n",
    "    \n",
    "    return print('there are %i triangle words'%cnt)"
   ]
  },
  {
   "cell_type": "code",
   "execution_count": 3,
   "metadata": {},
   "outputs": [
    {
     "name": "stdout",
     "output_type": "stream",
     "text": [
      "there are 162 triangle words\n",
      "4.17 ms ± 0 ns per loop (mean ± std. dev. of 1 run, 1 loop each)\n"
     ]
    }
   ],
   "source": [
    "%%timeit -n 1 -r 1\n",
    "q42(**q42_input)"
   ]
  },
  {
   "cell_type": "code",
   "execution_count": null,
   "metadata": {},
   "outputs": [],
   "source": []
  }
 ],
 "metadata": {
  "kernelspec": {
   "display_name": "Python 3",
   "language": "python",
   "name": "python3"
  },
  "language_info": {
   "codemirror_mode": {
    "name": "ipython",
    "version": 3
   },
   "file_extension": ".py",
   "mimetype": "text/x-python",
   "name": "python",
   "nbconvert_exporter": "python",
   "pygments_lexer": "ipython3",
   "version": "3.6.5"
  }
 },
 "nbformat": 4,
 "nbformat_minor": 2
}
