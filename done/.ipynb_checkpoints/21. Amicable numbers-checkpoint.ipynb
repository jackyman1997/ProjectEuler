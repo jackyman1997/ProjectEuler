{
 "cells": [
  {
   "cell_type": "markdown",
   "metadata": {},
   "source": [
    "## <a href='https://projecteuler.net/problem=21'>21. Amicable numbers</a>\n",
    "Let $d(n)$ be defined as the sum of <a href='https://en.wikipedia.org/wiki/Divisor_function'>proper divisors</a> of $n$ (numbers less than n which divide evenly into $n$).  \n",
    "If $d(a) = b$ and $d(b) = a$, where $a ≠ b$, then $a$ and $b$ are an amicable pair and each of $a$ and $b$ are called <a href='https://en.wikipedia.org/wiki/Amicable_numbers'>amicable numbers</a>.\n",
    "\n",
    "For example, the proper divisors of $220$ are $1, 2, 4, 5, 10, 11, 20, 22, 44, 55$ and $110$; therefore $d(220) = 284$.  \n",
    "The proper divisors of $284$ are $1, 2, 4, 71$ and $142$; so $d(284) = 220$.\n",
    "\n",
    "Evaluate the sum of all the amicable numbers under 10000.\n",
    "___"
   ]
  },
  {
   "cell_type": "code",
   "execution_count": 1,
   "metadata": {},
   "outputs": [],
   "source": [
    "# copied from q12\n",
    "def divisor(n: int, proper: bool=False, count: bool=False):\n",
    "    '''\n",
    "    using set, somehoww list is a bit faster\n",
    "    proper: proper divisors, not including n itself, default False (including n)\n",
    "    count: return how many divisors instead of list of divisors, default False (return list)\n",
    "    '''\n",
    "    # set and setup\n",
    "    d = set()\n",
    "    d.add(1)    # 1 is divisor of all integers\n",
    "    # proper divisor (not including n itself)\n",
    "    if not proper:\n",
    "        d.add(n)\n",
    "    # loop\n",
    "    for i in range(2, int(n**0.5)+1):\n",
    "        if n/i == n//i:    # if n divides i (checking if int, or (n/i)%1 == 0)\n",
    "            d.add(i)\n",
    "            d.add(n//i)    # a pair of divisors, repeated if n is square\n",
    "    # counting only\n",
    "    if count:\n",
    "        return len(d)\n",
    "    else:\n",
    "        return [i for i in d]    # or list(d)"
   ]
  },
  {
   "cell_type": "code",
   "execution_count": 2,
   "metadata": {},
   "outputs": [],
   "source": [
    "# Amicables identifier\n",
    "def IsAmicables(n: int):\n",
    "    a = sum(divisor(n, proper=True))\n",
    "    b = sum(divisor(a, proper=True))\n",
    "    return n == b"
   ]
  },
  {
   "cell_type": "code",
   "execution_count": 3,
   "metadata": {},
   "outputs": [],
   "source": [
    "# input \n",
    "q21_input = {'under': 10000}\n",
    "\n",
    "# function \n",
    "def q21(under: int):\n",
    "    \n",
    "    # list comprehension\n",
    "    Amicables = [\n",
    "        i for i in range(under) \n",
    "        if (IsAmicables(i) and \n",
    "            i != sum(divisor(i, proper=True)))\n",
    "    ]\n",
    "    return print('Amicables:',Amicables, \\\n",
    "                 '\\nsum: %i' % sum(Amicables))"
   ]
  },
  {
   "cell_type": "code",
   "execution_count": 4,
   "metadata": {},
   "outputs": [
    {
     "name": "stdout",
     "output_type": "stream",
     "text": [
      "Amicables: [220, 284, 1184, 1210, 2620, 2924, 5020, 5564, 6232, 6368] \n",
      "sum: 31626\n",
      "136 ms ± 0 ns per loop (mean ± std. dev. of 1 run, 1 loop each)\n"
     ]
    }
   ],
   "source": [
    "%%timeit -n 1 -r 1\n",
    "q21(**q21_input)"
   ]
  },
  {
   "cell_type": "code",
   "execution_count": null,
   "metadata": {},
   "outputs": [],
   "source": []
  }
 ],
 "metadata": {
  "kernelspec": {
   "display_name": "Python 3",
   "language": "python",
   "name": "python3"
  },
  "language_info": {
   "codemirror_mode": {
    "name": "ipython",
    "version": 3
   },
   "file_extension": ".py",
   "mimetype": "text/x-python",
   "name": "python",
   "nbconvert_exporter": "python",
   "pygments_lexer": "ipython3",
   "version": "3.6.5"
  }
 },
 "nbformat": 4,
 "nbformat_minor": 2
}
