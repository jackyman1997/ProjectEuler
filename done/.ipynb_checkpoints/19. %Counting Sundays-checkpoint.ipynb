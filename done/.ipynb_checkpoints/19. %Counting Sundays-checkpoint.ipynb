{
 "cells": [
  {
   "cell_type": "markdown",
   "metadata": {},
   "source": [
    "## 19. Counting Sundays\n",
    "You are given the following information, but you may prefer to do some research for yourself.\n",
    "\n",
    "- 1 Jan 1900 was a Monday.\n",
    "- Thirty days has September,<br>\n",
    "    April, June and November.\n",
    "- All the rest have thirty-one\n",
    "- Saving February alone,<br>\n",
    "    Which has twenty-eight, rain or shine.\n",
    "    - And on leap years, twenty-nine.\n",
    "\n",
    "A leap year occurs on any year evenly divisible by 4, but not on a century unless it is divisible by 400.<br><br>\n",
    "How many Sundays fell on the first of the month during the twentieth century (1 Jan 1901 to 31 Dec 2000)?"
   ]
  },
  {
   "cell_type": "markdown",
   "metadata": {},
   "source": [
    "> 1. using the idea of mod(7)  \n",
    "2. and mod(28) to see how _days change each month"
   ]
  },
  {
   "cell_type": "code",
   "execution_count": 39,
   "metadata": {},
   "outputs": [],
   "source": [
    "import numpy as np\n",
    "import time"
   ]
  },
  {
   "cell_type": "code",
   "execution_count": 19,
   "metadata": {},
   "outputs": [],
   "source": [
    "# some notations\n",
    "week = ['Sun','Mon','Tue','Wed','Thu','Fri','Sat']\n",
    "month = ['JAN','FEB','MAR','APR','MAY','JUN',\\\n",
    "         'JUL','AUG','SEP','OCT','NOV','DEC']"
   ]
  },
  {
   "cell_type": "code",
   "execution_count": 21,
   "metadata": {},
   "outputs": [
    {
     "name": "stdout",
     "output_type": "stream",
     "text": [
      "1 JAN is Mon 1\n",
      "2 JAN is Tue 2\n",
      "3 JAN is Wed 3\n",
      "4 JAN is Thu 4\n",
      "5 JAN is Fri 5\n",
      "6 JAN is Sat 6\n",
      "7 JAN is Sun 0\n",
      "8 JAN is Mon 1\n",
      "9 JAN is Tue 2\n",
      "10 JAN is Wed 3\n",
      "11 JAN is Thu 4\n",
      "12 JAN is Fri 5\n",
      "13 JAN is Sat 6\n",
      "14 JAN is Sun 0\n",
      "15 JAN is Mon 1\n",
      "16 JAN is Tue 2\n",
      "17 JAN is Wed 3\n",
      "18 JAN is Thu 4\n",
      "19 JAN is Fri 5\n",
      "20 JAN is Sat 6\n",
      "21 JAN is Sun 0\n",
      "22 JAN is Mon 1\n",
      "23 JAN is Tue 2\n",
      "24 JAN is Wed 3\n",
      "25 JAN is Thu 4\n",
      "26 JAN is Fri 5\n",
      "27 JAN is Sat 6\n",
      "28 JAN is Sun 0\n",
      "29 JAN is Mon 1\n",
      "30 JAN is Tue 2\n",
      "31 JAN is Wed 3\n"
     ]
    }
   ],
   "source": [
    "# JAN, with the first day as monday\n",
    "for date in range(1,31+1):   # 31 days in JAN\n",
    "    day = date%7\n",
    "    print(str(date),'JAN is',week[day],day)\n",
    "    day += 1"
   ]
  },
  {
   "cell_type": "markdown",
   "metadata": {},
   "source": [
    ">yup this kinda works. <br>\n",
    "1 being monday & 0 being sunday"
   ]
  },
  {
   "cell_type": "markdown",
   "metadata": {},
   "source": [
    "> or, i got another method, <br>\n",
    "why not count the total days first? <br>"
   ]
  },
  {
   "cell_type": "markdown",
   "metadata": {},
   "source": [
    "> nah use that later, <br>\n",
    "get the leap years, <br>\n",
    "then work out the pattern of day-change"
   ]
  },
  {
   "cell_type": "code",
   "execution_count": 26,
   "metadata": {},
   "outputs": [
    {
     "name": "stdout",
     "output_type": "stream",
     "text": [
      "leap: 1904 1\n",
      "leap: 1908 1\n",
      "leap: 1912 1\n",
      "leap: 1916 1\n",
      "leap: 1920 1\n",
      "leap: 1924 1\n",
      "leap: 1928 1\n",
      "leap: 1932 1\n",
      "leap: 1936 1\n",
      "leap: 1940 1\n",
      "leap: 1944 1\n",
      "leap: 1948 1\n",
      "leap: 1952 1\n",
      "leap: 1956 1\n",
      "leap: 1960 1\n",
      "leap: 1964 1\n",
      "leap: 1968 1\n",
      "leap: 1972 1\n",
      "leap: 1976 1\n",
      "leap: 1980 1\n",
      "leap: 1984 1\n",
      "leap: 1988 1\n",
      "leap: 1992 1\n",
      "leap: 1996 1\n"
     ]
    }
   ],
   "source": [
    "for year in range(1901,2000+1):\n",
    "    \n",
    "    if year%4 == 0 and year%400 != 0:\n",
    "        print('leap:', year,1)"
   ]
  },
  {
   "cell_type": "markdown",
   "metadata": {},
   "source": [
    "> now work out the 'months details': <br>\n",
    "you will see"
   ]
  },
  {
   "cell_type": "code",
   "execution_count": 40,
   "metadata": {},
   "outputs": [],
   "source": [
    "month_days = np.array([31,28,31,30,31,30,31,31,30,31,30,31]) \n",
    "month_days_leap = np.array([31,28+1,31,30,31,30,31,31,30,31,30,31]) "
   ]
  },
  {
   "cell_type": "code",
   "execution_count": 41,
   "metadata": {},
   "outputs": [
    {
     "data": {
      "text/plain": [
       "array([3, 0, 3, 2, 3, 2, 3, 3, 2, 3, 2, 3], dtype=int32)"
      ]
     },
     "execution_count": 41,
     "metadata": {},
     "output_type": "execute_result"
    }
   ],
   "source": [
    "month_days%28"
   ]
  },
  {
   "cell_type": "code",
   "execution_count": 28,
   "metadata": {},
   "outputs": [
    {
     "name": "stdout",
     "output_type": "stream",
     "text": [
      "old code\n"
     ]
    }
   ],
   "source": [
    "'''\n",
    "t1 = time.time()\n",
    "\n",
    "day = 1\n",
    "whatday = np.array([day])  # maybe not useful in question but can use for advanced needs \n",
    "\n",
    "yr_start = 1901\n",
    "yr_end = 2000\n",
    "\n",
    "cnt = 0\n",
    "for year in range(yr_start, yr_end + 1):\n",
    "\n",
    "    for month_index in range(0,12):\n",
    "        month = month_index + 1\n",
    "    \n",
    "        if year%4 == 0 and year%400 != 0 and month == 2:\n",
    "                day += 1\n",
    "            \n",
    "        day += month_days[month_index-1]%28\n",
    "        \n",
    "        if year == yr_start and month == 1:\n",
    "            day = 1\n",
    "        \n",
    "        print(year,month,day%7)\n",
    "        \n",
    "        if day%7 == 0:\n",
    "            cnt += 1\n",
    "\n",
    "t2 = time.time()  \n",
    "print(t2-t1,'seconds taken')\n",
    "cnt\n",
    "'''\n",
    "print('old code')"
   ]
  },
  {
   "cell_type": "code",
   "execution_count": 90,
   "metadata": {},
   "outputs": [
    {
     "name": "stdout",
     "output_type": "stream",
     "text": [
      "01 APR 1901 is Sun\n",
      "01 JUL 1901 is Sun\n",
      "01 SEP 1902 is Sun\n",
      "01 DEC 1902 is Sun\n",
      "01 JUN 1903 is Sun\n",
      "01 AUG 1904 is Sun\n",
      "01 MAY 1905 is Sun\n",
      "01 JAN 1906 is Sun\n",
      "01 OCT 1906 is Sun\n",
      "01 APR 1907 is Sun\n",
      "01 JUL 1907 is Sun\n",
      "01 JUN 1908 is Sun\n",
      "01 FEB 1909 is Sun\n",
      "01 MAR 1909 is Sun\n",
      "01 NOV 1909 is Sun\n",
      "01 AUG 1910 is Sun\n",
      "01 MAY 1911 is Sun\n",
      "01 JAN 1912 is Sun\n",
      "01 APR 1912 is Sun\n",
      "01 JUL 1912 is Sun\n",
      "01 SEP 1913 is Sun\n",
      "01 DEC 1913 is Sun\n",
      "01 JUN 1914 is Sun\n",
      "01 FEB 1915 is Sun\n",
      "01 MAR 1915 is Sun\n",
      "01 NOV 1915 is Sun\n",
      "01 MAY 1916 is Sun\n",
      "01 JAN 1917 is Sun\n",
      "01 OCT 1917 is Sun\n",
      "01 APR 1918 is Sun\n",
      "01 JUL 1918 is Sun\n",
      "01 SEP 1919 is Sun\n",
      "01 DEC 1919 is Sun\n",
      "01 FEB 1920 is Sun\n",
      "01 MAR 1920 is Sun\n",
      "01 NOV 1920 is Sun\n",
      "01 AUG 1921 is Sun\n",
      "01 MAY 1922 is Sun\n",
      "01 JAN 1923 is Sun\n",
      "01 OCT 1923 is Sun\n",
      "01 SEP 1924 is Sun\n",
      "01 DEC 1924 is Sun\n",
      "01 JUN 1925 is Sun\n",
      "01 FEB 1926 is Sun\n",
      "01 MAR 1926 is Sun\n",
      "01 NOV 1926 is Sun\n",
      "01 AUG 1927 is Sun\n",
      "01 OCT 1928 is Sun\n",
      "01 APR 1929 is Sun\n",
      "01 JUL 1929 is Sun\n",
      "01 SEP 1930 is Sun\n",
      "01 DEC 1930 is Sun\n",
      "01 JUN 1931 is Sun\n",
      "01 AUG 1932 is Sun\n",
      "01 MAY 1933 is Sun\n",
      "01 JAN 1934 is Sun\n",
      "01 OCT 1934 is Sun\n",
      "01 APR 1935 is Sun\n",
      "01 JUL 1935 is Sun\n",
      "01 JUN 1936 is Sun\n",
      "01 FEB 1937 is Sun\n",
      "01 MAR 1937 is Sun\n",
      "01 NOV 1937 is Sun\n",
      "01 AUG 1938 is Sun\n",
      "01 MAY 1939 is Sun\n",
      "01 JAN 1940 is Sun\n",
      "01 APR 1940 is Sun\n",
      "01 JUL 1940 is Sun\n",
      "01 SEP 1941 is Sun\n",
      "01 DEC 1941 is Sun\n",
      "01 JUN 1942 is Sun\n",
      "01 FEB 1943 is Sun\n",
      "01 MAR 1943 is Sun\n",
      "01 NOV 1943 is Sun\n",
      "01 MAY 1944 is Sun\n",
      "01 JAN 1945 is Sun\n",
      "01 OCT 1945 is Sun\n",
      "01 APR 1946 is Sun\n",
      "01 JUL 1946 is Sun\n",
      "01 SEP 1947 is Sun\n",
      "01 DEC 1947 is Sun\n",
      "01 FEB 1948 is Sun\n",
      "01 MAR 1948 is Sun\n",
      "01 NOV 1948 is Sun\n",
      "01 AUG 1949 is Sun\n",
      "01 MAY 1950 is Sun\n",
      "01 JAN 1951 is Sun\n",
      "01 OCT 1951 is Sun\n",
      "01 SEP 1952 is Sun\n",
      "01 DEC 1952 is Sun\n",
      "01 JUN 1953 is Sun\n",
      "01 FEB 1954 is Sun\n",
      "01 MAR 1954 is Sun\n",
      "01 NOV 1954 is Sun\n",
      "01 AUG 1955 is Sun\n",
      "01 OCT 1956 is Sun\n",
      "01 APR 1957 is Sun\n",
      "01 JUL 1957 is Sun\n",
      "01 SEP 1958 is Sun\n",
      "01 DEC 1958 is Sun\n",
      "01 JUN 1959 is Sun\n",
      "01 AUG 1960 is Sun\n",
      "01 MAY 1961 is Sun\n",
      "01 JAN 1962 is Sun\n",
      "01 OCT 1962 is Sun\n",
      "01 APR 1963 is Sun\n",
      "01 JUL 1963 is Sun\n",
      "01 JUN 1964 is Sun\n",
      "01 FEB 1965 is Sun\n",
      "01 MAR 1965 is Sun\n",
      "01 NOV 1965 is Sun\n",
      "01 AUG 1966 is Sun\n",
      "01 MAY 1967 is Sun\n",
      "01 JAN 1968 is Sun\n",
      "01 APR 1968 is Sun\n",
      "01 JUL 1968 is Sun\n",
      "01 SEP 1969 is Sun\n",
      "01 DEC 1969 is Sun\n",
      "01 JUN 1970 is Sun\n",
      "01 FEB 1971 is Sun\n",
      "01 MAR 1971 is Sun\n",
      "01 NOV 1971 is Sun\n",
      "01 MAY 1972 is Sun\n",
      "01 JAN 1973 is Sun\n",
      "01 OCT 1973 is Sun\n",
      "01 APR 1974 is Sun\n",
      "01 JUL 1974 is Sun\n",
      "01 SEP 1975 is Sun\n",
      "01 DEC 1975 is Sun\n",
      "01 FEB 1976 is Sun\n",
      "01 MAR 1976 is Sun\n",
      "01 NOV 1976 is Sun\n",
      "01 AUG 1977 is Sun\n",
      "01 MAY 1978 is Sun\n",
      "01 JAN 1979 is Sun\n",
      "01 OCT 1979 is Sun\n",
      "01 SEP 1980 is Sun\n",
      "01 DEC 1980 is Sun\n",
      "01 JUN 1981 is Sun\n",
      "01 FEB 1982 is Sun\n",
      "01 MAR 1982 is Sun\n",
      "01 NOV 1982 is Sun\n",
      "01 AUG 1983 is Sun\n",
      "01 OCT 1984 is Sun\n",
      "01 APR 1985 is Sun\n",
      "01 JUL 1985 is Sun\n",
      "01 SEP 1986 is Sun\n",
      "01 DEC 1986 is Sun\n",
      "01 JUN 1987 is Sun\n",
      "01 AUG 1988 is Sun\n",
      "01 MAY 1989 is Sun\n",
      "01 JAN 1990 is Sun\n",
      "01 OCT 1990 is Sun\n",
      "01 APR 1991 is Sun\n",
      "01 JUL 1991 is Sun\n",
      "01 JUN 1992 is Sun\n",
      "01 FEB 1993 is Sun\n",
      "01 MAR 1993 is Sun\n",
      "01 NOV 1993 is Sun\n",
      "01 AUG 1994 is Sun\n",
      "01 MAY 1995 is Sun\n",
      "01 JAN 1996 is Sun\n",
      "01 APR 1996 is Sun\n",
      "01 JUL 1996 is Sun\n",
      "01 SEP 1997 is Sun\n",
      "01 DEC 1997 is Sun\n",
      "01 JUN 1998 is Sun\n",
      "01 FEB 1999 is Sun\n",
      "01 MAR 1999 is Sun\n",
      "01 NOV 1999 is Sun\n",
      "01 AUG 2000 is Sun\n"
     ]
    },
    {
     "data": {
      "text/plain": [
       "171"
      ]
     },
     "execution_count": 90,
     "metadata": {},
     "output_type": "execute_result"
    }
   ],
   "source": [
    "# re-do\n",
    "# asking if the 1st is a sunday ==> 01<month>%7 == 0? \n",
    "\n",
    "# some notations\n",
    "weekdays = ['Sun','Mon','Tue','Wed','Thu','Fri','Sat']\n",
    "months = ['JAN','FEB','MAR','APR','MAY','JUN',\\\n",
    "         'JUL','AUG','SEP','OCT','NOV','DEC']\n",
    "month_days = np.array([31,28,31,30,31,30,31,31,30,31,30,31]) \n",
    "\n",
    "month_day = [31,28,31,30,31,30,31,31,30,31,30,31]\n",
    "\n",
    "# the day difference after each month\n",
    "day_diff = month_days%28    # even %7 is fine, as weeks <==> 28days\n",
    "\n",
    "# init\n",
    "yr_start = 1901\n",
    "yr_end = 2000\n",
    "cnt = 0\n",
    "\n",
    "# day counter\n",
    "day_index = 1    # start with 1 as monday\n",
    "\n",
    "# time it\n",
    "t1 = time.time()\n",
    "\n",
    "# year\n",
    "for year in range(yr_start, yr_end+1):\n",
    "\n",
    "    # months\n",
    "    for month_index, month_name in enumerate(months):\n",
    "        \n",
    "        #1 if leap year\n",
    "        if (year%4 == 0 and \n",
    "            year%400 != 0 and \n",
    "            month_index == 1):    # 1 is FEB, 0 is JAN\n",
    "            \n",
    "            day_index += 1    # one extra day for leap year (29Feb)\n",
    "        \n",
    "        #2 cnt condition, if 1st is a sunday\n",
    "        if day_index%7 == 0:\n",
    "            cnt += 1\n",
    "            print('01',months[month_index],year,'is',weekdays[day_index%7])\n",
    "        \n",
    "        #3 day counter increase for next month\n",
    "        day_index += day_diff[month_index]\n",
    "        '''\n",
    "        or \n",
    "        day_index += month_days[month_index]%28\n",
    "        '''\n",
    "cnt"
   ]
  },
  {
   "cell_type": "markdown",
   "metadata": {},
   "source": [
    "> yeah correct, 171 <br>\n",
    "but need to be careful when reading this whole thing again, <br>\n",
    "since the initial condition was set, <br>\n",
    "you need to be extra careful when dealing with sth like this, <br>\n",
    "the next data depends on the previous data  \n",
    "so order of the code is important"
   ]
  },
  {
   "cell_type": "code",
   "execution_count": null,
   "metadata": {},
   "outputs": [],
   "source": []
  }
 ],
 "metadata": {
  "kernelspec": {
   "display_name": "Python 3",
   "language": "python",
   "name": "python3"
  },
  "language_info": {
   "codemirror_mode": {
    "name": "ipython",
    "version": 3
   },
   "file_extension": ".py",
   "mimetype": "text/x-python",
   "name": "python",
   "nbconvert_exporter": "python",
   "pygments_lexer": "ipython3",
   "version": "3.6.5"
  }
 },
 "nbformat": 4,
 "nbformat_minor": 2
}
