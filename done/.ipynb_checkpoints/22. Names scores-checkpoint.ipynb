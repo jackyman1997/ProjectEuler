{
 "cells": [
  {
   "cell_type": "markdown",
   "metadata": {},
   "source": [
    "## <a href='https://projecteuler.net/problem=22'>22. Names scores</a>\n",
    "Using <a href='https://projecteuler.net/project/resources/p022_names.txt'>names.txt</a> (right click and 'Save Link/Target As...'), a 46K text file containing over five-thousand first names, begin by sorting it into alphabetical order. Then working out the alphabetical value for each name, multiply this value by its alphabetical position in the list to obtain a name score.\n",
    "\n",
    "For example, when the list is sorted into alphabetical order, COLIN, which is worth $3 + 15 + 12 + 9 + 14 = 53$, is the 938th name in the list. So, COLIN would obtain a score of $938 × 53 = 49714$.\n",
    "\n",
    "What is the total of all the name scores in the file?\n",
    "___"
   ]
  },
  {
   "cell_type": "code",
   "execution_count": 1,
   "metadata": {},
   "outputs": [],
   "source": [
    "# input\n",
    "q22_input = {'filename': 'p022_names.txt'}\n",
    "\n",
    "# function\n",
    "def q22(filename: str):\n",
    "    \n",
    "    # import text file\n",
    "    with open('..\\\\data\\\\p022_names.txt') as t:\n",
    "        data = t.read()\n",
    "    \n",
    "    # extract elements\n",
    "    names = data.replace('\"', '').split(',')\n",
    "    \n",
    "    # sort names alphabetically\n",
    "    names.sort()\n",
    "    \n",
    "    # one-liner, ord(str) will give the ascii values in integer, using it as the alphabet scoring\n",
    "    return print(\n",
    "        'sum: %i'%\n",
    "        sum( (index+1)*sum(ord(letter)-ord('A')+1 for letter in name) for index, name in enumerate(names) )\n",
    "    )"
   ]
  },
  {
   "cell_type": "code",
   "execution_count": 2,
   "metadata": {},
   "outputs": [
    {
     "name": "stdout",
     "output_type": "stream",
     "text": [
      "sum: 871198282\n",
      "11.3 ms ± 0 ns per loop (mean ± std. dev. of 1 run, 1 loop each)\n"
     ]
    }
   ],
   "source": [
    "%%timeit -n 1 -r 1\n",
    "q22(**q22_input)"
   ]
  },
  {
   "cell_type": "markdown",
   "metadata": {},
   "source": [
    "___\n",
    "old code below  \n",
    "\n",
    "I was using bubble sort for this question back in the days  \n",
    "the original work was a mess, and slowly got the answer  \n",
    "so i decided to re-do this part  \n",
    "and most of the original work are to be removed  \n",
    "and the below cell is for ref. only"
   ]
  },
  {
   "cell_type": "code",
   "execution_count": 4,
   "metadata": {},
   "outputs": [
    {
     "name": "stdout",
     "output_type": "stream",
     "text": [
      "[5, 4, 3, 2, 1] loop1\n",
      "[4, 5, 3, 2, 1] loop2\n",
      "[3, 5, 4, 2, 1] loop2\n",
      "[2, 5, 4, 3, 1] loop2\n",
      "[1, 5, 4, 3, 2] loop2\n",
      "[1, 5, 4, 3, 2] loop1\n",
      "[1, 4, 5, 3, 2] loop2\n",
      "[1, 3, 5, 4, 2] loop2\n",
      "[1, 2, 5, 4, 3] loop2\n",
      "[1, 2, 5, 4, 3] loop1\n",
      "[1, 2, 4, 5, 3] loop2\n",
      "[1, 2, 3, 5, 4] loop2\n",
      "[1, 2, 3, 5, 4] loop1\n",
      "[1, 2, 3, 4, 5] loop2\n",
      "[1, 2, 3, 4, 5] loop1\n"
     ]
    }
   ],
   "source": [
    "test = [5,4,3,2,1]\n",
    "\n",
    "for i in range(len(test)):\n",
    "    print(test,'loop1')\n",
    "    for j in range(i+1,len(test)):\n",
    "        if test[i] > test[j]:\n",
    "            test[i] , test[j] = test[j] , test[i]\n",
    "            print(test,'loop2')"
   ]
  },
  {
   "cell_type": "raw",
   "metadata": {},
   "source": [
    "# the sorting i came up with (bubble sort)\n",
    "# for the list of names given in this problem, this sort took ~ 200 seconds\n",
    "\n",
    "import numpy as np\n",
    "import time\n",
    "\n",
    "t1 = time.time()\n",
    "\n",
    "test = np.array(['ABCDE','ABCD','AAA','ABC','AAB','AAA','ACCD','Z'])\n",
    "scorelist_capital = np.array(['A','B','C','D','E','F',\\\n",
    "                          'G','H','I','J','K','L',\\\n",
    "                          'M','N','O','P','Q','R',\\\n",
    "                          'S','T','U','V','W','X','Y','Z'])\n",
    "\n",
    "for i in range(len(test)):\n",
    "    print('loopi')\n",
    "    \n",
    "    for j in range(i+1,len(test)):\n",
    "        print('loopj')\n",
    "        \n",
    "        alpha_pos = 0\n",
    "        \n",
    "        checki = np.where(test[i][alpha_pos]==scorelist_capital)[0][0]\n",
    "        checkj = np.where(test[j][alpha_pos]==scorelist_capital)[0][0]\n",
    "        \n",
    "        while checki == checkj:\n",
    "            alpha_pos += 1\n",
    "            print(test,'case1',i,j)\n",
    "            \n",
    "            if alpha_pos == len(test[i]) or alpha_pos == len(test[j]):\n",
    "                \n",
    "                print(test,'case2',i,j)\n",
    "              \n",
    "                if len(test[i]) >= len(test[j]):\n",
    "                    checki = checkj + 1\n",
    "                    break\n",
    "                    \n",
    "                else:\n",
    "                    checkj = checki + 1\n",
    "                    break\n",
    "            \n",
    "            checki = np.where(test[i][alpha_pos]==scorelist_capital)[0][0]\n",
    "            checkj = np.where(test[j][alpha_pos]==scorelist_capital)[0][0]   \n",
    "        \n",
    "        if checki > checkj:\n",
    "            test[i] , test[j] = test[j] , test[i]\n",
    "            \n",
    "            print(test,'final',i,j,'\\n')\n",
    "                    \n",
    "t2 = time.time()\n",
    "print(t2-t1,'seconds taken')"
   ]
  },
  {
   "cell_type": "code",
   "execution_count": null,
   "metadata": {},
   "outputs": [],
   "source": []
  }
 ],
 "metadata": {
  "kernelspec": {
   "display_name": "Python 3",
   "language": "python",
   "name": "python3"
  },
  "language_info": {
   "codemirror_mode": {
    "name": "ipython",
    "version": 3
   },
   "file_extension": ".py",
   "mimetype": "text/x-python",
   "name": "python",
   "nbconvert_exporter": "python",
   "pygments_lexer": "ipython3",
   "version": "3.6.5"
  }
 },
 "nbformat": 4,
 "nbformat_minor": 2
}
