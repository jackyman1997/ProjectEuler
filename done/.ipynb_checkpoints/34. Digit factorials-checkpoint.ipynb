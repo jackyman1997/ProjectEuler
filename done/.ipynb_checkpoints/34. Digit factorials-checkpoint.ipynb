{
 "cells": [
  {
   "cell_type": "markdown",
   "metadata": {},
   "source": [
    "## <a href='https://projecteuler.net/problem=34'>34. Digit factorials</a>\n",
    "145 is a curious number, as $ 1! + 4! + 5! = 1 + 24 + 120 = 145 $.\n",
    "\n",
    "Find the sum of all numbers which are equal to the sum of the factorial of their digits.\n",
    "\n",
    "Note: as $1! = 1$ and $2! = 2$ are not sums they are not included.\n",
    "___"
   ]
  },
  {
   "cell_type": "markdown",
   "metadata": {},
   "source": [
    "from some readings: <br>\n",
    "10^7 is an easy limit, here is why: \n",
    "$$ d \\times 9! < 10^d - 1 $$\n",
    "d is the number of digits, <br>\n",
    "and (10^d - 1) means there are d 9s in a row. <br><br>\n",
    "if the maximum of the factorial sum, which d times 9!, is smaller than the number (with d digits), <br>\n",
    "that means almost all the number in than d dights will not satisfy the property. <br>\n",
    "(well tbh, like 1101111 will still be below, but they will never be equal to their factorial sum, so i say almost all) <br><br>\n",
    "the value of d (number of digits) turns out to be 7: <br>\n",
    "so, roughly speaking, numbers that exceed 9999999 will never have that property. <br>\n",
    "can be verified by the below code"
   ]
  },
  {
   "cell_type": "code",
   "execution_count": 1,
   "metadata": {},
   "outputs": [
    {
     "data": {
      "text/plain": [
       "7"
      ]
     },
     "execution_count": 1,
     "metadata": {},
     "output_type": "execute_result"
    }
   ],
   "source": [
    "d = 1\n",
    "while d * (9*8*7*6*5*4*3*2) > 10**d - 1:\n",
    "    d += 1\n",
    "d"
   ]
  },
  {
   "cell_type": "code",
   "execution_count": 2,
   "metadata": {},
   "outputs": [],
   "source": [
    "# copied from q15\n",
    "def factorial(n: int) -> int:\n",
    "    '''\n",
    "    my own version of factorial, just for fun\n",
    "    '''\n",
    "    # regulate input to int\n",
    "    try:\n",
    "        n = int(n)\n",
    "    except (TypeError, ValueError, NameError) as e:    # or just except:\n",
    "        pass\n",
    "    # recusion\n",
    "    if n == 0:    # base case\n",
    "        return 1\n",
    "    else:\n",
    "        return n * factorial(n-1)"
   ]
  },
  {
   "cell_type": "code",
   "execution_count": 3,
   "metadata": {},
   "outputs": [],
   "source": [
    "# function\n",
    "def q34():\n",
    "    \n",
    "    ans = {'satisfied': []}\n",
    "    \n",
    "    # 1 & 2 are not included, 7-digit number is proved limit\n",
    "    for i in range(3, 10**6):\n",
    "        \n",
    "        if i == sum( factorial( int(digit) ) for digit in str(i) ):\n",
    "            ans['satisfied'].append(i)\n",
    "            \n",
    "    return print('there are %i numbers satisfy this property, which are'\\\n",
    "                %len( ans['satisfied'] ), ans['satisfied'],\\\n",
    "                'has the sum of %i'%sum(ans['satisfied']))"
   ]
  },
  {
   "cell_type": "code",
   "execution_count": 4,
   "metadata": {},
   "outputs": [
    {
     "name": "stdout",
     "output_type": "stream",
     "text": [
      "there are 2 numbers satisfy this property, which are [145, 40585] has the sum of 40730\n",
      "8.21 s ± 0 ns per loop (mean ± std. dev. of 1 run, 1 loop each)\n"
     ]
    }
   ],
   "source": [
    "%%timeit -n 1 -r 1\n",
    "q34()"
   ]
  },
  {
   "cell_type": "code",
   "execution_count": 5,
   "metadata": {},
   "outputs": [
    {
     "data": {
      "text/plain": [
       "40730"
      ]
     },
     "execution_count": 5,
     "metadata": {},
     "output_type": "execute_result"
    }
   ],
   "source": [
    "def q34():    # one-liner\n",
    "    return sum( i for i in range(3, 10**6) if sum( factorial(int(j)) for j in str(i) ) == i )\n",
    "\n",
    "q34()"
   ]
  },
  {
   "cell_type": "markdown",
   "metadata": {},
   "source": [
    "___\n",
    "old code below, somehow they are faster  \n",
    "could be because of numpy, time and math"
   ]
  },
  {
   "cell_type": "code",
   "execution_count": 4,
   "metadata": {},
   "outputs": [
    {
     "name": "stdout",
     "output_type": "stream",
     "text": [
      "3.4010040760040283 seconds taken\n"
     ]
    },
    {
     "data": {
      "text/plain": [
       "(40730, array([  145., 40585.]))"
      ]
     },
     "execution_count": 4,
     "metadata": {},
     "output_type": "execute_result"
    }
   ],
   "source": [
    "import time, math\n",
    "import numpy as np\n",
    "\n",
    "t1 = time.time()\n",
    "\n",
    "ans = 0\n",
    "ans_n = np.array([])\n",
    "n = 10\n",
    "f_sum = 0\n",
    "\n",
    "while n < 1000000:\n",
    "        \n",
    "    f_sum = 0\n",
    "    for di in range(len(str(n))):\n",
    "        f_sum += math.factorial(int(str(n)[di]))\n",
    "        \n",
    "    if n == f_sum:\n",
    "        ans += n\n",
    "        ans_n = np.append(ans_n,n)\n",
    "        \n",
    "    n += 1\n",
    "\n",
    "t2 = time.time()\n",
    "print(t2-t1,'seconds taken')\n",
    "\n",
    "ans,ans_n"
   ]
  },
  {
   "cell_type": "code",
   "execution_count": 5,
   "metadata": {},
   "outputs": [
    {
     "name": "stdout",
     "output_type": "stream",
     "text": [
      "4.280991792678833 seconds taken\n"
     ]
    },
    {
     "data": {
      "text/plain": [
       "(40730, array([  145., 40585.]))"
      ]
     },
     "execution_count": 5,
     "metadata": {},
     "output_type": "execute_result"
    }
   ],
   "source": [
    "# imporved version, instead of doing under 9999999, I let the code to check it everytime. \n",
    "t1 = time.time()\n",
    "\n",
    "ans = 0\n",
    "ans_n = np.array([])\n",
    "n = 10\n",
    "f_sum = 0\n",
    "\n",
    "while len(str(n)) * math.factorial(9) > 10**len(str(n)) - 1:\n",
    "        \n",
    "    f_sum = 0\n",
    "    for di in range(len(str(n))):\n",
    "        f_sum += math.factorial(int(str(n)[di]))\n",
    "        \n",
    "    if n == f_sum:\n",
    "        ans += n\n",
    "        ans_n = np.append(ans_n,n)\n",
    "        \n",
    "    n += 1\n",
    "   \n",
    "t2 = time.time()\n",
    "print(t2-t1,'seconds taken')\n",
    "\n",
    "ans, ans_n"
   ]
  },
  {
   "cell_type": "code",
   "execution_count": null,
   "metadata": {},
   "outputs": [],
   "source": []
  }
 ],
 "metadata": {
  "kernelspec": {
   "display_name": "Python 3",
   "language": "python",
   "name": "python3"
  },
  "language_info": {
   "codemirror_mode": {
    "name": "ipython",
    "version": 3
   },
   "file_extension": ".py",
   "mimetype": "text/x-python",
   "name": "python",
   "nbconvert_exporter": "python",
   "pygments_lexer": "ipython3",
   "version": "3.6.5"
  }
 },
 "nbformat": 4,
 "nbformat_minor": 2
}
