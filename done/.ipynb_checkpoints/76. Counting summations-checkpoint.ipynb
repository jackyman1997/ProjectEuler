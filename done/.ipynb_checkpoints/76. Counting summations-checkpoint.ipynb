{
 "cells": [
  {
   "cell_type": "markdown",
   "metadata": {},
   "source": [
    "## <a href='https://projecteuler.net/problem=76'>76. Counting summations</a>\n",
    "\n",
    "It is possible to write five as a sum in exactly six different ways:\n",
    "\n",
    "$4 + 1$  \n",
    "$3 + 2$  \n",
    "$3 + 1 + 1$  \n",
    "$2 + 2 + 1$  \n",
    "$2 + 1 + 1 + 1$  \n",
    "$1 + 1 + 1 + 1 + 1$  \n",
    "\n",
    "How many different ways can one hundred be written as a sum of at least two positive integers?\n",
    "___"
   ]
  },
  {
   "cell_type": "markdown",
   "metadata": {},
   "source": [
    "so this is related to something call **Partitions**  \n",
    "with some research and google, I found <a href='https://www.youtube.com/watch?v=NjCIq58rZ8I'>this</a>  \n",
    "and it told me the answer: 190569292  \n",
    "I will still do it and try to come up with something.\n",
    "___"
   ]
  },
  {
   "cell_type": "markdown",
   "metadata": {},
   "source": [
    "Actually, by Euler:  \n",
    "$$\n",
    "\\begin{aligned}\n",
    "    1 + x + 2x^2 + 3x^3 + 5x^4 + 7x^5 + ...  &= \\displaystyle \\sum^\\infty_{n = 0} \\text{partition}(n)x^n \\\\\n",
    "    &= \\prod_{k=1}^\\infty \\frac{1}{1 - x^k}\n",
    "\\end{aligned}\n",
    "$$\n",
    "\n",
    "the interpretation is, for $|x| \\leq 1$:  \n",
    "$$\n",
    "\\begin{aligned}\n",
    "    \\frac{1}{1 - x} &= 1 + x + x^2 + x^3 + ... \\\\\n",
    "    \\frac{1}{1 - x^2} &= 1 + x^2 + x^4 + x^6 + ... \\\\\n",
    "    \\frac{1}{1 - x^k} &= 1 + x^k + x^{2k} + x^{3k} + ...\n",
    "\\end{aligned}\n",
    "$$\n",
    "\n",
    "\n",
    "$\\text{partition}(n)$ is the coefficient on $x^n$, so it is enough to expand the expression up to $x^n$, :  \n",
    "$$\n",
    "\\begin{aligned}\n",
    "    \\text{partition}(n) &= \\text{coef} \\Big( x^n \\text{ , } \\prod_{k=1}^\\infty \\frac{1}{1 - x^k} \\Big) \\\\\n",
    "    &= \\text{coef} \\Big( x^n \\text{ , } \\prod_{k=1}^n \\frac{1}{1 - x^k} \\Big)\n",
    "\\end{aligned}\n",
    "$$\n",
    "\n",
    "if $n=7$, this yields:  \n",
    "$$\n",
    "\\text{partition}(7) = \\text{coef} \\Big( x^7 \\text{ , } \\prod_{k=1}^7 \\frac{1}{1 - x^k} \\Big)\n",
    "$$\n",
    "\n",
    "$$\n",
    "\\begin{aligned}\n",
    "    \\prod_{k=1}^7 \\frac{1}{1 - x^k} &= (1+x+x^2+...+x^7+...)(1+x^2+x^4+x^6+...)(1+x^3+x^6+...)(1+x^4+...)(1+x^5+...)(1+x^6+...)(1+x^7+...) \\\\\n",
    "    &\\approx (1+x+x^2+...+x^7)(1+x^2+x^4+x^6)(1+x^3+x^6)(1+x^4)(1+x^5)(1+x^6)(1+x^7) \n",
    "\\end{aligned}\n",
    "$$\n",
    "check <a href='https://www.wolframalpha.com/input/?i=%281%2Bx%2Bx%5E2%2Bx%5E3%2Bx%5E4%2Bx%5E5%2Bx%5E6%2Bx%5E7%29+*+%281%2Bx%5E2%2Bx%5E4%2Bx%5E6%29*%281%2Bx%5E3%2Bx%5E6%29*%281%2Bx%5E4%29*%281%2Bx%5E5%29*%281%2Bx%5E6%29*%281%2Bx%5E7%29'>wolframalpha</a> \n",
    "$$\n",
    "\\begin{aligned}\n",
    "     = &1+1x+2x^2+3x^3+5x^4+7x^5+11x^6+15x^7+18x^8+24x^9+30x^{10}+ \\\\\n",
    "     &37x^{11}+44x^{12}+52x^{13}+57x^{14}+64x^{15}+71x^{16}+77x^{17}+81x^{18}+84x^{19}+84x^{20}+ \\\\\n",
    "     &84x^{21}+84x^{22}+81x^{23}+77x^{24}+71x^{25}+64x^{26}+57x^{27}+52x^{28}+44x^{29}+37x^{30}+ \\\\\n",
    "     &30x^{31}+24x^{32}+18x^{33}+15x^{34}+11x^{35}+7x^{36}+5x^{37}+3x^{38}+2x^{39}+1x^{40}+ \\\\\n",
    "     &1x^{41}\n",
    "\\end{aligned}\n",
    "$$  \n",
    "\n",
    "expand the expression up to $x^7$:\n",
    "$$\n",
    "\\begin{aligned}\n",
    "    \\text{partition}(7) &= \\text{coef} \\Big( x^7 \\text{ , } 1+1x+2x^2+3x^3+5x^4+7x^5+11x^6+15x^7 \\Big) \\\\\n",
    "    &= 15\n",
    "\\end{aligned}\n",
    "$$\n",
    "\n",
    "Therefore (this is actual the function I had in below):  \n",
    "$$\n",
    "\\begin{aligned}\n",
    "    \\text{partition}(n) &= \\text{coef}\\Big (x^n \\text{ ,   } \\prod_{k=1}^n \\sum_{i=0}^n f(k, i) x^i \\Big)\n",
    "\\end{aligned}\n",
    "\\text{ ,where  } f(k,i)= \\begin{cases}\n",
    "1, \\text{if } i=0 \\text{  or  } i \\equiv 0 \\;(\\mathrm{mod}\\; k) \\\\\n",
    "0, \\text{otherwise}\n",
    "\\end{cases}\n",
    "$$\n",
    "\n",
    "and an estimation formula is, which has no relationship to the above:  \n",
    "$$\n",
    "\\text{partition}(n) \\approx \\frac{1}{4n \\sqrt{3}} e^{\\pi \\sqrt{ \\frac{2n}{3} }}\n",
    "$$"
   ]
  },
  {
   "cell_type": "code",
   "execution_count": 1,
   "metadata": {},
   "outputs": [],
   "source": [
    "# just a recall on the function written for partition. from q31\n",
    "def polynomial_product(coef1: list, coef2: list) -> list:\n",
    "        '''\n",
    "        this is to multiplying 2 polynomial and obtain the coefficients,\n",
    "        list index is the power, list element corresponding to it is the coefficient\n",
    "        '''\n",
    "        new_coef_get = {}\n",
    "        for power1, c1 in enumerate(coef1):\n",
    "            for power2, c2 in enumerate(coef2):\n",
    "                new_coef_get[power1+power2] = new_coef_get.get(power1+power2, 0) + c1*c2      \n",
    "        # to list\n",
    "        new_coef = []\n",
    "        for power in new_coef_get:\n",
    "            new_coef.append(new_coef_get[power])        \n",
    "        return new_coef\n",
    "\n",
    "def partition(n: int) -> int:\n",
    "    '''\n",
    "    this is to do integer_partition, based on q31 and the youbube vid:\n",
    "    https://www.youtube.com/watch?v=VLbePGBOVeg&ab_channel=Mathologer\n",
    "    '''\n",
    "    # required list\n",
    "    below_int = [j for j in range(1, n+1)]\n",
    "    # store all required polynomial\n",
    "    polynomial_set = dict()\n",
    "    for i in below_int: \n",
    "        coef_poly = [1 if j%i == 0 else 0 for j in range(0, n+1)]\n",
    "        polynomial_set[i] = polynomial_set.get(i, coef_poly)    \n",
    "    # multiply polynomial\n",
    "    new_polynomial = [1]\n",
    "    for polynomial in polynomial_set:\n",
    "        new_polynomial = polynomial_product(new_polynomial, polynomial_set[polynomial])   \n",
    "    return new_polynomial[n]"
   ]
  },
  {
   "cell_type": "code",
   "execution_count": 2,
   "metadata": {},
   "outputs": [],
   "source": [
    "# libs\n",
    "from _myeulertools import integer_partition\n",
    "\n",
    "# input\n",
    "q76_input = {'target': 100}\n",
    "\n",
    "# function\n",
    "def q76(target: int): \n",
    "    return print('%i can be writen in %i ways of sum of at least 2 integers'%\\\n",
    "                 (target, integer_partition(target)))"
   ]
  },
  {
   "cell_type": "code",
   "execution_count": 3,
   "metadata": {},
   "outputs": [
    {
     "name": "stdout",
     "output_type": "stream",
     "text": [
      "100 can be writen in 190569292 ways of sum of at least 2 integers\n",
      "12.6 s ± 0 ns per loop (mean ± std. dev. of 1 run, 1 loop each)\n"
     ]
    }
   ],
   "source": [
    "%%timeit -r 1 -n 1\n",
    "q76(**q76_input)"
   ]
  },
  {
   "cell_type": "code",
   "execution_count": null,
   "metadata": {},
   "outputs": [],
   "source": []
  }
 ],
 "metadata": {
  "kernelspec": {
   "display_name": "Python 3",
   "language": "python",
   "name": "python3"
  },
  "language_info": {
   "codemirror_mode": {
    "name": "ipython",
    "version": 3
   },
   "file_extension": ".py",
   "mimetype": "text/x-python",
   "name": "python",
   "nbconvert_exporter": "python",
   "pygments_lexer": "ipython3",
   "version": "3.6.5"
  }
 },
 "nbformat": 4,
 "nbformat_minor": 2
}
