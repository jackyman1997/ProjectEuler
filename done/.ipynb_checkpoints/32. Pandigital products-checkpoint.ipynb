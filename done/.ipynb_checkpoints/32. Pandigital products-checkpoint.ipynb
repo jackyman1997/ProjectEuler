{
 "cells": [
  {
   "cell_type": "markdown",
   "metadata": {},
   "source": [
    "## <a href='https://projecteuler.net/problem=32'>32. Pandigital products</a>\n",
    "\n",
    "We shall say that an n-digit number is pandigital if it makes use of all the digits 1 to n exactly once; for example, the 5-digit number, 15234, is 1 through 5 pandigital.\n",
    "\n",
    "The product 7254 is unusual, as the identity, $39 × 186 = 7254$, containing multiplicand, multiplier, and product is 1 through 9 pandigital.\n",
    "\n",
    "Find the sum of all products whose multiplicand/multiplier/product identity can be written as a 1 through 9 pandigital.\n",
    "\n",
    "HINT: Some products can be obtained in more than one way so be sure to only include it once in your sum.\n",
    "___"
   ]
  },
  {
   "cell_type": "markdown",
   "metadata": {},
   "source": [
    "Let's start with some digit analysis,  \n",
    "for a number $N$ which is a product of 2 other numbers $p , q$,  \n",
    "and for $N, p, q$ to be <a href='https://en.wikipedia.org/wiki/Pandigital_number'>Pandigital</a> when thay are concatenated together,  \n",
    "there are only few cases on the number of digits they can have:  \n",
    "1. in total they have to be 9 digits, assuming $p < q$, there are: \n",
    "$$\n",
    "\\begin{aligned}\n",
    "    p * qqqq &= NNNN \\\\\n",
    "    pp * qqq &= NNNN \\\\\n",
    "\\end{aligned}\n",
    "$$  \n",
    "2. notice that N is always 4 digits, a brute-force can be done, just to loop through all 4-digit numbers as $N$, and find product $p, q$"
   ]
  },
  {
   "cell_type": "code",
   "execution_count": 1,
   "metadata": {},
   "outputs": [],
   "source": [
    "def IsPandigital(n: int) -> bool:\n",
    "    return set(str(n)) == set('123456789')"
   ]
  },
  {
   "cell_type": "code",
   "execution_count": 2,
   "metadata": {},
   "outputs": [],
   "source": [
    "def q32():     \n",
    "    # using dict to store N which can be written as Pandigital products can solve the repeat obtained problem \n",
    "    pandigitalEquations = {}\n",
    "    for N in range(1000, 10000): \n",
    "        for p in range(1, 100):\n",
    "            q = N/p\n",
    "            if q%1 == 0:\n",
    "                equationString = str(int(p)) + str(int(q)) + str(int(N))\n",
    "                if IsPandigital( int(equationString) ): \n",
    "                    pandigitalEquations[N] = pandigitalEquations.get(N, [p, int(q)]) \n",
    "\n",
    "    return print( sum(N for N in pandigitalEquations) )"
   ]
  },
  {
   "cell_type": "code",
   "execution_count": 3,
   "metadata": {},
   "outputs": [
    {
     "name": "stdout",
     "output_type": "stream",
     "text": [
      "45228\n",
      "206 ms ± 0 ns per loop (mean ± std. dev. of 1 run, 1 loop each)\n"
     ]
    }
   ],
   "source": [
    "%%timeit -n 1 -r 1\n",
    "q32()"
   ]
  },
  {
   "cell_type": "markdown",
   "metadata": {},
   "source": [
    "___\n",
    "old code"
   ]
  },
  {
   "cell_type": "code",
   "execution_count": 4,
   "metadata": {},
   "outputs": [
    {
     "name": "stdout",
     "output_type": "stream",
     "text": [
      "4 * 1738 = 6952\n",
      "4 * 1963 = 7852\n",
      "12 * 483 = 5796\n",
      "18 * 297 = 5346\n",
      "27 * 198 = 5346\n",
      "28 * 157 = 4396\n",
      "39 * 186 = 7254\n",
      "42 * 138 = 5796\n",
      "48 * 159 = 7632\n",
      "0.13999629020690918 seconds taken\n"
     ]
    },
    {
     "data": {
      "text/plain": [
       "45228.0"
      ]
     },
     "execution_count": 4,
     "metadata": {},
     "output_type": "execute_result"
    }
   ],
   "source": [
    "# another way\n",
    "import time\n",
    "import numpy as np\n",
    "\n",
    "t1 = time.time()\n",
    "\n",
    "ans = np.array([])\n",
    "check = set(str(123456789))\n",
    "\n",
    "# 144\n",
    "for a in range(1,9+1):\n",
    "    b = np.arange(1000,9999+1)\n",
    "    \n",
    "    c = a * b\n",
    "    \n",
    "    for ci in range(len(c)):\n",
    "        \n",
    "        if c[ci] <= 9999:\n",
    "            sa = set(str(a))\n",
    "            sb = set(str(b[ci]))\n",
    "            sc = set(str(c[ci]))\n",
    "\n",
    "            if sa | sb | sc == check:\n",
    "                print(a,'*',b[ci],'=',c[ci])\n",
    "                ans = np.append(ans,c[ci])\n",
    "            \n",
    "# 234\n",
    "for a in range(10,99+1):\n",
    "    b = np.arange(100,999+1)\n",
    "    \n",
    "    c = a * b\n",
    "       \n",
    "    for ci in range(len(c)):\n",
    "        \n",
    "        if c[ci] <= 9999:\n",
    "            sa = set(str(a))\n",
    "            sb = set(str(b[ci]))\n",
    "            sc = set(str(c[ci]))\n",
    "\n",
    "            if sa | sb | sc == check:\n",
    "                print(a,'*',b[ci],'=',c[ci])\n",
    "                ans = np.append(ans,c[ci])\n",
    "                \n",
    "t2 = time.time()\n",
    "print(t2-t1,'seconds taken')\n",
    "                \n",
    "ans = set(ans)  # this removes the repeated ones \n",
    "sum(ans)"
   ]
  },
  {
   "cell_type": "code",
   "execution_count": null,
   "metadata": {},
   "outputs": [],
   "source": []
  }
 ],
 "metadata": {
  "kernelspec": {
   "display_name": "Python 3",
   "language": "python",
   "name": "python3"
  },
  "language_info": {
   "codemirror_mode": {
    "name": "ipython",
    "version": 3
   },
   "file_extension": ".py",
   "mimetype": "text/x-python",
   "name": "python",
   "nbconvert_exporter": "python",
   "pygments_lexer": "ipython3",
   "version": "3.6.5"
  }
 },
 "nbformat": 4,
 "nbformat_minor": 2
}
