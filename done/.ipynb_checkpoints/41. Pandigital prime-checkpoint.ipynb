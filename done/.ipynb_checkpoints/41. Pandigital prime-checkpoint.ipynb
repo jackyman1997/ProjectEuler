{
 "cells": [
  {
   "cell_type": "markdown",
   "metadata": {},
   "source": [
    "## <a href='https://projecteuler.net/problem=41'>41. Pandigital prime</a>\n",
    "We shall say that an n-digit number is <a href='https://en.wikipedia.org/wiki/Pandigital_number'>pandigital</a> if it makes use of all the digits 1 to n exactly once. For example, 2143 is a 4-digit pandigital and is also prime.\n",
    "\n",
    "What is the largest n-digit pandigital prime that exists?\n",
    "___"
   ]
  },
  {
   "cell_type": "markdown",
   "metadata": {},
   "source": [
    "there are only $n=10$ digits in base 10,  \n",
    "\n",
    "excluding 0, then $n=9$  \n",
    "\n",
    "for pandigital number 1 to 9, the sum of digit is $1+2+3+4+5+6+7+8+9=45$  \n",
    "which is always a multiple of 9 (or 3), so $n=8$    \n",
    "\n",
    "given the rules of pandigital in this question, it must contains digit 1 to n,  \n",
    "so for $n=8$ 8-digit number, it contains digit 1 to 8,  \n",
    "give the  the sum of digit is $1+2+3+4+5+6+7+8=36$  \n",
    "which is always a multiple of 9 (or 3), so $n=7$  \n",
    "\n",
    "therefore get check upto $10^7$,  \n",
    "since asking for largest, check backwards"
   ]
  },
  {
   "cell_type": "code",
   "execution_count": 1,
   "metadata": {},
   "outputs": [],
   "source": [
    "def isPandigital(n: int, excludeZero: bool=False):\n",
    "    if excludeZero:\n",
    "        if set(str(n))&set('0') or len(str(n)) != len(set(str(n))):\n",
    "            return False\n",
    "        else:\n",
    "            return True\n",
    "    else:\n",
    "        if len(str(n)) == len(set(str(n))):\n",
    "            return True\n",
    "        else:\n",
    "            return False\n",
    "        \n",
    "def isPandigital_q41(n: int):\n",
    "    return set(str(n)) == set( str(i) for i in range(1, len(str(n))+1) )"
   ]
  },
  {
   "cell_type": "code",
   "execution_count": 2,
   "metadata": {},
   "outputs": [],
   "source": [
    "# lib\n",
    "from sympy import isprime\n",
    "\n",
    "# function\n",
    "def q41():\n",
    "    # check prime loop, so only odd numbers (can do 6k+1 & 6k-1)\n",
    "    # loop backwards, as the first found will be the largest n-digit pandigital prime\n",
    "    for i in range(10**7-1, 3, -2): \n",
    "        if isPandigital_q41(i) and isprime(i):\n",
    "            return print('%i is the largest %i-digit pandigital prime'%(i, len(str(i))))"
   ]
  },
  {
   "cell_type": "code",
   "execution_count": 3,
   "metadata": {},
   "outputs": [
    {
     "name": "stdout",
     "output_type": "stream",
     "text": [
      "7652413 is the largest 7-digit pandigital prime\n",
      "3.29 s ± 0 ns per loop (mean ± std. dev. of 1 run, 1 loop each)\n"
     ]
    }
   ],
   "source": [
    "%%timeit -n 1 -r 1\n",
    "q41()"
   ]
  },
  {
   "cell_type": "code",
   "execution_count": null,
   "metadata": {},
   "outputs": [],
   "source": []
  }
 ],
 "metadata": {
  "kernelspec": {
   "display_name": "Python 3",
   "language": "python",
   "name": "python3"
  },
  "language_info": {
   "codemirror_mode": {
    "name": "ipython",
    "version": 3
   },
   "file_extension": ".py",
   "mimetype": "text/x-python",
   "name": "python",
   "nbconvert_exporter": "python",
   "pygments_lexer": "ipython3",
   "version": "3.6.5"
  }
 },
 "nbformat": 4,
 "nbformat_minor": 2
}
