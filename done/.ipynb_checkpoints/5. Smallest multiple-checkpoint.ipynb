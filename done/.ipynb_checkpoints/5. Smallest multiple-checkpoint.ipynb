{
 "cells": [
  {
   "cell_type": "markdown",
   "metadata": {},
   "source": [
    "## <a href='https://projecteuler.net/problem=5'>5. Smallest multiple</a>\n",
    "2520 is the smallest number that can be divided by each of the numbers from 1 to 10 without any remainder.\n",
    "\n",
    "What is the smallest positive number that is evenly divisible by all of the numbers from 1 to 20?\n",
    "___"
   ]
  },
  {
   "cell_type": "markdown",
   "metadata": {},
   "source": [
    "actually, this can be done by finding prime divsors:  \n",
    "consider:  \n",
    "$$\n",
    "\\begin{aligned}\n",
    "    &1 \\times 2 \\times 3 \\times \\dots \\times 10 \\\\\n",
    "    &= 1 \\times 2 \\times 3 \\times (2^2) \\times 5 \\times (2\\times3) \\times 7 \\times (2^3) \\times (3^2) \\times (2\\times5)\n",
    "\\end{aligned}\n",
    "$$\n",
    " \n",
    "by taking out the repeated prime divsors (keep the one with the highest power), it remains:  \n",
    "$$ 1,2^3,3^2,5,7 $$\n",
    "\n",
    "so the product is:  \n",
    "$$ 1 \\times 2^3 \\times 3^2 \\times 5 \\times 7 = 2520 $$  \n",
    "\n",
    "same logic applies:  \n",
    "$$\n",
    "\\begin{aligned}\n",
    "    20! = &1 \\times 2 \\times 3 \\times (2^2) \\times 5 \\times (2\\times3) \\times 7 \\times (2^3) \\times \\\\\n",
    "    &(3^2) \\times (2\\times5)  \\times 11 \\times (2^2\\times3) \\times 13 \\times (2\\times7) \\times \\\\\n",
    "    &(3\\times5) \\times (2^4)  \\times 17 \\times (2\\times3^2) \\times (19) \\times (2^2\\times5)\n",
    "\\end{aligned}\n",
    "$$\n",
    "\n",
    "keeping:  \n",
    "$$ 1,2^4,3^2,5,7,11,13,17,19 $$  \n",
    "so:  \n",
    "$$ 1 \\times 2^4 \\times 3^2 \\times 5 \\times 7 \\times 11 \\times 13 \\times 17 \\times 19 = 232792560 $$  \n",
    "\n",
    "this is about expressing an integer in prime divsors, by keep the primes with the highest power, we are constructing the number which can be divided by any combinations of the product of primes divsors.\n",
    "___"
   ]
  },
  {
   "cell_type": "markdown",
   "metadata": {},
   "source": [
    "to compute this number, keep adding 2520 on with eventually find it,  \n",
    "as it has to be multiple of 2520.  \n",
    "i.e.:  \n",
    "$$\n",
    "\\begin{aligned}\n",
    "    n|(1,2,...,9,10) &= 2520 \\\\  \n",
    "    n|(1,2,...,19,20) &= p \\times 2520 \\\\  \n",
    "    \\text{where } p &\\in \\mathbb{Z}^+\n",
    "\\end{aligned}\n",
    "$$"
   ]
  },
  {
   "cell_type": "code",
   "execution_count": 1,
   "metadata": {},
   "outputs": [],
   "source": [
    "# input \n",
    "q5_input = {'DivideUpto': 20}\n",
    "\n",
    "# function\n",
    "def q5(DivideUpto: int):\n",
    "    \n",
    "    # init\n",
    "    n = 2520\n",
    "    \n",
    "    # while loop as i dunno what p is, ie how many time i should add 2520\n",
    "    while True:\n",
    "        \n",
    "        # check if divide all 1 to 20, for loop by list comprehension\n",
    "        if sum(n%divisor for divisor in range(1,DivideUpto+1)) == 0:\n",
    "            # if the n divides all, n%i are all 0 so the sum has to be 0\n",
    "            break\n",
    "        \n",
    "        # next\n",
    "        n += 2520\n",
    "        \n",
    "    return print('%i divides all 1 to 20' % n)"
   ]
  },
  {
   "cell_type": "code",
   "execution_count": 2,
   "metadata": {},
   "outputs": [
    {
     "name": "stdout",
     "output_type": "stream",
     "text": [
      "232792560 divides all 1 to 20\n",
      "275 ms ± 0 ns per loop (mean ± std. dev. of 1 run, 1 loop each)\n"
     ]
    }
   ],
   "source": [
    "%%timeit -n 1 -r 1\n",
    "q5(**q5_input)"
   ]
  },
  {
   "cell_type": "code",
   "execution_count": null,
   "metadata": {},
   "outputs": [],
   "source": []
  }
 ],
 "metadata": {
  "kernelspec": {
   "display_name": "Python 3",
   "language": "python",
   "name": "python3"
  },
  "language_info": {
   "codemirror_mode": {
    "name": "ipython",
    "version": 3
   },
   "file_extension": ".py",
   "mimetype": "text/x-python",
   "name": "python",
   "nbconvert_exporter": "python",
   "pygments_lexer": "ipython3",
   "version": "3.6.5"
  }
 },
 "nbformat": 4,
 "nbformat_minor": 2
}
