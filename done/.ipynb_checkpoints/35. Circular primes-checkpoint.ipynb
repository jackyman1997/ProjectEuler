{
 "cells": [
  {
   "cell_type": "markdown",
   "metadata": {},
   "source": [
    "## <a href='https://projecteuler.net/problem=35'>35. Circular primes</a>\n",
    "The number, 197, is called a <a href='https://en.wikipedia.org/wiki/Circular_prime'>circular prime</a> because all rotations of the digits: 197, 971, and 719, are themselves prime.\n",
    "\n",
    "There are thirteen such primes below 100: 2, 3, 5, 7, 11, 13, 17, 31, 37, 71, 73, 79, and 97.\n",
    "\n",
    "How many circular primes are there below one million?\n",
    "___"
   ]
  },
  {
   "cell_type": "code",
   "execution_count": 1,
   "metadata": {},
   "outputs": [],
   "source": [
    "def DigitRotation(n: int) -> iter:\n",
    "    for i in str(n):\n",
    "        n_rotation = ''.join( (str(n)[1:], str(n)[0]) )\n",
    "        n = int(n_rotation)\n",
    "        yield n"
   ]
  },
  {
   "cell_type": "code",
   "execution_count": 2,
   "metadata": {},
   "outputs": [],
   "source": [
    "# libs\n",
    "from sympy import primerange\n",
    "\n",
    "# input \n",
    "q35_input = {'under': 1000000}\n",
    "\n",
    "# function\n",
    "def q35(under: int):\n",
    "    \n",
    "    # prime in set\n",
    "    prime = set(primerange(0, under))\n",
    "    \n",
    "    # generate possible primes (primes with only 1,3,7,9 digits, except for 2 & 5)\n",
    "    possible = set([2, 5])\n",
    "    possible.update( [p for p in prime if not set(str(p))&set('024568')] )\n",
    "    \n",
    "    # check loop\n",
    "    circular_prime = set()\n",
    "    for i in possible:\n",
    "        rotation = set(DigitRotation(i))\n",
    "        if (rotation&prime) == rotation:    # if all in prime\n",
    "            circular_prime.update(rotation)\n",
    "\n",
    "    return print('there are %i circular primes under %i'%(len(circular_prime), under))"
   ]
  },
  {
   "cell_type": "code",
   "execution_count": 3,
   "metadata": {},
   "outputs": [
    {
     "name": "stdout",
     "output_type": "stream",
     "text": [
      "there are 55 circular primes under 1000000\n",
      "2.05 s ± 0 ns per loop (mean ± std. dev. of 1 run, 1 loop each)\n"
     ]
    }
   ],
   "source": [
    "%%timeit -n 1 -r 1\n",
    "q35(**q35_input)"
   ]
  },
  {
   "cell_type": "code",
   "execution_count": null,
   "metadata": {},
   "outputs": [],
   "source": []
  }
 ],
 "metadata": {
  "kernelspec": {
   "display_name": "Python 3",
   "language": "python",
   "name": "python3"
  },
  "language_info": {
   "codemirror_mode": {
    "name": "ipython",
    "version": 3
   },
   "file_extension": ".py",
   "mimetype": "text/x-python",
   "name": "python",
   "nbconvert_exporter": "python",
   "pygments_lexer": "ipython3",
   "version": "3.6.5"
  }
 },
 "nbformat": 4,
 "nbformat_minor": 2
}
