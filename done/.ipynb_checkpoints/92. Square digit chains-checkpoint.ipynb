{
 "cells": [
  {
   "cell_type": "markdown",
   "metadata": {},
   "source": [
    "## <a href='https://projecteuler.net/problem=92'>92. Square digit chains</a>\n",
    "A number chain is created by continuously adding the square of the digits in a number to form a new number until it has been seen before.\n",
    "\n",
    "For example,  \n",
    "44 → 32 → 13 → 10 → 1 → 1  \n",
    "85 → 89 → 145 → 42 → 20 → 4 → 16 → 37 → 58 → 89\n",
    "\n",
    "Therefore any chain that arrives at 1 or 89 will become stuck in an endless loop. What is most amazing is that EVERY starting number will eventually arrive at 1 or 89.\n",
    "\n",
    "How many starting numbers below ten million will arrive at 89?\n",
    "___"
   ]
  },
  {
   "cell_type": "markdown",
   "metadata": {},
   "source": [
    "similar to q74 and q34"
   ]
  },
  {
   "cell_type": "code",
   "execution_count": 1,
   "metadata": {},
   "outputs": [],
   "source": [
    "# input\n",
    "q92_input = {'limit': 10000000}\n",
    "\n",
    "# function\n",
    "def q92(limit: int):\n",
    "    \n",
    "    # set for storage\n",
    "    endWith1 = set()\n",
    "    endWith89 = set()\n",
    "    \n",
    "    # lambda function for sum of digits square\n",
    "    chain = lambda k: sum( int(d)**2 for d in str(k) )\n",
    "    \n",
    "    # loop\n",
    "    for i in range(1, limit):\n",
    "        c = i\n",
    "        while True:\n",
    "            # check 1 or 89, in sets    \n",
    "            if c == 1 or c in endWith1:\n",
    "                endWith1.add(i)\n",
    "                break\n",
    "            elif c == 89 or c in endWith89:\n",
    "                endWith89.add(i)\n",
    "                break\n",
    "            # update\n",
    "            c = chain(c)\n",
    "            \n",
    "    return print(len(endWith89))"
   ]
  },
  {
   "cell_type": "code",
   "execution_count": 2,
   "metadata": {},
   "outputs": [
    {
     "name": "stdout",
     "output_type": "stream",
     "text": [
      "8581146\n",
      "36.8 s ± 0 ns per loop (mean ± std. dev. of 1 run, 1 loop each)\n"
     ]
    }
   ],
   "source": [
    "%%timeit -n 1 -r 1\n",
    "q92(**q92_input)"
   ]
  },
  {
   "cell_type": "code",
   "execution_count": null,
   "metadata": {},
   "outputs": [],
   "source": []
  }
 ],
 "metadata": {
  "kernelspec": {
   "display_name": "Python 3",
   "language": "python",
   "name": "python3"
  },
  "language_info": {
   "codemirror_mode": {
    "name": "ipython",
    "version": 3
   },
   "file_extension": ".py",
   "mimetype": "text/x-python",
   "name": "python",
   "nbconvert_exporter": "python",
   "pygments_lexer": "ipython3",
   "version": "3.6.5"
  }
 },
 "nbformat": 4,
 "nbformat_minor": 2
}
