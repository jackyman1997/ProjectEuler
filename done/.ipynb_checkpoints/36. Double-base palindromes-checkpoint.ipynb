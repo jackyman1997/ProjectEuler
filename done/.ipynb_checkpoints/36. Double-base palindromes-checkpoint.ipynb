{
 "cells": [
  {
   "cell_type": "markdown",
   "metadata": {},
   "source": [
    "## <a href='https://projecteuler.net/problem=36'>36. Double-base palindromes</a>\n",
    "\n",
    "The decimal number, $585 = 1001001001$ (binary), is <a href='https://en.wikipedia.org/wiki/Palindromic_number'>palindromic</a> in both bases.\n",
    "\n",
    "Find the sum of all numbers, less than one million, which are palindromic in base 10 and base 2.\n",
    "\n",
    "(Please note that the palindromic number, in either base, may not include leading zeros.)\n",
    "___"
   ]
  },
  {
   "cell_type": "code",
   "execution_count": 1,
   "metadata": {},
   "outputs": [],
   "source": [
    "# input \n",
    "q36_input = {'limit': 1000000}\n",
    "\n",
    "# function\n",
    "def q36(limit: int):\n",
    "    \n",
    "    ans = {'palindromes': []}\n",
    "    \n",
    "    for i in range(limit):\n",
    "        i_bin = format(i, 'b')    # if use bin() returns '0bXXXXXX', so bin()[2:], or use f'{n:b}'\n",
    "        \n",
    "        # check both base-10 and base-2\n",
    "        if (str(i) == str(i)[::-1] and\\\n",
    "            i_bin == i_bin[::-1]):\n",
    "            \n",
    "            ans['palindromes'].append(i)\n",
    "            \n",
    "    return print('the sum is %i'%sum(ans['palindromes']))"
   ]
  },
  {
   "cell_type": "code",
   "execution_count": 2,
   "metadata": {},
   "outputs": [
    {
     "name": "stdout",
     "output_type": "stream",
     "text": [
      "the sum is 872187\n",
      "726 ms ± 0 ns per loop (mean ± std. dev. of 1 run, 1 loop each)\n"
     ]
    }
   ],
   "source": [
    "%%timeit -n 1 -r 1\n",
    "q36(**q36_input)"
   ]
  },
  {
   "cell_type": "code",
   "execution_count": null,
   "metadata": {},
   "outputs": [],
   "source": []
  }
 ],
 "metadata": {
  "kernelspec": {
   "display_name": "Python 3",
   "language": "python",
   "name": "python3"
  },
  "language_info": {
   "codemirror_mode": {
    "name": "ipython",
    "version": 3
   },
   "file_extension": ".py",
   "mimetype": "text/x-python",
   "name": "python",
   "nbconvert_exporter": "python",
   "pygments_lexer": "ipython3",
   "version": "3.6.5"
  }
 },
 "nbformat": 4,
 "nbformat_minor": 2
}
