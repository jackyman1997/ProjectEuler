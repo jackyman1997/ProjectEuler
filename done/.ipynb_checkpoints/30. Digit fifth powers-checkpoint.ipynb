{
 "cells": [
  {
   "cell_type": "markdown",
   "metadata": {},
   "source": [
    "## <a href='https://projecteuler.net/problem=30'>30. Digit fifth powers</a>\n",
    "Surprisingly there are only three numbers that can be written as the sum of fourth powers of their digits:\n",
    "$$ 1634 = 1^4 + 6^4 + 3^4 + 4^4 $$\n",
    "$$ 8208 = 8^4 + 2^4 + 0^4 + 8^4 $$ \n",
    "$$ 9474 = 9^4 + 4^4 + 7^4 + 4^4 $$\n",
    "\n",
    "As $1 = 1^4$ is not a sum it is not included.\n",
    "\n",
    "The sum of these numbers is $1634 + 8208 + 9474 = 19316$.\n",
    "\n",
    "Find the sum of all the numbers that can be written as the sum of fifth powers of their digits.\n",
    "___"
   ]
  },
  {
   "cell_type": "code",
   "execution_count": 1,
   "metadata": {},
   "outputs": [],
   "source": [
    "# input\n",
    "q30_input = {'power': 5}\n",
    "\n",
    "# function\n",
    "def q30(power: int):\n",
    "    # storage\n",
    "    _set = []\n",
    "    # 1 is not included, 99...99 is the max extreme case, so digit*9**power (their are both 5 in this case)\n",
    "    for i in range(2, power*9**power):\n",
    "        if sum( int(j)**power for j in str(i) ) == i:\n",
    "            _set.append(i)\n",
    "            \n",
    "    return print('the sum of digit %ith power is %i'%(power, sum(_set)))"
   ]
  },
  {
   "cell_type": "code",
   "execution_count": 2,
   "metadata": {},
   "outputs": [
    {
     "name": "stdout",
     "output_type": "stream",
     "text": [
      "the sum of digit 5th power is 443839\n",
      "891 ms ± 0 ns per loop (mean ± std. dev. of 1 run, 1 loop each)\n"
     ]
    }
   ],
   "source": [
    "%%timeit -r 1 -n 1\n",
    "q30(**q30_input)"
   ]
  },
  {
   "cell_type": "markdown",
   "metadata": {},
   "source": [
    "___\n",
    "in case wanna play with the function"
   ]
  },
  {
   "cell_type": "code",
   "execution_count": 3,
   "metadata": {},
   "outputs": [
    {
     "data": {
      "text/plain": [
       "([4150, 4151, 54748, 92727, 93084, 194979], [1634, 8208, 9474])"
      ]
     },
     "execution_count": 3,
     "metadata": {},
     "output_type": "execute_result"
    }
   ],
   "source": [
    "# function\n",
    "def q30(power: int):    # one-liner version       \n",
    "    return [i for i in range(2, power*9**power) if sum( int(j)**power for j in str(i) ) == i]\n",
    "\n",
    "q30(5), q30(4)"
   ]
  },
  {
   "cell_type": "code",
   "execution_count": null,
   "metadata": {},
   "outputs": [],
   "source": []
  }
 ],
 "metadata": {
  "kernelspec": {
   "display_name": "Python 3",
   "language": "python",
   "name": "python3"
  },
  "language_info": {
   "codemirror_mode": {
    "name": "ipython",
    "version": 3
   },
   "file_extension": ".py",
   "mimetype": "text/x-python",
   "name": "python",
   "nbconvert_exporter": "python",
   "pygments_lexer": "ipython3",
   "version": "3.6.5"
  }
 },
 "nbformat": 4,
 "nbformat_minor": 2
}
