{
 "cells": [
  {
   "cell_type": "markdown",
   "metadata": {},
   "source": [
    "## <a href='https://projecteuler.net/problem=18'>18. Maximum path sum I</a>\n",
    "By starting at the top of the triangle below and moving to adjacent numbers on the row below, the maximum total from top to bottom is 23.\n",
    "\n",
    "$$ \\color{red}{3} $$\n",
    "$$ \\color{red}{7} , 4 $$\n",
    "$$ 2 , \\color{red}{4} , 6 $$\n",
    "$$ 8 , 5 , \\color{red}{9} , 3 $$\n",
    "\n",
    "That is, $3 + 7 + 4 + 9 = 23$.\n",
    "\n",
    "Find the maximum total from top to bottom of the triangle below:\n",
    "\n",
    "$$ 75 $$\n",
    "$$ 95 , 64 $$\n",
    "$$ 17 , 47 , 82 $$\n",
    "$$ 18 , 35 , 87 , 10 $$\n",
    "$$ 20 , 04 , 82 , 47 , 65 $$\n",
    "$$ 19 , 01 , 23 , 75 , 03 , 34 $$\n",
    "$$ 88 , 02 , 77 , 73 , 07 , 63 , 67 $$\n",
    "$$ 99 , 65 , 04 , 28 , 06 , 16 , 70 , 92 $$\n",
    "$$ 41 , 41 , 26 , 56 , 83 , 40 , 80 , 70 , 33 $$\n",
    "$$ 41 , 48 , 72 , 33 , 47 , 32 , 37 , 16 , 94 , 29 $$\n",
    "$$ 53 , 71 , 44 , 65 , 25 , 43 , 91 , 52 , 97 , 51 , 14 $$\n",
    "$$ 70 , 11 , 33 , 28 , 77 , 73 , 17 , 78 , 39 , 68 , 17 , 57 $$\n",
    "$$ 91 , 71 , 52 , 38 , 17 , 14 , 91 , 43 , 58 , 50 , 27 , 29 , 48 $$\n",
    "$$ 63 , 66 , 04 , 68 , 89 , 53 , 67 , 30 , 73 , 16 , 69 , 87 , 40 , 31 $$\n",
    "$$ 04 , 62 , 98 , 27 , 23 , 09 , 70 , 98 , 73 , 93 , 38 , 53 , 60 , 04 , 23 $$\n",
    "\n",
    "NOTE: As there are only 16384 routes, it is possible to solve this problem by trying every route. However, <a href='https://projecteuler.net/problem=67'>Problem 67</a>, is the same challenge with a triangle containing one-hundred rows; it cannot be solved by brute force, and requires a clever method! ;o)\n",
    "___"
   ]
  },
  {
   "cell_type": "markdown",
   "metadata": {},
   "source": [
    "Found by eye:  \n",
    "$ 75 + 64 + 82 + 87 + 82 + 75 + 73 + 28 + 83 + 32 + 91 + 78 + 58 + 73 + 93 = 1074 $"
   ]
  },
  {
   "cell_type": "code",
   "execution_count": 1,
   "metadata": {},
   "outputs": [
    {
     "data": {
      "text/plain": [
       "1074"
      ]
     },
     "execution_count": 1,
     "metadata": {},
     "output_type": "execute_result"
    }
   ],
   "source": [
    "75 + 64 + 82 + 87 + 82 + 75 + 73 + 28 + 83 + 32 + 91 + 78 + 58 + 73 + 93"
   ]
  },
  {
   "cell_type": "markdown",
   "metadata": {},
   "source": [
    "___\n",
    "kinda wrong method but lucky answer\n",
    "\n",
    "see q67 for solving this type of problem by dynamic programming  \n",
    "general idea is to start a search from the buttom, greed it  \n",
    "like when u wna perform the adding, choose the route with the greatest sum,  \n",
    "do this each row  \n",
    "\n",
    "for example\n",
    "1. check the last 2 rows and sums of the pairs, create a list with options (the pair of sums)  \n",
    "ie:  \n",
    "[(63+4,63+62),(66+62,66+98),(4+98,4+27),(68+27,68+23),(89+23,89+09),(53+09,53+70),(67+70,67+98),(30+98,30+73),(73+73,73+93),(16+93,16+38),(69+38,69+53),(87+53,87+60),(40+60,40+04),(31+4,31+23)]  \n",
    "2. record the numbers involved with the largest sum found (not only the pair sum, total of the path)\n",
    "ie:  \n",
    "[73, 93]  \n",
    "or record the index on each row, then at the end a path can also be generated  \n",
    "3. replace the () of option with the larger pair sum\n",
    "4. get rid of the last row \n",
    "5. repeat step 1 to 4, until remaining a number, and that is the largest sum, the path is the record list"
   ]
  },
  {
   "cell_type": "code",
   "execution_count": null,
   "metadata": {},
   "outputs": [],
   "source": []
  }
 ],
 "metadata": {
  "kernelspec": {
   "display_name": "Python 3",
   "language": "python",
   "name": "python3"
  },
  "language_info": {
   "codemirror_mode": {
    "name": "ipython",
    "version": 3
   },
   "file_extension": ".py",
   "mimetype": "text/x-python",
   "name": "python",
   "nbconvert_exporter": "python",
   "pygments_lexer": "ipython3",
   "version": "3.6.5"
  }
 },
 "nbformat": 4,
 "nbformat_minor": 2
}
