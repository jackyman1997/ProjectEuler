{
 "cells": [
  {
   "cell_type": "markdown",
   "metadata": {},
   "source": [
    "## 38. Pandigital multiples\n",
    "\n",
    "Take the number 192 and multiply it by each of 1, 2, and 3:\n",
    "\n",
    "$$ 192 × 1 = 192 $$\n",
    "$$ 192 × 2 = 384 $$\n",
    "$$ 192 × 3 = 576 $$\n",
    "\n",
    "By concatenating each product we get the 1 to 9 pandigital, 192384576. We will call 192384576 the concatenated product of 192 and (1,2,3)\n",
    "\n",
    "The same can be achieved by starting with 9 and multiplying by 1, 2, 3, 4, and 5, giving the pandigital, 918273645, which is the concatenated product of 9 and (1,2,3,4,5).\n",
    "\n",
    "What is the largest 1 to 9 pandigital 9-digit number that can be formed as the concatenated product of an integer with (1,2, ... , n) where n > 1?"
   ]
  },
  {
   "cell_type": "code",
   "execution_count": null,
   "metadata": {},
   "outputs": [],
   "source": []
  },
  {
   "cell_type": "code",
   "execution_count": 1,
   "metadata": {},
   "outputs": [],
   "source": [
    "import numpy as np\n",
    "import time\n",
    "import math"
   ]
  },
  {
   "cell_type": "code",
   "execution_count": 21,
   "metadata": {},
   "outputs": [
    {
     "name": "stdout",
     "output_type": "stream",
     "text": [
      "192384576 3 9\n"
     ]
    }
   ],
   "source": [
    "# try the example\n",
    "t = 192\n",
    "multi = 1\n",
    "pandigital_set = set(str(123456789))\n",
    "\n",
    "concat = str(t * multi)\n",
    "scp = set(concat)\n",
    "\n",
    "while scp != pandigital_set:\n",
    "    \n",
    "    multi += 1\n",
    "    concat += str(t * multi)\n",
    "    scp = set(concat)\n",
    "    \n",
    "print(concat, multi)\n",
    "    "
   ]
  },
  {
   "cell_type": "code",
   "execution_count": 37,
   "metadata": {},
   "outputs": [
    {
     "name": "stdout",
     "output_type": "stream",
     "text": [
      "1 : 123456789 9 \n",
      "\n",
      "9 : 918273645 5 \n",
      "\n",
      "192 : 192384576 3 \n",
      "\n",
      "219 : 219438657 3 \n",
      "\n",
      "273 : 273546819 3 \n",
      "\n",
      "327 : 327654981 3 \n",
      "\n",
      "6729 : 672913458 2 \n",
      "\n",
      "6792 : 679213584 2 \n",
      "\n",
      "6927 : 692713854 2 \n",
      "\n",
      "7269 : 726914538 2 \n",
      "\n",
      "7293 : 729314586 2 \n",
      "\n",
      "7329 : 732914658 2 \n",
      "\n",
      "7692 : 769215384 2 \n",
      "\n",
      "7923 : 792315846 2 \n",
      "\n",
      "7932 : 793215864 2 \n",
      "\n",
      "9267 : 926718534 2 \n",
      "\n",
      "9273 : 927318546 2 \n",
      "\n",
      "9327 : 932718654 2 \n",
      "\n",
      "integer: 9327 \n",
      "concatenated product: 932718654 \n",
      "n: 2\n",
      "0.5092768669128418 seconds taken\n"
     ]
    }
   ],
   "source": [
    "t1 = time.time()\n",
    "\n",
    "multi = 1\n",
    "pandigital_set = set(str(123456789))\n",
    "\n",
    "ans = np.array([0,0,0])\n",
    "\n",
    "# we know an 1 to 9 pandigital 9-digit number is 9-digit\n",
    "# the max number of that integer to get the concatenated product will be less than 100000\n",
    "# as 3-digit * 2 = 9-digit (rmb n > 1)\n",
    "\n",
    "for t in range(1,100000):\n",
    "    \n",
    "    multi = 1\n",
    "    concat = str(t * multi)\n",
    "    scp = set(concat)\n",
    "    \n",
    "    while scp != pandigital_set and len(concat) < 10:\n",
    "    \n",
    "        multi += 1\n",
    "        concat += str(t * multi)\n",
    "        scp = set(concat)\n",
    "        \n",
    "    if len(concat) > 9:\n",
    "        pass\n",
    "                \n",
    "    else:    \n",
    "        print(t,':',concat, multi,'\\n')\n",
    "    \n",
    "        if int(concat) > ans[1] and set(concat) == pandigital_set:\n",
    "            ans[1] = concat\n",
    "            ans[2] = multi\n",
    "            ans[0] = t\n",
    "\n",
    "\n",
    "print('integer:', ans[0]\\\n",
    "     ,'\\nconcatenated product:', ans[1]\\\n",
    "     ,'\\nn:',ans[2])\n",
    "\n",
    "t2 = time.time()\n",
    "print(t2-t1,'seconds taken')\n"
   ]
  },
  {
   "cell_type": "markdown",
   "metadata": {},
   "source": [
    "> yup, 932718654"
   ]
  },
  {
   "cell_type": "code",
   "execution_count": null,
   "metadata": {},
   "outputs": [],
   "source": []
  }
 ],
 "metadata": {
  "kernelspec": {
   "display_name": "Python 3",
   "language": "python",
   "name": "python3"
  },
  "language_info": {
   "codemirror_mode": {
    "name": "ipython",
    "version": 3
   },
   "file_extension": ".py",
   "mimetype": "text/x-python",
   "name": "python",
   "nbconvert_exporter": "python",
   "pygments_lexer": "ipython3",
   "version": "3.6.5"
  }
 },
 "nbformat": 4,
 "nbformat_minor": 2
}
