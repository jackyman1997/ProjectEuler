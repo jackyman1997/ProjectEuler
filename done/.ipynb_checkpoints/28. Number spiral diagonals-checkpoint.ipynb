{
 "cells": [
  {
   "cell_type": "markdown",
   "metadata": {},
   "source": [
    "## <a href='https://projecteuler.net/problem=28'>28. Number spiral diagonals</a>\n",
    "Starting with the number 1 and moving to the right in a clockwise direction a 5 by 5 spiral is formed as follows:\n",
    "\n",
    "$$ \n",
    "\\begin{matrix} \n",
    "    \\color{red}{21} & 22 & 23 & 24 & \\color{red}{25} \\\\\n",
    "    20 &  \\color{red}{7} &  8 &  \\color{red}{9} & 10 \\\\\n",
    "    19  & 6  & \\color{red}{1}  & 2 & 11 \\\\\n",
    "    18  & \\color{red}{5}  & 4  & \\color{red}{3} & 12 \\\\\n",
    "    \\color{red}{17} & 16 & 15 & 14 & \\color{red}{13} \\\\\n",
    "\\end{matrix}\n",
    "$$\n",
    "\n",
    "It can be verified that the sum of the numbers on the diagonals is 101.\n",
    "\n",
    "What is the sum of the numbers on the diagonals in a 1001 by 1001 spiral formed in the same way?\n",
    "___"
   ]
  },
  {
   "cell_type": "markdown",
   "metadata": {},
   "source": [
    "By observations, if $l$ is the number of $l$ by $l$ spiral:  \n",
    "1. $\\nearrow$ : $1,9,25,49, ... = l^2$  \n",
    "2. $\\searrow$ : $1,3,13,31, ... = (l-1)^2-(l-2)$  \n",
    "3. $\\swarrow$ : $1,5,17,37, ... = (l-1)^2+1$  \n",
    "4. $\\nwarrow$ : $1,7,21,43, ... = l^2-(l-1)$  "
   ]
  },
  {
   "cell_type": "code",
   "execution_count": 1,
   "metadata": {},
   "outputs": [],
   "source": [
    "# input\n",
    "q28_input = {'layer': 1001}\n",
    "\n",
    "# function\n",
    "def q28(layer: int):\n",
    "    \n",
    "    _sum = 1\n",
    "    for l in range(3, layer+1, 2):\n",
    "        _sum += ( l**2 + ((l-1)**2-(l-2)) + ((l-1)**2 + 1) + (l**2-(l-1)) )\n",
    "    \n",
    "    return print('the sum of diagonals of a clockwise %i by %i layer spiral is %i'%(layer, layer, _sum))"
   ]
  },
  {
   "cell_type": "code",
   "execution_count": 2,
   "metadata": {},
   "outputs": [
    {
     "name": "stdout",
     "output_type": "stream",
     "text": [
      "the sum of diagonals of a clockwise 1001 by 1001 layer spiral is 669171001\n",
      "801 µs ± 0 ns per loop (mean ± std. dev. of 1 run, 1 loop each)\n"
     ]
    }
   ],
   "source": [
    "%%timeit -n 1 -r 1\n",
    "q28(**q28_input)"
   ]
  },
  {
   "cell_type": "code",
   "execution_count": null,
   "metadata": {},
   "outputs": [],
   "source": []
  }
 ],
 "metadata": {
  "kernelspec": {
   "display_name": "Python 3",
   "language": "python",
   "name": "python3"
  },
  "language_info": {
   "codemirror_mode": {
    "name": "ipython",
    "version": 3
   },
   "file_extension": ".py",
   "mimetype": "text/x-python",
   "name": "python",
   "nbconvert_exporter": "python",
   "pygments_lexer": "ipython3",
   "version": "3.6.5"
  }
 },
 "nbformat": 4,
 "nbformat_minor": 2
}
