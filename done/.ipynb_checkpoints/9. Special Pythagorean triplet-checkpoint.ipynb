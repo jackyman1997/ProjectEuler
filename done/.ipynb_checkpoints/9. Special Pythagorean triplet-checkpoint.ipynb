{
 "cells": [
  {
   "cell_type": "markdown",
   "metadata": {},
   "source": [
    "## <a href='https://projecteuler.net/problem=9'>9. Special Pythagorean triplet</a>\n",
    "A <a href='https://en.wikipedia.org/wiki/Pythagorean_triple'>Pythagorean triplet</a> is a set of three natural numbers, $a < b < c$, for which,\n",
    "$$ a^2 + b^2 = c^2 $$\n",
    "\n",
    "For example, \n",
    "$$ 3^2 + 4^2 = 9 + 16 = 25 = 5^2 $$\n",
    "\n",
    "There exists exactly one Pythagorean triplet for which $a + b + c = 1000$.\n",
    "Find the product abc.\n",
    "___"
   ]
  },
  {
   "cell_type": "markdown",
   "metadata": {},
   "source": [
    "this is a special case of q39, where $p=1000$  \n",
    "see q39 for more details \n",
    "\n",
    "consider:  \n",
    "$$ a^2 + b^2 = c^2 $$\n",
    "\n",
    "and  \n",
    "$$\n",
    "\\begin{aligned}\n",
    "    a + b + c &= p \\\\\n",
    "    c &= p - a - b\n",
    "\\end{aligned}\n",
    "$$\n",
    "\n",
    "sub: \n",
    "$$\n",
    "\\begin{aligned}\n",
    "    a^2 + b^2 &= (p - a - b)^2 = (p - (a + b))^2 \\\\\n",
    "    a^2 + b^2 &= p^2 - 2pa - 2pb + a^2 + 2ab + b^2 \\\\\n",
    "    0 &= p^2 - 2pa - 2pb + 2ab \\\\\n",
    "    b (2p - 2a) &= p^2 - 2pa \\\\\n",
    "    b &= \\frac{p^2 - 2pa}{2p - 2a}\n",
    "\\end{aligned}\n",
    "$$"
   ]
  },
  {
   "cell_type": "code",
   "execution_count": 1,
   "metadata": {},
   "outputs": [],
   "source": [
    "# input\n",
    "q9_input = {'p': 1000}\n",
    "\n",
    "# function\n",
    "def q9(p: int):\n",
    "    \n",
    "    # brute force\n",
    "    ans = {'triplet': (0, 0, 0), 'product': 0}\n",
    "    for a in range(1, p):\n",
    "        \n",
    "        # formula\n",
    "        b = (p**2 - 2*p*a)/(2*p - 2*a)\n",
    "        c = p - a - b\n",
    "        \n",
    "        # check pythagorean\n",
    "        if (c**2 == a**2 + b**2 and\\\n",
    "            b%1 == 0 and\\\n",
    "            c%1 == 0):\n",
    "            \n",
    "            ans['triplet'], ans['product'] = (a, b, c), a*b*c\n",
    "            \n",
    "            return print('Pythagorean triplet [%i %i %i]'%ans['triplet'], \\\n",
    "                         'has the product of %i'%ans['product'])"
   ]
  },
  {
   "cell_type": "code",
   "execution_count": 2,
   "metadata": {},
   "outputs": [
    {
     "name": "stdout",
     "output_type": "stream",
     "text": [
      "Pythagorean triplet [200 375 425] has the product of 31875000\n",
      "474 µs ± 0 ns per loop (mean ± std. dev. of 1 run, 1 loop each)\n"
     ]
    }
   ],
   "source": [
    "%%timeit -n 1 -r 1\n",
    "q9(**q9_input)"
   ]
  },
  {
   "cell_type": "code",
   "execution_count": null,
   "metadata": {},
   "outputs": [],
   "source": []
  }
 ],
 "metadata": {
  "kernelspec": {
   "display_name": "Python 3",
   "language": "python",
   "name": "python3"
  },
  "language_info": {
   "codemirror_mode": {
    "name": "ipython",
    "version": 3
   },
   "file_extension": ".py",
   "mimetype": "text/x-python",
   "name": "python",
   "nbconvert_exporter": "python",
   "pygments_lexer": "ipython3",
   "version": "3.6.5"
  }
 },
 "nbformat": 4,
 "nbformat_minor": 2
}
