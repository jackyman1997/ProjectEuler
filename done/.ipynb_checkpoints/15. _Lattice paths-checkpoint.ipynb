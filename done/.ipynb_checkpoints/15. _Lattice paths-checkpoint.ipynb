{
 "cells": [
  {
   "cell_type": "markdown",
   "metadata": {},
   "source": [
    "## <a href='https://projecteuler.net/problem=15'>15. Lattice paths</a>\n",
    "Starting in the top left corner of a $2×2$ grid, and only being able to move to the right and down, there are exactly 6 routes to the bottom right corner.\n",
    "\n",
    "<img src=\"https://projecteuler.net/project/images/p015.png\" alt=\"image info\" />  \n",
    "\n",
    "How many such routes are there through a $20×20$ grid?\n",
    "___"
   ]
  },
  {
   "cell_type": "markdown",
   "metadata": {},
   "source": [
    "In fact, <a href='https://en.wikipedia.org/wiki/Lattice_path'>from wikipedia</a> and <a href='https://mathschallenge.net/full/random_routes'>here</a>, treating a $n×n$ grid as a cartesian coordinate,  \n",
    "the number of ways to go for $(0,0)$ to $(a,b)$, only allows going in 2 directions (right( +x ) or down( -y )), is:  \n",
    "$$ \\binom{a+b}{a} $$\n",
    "try to derive this.  \n",
    "\n",
    "Notice that, for a $n×n$ grid:  \n",
    "1. the length of the path, L:  \n",
    "$$ L = 2 \\times n $$  \n",
    "2. the variations(choices) for a path, v:  \n",
    "$$ \\text{right or down} $$\n",
    "$$ \\therefore \\text{only 2 choices} $$  \n",
    "3. the number of paths, v, going right must be the same as the number of paths going down:  \n",
    "$$ v_{right} = v_{down} = \\frac{L}{2} = n $$  \n",
    "So, these represent the combinations of L, or 2n objects (paths) divided into (v = 2) groups.  \n",
    "Each group contains n objects.  \n",
    "$$ \\therefore {L\\choose n} = \\binom{2n}{n} \\text{ will give the answer for n × n grid} $$  \n",
    "So the answer is:  \n",
    "$$ \\binom{20+20}{20} = \\binom{40}{20} $$  "
   ]
  },
  {
   "cell_type": "code",
   "execution_count": 1,
   "metadata": {},
   "outputs": [],
   "source": [
    "def factorial(n: int) -> int:\n",
    "    '''\n",
    "    my own version of factorial, just for fun\n",
    "    '''\n",
    "    # regulate input to int\n",
    "    try:\n",
    "        n = int(n)\n",
    "    except (TypeError, ValueError, NameError) as e:    # or just except:\n",
    "        pass\n",
    "    # recusion\n",
    "    if n == 0:    # base case\n",
    "        return 1\n",
    "    else:\n",
    "        return n * factorial(n-1)\n",
    "\n",
    "def nCr(n: int, r: int) -> int:\n",
    "    '''\n",
    "    or using lambda function\n",
    "    nCr = lambda n, r: factorial(n)//(factorial(r)*factorial(n-r))\n",
    "    '''\n",
    "    return factorial(n)//(factorial(r)*factorial(n-r))\n",
    "\n",
    "def nPr(n: int, r: int) -> int:\n",
    "    '''\n",
    "    nPr = n!*nCr (or generally, nCr = nPr/nPn)\n",
    "    or using lambda function\n",
    "    nPr = lambda n, r: factorial(n)//(factorial(n-r))\n",
    "    '''\n",
    "    return factorial(n)//(factorial(n-r))\n",
    "\n",
    "def nHr(n: int, r: int) -> int:\n",
    "    '''\n",
    "    nHr = (r+n-1)C(n-1)\n",
    "    or using lambda function\n",
    "    nCr = lambda n, r: factorial(n)//(factorial(r)*factorial(n-r))\n",
    "    from youtube.com/watch?v=C5TJwX9kflE (cantonese)\n",
    "    or read https://en.wikipedia.org/wiki/Stars_and_bars_(combinatorics), https://faculty.math.illinois.edu/~jinto/combinations%20counting%20multiplicity.pdf\n",
    "    '''\n",
    "    return factorial(r+n-1)//(factorial(n-1)*factorial(r))"
   ]
  },
  {
   "cell_type": "code",
   "execution_count": 2,
   "metadata": {},
   "outputs": [],
   "source": [
    "# input\n",
    "q15_input = {'gridsize_2d': (20,20)}\n",
    "\n",
    "# function\n",
    "def q15(gridsize_2d: tuple):\n",
    "    \n",
    "    # size\n",
    "    n, r = gridsize_2d\n",
    "    \n",
    "    return print('%i ways' % nCr(2*n, r))"
   ]
  },
  {
   "cell_type": "code",
   "execution_count": 3,
   "metadata": {},
   "outputs": [
    {
     "name": "stdout",
     "output_type": "stream",
     "text": [
      "137846528820 ways\n",
      "89.2 µs ± 0 ns per loop (mean ± std. dev. of 1 run, 1 loop each)\n"
     ]
    }
   ],
   "source": [
    "%%timeit -n 1 -r 1\n",
    "q15(**q15_input)"
   ]
  },
  {
   "cell_type": "code",
   "execution_count": null,
   "metadata": {},
   "outputs": [],
   "source": []
  }
 ],
 "metadata": {
  "kernelspec": {
   "display_name": "Python 3",
   "language": "python",
   "name": "python3"
  },
  "language_info": {
   "codemirror_mode": {
    "name": "ipython",
    "version": 3
   },
   "file_extension": ".py",
   "mimetype": "text/x-python",
   "name": "python",
   "nbconvert_exporter": "python",
   "pygments_lexer": "ipython3",
   "version": "3.6.5"
  }
 },
 "nbformat": 4,
 "nbformat_minor": 2
}
