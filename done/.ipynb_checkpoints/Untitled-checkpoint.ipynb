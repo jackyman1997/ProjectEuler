{
 "cells": [
  {
   "cell_type": "code",
   "execution_count": 18,
   "metadata": {},
   "outputs": [],
   "source": [
    "from _myeulertools import divisor_counter, divisor_finder, factorial\n",
    "from sympy import primerange"
   ]
  },
  {
   "cell_type": "code",
   "execution_count": 88,
   "metadata": {},
   "outputs": [
    {
     "name": "stdout",
     "output_type": "stream",
     "text": [
      "1000 180 1 30 38\n",
      "10000 2114 2 204 261\n",
      "100000 22181 3 1492 1928\n",
      "1000000 224427 4 11734 15225\n"
     ]
    }
   ],
   "source": [
    "for ii in [1000, 10000, 100000, 1000000]:\n",
    "    a = (list(primerange(0, ii**(1/7))), list(primerange(0, ii/(2**3))), list(primerange(0, ii/(2*3))))\n",
    "    print(ii, q(ii), len(a[0]), len(a[1]), len(a[2]))\n",
    "    \n",
    "ncr = lambda n, r: factorial(n)/ (factorial(r)*factorial(n-r))"
   ]
  },
  {
   "cell_type": "code",
   "execution_count": 194,
   "metadata": {},
   "outputs": [],
   "source": [
    "def q(n):\n",
    "    cnt = 0\n",
    "    for i in range(n):\n",
    "        if divisor_counter(i) == 8:\n",
    "            cnt += 1      \n",
    "    print(cnt)\n",
    "    return cnt"
   ]
  },
  {
   "cell_type": "code",
   "execution_count": 202,
   "metadata": {},
   "outputs": [
    {
     "name": "stdout",
     "output_type": "stream",
     "text": [
      "224427\n",
      "224427\n",
      "224427\n",
      "224427\n",
      "224427\n",
      "224427\n",
      "224427\n",
      "224427\n",
      "1min 7s ± 434 ms per loop (mean ± std. dev. of 7 runs, 1 loop each)\n"
     ]
    }
   ],
   "source": [
    "%%timeit\n",
    "q(1000000)"
   ]
  },
  {
   "cell_type": "code",
   "execution_count": 176,
   "metadata": {},
   "outputs": [],
   "source": [
    "def primefactor(n: int):\n",
    "    \n",
    "    space = {}\n",
    "    \n",
    "    while n%2 == 0:\n",
    "        space[2] = space.get(2, 0) + 1 \n",
    "        n = n/2\n",
    "        \n",
    "    for i in range(3, round(n**0.5)+1, 2):\n",
    "        while n%i == 0:\n",
    "            space[int(i)] = space.get(int(i), 0) + 1 \n",
    "            n = n/i\n",
    "            \n",
    "    if n != 1:\n",
    "        space[int(n)] = space.get(int(n), 0) + 1 \n",
    "        \n",
    "    return space\n",
    "\n",
    "def fff(k):\n",
    "    cnt = 0\n",
    "    for i in range(2, k):\n",
    "        space = primefactor(i)\n",
    "        \n",
    "        if len(space) == 1 and sum( space[key] for key in space ) == 7:\n",
    "            cnt += 1\n",
    "    \n",
    "        if len(space) == 3 and sum( space[key] for key in space ) == 3:\n",
    "            cnt += 1\n",
    "    \n",
    "        if len(space) == 2: \n",
    "            if [1, 3] == sorted([space[key] for key in space]):\n",
    "                cnt += 1\n",
    "\n",
    "    print(cnt)        \n",
    "    return cnt"
   ]
  },
  {
   "cell_type": "code",
   "execution_count": 203,
   "metadata": {},
   "outputs": [
    {
     "name": "stdout",
     "output_type": "stream",
     "text": [
      "224427\n",
      "224427\n",
      "224427\n",
      "224427\n",
      "224427\n",
      "224427\n",
      "224427\n",
      "224427\n",
      "24.6 s ± 527 ms per loop (mean ± std. dev. of 7 runs, 1 loop each)\n"
     ]
    }
   ],
   "source": [
    "%%timeit\n",
    "fff(1000000)"
   ]
  },
  {
   "cell_type": "code",
   "execution_count": 200,
   "metadata": {},
   "outputs": [],
   "source": [
    "def qq(n: int):\n",
    "    \n",
    "    space = {}\n",
    "    \n",
    "    while n%2 == 0:\n",
    "        space[2] = space.get(2, 0) + 1 \n",
    "        n = n/2\n",
    "        \n",
    "        if space[2] > 7:\n",
    "            break\n",
    "            return False\n",
    "    \n",
    "        \n",
    "    for i in range(3, round(n**0.5)+1, 2):\n",
    "        while n%i == 0:\n",
    "            space[int(i)] = space.get(int(i), 0) + 1 \n",
    "            n = n/i\n",
    "            \n",
    "            if space[int(i)] > 7:\n",
    "                break\n",
    "                return False\n",
    "        \n",
    "        if len(space) > 3:\n",
    "            break\n",
    "            return False\n",
    "            \n",
    "    if n != 1:\n",
    "        space[int(n)] = space.get(int(n), 0) + 1 \n",
    "        \n",
    "    if len(space) > 3:\n",
    "        return False\n",
    "        \n",
    "    if len(space) == 1 and sum( space[key] for key in space ) == 7:\n",
    "        return True\n",
    "    \n",
    "    if len(space) == 3 and sum( space[key] for key in space ) == 3:\n",
    "        return True\n",
    "    \n",
    "    if len(space) == 2:\n",
    "        if [1, 3] == sorted([space[key] for key in space]):\n",
    "            return True\n",
    "        else:\n",
    "            return False\n",
    "\n",
    "    return False\n",
    "\n",
    "\n",
    "def qqq(k):\n",
    "    \n",
    "    cnt = 0\n",
    "    for i in range(2, k):\n",
    "        if qq(i):\n",
    "            cnt += 1\n",
    "    print(cnt)        \n",
    "    return cnt"
   ]
  },
  {
   "cell_type": "code",
   "execution_count": 204,
   "metadata": {},
   "outputs": [
    {
     "name": "stdout",
     "output_type": "stream",
     "text": [
      "224427\n",
      "224427\n",
      "224427\n",
      "224427\n",
      "224427\n",
      "224427\n",
      "224427\n",
      "224427\n",
      "35.8 s ± 449 ms per loop (mean ± std. dev. of 7 runs, 1 loop each)\n"
     ]
    }
   ],
   "source": [
    "%%timeit\n",
    "qqq(1000000)"
   ]
  },
  {
   "cell_type": "code",
   "execution_count": 209,
   "metadata": {},
   "outputs": [
    {
     "data": {
      "text/plain": [
       "91"
      ]
     },
     "execution_count": 209,
     "metadata": {},
     "output_type": "execute_result"
    }
   ],
   "source": [
    "n"
   ]
  },
  {
   "cell_type": "code",
   "execution_count": 267,
   "metadata": {},
   "outputs": [],
   "source": [
    "def partition(n):\n",
    "    \n",
    "    ways = [1] + [0]*(n+1)\n",
    "    \n",
    "    for i in range(1, n+1):\n",
    "        for j in range(i, n+1):\n",
    "            ways[j] += ways[j-i]\n",
    "    \n",
    "    return ways[n]"
   ]
  },
  {
   "cell_type": "code",
   "execution_count": 269,
   "metadata": {},
   "outputs": [
    {
     "data": {
      "text/plain": [
       "7"
      ]
     },
     "execution_count": 269,
     "metadata": {},
     "output_type": "execute_result"
    }
   ],
   "source": [
    "partition(5)"
   ]
  },
  {
   "cell_type": "code",
   "execution_count": 275,
   "metadata": {},
   "outputs": [],
   "source": [
    "def partition(n):\n",
    "    \n",
    "    ways = [1] + [0]*(n)\n",
    "    \n",
    "    for i in range(1, n):\n",
    "        for j in range(i, n+1):\n",
    "            ways[j] += ways[j-i]\n",
    "    \n",
    "    return ways[n]"
   ]
  },
  {
   "cell_type": "code",
   "execution_count": 276,
   "metadata": {},
   "outputs": [
    {
     "data": {
      "text/plain": [
       "10"
      ]
     },
     "execution_count": 276,
     "metadata": {},
     "output_type": "execute_result"
    }
   ],
   "source": [
    "partition(6)"
   ]
  },
  {
   "cell_type": "code",
   "execution_count": 235,
   "metadata": {},
   "outputs": [
    {
     "ename": "KeyboardInterrupt",
     "evalue": "",
     "output_type": "error",
     "traceback": [
      "\u001b[1;31m---------------------------------------------------------------------------\u001b[0m",
      "\u001b[1;31mKeyboardInterrupt\u001b[0m                         Traceback (most recent call last)",
      "\u001b[1;32m<ipython-input-235-f93c055ba0fd>\u001b[0m in \u001b[0;36m<module>\u001b[1;34m\u001b[0m\n\u001b[0;32m      1\u001b[0m \u001b[0mk\u001b[0m \u001b[1;33m=\u001b[0m \u001b[1;36m2\u001b[0m\u001b[1;33m\u001b[0m\u001b[0m\n\u001b[1;32m----> 2\u001b[1;33m \u001b[1;32mwhile\u001b[0m \u001b[0mpartition\u001b[0m\u001b[1;33m(\u001b[0m\u001b[0mk\u001b[0m\u001b[1;33m)\u001b[0m\u001b[1;33m%\u001b[0m\u001b[1;36m1000000\u001b[0m \u001b[1;33m!=\u001b[0m \u001b[1;36m0\u001b[0m\u001b[1;33m:\u001b[0m\u001b[1;33m\u001b[0m\u001b[0m\n\u001b[0m\u001b[0;32m      3\u001b[0m     \u001b[0mk\u001b[0m \u001b[1;33m+=\u001b[0m \u001b[1;36m1\u001b[0m\u001b[1;33m\u001b[0m\u001b[0m\n",
      "\u001b[1;32m<ipython-input-233-78ddf6419846>\u001b[0m in \u001b[0;36mpartition\u001b[1;34m(n)\u001b[0m\n\u001b[0;32m      5\u001b[0m     \u001b[1;32mfor\u001b[0m \u001b[0mi\u001b[0m \u001b[1;32min\u001b[0m \u001b[0mrange\u001b[0m\u001b[1;33m(\u001b[0m\u001b[1;36m1\u001b[0m\u001b[1;33m,\u001b[0m \u001b[0mn\u001b[0m\u001b[1;33m)\u001b[0m\u001b[1;33m:\u001b[0m\u001b[1;33m\u001b[0m\u001b[0m\n\u001b[0;32m      6\u001b[0m         \u001b[1;32mfor\u001b[0m \u001b[0mj\u001b[0m \u001b[1;32min\u001b[0m \u001b[0mrange\u001b[0m\u001b[1;33m(\u001b[0m\u001b[0mi\u001b[0m\u001b[1;33m,\u001b[0m \u001b[0mn\u001b[0m\u001b[1;33m+\u001b[0m\u001b[1;36m1\u001b[0m\u001b[1;33m)\u001b[0m\u001b[1;33m:\u001b[0m\u001b[1;33m\u001b[0m\u001b[0m\n\u001b[1;32m----> 7\u001b[1;33m             \u001b[0mways\u001b[0m\u001b[1;33m[\u001b[0m\u001b[0mj\u001b[0m\u001b[1;33m]\u001b[0m \u001b[1;33m+=\u001b[0m \u001b[0mways\u001b[0m\u001b[1;33m[\u001b[0m\u001b[0mj\u001b[0m\u001b[1;33m-\u001b[0m\u001b[0mi\u001b[0m\u001b[1;33m]\u001b[0m\u001b[1;33m\u001b[0m\u001b[0m\n\u001b[0m\u001b[0;32m      8\u001b[0m \u001b[1;33m\u001b[0m\u001b[0m\n\u001b[0;32m      9\u001b[0m     \u001b[1;32mreturn\u001b[0m \u001b[0mways\u001b[0m\u001b[1;33m[\u001b[0m\u001b[0mn\u001b[0m\u001b[1;33m]\u001b[0m\u001b[1;33m+\u001b[0m\u001b[1;36m1\u001b[0m\u001b[1;33m\u001b[0m\u001b[0m\n",
      "\u001b[1;31mKeyboardInterrupt\u001b[0m: "
     ]
    }
   ],
   "source": [
    "k = 2\n",
    "while partition(k)%1000000 != 0:\n",
    "    k += 1"
   ]
  },
  {
   "cell_type": "code",
   "execution_count": 250,
   "metadata": {},
   "outputs": [],
   "source": [
    "from _myeulertools import integer_partition"
   ]
  },
  {
   "cell_type": "code",
   "execution_count": 252,
   "metadata": {},
   "outputs": [
    {
     "data": {
      "text/plain": [
       "190569292"
      ]
     },
     "execution_count": 252,
     "metadata": {},
     "output_type": "execute_result"
    }
   ],
   "source": [
    "integer_partition(100)"
   ]
  },
  {
   "cell_type": "code",
   "execution_count": null,
   "metadata": {},
   "outputs": [],
   "source": []
  }
 ],
 "metadata": {
  "kernelspec": {
   "display_name": "Python 3",
   "language": "python",
   "name": "python3"
  },
  "language_info": {
   "codemirror_mode": {
    "name": "ipython",
    "version": 3
   },
   "file_extension": ".py",
   "mimetype": "text/x-python",
   "name": "python",
   "nbconvert_exporter": "python",
   "pygments_lexer": "ipython3",
   "version": "3.6.5"
  }
 },
 "nbformat": 4,
 "nbformat_minor": 2
}
