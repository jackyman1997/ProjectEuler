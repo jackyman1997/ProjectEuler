{
 "cells": [
  {
   "cell_type": "markdown",
   "metadata": {},
   "source": [
    "## <a href='https://projecteuler.net/problem=1'>1. Multiples of 3 and 5</a>\n",
    "If we list all the natural numbers below 10 that are multiples of 3 or 5, we get 3, 5, 6 and 9. The sum of these multiples is 23.  \n",
    "\n",
    "Find the sum of all the multiples of 3 or 5 below 1000.\n",
    "___"
   ]
  },
  {
   "cell_type": "markdown",
   "metadata": {},
   "source": [
    "First, find the nearest number that are the multiples  \n",
    "\n",
    "$$\n",
    "\\begin{aligned}\n",
    "    \\frac{1000}{3} &= 333.3333... \\\\\n",
    "    333 \\times 3 &= 999\n",
    "\\end{aligned}\n",
    "$$\n",
    "so 999 is the largest multiple of 3 under 1000   \n",
    "\n",
    "For 5:  \n",
    "$$\n",
    "\\begin{aligned}\n",
    "    \\frac{1000}{5} &= 200 \\\\\n",
    "    199 \\times 5 &= 999\n",
    "\\end{aligned}\n",
    "$$\n",
    "excluding 1000.\n",
    "\n",
    "Here is the idea, for the sum of multiples of 3:  \n",
    "$$\n",
    "\\begin{aligned}\n",
    "    &999 + 996 + 993 + ... + 9 + 6 + 3 \\\\\n",
    "    &= (3\\times333) + (3\\times332) + (3\\times331) + ... + (3\\times3) + (3\\times2) + (3\\times1) \\\\\n",
    "    &= 3(333+332+331+...+3+2+1)\n",
    "\\end{aligned}\n",
    "$$\n",
    "\n",
    "apply the suming formula:  \n",
    "$$ = 3(333+332+331+...+3+2+1) = 3\\times\\frac{(333+1)\\times333}{2} $$ \n",
    "\n",
    "same idea applies on the sum of multiples of 5:  \n",
    "$$ 5\\times\\frac{(199+1)\\times199}{2} $$  \n",
    "\n",
    "and remember to minus the repeated numbers, which they are all multiples of both 3 & 5 (15):\n",
    "$$\n",
    "\\begin{aligned}\n",
    "    \\frac{1000}{15} &= 66.66... \\\\\n",
    "    66 \\times 15 &= 990 \\\\\n",
    "    \\text{sum} &= 15\\times\\frac{(66+1)\\times66}{2}\n",
    "\\end{aligned}\n",
    "$$\n",
    "\n",
    "Therefore, the sum of all the multiples of 3 or 5 below 1000:  \n",
    "$$\n",
    "\\begin{aligned}\n",
    "    &3\\times\\frac{(333+1)\\times333}{2} + 5\\times\\frac{(199+1)\\times199}{2} - 15\\times\\frac{(66+1)\\times66}{2} \\\\\n",
    "    &= 166833 + 99500 - 33165 \\\\\n",
    "    &= 233168\n",
    "\\end{aligned}\n",
    "$$"
   ]
  },
  {
   "cell_type": "code",
   "execution_count": 1,
   "metadata": {},
   "outputs": [],
   "source": [
    "# input\n",
    "q1_input = {'under': 1000}\n",
    "\n",
    "# function\n",
    "def q1(under: int):\n",
    "    return print( sum(i for i in range(under) if i%3 == 0 or i%5 == 0) )"
   ]
  },
  {
   "cell_type": "code",
   "execution_count": 2,
   "metadata": {},
   "outputs": [
    {
     "name": "stdout",
     "output_type": "stream",
     "text": [
      "233168\n",
      "251 µs ± 0 ns per loop (mean ± std. dev. of 1 run, 1 loop each)\n"
     ]
    }
   ],
   "source": [
    "%%timeit -n 1 -r 1\n",
    "q1(**q1_input)"
   ]
  },
  {
   "cell_type": "code",
   "execution_count": null,
   "metadata": {},
   "outputs": [],
   "source": []
  }
 ],
 "metadata": {
  "kernelspec": {
   "display_name": "Python 3",
   "language": "python",
   "name": "python3"
  },
  "language_info": {
   "codemirror_mode": {
    "name": "ipython",
    "version": 3
   },
   "file_extension": ".py",
   "mimetype": "text/x-python",
   "name": "python",
   "nbconvert_exporter": "python",
   "pygments_lexer": "ipython3",
   "version": "3.6.5"
  }
 },
 "nbformat": 4,
 "nbformat_minor": 2
}
