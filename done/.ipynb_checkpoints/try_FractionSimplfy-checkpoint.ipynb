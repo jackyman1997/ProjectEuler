{
 "cells": [
  {
   "cell_type": "code",
   "execution_count": 2,
   "metadata": {},
   "outputs": [],
   "source": [
    "import re    # regular expression, for bullshit input elimination\n",
    "\n",
    "switch = True    # just a on/off of the function\n",
    "\n",
    "def FractionSimplfy():\n",
    "    global switch    # a variable affected even outside/inside the function\n",
    "\n",
    "    # input\n",
    "    fraction = input('put a normal or improper fraction here, with / as a seperation')\n",
    "\n",
    "    # remove everything but number\n",
    "    fraction = re.sub('[A-Za-z,.;[]()]', '', fraction)\n",
    "\n",
    "    # assign number and int() them\n",
    "    norminator = int(fraction.split('/')[0])\n",
    "    denominator = int(fraction.split('/')[1])\n",
    "\n",
    "    # check for dividing 0\n",
    "    if denominator == 0:\n",
    "        switch = False        \n",
    "        return print('dividing 0')\n",
    "\n",
    "    # find gcd, by Euclide algorithm\n",
    "    divide = gcd(norminator,denominator)\n",
    "\n",
    "    # print out results\n",
    "    fraction = '{}/{}'.format(norminator//divide, denominator//divide)\n",
    "    \n",
    "    # off function\n",
    "    switch = False\n",
    "\n",
    "    return fraction\n",
    "\n",
    "def gcd(a,b):    # by Euclide algorithm\n",
    "    # just to find out which is bigger and assign them into a & b\n",
    "    a, b = sorted([a, b])[0], sorted([a, b])[1]\n",
    "\n",
    "    # loop for the Euclide algorithm\n",
    "    # until the a coprime b\n",
    "    # else compare reminder of a/b (this is why a > b and the sorting above) and b (smaller value)\n",
    "    while b%a != 0:\n",
    "        a , b = b%a , a\n",
    "    return a"
   ]
  },
  {
   "cell_type": "code",
   "execution_count": 3,
   "metadata": {},
   "outputs": [
    {
     "data": {
      "text/plain": [
       "'241876942587482059/38567409'"
      ]
     },
     "execution_count": 3,
     "metadata": {},
     "output_type": "execute_result"
    }
   ],
   "source": [
    "# try 1209384712937410295/192837045\n",
    "FractionSimplfy()"
   ]
  },
  {
   "cell_type": "code",
   "execution_count": 6,
   "metadata": {},
   "outputs": [
    {
     "data": {
      "text/plain": [
       "True"
      ]
     },
     "execution_count": 6,
     "metadata": {},
     "output_type": "execute_result"
    }
   ],
   "source": [
    "1209384712937410295/192837045 == 241876942587482059/38567409"
   ]
  },
  {
   "cell_type": "code",
   "execution_count": 1,
   "metadata": {},
   "outputs": [
    {
     "data": {
      "text/plain": [
       "[1, 2, 3]"
      ]
     },
     "execution_count": 1,
     "metadata": {},
     "output_type": "execute_result"
    }
   ],
   "source": [
    "sorted([1,3,2])"
   ]
  },
  {
   "cell_type": "code",
   "execution_count": 37,
   "metadata": {},
   "outputs": [],
   "source": [
    "def f(n):\n",
    "    \n",
    "    # init, F0 = 0\n",
    "    yield 0\n",
    "    \n",
    "    # for loop\n",
    "    f0, f1 = 0, 1\n",
    "    for i in range(n):\n",
    "        # calculate fn\n",
    "        f2 = f0 + f1\n",
    "        # next\n",
    "        f0, f1 = f1, f2\n",
    "        \n",
    "        # yield F(N+1)\n",
    "        yield f2"
   ]
  },
  {
   "cell_type": "code",
   "execution_count": 38,
   "metadata": {},
   "outputs": [
    {
     "name": "stdout",
     "output_type": "stream",
     "text": [
      "0\n",
      "1\n",
      "2\n"
     ]
    }
   ],
   "source": [
    "n = 2\n",
    "for i in iter(f(n)):\n",
    "    print(i)"
   ]
  },
  {
   "cell_type": "code",
   "execution_count": 24,
   "metadata": {},
   "outputs": [
    {
     "data": {
      "text/plain": [
       "1"
      ]
     },
     "execution_count": 24,
     "metadata": {},
     "output_type": "execute_result"
    }
   ],
   "source": [
    "next(f(n))"
   ]
  },
  {
   "cell_type": "code",
   "execution_count": null,
   "metadata": {},
   "outputs": [],
   "source": []
  }
 ],
 "metadata": {
  "kernelspec": {
   "display_name": "Python 3",
   "language": "python",
   "name": "python3"
  },
  "language_info": {
   "codemirror_mode": {
    "name": "ipython",
    "version": 3
   },
   "file_extension": ".py",
   "mimetype": "text/x-python",
   "name": "python",
   "nbconvert_exporter": "python",
   "pygments_lexer": "ipython3",
   "version": "3.6.5"
  }
 },
 "nbformat": 4,
 "nbformat_minor": 2
}
