{
 "cells": [
  {
   "cell_type": "markdown",
   "metadata": {},
   "source": [
    "## <a href='https://projecteuler.net/problem=56'>56. Powerful digit sum</a>\n",
    "A googol ($10^{100}$) is a massive number: one followed by one-hundred zeros; $100^{100}$ is almost unimaginably large: one followed by two-hundred zeros. Despite their size, the sum of the digits in each number is only 1.\n",
    "\n",
    "Considering natural numbers of the form, $a^b$, where $a, b < 100$, what is the maximum digital sum?\n",
    "___"
   ]
  },
  {
   "cell_type": "code",
   "execution_count": 1,
   "metadata": {},
   "outputs": [],
   "source": [
    "# input \n",
    "q56_input = {'power': 100}\n",
    "\n",
    "# function\n",
    "def q56(power: int):\n",
    "    \n",
    "    ans = {'digit sum': 0, 'a': 0, 'b': 0}\n",
    "    \n",
    "    # double for loop\n",
    "    for a in range(1, power):\n",
    "        for b in range(1, power):\n",
    "            digit_sum = sum( int(i) for i in str(a**b) )\n",
    "            if digit_sum > ans['digit sum']:\n",
    "                ans['digit sum'] = digit_sum\n",
    "                ans['a'], ans['b'] = a, b\n",
    "                \n",
    "    return print('the max digital sum under %i^%i is %i, from %i^%i'\\\n",
    "                 %(power, power, ans['digit sum'], ans['a'], ans['b']))    "
   ]
  },
  {
   "cell_type": "code",
   "execution_count": 2,
   "metadata": {},
   "outputs": [
    {
     "name": "stdout",
     "output_type": "stream",
     "text": [
      "the max digital sum under 100^100 is 972, from 99^95\n",
      "158 ms ± 0 ns per loop (mean ± std. dev. of 1 run, 1 loop each)\n"
     ]
    }
   ],
   "source": [
    "%%timeit -r 1 -n 1\n",
    "q56(**q56_input)"
   ]
  },
  {
   "cell_type": "code",
   "execution_count": null,
   "metadata": {},
   "outputs": [],
   "source": []
  }
 ],
 "metadata": {
  "kernelspec": {
   "display_name": "Python 3",
   "language": "python",
   "name": "python3"
  },
  "language_info": {
   "codemirror_mode": {
    "name": "ipython",
    "version": 3
   },
   "file_extension": ".py",
   "mimetype": "text/x-python",
   "name": "python",
   "nbconvert_exporter": "python",
   "pygments_lexer": "ipython3",
   "version": "3.6.5"
  }
 },
 "nbformat": 4,
 "nbformat_minor": 2
}
