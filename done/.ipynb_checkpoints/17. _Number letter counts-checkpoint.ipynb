{
 "cells": [
  {
   "cell_type": "markdown",
   "metadata": {},
   "source": [
    "## <a href='https://projecteuler.net/problem=17'>17. Number letter counts</a>\n",
    "If the numbers 1 to 5 are written out in words: one, two, three, four, five, then there are $3 + 3 + 5 + 4 + 4 = 19$ letters used in total.\n",
    "\n",
    "If all the numbers from 1 to 1000 (one thousand) inclusive were written out in words, how many letters would be used?\n",
    "\n",
    "NOTE: Do not count spaces or hyphens. For example, 342 (three hundred and forty-two) contains 23 letters and 115 (one hundred and fifteen) contains 20 letters. The use of \"and\" when writing out numbers is in compliance with British usage.\n",
    "___"
   ]
  },
  {
   "cell_type": "markdown",
   "metadata": {},
   "source": [
    "more like a counting puzzle, <br>\n",
    "by following the rules, lets start with a simpler case, 1 to 9."
   ]
  },
  {
   "cell_type": "markdown",
   "metadata": {},
   "source": [
    "### 1. 1 to 9:\n",
    "one = 3 <br>\n",
    "two = 3 <br>\n",
    "three = 5 <br>\n",
    "four = 4 <br>\n",
    "five = 4 <br>\n",
    "six = 3 <br>\n",
    "seven = 5 <br>\n",
    "eight = 5 <br>\n",
    "nine = 4\n",
    "\n",
    "the total is 36."
   ]
  },
  {
   "cell_type": "markdown",
   "metadata": {},
   "source": [
    "### 2. lets consider 11 to 19:\n",
    "eleven = 6 <br>\n",
    "twelve = 6 <br>\n",
    "threeteen = 5 + 4 = 9 <br>\n",
    "fourteen = 4 + 4 = 8 <br>\n",
    "fifteen = 4 + 4 = 8 <br>\n",
    "sixteen = 3 + 4 = 7 <br>\n",
    "seventeen = 5 + 4 = 9 <br>\n",
    "eightteen = 5 + 4 = 9 <br>\n",
    "nineteen = 4 + 4 = 8\n",
    "\n",
    "the total is 70.\n",
    "#### LOOK I m shit in spelling !!!!!!!!! my 18 is wrong"
   ]
  },
  {
   "cell_type": "markdown",
   "metadata": {},
   "source": [
    "not hard to see, the following numbers are just something added at the front, <br>\n",
    "only the 0X's group and the 1X's group are special. \n",
    "\n",
    "you can see i m skipping the 'ten's,  \n",
    "coz they are the special cases, i will explain later. \n",
    "\n",
    "well here is why: <br>\n",
    "1. the 'ten's are always followed up by no numbers <br>\n",
    "this means, 30 -> no number words after thirty. <br>\n",
    "genernally, all 'ten's follow this rule. <br><br>\n",
    "2. they are the 'starting points' and 'multiply-ables' <br>\n",
    "you will see what they mean while i m doing sum. "
   ]
  },
  {
   "cell_type": "markdown",
   "metadata": {},
   "source": [
    "### 3. now lets consider the 'ten's, or now call the 'ty's:\n",
    "1 to 9 -> no 'ty', so add nothing -> 36 <br>\n",
    "11(10) to 19 -> special -> ten + 70 = 3 + 70 = 73 <br>\n",
    "20's -> twenty = 6 <br>\n",
    "30's -> thirty = 6 <br>\n",
    "40's -> forty = 5 <br>\n",
    "50's -> fifty = 5 <br>\n",
    "60's -> sixty = 5 <br>\n",
    "70's -> seventy = 7 <br>\n",
    "80's -> eighty = 6 <br>\n",
    "90's -> ninety = 6 <br>"
   ]
  },
  {
   "cell_type": "markdown",
   "metadata": {},
   "source": [
    "### 4. considering < 100,\n",
    "all 20's to 90's (99) are just the 'ty's + '1 to 9' <br>\n",
    "every X0's has 10 'ty's, so time 10 <br>\n",
    "so under 100:\n",
    "\n",
    "1 (0) to 9: 36 <br>\n",
    "10 to 19: 73 <br>\n",
    "20 to 29: 10 x 6 + 36 = 96 <br>\n",
    "30 to 39: 10 x 6 + 36 = 96 <br>\n",
    "40 to 49: 10 x 5 + 36 = 86 <br>\n",
    "50 to 59: 10 x 5 + 36 = 86 <br>\n",
    "60 to 69: 10 x 5 + 36 = 86 <br>\n",
    "70 to 79: 10 x 7 + 36 = 106 <br>\n",
    "80 to 89: 10 x 6 + 36 = 96 <br>\n",
    "90 to 99: 10 x 6 + 36 = 96 <br><br>\n",
    "the total is 857."
   ]
  },
  {
   "cell_type": "markdown",
   "metadata": {},
   "source": [
    "### 5. moving on to hundreds,\n",
    "X00 are always '1 to 9's + 'hundred' = '1 to 9's + 7  <br>\n",
    "except for X00, all other XXX 'hundred's contains 'and's <br>\n",
    "so, for every hundreds: \n",
    "\n",
    "1. 100 times of 'hundred' = 100 x 7\n",
    "2. 100 times of any one of the '1 to 9's = 100 x '1 to 9'\n",
    "3. 99 times of the 'and' = 99 x 3\n",
    "4. the remaining is '1 to 99' = 857\n",
    "\n",
    "therefore from 1 to 999: \n",
    "\n",
    "1. 1 to 99: 857\n",
    "2. 100 to 199: 100x'one' + 100x'hundred' + 99x'and' + 867 = 100x3 + 100x7 + 99x3 + 857 = 2154\n",
    "3. 200 to 299: 100x'two' + 100x'hundred' + 99x'and' + 867 = 100x3 + 100x7 + 99x3 + 857 = 2154\n",
    "4. 300 to 399: 100x'three' + 100x'hundred' + 99x'and' + 867 = 100x5 + 100x7 + 99x3 + 857 = 2354 \n",
    "5. 400 to 499: 100x'four' + 100x'hundred' + 99x'and' + 867 = 100x4 + 100x7 + 99x3 + 857 = 2254\n",
    "6. 500 to 599: 100x'five' + 100x'hundred' + 99x'and' + 867 = 100x4 + 100x7 + 99x3 + 857 = 2254\n",
    "7. 600 to 699: 100x'six' + 100x'hundred' + 99x'and' + 867 = 100x3 + 100x7 + 99x3 + 857 = 2154\n",
    "8. 700 to 799: 100x'seven' + 100x'hundred' + 99x'and' + 867 = 100x5 + 100x7 + 99x3 + 857 = 2354 \n",
    "9. 800 to 899: 100x'eight' + 100x'hundred' + 99x'and' + 867 = 100x5 + 100x7 + 99x3 + 857 = 2354 \n",
    "10. 900 to 999: 100x'nine' + 100x'hundred' + 99x'and' + 867 = 100x4 + 100x7 + 99x3 + 857 = 2254 <br><br>\n",
    "the total is 21143."
   ]
  },
  {
   "cell_type": "markdown",
   "metadata": {},
   "source": [
    "### 6. plus 'one thousand':\n",
    "\n",
    "21243 + 3 + 8 = 21154"
   ]
  },
  {
   "cell_type": "markdown",
   "metadata": {},
   "source": [
    "#### OFC the above number is wrong, i spelled thirteen and eighteen wrong"
   ]
  },
  {
   "cell_type": "markdown",
   "metadata": {},
   "source": [
    "### basicially, same counting method:\n",
    "1 - 9: 36 <br>\n",
    "10 and 11 - 19: 3 + 67 = 30 <br>\n",
    "20's: 6 --> 6 x10 + 36 = 96 <br>\n",
    "30's: 6 --> 6 x10 + 36 = 96 <br>\n",
    "40's: 5 --> 5 x10 + 36 = 86 <br>\n",
    "50's: 5 --> 5 x10 + 36 = 86 <br>\n",
    "60's: 5 --> 5 x10 + 36 = 86 <br>\n",
    "70's: 7 --> 7 x10 + 36 = 106 <br>\n",
    "80's: 6 --> 6 x10 + 36 = 96 <br>\n",
    "90's: 6 --> 6 x10 + 36 = 96\n",
    "\n",
    "below 100 total = 854"
   ]
  },
  {
   "cell_type": "markdown",
   "metadata": {},
   "source": [
    "### the 'hundred's: (hundred = 7 (100 of this) & and = 3 (99 of this))\n",
    "0 - 99: 854 <br>\n",
    "100's: 3 + 7 = 10 --> 10 x100 + 854 + 3 x99 = 2151 <br>\n",
    "200's: 3 + 7 = 10 --> 10 x100 + 854 + 3 x99 = 2151 <br>\n",
    "300's: 5 + 7 = 12 --> 12 x100 + 854 + 3 x99 = 2351 <br>\n",
    "400's: 4 + 7 = 11 --> 11 x100 + 854 + 3 x99 = 2251 <br>\n",
    "500's: 4 + 7 = 11 --> 11 x100 + 854 + 3 x99 = 2251 <br>\n",
    "600's: 3 + 7 = 10 --> 10 x100 + 854 + 3 x99 = 2151 <br>\n",
    "700's: 5 + 7 = 12 --> 12 x100 + 854 + 3 x99 = 2351 <br>\n",
    "800's: 5 + 7 = 12 --> 12 x100 + 854 + 3 x99 = 2351 <br>\n",
    "900's: 4 + 7 = 11 --> 11 x100 + 854 + 3 x99 = 2251\n",
    "\n",
    "below 1000 total = 21113"
   ]
  },
  {
   "cell_type": "markdown",
   "metadata": {},
   "source": [
    "### plus 'one thousand': (+ 3 + 8)\n",
    "    \n",
    "21113 + 3 + 8 = 21124"
   ]
  },
  {
   "cell_type": "code",
   "execution_count": null,
   "metadata": {},
   "outputs": [],
   "source": []
  }
 ],
 "metadata": {
  "kernelspec": {
   "display_name": "Python 3",
   "language": "python",
   "name": "python3"
  },
  "language_info": {
   "codemirror_mode": {
    "name": "ipython",
    "version": 3
   },
   "file_extension": ".py",
   "mimetype": "text/x-python",
   "name": "python",
   "nbconvert_exporter": "python",
   "pygments_lexer": "ipython3",
   "version": "3.6.5"
  }
 },
 "nbformat": 4,
 "nbformat_minor": 2
}
