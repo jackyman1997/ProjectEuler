{
 "cells": [
  {
   "cell_type": "code",
   "execution_count": 325,
   "metadata": {},
   "outputs": [],
   "source": [
    "def p(n):\n",
    "    '''\n",
    "    prime under n\n",
    "    '''\n",
    "    if type(n) is not int and type(n) is not float:\n",
    "        return print('ur input messed up')\n",
    "    else:\n",
    "        if n < 2:\n",
    "            return print('no prime')\n",
    "        if 2 <= n < 3:\n",
    "            yield 2\n",
    "        if 3 <= n < 5:\n",
    "            yield 2\n",
    "            yield 3\n",
    "        if 5 <= n < 7:\n",
    "            yield 2\n",
    "            yield 3\n",
    "            yield 5\n",
    "\n",
    "        if n >= 7:\n",
    "            yield 2\n",
    "            yield 3\n",
    "            yield 5\n",
    "            candidate = (i for i in range(7, int(n)+1, 2) if (i%3 != 0 and i%5 != 0))\n",
    "            for i in candidate:\n",
    "                dv = (j for j in range(7, int(i**0.5)+1, 2) if (j%3 != 0 and j%5 != 0))\n",
    "                if 0 not in (i%k for k in dv):\n",
    "                    yield i"
   ]
  },
  {
   "cell_type": "code",
   "execution_count": 311,
   "metadata": {},
   "outputs": [],
   "source": [
    "import itertools\n",
    "\n",
    "def primes(k):\n",
    "    yield 2\n",
    "    n = 3\n",
    "    p = []\n",
    "    while n <= k:\n",
    "        # If dividing n by all the numbers in p, up to and including sqrt(n),\n",
    "        # produces a non-zero remainder then n is prime.\n",
    "        if all(n % f > 0 for f in itertools.takewhile(lambda f: f*f <= n, p)):\n",
    "            yield n\n",
    "            p.append(n)\n",
    "        n += 2"
   ]
  },
  {
   "cell_type": "code",
   "execution_count": 326,
   "metadata": {},
   "outputs": [
    {
     "ename": "UnsupportedError",
     "evalue": "Failed in object mode pipeline (step: inline calls to locally defined closures)\n\u001b[1mThe use of yield in a closure is unsupported.\n\u001b[1m\nFile \"<ipython-input-325-067890e32673>\", line 28:\u001b[0m\n\u001b[1mdef p(n):\n    <source elided>\n            for i in candidate:\n\u001b[1m                dv = (j for j in prange(7, int(i**0.5)+1, 2) if (j%3 != 0 and j%5 != 0))\n\u001b[0m                \u001b[1m^\u001b[0m\u001b[0m\n\u001b[0m",
     "output_type": "error",
     "traceback": [
      "\u001b[1;31m---------------------------------------------------------------------------\u001b[0m",
      "\u001b[1;31mUnsupportedError\u001b[0m                          Traceback (most recent call last)",
      "\u001b[1;32m<ipython-input-326-0e4845f41f40>\u001b[0m in \u001b[0;36m<module>\u001b[1;34m\u001b[0m\n\u001b[0;32m      1\u001b[0m \u001b[0mm\u001b[0m \u001b[1;33m=\u001b[0m \u001b[1;36m10000\u001b[0m\u001b[1;33m\u001b[0m\u001b[0m\n\u001b[1;32m----> 2\u001b[1;33m \u001b[0mget_ipython\u001b[0m\u001b[1;33m(\u001b[0m\u001b[1;33m)\u001b[0m\u001b[1;33m.\u001b[0m\u001b[0mrun_line_magic\u001b[0m\u001b[1;33m(\u001b[0m\u001b[1;34m'timeit'\u001b[0m\u001b[1;33m,\u001b[0m \u001b[1;34m'list(p(m))'\u001b[0m\u001b[1;33m)\u001b[0m\u001b[1;33m\u001b[0m\u001b[0m\n\u001b[0m",
      "\u001b[1;32mc:\\Users\\admin\\Anaconda3\\lib\\site-packages\\IPython\\core\\interactiveshell.py\u001b[0m in \u001b[0;36mrun_line_magic\u001b[1;34m(self, magic_name, line, _stack_depth)\u001b[0m\n\u001b[0;32m   2312\u001b[0m                 \u001b[0mkwargs\u001b[0m\u001b[1;33m[\u001b[0m\u001b[1;34m'local_ns'\u001b[0m\u001b[1;33m]\u001b[0m \u001b[1;33m=\u001b[0m \u001b[0msys\u001b[0m\u001b[1;33m.\u001b[0m\u001b[0m_getframe\u001b[0m\u001b[1;33m(\u001b[0m\u001b[0mstack_depth\u001b[0m\u001b[1;33m)\u001b[0m\u001b[1;33m.\u001b[0m\u001b[0mf_locals\u001b[0m\u001b[1;33m\u001b[0m\u001b[0m\n\u001b[0;32m   2313\u001b[0m             \u001b[1;32mwith\u001b[0m \u001b[0mself\u001b[0m\u001b[1;33m.\u001b[0m\u001b[0mbuiltin_trap\u001b[0m\u001b[1;33m:\u001b[0m\u001b[1;33m\u001b[0m\u001b[0m\n\u001b[1;32m-> 2314\u001b[1;33m                 \u001b[0mresult\u001b[0m \u001b[1;33m=\u001b[0m \u001b[0mfn\u001b[0m\u001b[1;33m(\u001b[0m\u001b[1;33m*\u001b[0m\u001b[0margs\u001b[0m\u001b[1;33m,\u001b[0m \u001b[1;33m**\u001b[0m\u001b[0mkwargs\u001b[0m\u001b[1;33m)\u001b[0m\u001b[1;33m\u001b[0m\u001b[0m\n\u001b[0m\u001b[0;32m   2315\u001b[0m             \u001b[1;32mreturn\u001b[0m \u001b[0mresult\u001b[0m\u001b[1;33m\u001b[0m\u001b[0m\n\u001b[0;32m   2316\u001b[0m \u001b[1;33m\u001b[0m\u001b[0m\n",
      "\u001b[1;32m<c:\\Users\\admin\\Anaconda3\\lib\\site-packages\\decorator.py:decorator-gen-61>\u001b[0m in \u001b[0;36mtimeit\u001b[1;34m(self, line, cell, local_ns)\u001b[0m\n",
      "\u001b[1;32mc:\\Users\\admin\\Anaconda3\\lib\\site-packages\\IPython\\core\\magic.py\u001b[0m in \u001b[0;36m<lambda>\u001b[1;34m(f, *a, **k)\u001b[0m\n\u001b[0;32m    185\u001b[0m     \u001b[1;31m# but it's overkill for just that one bit of state.\u001b[0m\u001b[1;33m\u001b[0m\u001b[1;33m\u001b[0m\u001b[0m\n\u001b[0;32m    186\u001b[0m     \u001b[1;32mdef\u001b[0m \u001b[0mmagic_deco\u001b[0m\u001b[1;33m(\u001b[0m\u001b[0marg\u001b[0m\u001b[1;33m)\u001b[0m\u001b[1;33m:\u001b[0m\u001b[1;33m\u001b[0m\u001b[0m\n\u001b[1;32m--> 187\u001b[1;33m         \u001b[0mcall\u001b[0m \u001b[1;33m=\u001b[0m \u001b[1;32mlambda\u001b[0m \u001b[0mf\u001b[0m\u001b[1;33m,\u001b[0m \u001b[1;33m*\u001b[0m\u001b[0ma\u001b[0m\u001b[1;33m,\u001b[0m \u001b[1;33m**\u001b[0m\u001b[0mk\u001b[0m\u001b[1;33m:\u001b[0m \u001b[0mf\u001b[0m\u001b[1;33m(\u001b[0m\u001b[1;33m*\u001b[0m\u001b[0ma\u001b[0m\u001b[1;33m,\u001b[0m \u001b[1;33m**\u001b[0m\u001b[0mk\u001b[0m\u001b[1;33m)\u001b[0m\u001b[1;33m\u001b[0m\u001b[0m\n\u001b[0m\u001b[0;32m    188\u001b[0m \u001b[1;33m\u001b[0m\u001b[0m\n\u001b[0;32m    189\u001b[0m         \u001b[1;32mif\u001b[0m \u001b[0mcallable\u001b[0m\u001b[1;33m(\u001b[0m\u001b[0marg\u001b[0m\u001b[1;33m)\u001b[0m\u001b[1;33m:\u001b[0m\u001b[1;33m\u001b[0m\u001b[0m\n",
      "\u001b[1;32mc:\\Users\\admin\\Anaconda3\\lib\\site-packages\\IPython\\core\\magics\\execution.py\u001b[0m in \u001b[0;36mtimeit\u001b[1;34m(self, line, cell, local_ns)\u001b[0m\n\u001b[0;32m   1156\u001b[0m             \u001b[1;32mfor\u001b[0m \u001b[0mindex\u001b[0m \u001b[1;32min\u001b[0m \u001b[0mrange\u001b[0m\u001b[1;33m(\u001b[0m\u001b[1;36m0\u001b[0m\u001b[1;33m,\u001b[0m \u001b[1;36m10\u001b[0m\u001b[1;33m)\u001b[0m\u001b[1;33m:\u001b[0m\u001b[1;33m\u001b[0m\u001b[0m\n\u001b[0;32m   1157\u001b[0m                 \u001b[0mnumber\u001b[0m \u001b[1;33m=\u001b[0m \u001b[1;36m10\u001b[0m \u001b[1;33m**\u001b[0m \u001b[0mindex\u001b[0m\u001b[1;33m\u001b[0m\u001b[0m\n\u001b[1;32m-> 1158\u001b[1;33m                 \u001b[0mtime_number\u001b[0m \u001b[1;33m=\u001b[0m \u001b[0mtimer\u001b[0m\u001b[1;33m.\u001b[0m\u001b[0mtimeit\u001b[0m\u001b[1;33m(\u001b[0m\u001b[0mnumber\u001b[0m\u001b[1;33m)\u001b[0m\u001b[1;33m\u001b[0m\u001b[0m\n\u001b[0m\u001b[0;32m   1159\u001b[0m                 \u001b[1;32mif\u001b[0m \u001b[0mtime_number\u001b[0m \u001b[1;33m>=\u001b[0m \u001b[1;36m0.2\u001b[0m\u001b[1;33m:\u001b[0m\u001b[1;33m\u001b[0m\u001b[0m\n\u001b[0;32m   1160\u001b[0m                     \u001b[1;32mbreak\u001b[0m\u001b[1;33m\u001b[0m\u001b[0m\n",
      "\u001b[1;32mc:\\Users\\admin\\Anaconda3\\lib\\site-packages\\IPython\\core\\magics\\execution.py\u001b[0m in \u001b[0;36mtimeit\u001b[1;34m(self, number)\u001b[0m\n\u001b[0;32m    167\u001b[0m         \u001b[0mgc\u001b[0m\u001b[1;33m.\u001b[0m\u001b[0mdisable\u001b[0m\u001b[1;33m(\u001b[0m\u001b[1;33m)\u001b[0m\u001b[1;33m\u001b[0m\u001b[0m\n\u001b[0;32m    168\u001b[0m         \u001b[1;32mtry\u001b[0m\u001b[1;33m:\u001b[0m\u001b[1;33m\u001b[0m\u001b[0m\n\u001b[1;32m--> 169\u001b[1;33m             \u001b[0mtiming\u001b[0m \u001b[1;33m=\u001b[0m \u001b[0mself\u001b[0m\u001b[1;33m.\u001b[0m\u001b[0minner\u001b[0m\u001b[1;33m(\u001b[0m\u001b[0mit\u001b[0m\u001b[1;33m,\u001b[0m \u001b[0mself\u001b[0m\u001b[1;33m.\u001b[0m\u001b[0mtimer\u001b[0m\u001b[1;33m)\u001b[0m\u001b[1;33m\u001b[0m\u001b[0m\n\u001b[0m\u001b[0;32m    170\u001b[0m         \u001b[1;32mfinally\u001b[0m\u001b[1;33m:\u001b[0m\u001b[1;33m\u001b[0m\u001b[0m\n\u001b[0;32m    171\u001b[0m             \u001b[1;32mif\u001b[0m \u001b[0mgcold\u001b[0m\u001b[1;33m:\u001b[0m\u001b[1;33m\u001b[0m\u001b[0m\n",
      "\u001b[1;32m<magic-timeit>\u001b[0m in \u001b[0;36minner\u001b[1;34m(_it, _timer)\u001b[0m\n",
      "\u001b[1;32mc:\\Users\\admin\\Anaconda3\\lib\\site-packages\\numba\\core\\dispatcher.py\u001b[0m in \u001b[0;36m_compile_for_args\u001b[1;34m(self, *args, **kws)\u001b[0m\n\u001b[0;32m    416\u001b[0m         \u001b[1;32mexcept\u001b[0m \u001b[0merrors\u001b[0m\u001b[1;33m.\u001b[0m\u001b[0mUnsupportedError\u001b[0m \u001b[1;32mas\u001b[0m \u001b[0me\u001b[0m\u001b[1;33m:\u001b[0m\u001b[1;33m\u001b[0m\u001b[0m\n\u001b[0;32m    417\u001b[0m             \u001b[1;31m# Something unsupported is present in the user code, add help info\u001b[0m\u001b[1;33m\u001b[0m\u001b[1;33m\u001b[0m\u001b[0m\n\u001b[1;32m--> 418\u001b[1;33m             \u001b[0merror_rewrite\u001b[0m\u001b[1;33m(\u001b[0m\u001b[0me\u001b[0m\u001b[1;33m,\u001b[0m \u001b[1;34m'unsupported_error'\u001b[0m\u001b[1;33m)\u001b[0m\u001b[1;33m\u001b[0m\u001b[0m\n\u001b[0m\u001b[0;32m    419\u001b[0m         except (errors.NotDefinedError, errors.RedefinedError,\n\u001b[0;32m    420\u001b[0m                 errors.VerificationError) as e:\n",
      "\u001b[1;32mc:\\Users\\admin\\Anaconda3\\lib\\site-packages\\numba\\core\\dispatcher.py\u001b[0m in \u001b[0;36merror_rewrite\u001b[1;34m(e, issue_type)\u001b[0m\n\u001b[0;32m    356\u001b[0m                 \u001b[1;32mraise\u001b[0m \u001b[0me\u001b[0m\u001b[1;33m\u001b[0m\u001b[0m\n\u001b[0;32m    357\u001b[0m             \u001b[1;32melse\u001b[0m\u001b[1;33m:\u001b[0m\u001b[1;33m\u001b[0m\u001b[0m\n\u001b[1;32m--> 358\u001b[1;33m                 \u001b[0mreraise\u001b[0m\u001b[1;33m(\u001b[0m\u001b[0mtype\u001b[0m\u001b[1;33m(\u001b[0m\u001b[0me\u001b[0m\u001b[1;33m)\u001b[0m\u001b[1;33m,\u001b[0m \u001b[0me\u001b[0m\u001b[1;33m,\u001b[0m \u001b[1;32mNone\u001b[0m\u001b[1;33m)\u001b[0m\u001b[1;33m\u001b[0m\u001b[0m\n\u001b[0m\u001b[0;32m    359\u001b[0m \u001b[1;33m\u001b[0m\u001b[0m\n\u001b[0;32m    360\u001b[0m         \u001b[0margtypes\u001b[0m \u001b[1;33m=\u001b[0m \u001b[1;33m[\u001b[0m\u001b[1;33m]\u001b[0m\u001b[1;33m\u001b[0m\u001b[0m\n",
      "\u001b[1;32mc:\\Users\\admin\\Anaconda3\\lib\\site-packages\\numba\\core\\utils.py\u001b[0m in \u001b[0;36mreraise\u001b[1;34m(tp, value, tb)\u001b[0m\n\u001b[0;32m     78\u001b[0m         \u001b[0mvalue\u001b[0m \u001b[1;33m=\u001b[0m \u001b[0mtp\u001b[0m\u001b[1;33m(\u001b[0m\u001b[1;33m)\u001b[0m\u001b[1;33m\u001b[0m\u001b[0m\n\u001b[0;32m     79\u001b[0m     \u001b[1;32mif\u001b[0m \u001b[0mvalue\u001b[0m\u001b[1;33m.\u001b[0m\u001b[0m__traceback__\u001b[0m \u001b[1;32mis\u001b[0m \u001b[1;32mnot\u001b[0m \u001b[0mtb\u001b[0m\u001b[1;33m:\u001b[0m\u001b[1;33m\u001b[0m\u001b[0m\n\u001b[1;32m---> 80\u001b[1;33m         \u001b[1;32mraise\u001b[0m \u001b[0mvalue\u001b[0m\u001b[1;33m.\u001b[0m\u001b[0mwith_traceback\u001b[0m\u001b[1;33m(\u001b[0m\u001b[0mtb\u001b[0m\u001b[1;33m)\u001b[0m\u001b[1;33m\u001b[0m\u001b[0m\n\u001b[0m\u001b[0;32m     81\u001b[0m     \u001b[1;32mraise\u001b[0m \u001b[0mvalue\u001b[0m\u001b[1;33m\u001b[0m\u001b[0m\n\u001b[0;32m     82\u001b[0m \u001b[1;33m\u001b[0m\u001b[0m\n",
      "\u001b[1;31mUnsupportedError\u001b[0m: Failed in object mode pipeline (step: inline calls to locally defined closures)\n\u001b[1mThe use of yield in a closure is unsupported.\n\u001b[1m\nFile \"<ipython-input-325-067890e32673>\", line 28:\u001b[0m\n\u001b[1mdef p(n):\n    <source elided>\n            for i in candidate:\n\u001b[1m                dv = (j for j in prange(7, int(i**0.5)+1, 2) if (j%3 != 0 and j%5 != 0))\n\u001b[0m                \u001b[1m^\u001b[0m\u001b[0m\n\u001b[0m"
     ]
    }
   ],
   "source": [
    "m = 10000\n",
    "%timeit list(p(m))"
   ]
  },
  {
   "cell_type": "code",
   "execution_count": 319,
   "metadata": {},
   "outputs": [
    {
     "name": "stdout",
     "output_type": "stream",
     "text": [
      "8.36 s ± 209 ms per loop (mean ± std. dev. of 7 runs, 1 loop each)\n"
     ]
    }
   ],
   "source": [
    "m = 10000\n",
    "%timeit list(primes(m))"
   ]
  },
  {
   "cell_type": "code",
   "execution_count": 320,
   "metadata": {},
   "outputs": [
    {
     "name": "stdout",
     "output_type": "stream",
     "text": [
      "6.22 s ± 367 ms per loop (mean ± std. dev. of 7 runs, 1 loop each)\n"
     ]
    }
   ],
   "source": [
    "%timeit list(sympy.primerange(0, m))"
   ]
  },
  {
   "cell_type": "code",
   "execution_count": 327,
   "metadata": {},
   "outputs": [
    {
     "ename": "ModuleNotFoundError",
     "evalue": "No module named 'primelist'",
     "output_type": "error",
     "traceback": [
      "\u001b[1;31m---------------------------------------------------------------------------\u001b[0m",
      "\u001b[1;31mModuleNotFoundError\u001b[0m                       Traceback (most recent call last)",
      "\u001b[1;32m<ipython-input-327-f5c214ff976b>\u001b[0m in \u001b[0;36m<module>\u001b[1;34m\u001b[0m\n\u001b[1;32m----> 1\u001b[1;33m \u001b[1;32mfrom\u001b[0m \u001b[0mprimelist\u001b[0m \u001b[1;32mimport\u001b[0m \u001b[0mprimelist\u001b[0m\u001b[1;33m\u001b[0m\u001b[0m\n\u001b[0m",
      "\u001b[1;31mModuleNotFoundError\u001b[0m: No module named 'primelist'"
     ]
    }
   ],
   "source": [
    "from primelist import primelist"
   ]
  },
  {
   "cell_type": "code",
   "execution_count": 263,
   "metadata": {},
   "outputs": [
    {
     "data": {
      "text/plain": [
       "<generator object primerange at 0x000002B43D4E7F10>"
      ]
     },
     "execution_count": 263,
     "metadata": {},
     "output_type": "execute_result"
    }
   ],
   "source": [
    "import sympy\n",
    "sympy.primerange(0, m)"
   ]
  },
  {
   "cell_type": "code",
   "execution_count": 305,
   "metadata": {},
   "outputs": [
    {
     "data": {
      "text/plain": [
       "[<matplotlib.lines.Line2D at 0x2b43e393f98>]"
      ]
     },
     "execution_count": 305,
     "metadata": {},
     "output_type": "execute_result"
    },
    {
     "data": {
      "image/png": "[encoded data removed]",
      "text/plain": [
       "<Figure size 432x288 with 1 Axes>"
      ]
     },
     "metadata": {
      "needs_background": "light"
     },
     "output_type": "display_data"
    }
   ],
   "source": [
    "from matplotlib import pyplot as plt\n",
    "import numpy as np\n",
    "a = np.array([0.0075, 0.11, 2.21, 27.1, 636, 15000])\n",
    "b = np.array([0.0464, 0.329, 2.74, 26.5, 462, 5900])\n",
    "x = np.array([10, 100, 1000, 10000, 100000, 1000000])\n",
    "\n",
    "plt.plot(np.log(x), a/1000)\n",
    "plt.plot(np.log(x), b/1000)\n"
   ]
  },
  {
   "cell_type": "code",
   "execution_count": 303,
   "metadata": {},
   "outputs": [
    {
     "data": {
      "text/plain": [
       "8103.083927575384"
      ]
     },
     "execution_count": 303,
     "metadata": {},
     "output_type": "execute_result"
    }
   ],
   "source": [
    "np.exp(9)"
   ]
  },
  {
   "cell_type": "code",
   "execution_count": 225,
   "metadata": {},
   "outputs": [
    {
     "name": "stdout",
     "output_type": "stream",
     "text": [
      "15.1 s ± 752 ms per loop (mean ± std. dev. of 7 runs, 1 loop each)\n"
     ]
    }
   ],
   "source": [
    "%timeit prime(1000000)"
   ]
  },
  {
   "cell_type": "code",
   "execution_count": 192,
   "metadata": {},
   "outputs": [
    {
     "name": "stdout",
     "output_type": "stream",
     "text": [
      "7 []\n"
     ]
    }
   ],
   "source": [
    "n = 7\n",
    "candidate = (i for i in range(3, n+1, 2) if (i%3 != 0 and i%5 != 0))\n",
    "for i in candidate:\n",
    "    dv = [j for j in range(5, int(i**0.5)+1, 2) if j%3 != 0 and j%5 != 0]\n",
    "    print(i, dv)\n",
    "    if 0 not in (i%k for k in dv):\n",
    "        pass"
   ]
  },
  {
   "cell_type": "code",
   "execution_count": 154,
   "metadata": {},
   "outputs": [
    {
     "data": {
      "text/plain": [
       "-1"
      ]
     },
     "execution_count": 154,
     "metadata": {},
     "output_type": "execute_result"
    }
   ],
   "source": [
    "i = 7\n",
    "dv = (j for j in range(7, int(i**0.5)+1, 2) if j%3 != 0 and j%5 != 0)\n",
    "next(dv, -1)"
   ]
  },
  {
   "cell_type": "code",
   "execution_count": 66,
   "metadata": {},
   "outputs": [],
   "source": [
    "from numba import autojit, prange\n",
    "@njit\n",
    "def primelist(ub):\n",
    "    \n",
    "    # get a list of odd consecutive numbers\n",
    "    # coz even numbers are not prime, except for 2\n",
    "    prime = [x for x in range(1,ub,2)]\n",
    "    \n",
    "    # the first element is 1, replace it as 2\n",
    "    prime[0] = 2\n",
    "\n",
    "    checkpos = 1\n",
    "    while prime[checkpos] < ub**0.5:  # check only upto sqrt of n\n",
    "        \n",
    "        # checking the modular (reminder) of each number in the list to a particular number \n",
    "        # like [1,2,3] check with 1 , then with 2, then with 3 \n",
    "        for i in range(checkpos+1,len(prime)):\n",
    "            \n",
    "            if prime[i]%prime[checkpos] == 0: \n",
    "                prime[i] = 0\n",
    "        \n",
    "        # keep the checking number\n",
    "        # a number is divisible by itself (a%a = 0)\n",
    "        # so in order to keep the 'particular' checking number \n",
    "        # make the reminder of it = 1\n",
    "        # otherwise will be removed in the next step\n",
    "        # the 'checkpos'th is the prime (checking number) itself \n",
    "        # any numbers less than that are not divisible by it\n",
    "        while prime.count(0) > 0: \n",
    "            prime.pop(prime.index(0))\n",
    "    \n",
    "        # for those number has the reminder of 0 to the 'particular' checking number, \n",
    "        # means they are divisible by the 'particular' checking number\n",
    "        # so they must not be primes\n",
    "        # then delete from the list\n",
    "\n",
    "        # go to the next number (next nth ( (n+1)th ) in the list) \n",
    "        checkpos += 1\n",
    "\n",
    "    return prime"
   ]
  },
  {
   "cell_type": "code",
   "execution_count": 4,
   "metadata": {},
   "outputs": [
    {
     "name": "stdout",
     "output_type": "stream",
     "text": [
      "175.17662000656128\n"
     ]
    }
   ],
   "source": [
    "import time\n",
    "\n",
    "t = time.time()\n",
    "primelist(ub = 1000000)\n",
    "print(time.time() - t)"
   ]
  },
  {
   "cell_type": "code",
   "execution_count": 18,
   "metadata": {},
   "outputs": [],
   "source": [
    "import numpy as np\n",
    "import time\n",
    "import math\n",
    "@njit\n",
    "def primelist(ub):\n",
    "    \n",
    "    # get a list of odd consecutive numbers\n",
    "    # coz even numbers are not prime, except for 2\n",
    "    prime = ( np.arange(round(ub/2)) + 1 )*2 - 1\n",
    "    \n",
    "    # the first element is 1, replace it as 2\n",
    "    prime[0] = 2\n",
    "\n",
    "    checkpos = 0\n",
    "    while prime[checkpos] < np.sqrt(ub):  # check only upto sqrt of n\n",
    "        \n",
    "        # checking the modular (reminder) of each number in the list to a particular number \n",
    "        # like [1,2,3] check with 1 , then with 2, then with 3 \n",
    "        check = prime%(prime[checkpos])   \n",
    "        \n",
    "        # keep the checking number\n",
    "        # a number is divisible by itself (a%a = 0)\n",
    "        # so in order to keep the 'particular' checking number \n",
    "        # make the reminder of it = 1\n",
    "        # otherwise will be removed in the next step\n",
    "        # the 'checkpos'th is the prime (checking number) itself \n",
    "        # any numbers less than that are not divisible by it\n",
    "        check[checkpos] = 1\n",
    "    \n",
    "        # for those number has the reminder of 0 to the 'particular' checking number, \n",
    "        # means they are divisible by the 'particular' checking number\n",
    "        # so they must not be primes\n",
    "        # then delete from the list\n",
    "        prime = np.delete(prime,np.where(check==0)[0])\n",
    "        # tbh, for large array, avoid using delete, coz this function rather than removing elements, it creates a new one\n",
    "        ### maybe use list rather than np.array, and pop instead of delete\n",
    "        \n",
    "        # go to the next number (next nth ( (n+1)th ) in the list) \n",
    "        checkpos += 1\n",
    "\n",
    "    #prime = np.array(prime)\n",
    "    return prime"
   ]
  },
  {
   "cell_type": "code",
   "execution_count": 19,
   "metadata": {},
   "outputs": [
    {
     "name": "stdout",
     "output_type": "stream",
     "text": [
      "433.9856970310211\n"
     ]
    },
    {
     "data": {
      "text/plain": [
       "array([       2,        3,        5, ..., 99999959, 99999971, 99999989],\n",
       "      dtype=int64)"
      ]
     },
     "execution_count": 19,
     "metadata": {},
     "output_type": "execute_result"
    }
   ],
   "source": [
    "t = time.time()\n",
    "p = primelist(ub = 100000000)\n",
    "print(time.time() - t)\n",
    "p"
   ]
  },
  {
   "cell_type": "code",
   "execution_count": 20,
   "metadata": {},
   "outputs": [],
   "source": [
    "import numpy as np\n",
    "import time\n",
    "import math\n",
    "def primelist(ub):\n",
    "    \n",
    "    # get a list of odd consecutive numbers\n",
    "    # coz even numbers are not prime, except for 2\n",
    "    prime = ( np.arange(round(ub/2)) + 1 )*2 - 1\n",
    "    \n",
    "    # the first element is 1, replace it as 2\n",
    "    prime[0] = 2\n",
    "\n",
    "    checkpos = 0\n",
    "    while prime[checkpos] < np.sqrt(ub):  # check only upto sqrt of n\n",
    "        \n",
    "        # checking the modular (reminder) of each number in the list to a particular number \n",
    "        # like [1,2,3] check with 1 , then with 2, then with 3 \n",
    "        check = prime%(prime[checkpos])   \n",
    "        \n",
    "        # keep the checking number\n",
    "        # a number is divisible by itself (a%a = 0)\n",
    "        # so in order to keep the 'particular' checking number \n",
    "        # make the reminder of it = 1\n",
    "        # otherwise will be removed in the next step\n",
    "        # the 'checkpos'th is the prime (checking number) itself \n",
    "        # any numbers less than that are not divisible by it\n",
    "        check[checkpos] = 1\n",
    "    \n",
    "        # for those number has the reminder of 0 to the 'particular' checking number, \n",
    "        # means they are divisible by the 'particular' checking number\n",
    "        # so they must not be primes\n",
    "        # then delete from the list\n",
    "        prime = np.delete(prime,np.where(check==0)[0])\n",
    "        # tbh, for large array, avoid using delete, coz this function rather than removing elements, it creates a new one\n",
    "        ### maybe use list rather than np.array, and pop instead of delete\n",
    "        \n",
    "        # go to the next number (next nth ( (n+1)th ) in the list) \n",
    "        checkpos += 1\n",
    "\n",
    "    #prime = np.array(prime)\n",
    "    return prime"
   ]
  },
  {
   "cell_type": "code",
   "execution_count": 21,
   "metadata": {},
   "outputs": [
    {
     "name": "stdout",
     "output_type": "stream",
     "text": [
      "126.65158176422119\n"
     ]
    },
    {
     "data": {
      "text/plain": [
       "array([       2,        3,        5, ..., 99999959, 99999971, 99999989])"
      ]
     },
     "execution_count": 21,
     "metadata": {},
     "output_type": "execute_result"
    }
   ],
   "source": [
    "t = time.time()\n",
    "p = primelist(ub = 100000000)\n",
    "print(time.time() - t)\n",
    "p"
   ]
  },
  {
   "cell_type": "code",
   "execution_count": 9,
   "metadata": {},
   "outputs": [
    {
     "data": {
      "text/plain": [
       "<matplotlib.collections.PathCollection at 0x230ee23d128>"
      ]
     },
     "execution_count": 9,
     "metadata": {},
     "output_type": "execute_result"
    },
    {
     "data": {
      "image/png": "[encoded data removed]",
      "text/plain": [
       "<Figure size 1440x720 with 1 Axes>"
      ]
     },
     "metadata": {
      "needs_background": "light"
     },
     "output_type": "display_data"
    }
   ],
   "source": [
    "from matplotlib import pyplot as plt\n",
    "import numpy as np\n",
    "\n",
    "p = primelist(1000000)\n",
    "n = np.arange(0,len(p))\n",
    "\n",
    "plt.figure(figsize=(20,10))\n",
    "plt.scatter(n,p,s=0.01)"
   ]
  },
  {
   "cell_type": "code",
   "execution_count": 38,
   "metadata": {},
   "outputs": [],
   "source": [
    "# old\n",
    "\n",
    "def primelist(ub):\n",
    "    \n",
    "    # get a list of odd consecutive numbers\n",
    "    # coz even numbers are not prime, except for 2\n",
    "    prime = ( np.arange(round(ub/2)) + 1 )*2 - 1\n",
    "    \n",
    "    # the first element is 1, replace it as 2\n",
    "    prime[0] = 2\n",
    "\n",
    "    checkpos = 0\n",
    "    while prime[checkpos] < np.sqrt(ub):  # check only upto sqrt of n\n",
    "        \n",
    "        # checking the modular (reminder) of each number in the list to a particular number \n",
    "        # like [1,2,3] check with 1 , then with 2, then with 3 \n",
    "        check = prime%(prime[checkpos])   \n",
    "        \n",
    "        # keep the checking number\n",
    "        # a number is divisible by itself (a%a = 0)\n",
    "        # so in order to keep the 'particular' checking number \n",
    "        # make the reminder of it = 1\n",
    "        # otherwise will be removed in the next step\n",
    "        # the 'checkpos'th is the prime (checking number) itself \n",
    "        # any numbers less than that are not divisible by it\n",
    "        check[checkpos] = 1\n",
    "    \n",
    "        # for those number has the reminder of 0 to the 'particular' checking number, \n",
    "        # means they are divisible by the 'particular' checking number\n",
    "        # so they must not be primes\n",
    "        # then delete from the list\n",
    "        prime = np.delete(prime,np.where(check==0)[0])\n",
    "        # tbh, for large array, avoid using delete, coz this function rather than removing elements, it creates a new one\n",
    "        \n",
    "        # go to the next number (next nth ( (n+1)th ) in the list) \n",
    "        checkpos += 1\n",
    "\n",
    "    prime = np.array(prime)\n",
    "    return prime"
   ]
  },
  {
   "cell_type": "code",
   "execution_count": null,
   "metadata": {},
   "outputs": [],
   "source": [
    "# old\n",
    "\n",
    "def primelist(ub):\n",
    "    prime = np.arange(ub) + 1  # get a list of consecutive numbers\n",
    "    \n",
    "    prime = np.delete(prime,0) # remove the 0th\n",
    "\n",
    "    checkpos = 0\n",
    "    while prime[checkpos] < np.sqrt(ub):  # check only upto sqrt of n\n",
    "        \n",
    "        # checking the modular (reminder) of each number in the list to a particular number \n",
    "        # like [1,2,3] check with 1 , then with 2, then with 3 \n",
    "        check = prime%(prime[checkpos])   \n",
    "        \n",
    "        # keep the checking number\n",
    "        # a number is divisible by itself (a%a = 0)\n",
    "        # so in order to keep the 'particular' checking number \n",
    "        # make the reminder of it = 1\n",
    "        # otherwise will be removed in the next step\n",
    "        check[np.where(prime==prime[checkpos])[0]] = 1\n",
    "    \n",
    "        # for those number has the reminder of 0 to the 'particular' checking number, \n",
    "        # means they are divisible by the 'particular' checking number\n",
    "        # so they must not be primes\n",
    "        # then delete from the list\n",
    "        prime = np.delete(prime,np.where(check==0)[0])\n",
    "        \n",
    "        # go to the next number (next nth ( (n+1)th ) in the list) \n",
    "        checkpos += 1\n",
    "\n",
    "    prime = np.array(prime)\n",
    "    return prime"
   ]
  },
  {
   "cell_type": "code",
   "execution_count": null,
   "metadata": {},
   "outputs": [],
   "source": []
  }
 ],
 "metadata": {
  "kernelspec": {
   "display_name": "Python 3",
   "language": "python",
   "name": "python3"
  },
  "language_info": {
   "codemirror_mode": {
    "name": "ipython",
    "version": 3
   },
   "file_extension": ".py",
   "mimetype": "text/x-python",
   "name": "python",
   "nbconvert_exporter": "python",
   "pygments_lexer": "ipython3",
   "version": "3.6.5"
  }
 },
 "nbformat": 4,
 "nbformat_minor": 2
}
