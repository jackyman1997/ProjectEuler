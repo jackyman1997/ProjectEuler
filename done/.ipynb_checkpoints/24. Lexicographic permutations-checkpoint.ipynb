{
 "cells": [
  {
   "cell_type": "markdown",
   "metadata": {},
   "source": [
    "## <a href='https://projecteuler.net/problem=24'>24. Lexicographic permutations</a>\n",
    "A permutation is an ordered arrangement of objects. For example, 3124 is one possible permutation of the digits 1, 2, 3 and 4. If all of the permutations are listed numerically or alphabetically, we call it lexicographic order. The lexicographic permutations of 0, 1 and 2 are:\n",
    "\n",
    "$$ 012 , 021 , 102 , 120 , 201 , 210 $$\n",
    "\n",
    "What is the millionth lexicographic permutation of the digits 0, 1, 2, 3, 4, 5, 6, 7, 8 and 9?\n",
    "___"
   ]
  },
  {
   "cell_type": "code",
   "execution_count": 1,
   "metadata": {},
   "outputs": [],
   "source": [
    "from itertools import permutations\n",
    "\n",
    "q24_input = {'element':'0123456789', 'nth': 1000000-1}\n",
    "\n",
    "def q24(element: list or str, nth: int) -> list:\n",
    "    perm = list(permutations(element))[nth]\n",
    "    ans = ''\n",
    "    for i in perm:\n",
    "        ans += i\n",
    "    return print(ans)"
   ]
  },
  {
   "cell_type": "code",
   "execution_count": 2,
   "metadata": {},
   "outputs": [
    {
     "name": "stdout",
     "output_type": "stream",
     "text": [
      "2783915460\n",
      "542 ms ± 0 ns per loop (mean ± std. dev. of 1 run, 1 loop each)\n"
     ]
    }
   ],
   "source": [
    "%%timeit -n 1 -r 1\n",
    "q24(**q24_input)"
   ]
  },
  {
   "cell_type": "markdown",
   "metadata": {},
   "source": [
    "___\n",
    "old code"
   ]
  },
  {
   "cell_type": "markdown",
   "metadata": {},
   "source": [
    "the main idea is: <br>\n",
    "for a set of digits, lets say d digits in this set, <br>\n",
    "if sorted in ascending order, <br>\n",
    "after 1! step, the last 2 digits interchange. \n",
    "$$ 0,1,2,3 \\text{ --> after 1! step: --> } 0,1,3,2 $$ <br>\n",
    "generally, after k! steps, the way to think how the number changes is: <br>\n",
    "1. seperate the set of the ascending order digits into 2 parts\n",
    "    - head contains the first (d-k) digits, <br>\n",
    "    - tail contains the rest (k digits counting from the last (right-side)) \n",
    "2. the last digit of the head (head[-1]) will interchange will any one digit in tail that satisfys the followings\n",
    "    - a minimum digit in tail that is larger than the last digit of the head (head[-1])\n",
    "    - read that for a few times, really fucking hard to get\n",
    "3. sort the tail into ascending order\n",
    "    - coz after a factorial cycle, the digits after the interchanged digit (tail) should return to a minimal state <br>\n",
    "    ie. minimum value\n",
    "    - just like a digital clock, when the seconds hit 59 to 60, they go back to 00, and the minutes go up by 01\n",
    "4. then append head + tail, get your Lexicographic permutations\n",
    "\n"
   ]
  },
  {
   "cell_type": "code",
   "execution_count": 3,
   "metadata": {},
   "outputs": [],
   "source": [
    "import numpy as np\n",
    "import math\n",
    "import time"
   ]
  },
  {
   "cell_type": "code",
   "execution_count": 4,
   "metadata": {},
   "outputs": [],
   "source": [
    "def LP(element,n_th):\n",
    "    \n",
    "    di = len(element)\n",
    "    cnt = 0\n",
    "    \n",
    "    while cnt != n_th:\n",
    "               \n",
    "        while math.factorial(di) > n_th - cnt and di != 0:\n",
    "            di -= 1\n",
    "        \n",
    "        to = len(element) - di\n",
    "        head = element[:to]\n",
    "        tail = element[to:]\n",
    "        \n",
    "        if sum(head[-1] < tail) > 0:\n",
    "            pos = np.where( tail == min( tail[ np.where( tail > head[-1] )[0] ] ) )[0][0]\n",
    "            head[-1] , tail[pos] = tail[pos] , head[-1]\n",
    "        \n",
    "        element = np.append(head,np.sort(tail))\n",
    "        cnt += math.factorial(di)\n",
    "        \n",
    "    return element"
   ]
  },
  {
   "cell_type": "code",
   "execution_count": 5,
   "metadata": {},
   "outputs": [
    {
     "name": "stdout",
     "output_type": "stream",
     "text": [
      "0 [0 1 2]\n",
      "1 [0 2 1]\n",
      "2 [1 0 2]\n",
      "3 [2 1 0]\n",
      "4 [2 0 1]\n",
      "5 [2 1 0]\n"
     ]
    }
   ],
   "source": [
    "# try the example\n",
    "ct = np.arange(3)\n",
    "\n",
    "for j in range(math.factorial(len(ct))):\n",
    "    print(j,LP(ct,j))"
   ]
  },
  {
   "cell_type": "code",
   "execution_count": 6,
   "metadata": {},
   "outputs": [
    {
     "name": "stdout",
     "output_type": "stream",
     "text": [
      "0 [0 1 2 3]\n",
      "1 [0 1 3 2]\n",
      "2 [0 2 1 3]\n",
      "3 [0 2 3 1]\n",
      "4 [0 3 1 2]\n",
      "5 [0 3 2 1]\n",
      "6 [1 0 2 3]\n",
      "7 [1 0 3 2]\n",
      "8 [1 2 0 3]\n",
      "9 [1 2 3 0]\n",
      "10 [1 3 0 2]\n",
      "11 [1 3 2 0]\n",
      "12 [2 0 1 3]\n",
      "13 [2 0 3 1]\n",
      "14 [2 1 0 3]\n",
      "15 [2 1 3 0]\n",
      "16 [2 3 0 1]\n",
      "17 [2 3 1 0]\n",
      "18 [3 0 1 2]\n",
      "19 [3 0 2 1]\n",
      "20 [3 1 0 2]\n",
      "21 [3 1 2 0]\n",
      "22 [3 2 0 1]\n",
      "23 [3 2 1 0]\n"
     ]
    }
   ],
   "source": [
    "llll = 4\n",
    "\n",
    "ct = np.arange(llll)\n",
    "\n",
    "for ii in range( math.factorial(len(ct)) ):\n",
    "    ct = np.arange(llll)    \n",
    "    # btw my function is so funny \n",
    "    # coz everytime u wna use it u need to re-define the start array (np.array([0,1,2,...]))\n",
    "    \n",
    "    print(str(ii),LP(ct,ii))"
   ]
  },
  {
   "cell_type": "code",
   "execution_count": 7,
   "metadata": {},
   "outputs": [
    {
     "data": {
      "text/plain": [
       "array([2, 7, 8, 3, 9, 1, 5, 6, 0, 4])"
      ]
     },
     "execution_count": 7,
     "metadata": {},
     "output_type": "execute_result"
    }
   ],
   "source": [
    "q = np.arange(10)\n",
    "LP(q,1000000)"
   ]
  },
  {
   "cell_type": "code",
   "execution_count": 8,
   "metadata": {},
   "outputs": [
    {
     "data": {
      "text/plain": [
       "array([2, 7, 8, 3, 9, 1, 5, 4, 6, 0])"
      ]
     },
     "execution_count": 8,
     "metadata": {},
     "output_type": "execute_result"
    }
   ],
   "source": [
    "q = np.arange(10)\n",
    "LP(q,999999)"
   ]
  },
  {
   "cell_type": "code",
   "execution_count": null,
   "metadata": {},
   "outputs": [],
   "source": []
  }
 ],
 "metadata": {
  "kernelspec": {
   "display_name": "Python 3",
   "language": "python",
   "name": "python3"
  },
  "language_info": {
   "codemirror_mode": {
    "name": "ipython",
    "version": 3
   },
   "file_extension": ".py",
   "mimetype": "text/x-python",
   "name": "python",
   "nbconvert_exporter": "python",
   "pygments_lexer": "ipython3",
   "version": "3.6.5"
  }
 },
 "nbformat": 4,
 "nbformat_minor": 2
}
