{
 "cells": [
  {
   "cell_type": "markdown",
   "metadata": {},
   "source": [
    "## <a href='https://projecteuler.net/problem=79'>79. Passcode derivation</a>\n",
    "A common security method used for online banking is to ask the user for three random characters from a passcode. For example, if the passcode was 531278, they may ask for the 2nd, 3rd, and 5th characters; the expected reply would be: 317.\n",
    "\n",
    "The text file, <a href='https://projecteuler.net/project/resources/p079_keylog.txt '>keylog.txt</a>, contains fifty successful login attempts.\n",
    "\n",
    "Given that the three characters are always asked for in order, analyse the file so as to determine the shortest possible secret passcode of unknown length.\n",
    "___"
   ]
  },
  {
   "cell_type": "markdown",
   "metadata": {},
   "source": [
    "before we start the reasoning, there are some rules to be made clear and assumptions:  \n",
    "1. **Given that the three characters are always asked for in order**  \n",
    "    this part tells us that we can figure out the order of the each digit in the password,  \n",
    "    by comparing the expected reply given by the text file  \n",
    "2. **determine the shortest possible secret passcode**  \n",
    "    so we assume no digits is repeated,  \n",
    "    try to find if some digits never appear in the expected reply given by the text file, then they are not in the password or in a specific place "
   ]
  },
  {
   "cell_type": "code",
   "execution_count": 1,
   "metadata": {},
   "outputs": [
    {
     "name": "stdout",
     "output_type": "stream",
     "text": [
      "319 680 180 690 129 620 762 689 762 318 368 710 720 710 629 168 160 689 716 731 736 729 316 729 729 710 769 290 719 680 318 389 162 289 162 718 729 319 790 680 890 362 319 760 316 729 380 319 728 716 "
     ]
    },
    {
     "data": {
      "text/plain": [
       "{'1st': {'1', '2', '3', '6', '7', '8'},\n",
       " '2nd': {'1', '2', '3', '6', '8', '9'},\n",
       " '3rd': {'0', '1', '2', '6', '8', '9'}}"
      ]
     },
     "execution_count": 1,
     "metadata": {},
     "output_type": "execute_result"
    }
   ],
   "source": [
    "def q79_help(filename: str):\n",
    "    \n",
    "    # import text file\n",
    "    with open('..\\\\data\\\\'+filename) as t:\n",
    "        data = t.read()\n",
    "    \n",
    "    # extract numbers\n",
    "    passwords = data.split('\\n')\n",
    "    \n",
    "    # print them neat\n",
    "    for password in passwords:\n",
    "        print(password, end=' ')\n",
    "        \n",
    "    # grouping using dict\n",
    "    reply = {'1st': set([password[0] for password in passwords]), \\\n",
    "             '2nd': set([password[1] for password in passwords]), \\\n",
    "             '3rd': set([password[2] for password in passwords])}\n",
    "    return reply\n",
    "\n",
    "q79_help(filename = 'p079_keylog.txt')"
   ]
  },
  {
   "cell_type": "markdown",
   "metadata": {},
   "source": [
    "lets start, by inspection and observations:  \n",
    "for convenience,  \n",
    "1st the expected reply digit is called set A  \n",
    "2nd the expected reply digit is called set B  \n",
    "3rd the expected reply digit is called set C  \n",
    "\n",
    "so:  \n",
    "set A has the digit: {1,2,3,6,7,8}  \n",
    "set B has the digit: {1,2,3,6,8,9}  \n",
    "set C has the digit: {0,1,2,6,8,9}\n",
    "\n",
    "so the storest possible password is xxxxxxxx (as there are no 5 and 4),  \n",
    "assuming no repeated digit\n",
    "\n",
    "1. 7 only appears in A, and {0} only appears in C  \n",
    "**so, 7 is 1st , 0 is last**  \n",
    "--> 7xxxxxx0\n",
    "2. {1,2,6,8} appears in all 3 sets:  \n",
    "{1,2,6,8} are the middle digits, not important now but later will be\n",
    "3. 3 appears in sets A & B:  \n",
    "**3 will be after 7**  \n",
    "4. 9 appears in sets B & C:  \n",
    "**9 will be before 0**\n",
    "\n",
    "from point 3, we can compare 3 and {1,2,6,8,9} using the expected reply to find out where 3 should be:  \n",
    "- because of 319, 368, 389 and 129  \n",
    "**2 will be after 1**  \n",
    "**3 will be before 1,6,8,9** (9 never appears in set A so 3 has to be 2nd digit)  \n",
    "--> 73xxxxx0\n",
    "\n",
    "now {1,2,6,8,9}, same kind of logic:  \n",
    "- because of 680  \n",
    "**6 will be before 8**  \n",
    "- because of 180  \n",
    "**1 will be before 8**  \n",
    "- because of 129  \n",
    "**1 will be before 2**  \n",
    "- because of 620  \n",
    "**6 will be before 2**  \n",
    "we can deduce {1,6} are before {2,8,9}\n",
    "\n",
    "for {1,6}:  \n",
    "- because of 168  \n",
    "**1 will be before 6**  \n",
    "--> 7316xxx0\n",
    "\n",
    "for {2,8,9}:  \n",
    "- because of 689  \n",
    "**8 will be before 9**  \n",
    "- because of 629  \n",
    "**2 will be before 9**  \n",
    "we can deduce {2,8} are before 9  \n",
    "--> 7316xx90\n",
    "\n",
    "for {2,8}:  \n",
    "- because of 289  \n",
    "**2 will be before 8**  \n",
    "--> 73162890\n",
    "\n",
    "**therefore, the password is 73162890**\n",
    "___"
   ]
  },
  {
   "cell_type": "markdown",
   "metadata": {},
   "source": [
    "read the <a href='https://projecteuler.net/thread=79'>thread</a>  \n",
    "so the general code for this is very tricky, some used graph theroy or permutation  \n",
    "but worth learning "
   ]
  },
  {
   "cell_type": "code",
   "execution_count": null,
   "metadata": {},
   "outputs": [],
   "source": []
  }
 ],
 "metadata": {
  "kernelspec": {
   "display_name": "Python 3",
   "language": "python",
   "name": "python3"
  },
  "language_info": {
   "codemirror_mode": {
    "name": "ipython",
    "version": 3
   },
   "file_extension": ".py",
   "mimetype": "text/x-python",
   "name": "python",
   "nbconvert_exporter": "python",
   "pygments_lexer": "ipython3",
   "version": "3.6.5"
  }
 },
 "nbformat": 4,
 "nbformat_minor": 2
}
