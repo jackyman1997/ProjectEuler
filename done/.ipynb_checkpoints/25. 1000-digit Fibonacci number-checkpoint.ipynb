{
 "cells": [
  {
   "cell_type": "markdown",
   "metadata": {},
   "source": [
    "## <a href='https://projecteuler.net/problem=25'>25. 1000-digit Fibonacci number</a>\n",
    "The <a href='https://en.wikipedia.org/wiki/Fibonacci_number'>Fibonacci sequence</a> is defined by the recurrence relation:\n",
    "$$ F_n = F_{n−1} + F_{n−2} $$\n",
    "$$ \\text{where } F_1 = 1 ,F_2 = 1 $$\n",
    "\n",
    "Hence the first 12 terms will be:\n",
    "$$ F_1 = 1 $$\n",
    "$$ F_2 = 1 $$\n",
    "$$ F_3 = 2 $$\n",
    "$$ F_4 = 3 $$\n",
    "$$ F_5 = 5 $$\n",
    "$$ F_6 = 8 $$\n",
    "$$ F_7 = 13 $$\n",
    "$$ F_8 = 21 $$\n",
    "$$ F_9 = 34 $$\n",
    "$$ F_{10} = 55 $$\n",
    "$$ F_{11} = 89 $$\n",
    "$$ F_{12} = 144 $$\n",
    "\n",
    "The 12th term, $F_{12}$, is the first term to contain three digits.\n",
    "\n",
    "What is the index of the first term in the Fibonacci sequence to contain 1000 digits?\n",
    "___"
   ]
  },
  {
   "cell_type": "code",
   "execution_count": 1,
   "metadata": {},
   "outputs": [],
   "source": [
    "# improved from q2\n",
    "def Fibonacci() -> iter: \n",
    "    '''\n",
    "    generator form of fibonacci\n",
    "    remember breaking condition\n",
    "    '''\n",
    "    # infinite generator:\n",
    "    def xInf():\n",
    "        while True:\n",
    "            yield\n",
    "    # base cases\n",
    "    f0, f1 = 0, 1\n",
    "    yield f0\n",
    "    yield f1        \n",
    "    for i in xInf():\n",
    "        f = f0 + f1\n",
    "        f0 = f1\n",
    "        f1 = f\n",
    "        yield f"
   ]
  },
  {
   "cell_type": "code",
   "execution_count": 2,
   "metadata": {},
   "outputs": [],
   "source": [
    "# input \n",
    "q25_input = {'DigitLong': 1000}\n",
    "\n",
    "# function\n",
    "def q25(DigitLong: int):\n",
    "\n",
    "    for i, f in enumerate(Fibonacci()):\n",
    "        if len( str(f) ) == DigitLong:\n",
    "            return print('the %i-th Fibonacci contain 1000 digits\\n%i'%(i, f))"
   ]
  },
  {
   "cell_type": "code",
   "execution_count": 3,
   "metadata": {},
   "outputs": [
    {
     "name": "stdout",
     "output_type": "stream",
     "text": [
      "the 4782-th Fibonacci contain 1000 digits\n",
      "1070066266382758936764980584457396885083683896632151665013235203375314520604694040621889147582489792657804694888177591957484336466672569959512996030461262748092482186144069433051234774442750273781753087579391666192149259186759553966422837148943113074699503439547001985432609723067290192870526447243726117715821825548491120525013201478612965931381792235559657452039506137551467837543229119602129934048260706175397706847068202895486902666185435124521900369480641357447470911707619766945691070098024393439617474103736912503231365532164773697023167755051595173518460579954919410967778373229665796581646513903488154256310184224190259846088000110186255550245493937113651657039447629584714548523425950428582425306083544435428212611008992863795048006894330309773217834864543113205765659868456288616808718693835297350643986297640660000723562917905207051164077614812491885830945940566688339109350944456576357666151619317753792891661581327159616877487983821820492520348473874384736771934512787029218636250627816\n",
      "33 ms ± 0 ns per loop (mean ± std. dev. of 1 run, 1 loop each)\n"
     ]
    }
   ],
   "source": [
    "%%timeit -n 1 -r 1\n",
    "q25(**q25_input)"
   ]
  },
  {
   "cell_type": "markdown",
   "metadata": {},
   "source": [
    "___\n",
    "old code below, by modified Fibonacci and pattern method"
   ]
  },
  {
   "cell_type": "code",
   "execution_count": 4,
   "metadata": {},
   "outputs": [
    {
     "name": "stdout",
     "output_type": "stream",
     "text": [
      "0.0209963321685791 seconds taken\n"
     ]
    },
    {
     "data": {
      "text/plain": [
       "(4782,\n",
       " 1070066266382758936764980584457396885083683896632151665013235203375314520604694040621889147582489792657804694888177591957484336466672569959512996030461262748092482186144069433051234774442750273781753087579391666192149259186759553966422837148943113074699503439547001985432609723067290192870526447243726117715821825548491120525013201478612965931381792235559657452039506137551467837543229119602129934048260706175397706847068202895486902666185435124521900369480641357447470911707619766945691070098024393439617474103736912503231365532164773697023167755051595173518460579954919410967778373229665796581646513903488154256310184224190259846088000110186255550245493937113651657039447629584714548523425950428582425306083544435428212611008992863795048006894330309773217834864543113205765659868456288616808718693835297350643986297640660000723562917905207051164077614812491885830945940566688339109350944456576357666151619317753792891661581327159616877487983821820492520348473874384736771934512787029218636250627816)"
      ]
     },
     "execution_count": 4,
     "metadata": {},
     "output_type": "execute_result"
    }
   ],
   "source": [
    "# brute force\n",
    "import time\n",
    "t1 = time.time()\n",
    "\n",
    "digit = 1000\n",
    "\n",
    "f1 = 1 \n",
    "f2 = 1\n",
    "i = 2    # starting with the 3rd term \n",
    "fi = 0\n",
    "\n",
    "while fi/(10**(digit-1)) < 1:\n",
    "    '''\n",
    "    this condition is from: \n",
    "    if the 1000-digit Fibonacci number is found, \n",
    "    it is large then the smallest 1000-digit number, \n",
    "    namely, 10**(1000-1). \n",
    "    as the largest 1000-digit number is given as:\n",
    "    10**(1000) - 1\n",
    "    '''\n",
    "    \n",
    "    if i == 2:\n",
    "        fi = f1 + f2\n",
    "        \n",
    "    else:    \n",
    "        f1 = f2\n",
    "        f2 = fi\n",
    "        fi = f1 + f2\n",
    "    \n",
    "    i += 1\n",
    "  \n",
    "t2 = time.time()\n",
    "print(t2-t1,'seconds taken')\n",
    "\n",
    "i, fi"
   ]
  },
  {
   "cell_type": "markdown",
   "metadata": {},
   "source": [
    "___\n",
    "the pattern method, for some reason, doesn't work very well"
   ]
  },
  {
   "cell_type": "code",
   "execution_count": 5,
   "metadata": {},
   "outputs": [
    {
     "name": "stdout",
     "output_type": "stream",
     "text": [
      "0 0\n",
      "1 1\n",
      "2 1\n",
      "3 2\n",
      "4 3\n",
      "5 5\n",
      "6 8\n",
      "7 13\n",
      "8 21\n",
      "9 34\n"
     ]
    }
   ],
   "source": [
    "# find the pattern, how many nth will increase 1-digit\n",
    "\n",
    "# obtain n-th Fibonacci from q2\n",
    "# the Fibonacci number sequence in this problem is a bit different from q2\n",
    "# just the return part changed \n",
    "def Fibonacci(n): \n",
    "    \n",
    "    # init\n",
    "    f1 = 0\n",
    "    f2 = 1\n",
    "    \n",
    "    if n == 0: \n",
    "        return 0\n",
    "    \n",
    "    for i in range(n):\n",
    "        \n",
    "        # next Fibonacci\n",
    "        f = f1 + f2\n",
    "        \n",
    "        # construction for next Fibonacci\n",
    "        f1 , f2 = f2 , f\n",
    "    \n",
    "    return f1    # not output the next Fibonacci but the current one\n",
    "\n",
    "for i in range(10): \n",
    "    print(i,Fibonacci(i))"
   ]
  },
  {
   "cell_type": "code",
   "execution_count": 6,
   "metadata": {},
   "outputs": [
    {
     "name": "stdout",
     "output_type": "stream",
     "text": [
      "(8, 13) 7 7\n",
      "(89, 144) 5 12\n",
      "(987, 1597) 5 17\n",
      "(6765, 10946) 4 21\n",
      "(75025, 121393) 5 26\n",
      "(832040, 1346269) 5 31\n",
      "(9227465, 14930352) 5 36\n",
      "(63245986, 102334155) 4 40\n",
      "(701408733, 1134903170) 5 45\n",
      "(7778742049, 12586269025) 5 50\n",
      "(86267571272, 139583862445) 5 55\n",
      "(956722026041, 1548008755920) 5 60\n",
      "(6557470319842, 10610209857723) 4 64\n",
      "(72723460248141, 117669030460994) 5 69\n",
      "(806515533049393, 1304969544928657) 5 74\n",
      "(8944394323791464, 14472334024676221) 5 79\n",
      "(99194853094755497, 160500643816367088) 5 84\n",
      "(679891637638612258, 1100087778366101931) 4 88\n",
      "(7540113804746346429, 12200160415121876738) 5 93\n",
      "(83621143489848422977, 135301852344706746049) 5 98\n",
      "(927372692193078999176, 1500520536206896083277) 5 103\n",
      "(6356306993006846248183, 10284720757613717413913) 4 107\n",
      "(70492524767089125814114, 114059301025943970552219) 5 112\n",
      "(781774079430987230203437, 1264937032042997393488322) 5 117\n",
      "(8670007398507948658051921, 14028366653498915298923761) 5 122\n",
      "(96151855463018422468774568, 155576970220531065681649693) 5 127\n",
      "(659034621587630041982498215, 1066340417491710595814572169) 4 131\n",
      "(7308805952221443105020355490, 11825896447871834976429068427) 5 136\n",
      "(81055900096023504197206408605, 131151201344081895336534324866) 5 141\n",
      "(898923707008479989274290850145, 1454489111232772683678306641953) 5 146\n",
      "(9969216677189303386214405760200, 16130531424904581415797907386349) 5 151\n",
      "(68330027629092351019822533679447, 110560307156090817237632754212345) 4 155\n",
      "(757791618667731139247631372100066, 1226132595394188293000174702095995) 5 160\n",
      "(8404037832974134882743767626780173, 13598018856492162040239554477268290) 5 165\n",
      "(93202207781383214849429075266681969, 150804340016807970735635273952047185) 5 170\n",
      "(638817435613190341905763972389505493, 1033628323428189498226463595560281832) 4 174\n",
      "(7084593923980518516849609894969925639, 11463113765491467695340528626429782121) 5 179\n",
      "(78569350599398894027251472817058687522, 127127879743834334146972278486287885163) 5 184\n",
      "(871347450517368352816615810882615488381, 1409869790947669143312035591975596518914) 5 189\n",
      "(9663391306290450775010025392525829059713, 15635695580168194910579363790217849593217) 5 194\n",
      "(66233869353085486281758142155705206899077, 107168651819712326877926895128666735145224) 4 198\n"
     ]
    }
   ],
   "source": [
    "# test the first 200 terms to find patterns\n",
    "f_previous = 0\n",
    "cnt = 0\n",
    "for i in range(1,200): \n",
    "    f_now = Fibonacci(i)\n",
    "    cnt += 1\n",
    "    \n",
    "    if len( str(f_previous) ) != len( str(f_now) ): \n",
    "        print((f_previous,f_now),cnt, i)\n",
    "        cnt = 0\n",
    "        \n",
    "    f_previous = f_now"
   ]
  },
  {
   "cell_type": "markdown",
   "metadata": {},
   "source": [
    "just from the fisrt 200 terms,  \n",
    "the nth increases in a pattern like:  \n",
    "[5,5,5,4] [5,5,5,5,4] [5,5,5,5,4]\n",
    "\n",
    "1 digit : 0 to 6  \n",
    "2 digits : 7 to 11  \n",
    "3 digits : 12 to 16  \n",
    "...\n",
    "\n",
    "the [5,5,5,4] [5,5,5,5,4] [5,5,5,5,4] patttern actually starts from:  \n",
    "the 21th term, which is 10946 with 5 digits  \n",
    "after 5 terms (21+5)th = 26th,  which is 121393 with 6 digits  "
   ]
  },
  {
   "cell_type": "code",
   "execution_count": 7,
   "metadata": {},
   "outputs": [
    {
     "data": {
      "text/plain": [
       "(10946, 121393)"
      ]
     },
     "execution_count": 7,
     "metadata": {},
     "output_type": "execute_result"
    }
   ],
   "source": [
    "Fibonacci(21), Fibonacci(21+5)"
   ]
  },
  {
   "cell_type": "markdown",
   "metadata": {},
   "source": [
    "so the init can be: \n",
    "n = 21, digit = 5"
   ]
  },
  {
   "cell_type": "code",
   "execution_count": 8,
   "metadata": {},
   "outputs": [
    {
     "name": "stdout",
     "output_type": "stream",
     "text": [
      "4783\n"
     ]
    }
   ],
   "source": [
    "# init\n",
    "n = 21\n",
    "digit = 5\n",
    "\n",
    "# condition\n",
    "digit_limit = 1000\n",
    "\n",
    "# cycle\n",
    "cycle_n_add = [5,5,5,4,5,5,5,5,4,5,5,5,5,4]\n",
    "\n",
    "while digit <= digit_limit:\n",
    "    for n_add in cycle_n_add: \n",
    "        n += n_add\n",
    "        digit += 1\n",
    "    \n",
    "        if digit == digit_limit:\n",
    "            print(n)\n",
    "            break"
   ]
  },
  {
   "cell_type": "markdown",
   "metadata": {},
   "source": [
    "well, wrong, but pretty close,  \n",
    "just 1 off"
   ]
  },
  {
   "cell_type": "code",
   "execution_count": null,
   "metadata": {},
   "outputs": [],
   "source": []
  }
 ],
 "metadata": {
  "kernelspec": {
   "display_name": "Python 3",
   "language": "python",
   "name": "python3"
  },
  "language_info": {
   "codemirror_mode": {
    "name": "ipython",
    "version": 3
   },
   "file_extension": ".py",
   "mimetype": "text/x-python",
   "name": "python",
   "nbconvert_exporter": "python",
   "pygments_lexer": "ipython3",
   "version": "3.6.5"
  }
 },
 "nbformat": 4,
 "nbformat_minor": 2
}
