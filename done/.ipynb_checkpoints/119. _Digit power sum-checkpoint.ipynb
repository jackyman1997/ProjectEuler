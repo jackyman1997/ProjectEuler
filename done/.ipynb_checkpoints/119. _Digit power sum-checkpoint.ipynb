{
 "cells": [
  {
   "cell_type": "markdown",
   "metadata": {},
   "source": [
    "## <a href='https://projecteuler.net/problem=119'>119. Digit power sum</a>\n",
    "The number 512 is interesting because it is equal to the sum of its digits raised to some power: $5 + 1 + 2 = 8$, and $8^3 = 512$.  \n",
    "Another example of a number with this property is $ 614656 = 28^4 $.\n",
    "\n",
    "We shall define $a_n$ to be the nth term of this sequence and insist that a number must contain at least two digits to have a sum.\n",
    "\n",
    "You are given that $a_2 = 512$ and $a_{10} = 614656$.\n",
    "\n",
    "Find $a_{30}$.\n",
    "___"
   ]
  },
  {
   "cell_type": "markdown",
   "metadata": {},
   "source": [
    "I actually don't know the limit, just guessing 100 for both is enough"
   ]
  },
  {
   "cell_type": "code",
   "execution_count": 1,
   "metadata": {},
   "outputs": [],
   "source": [
    "# input\n",
    "q119_input = {'n': 30}\n",
    "\n",
    "# function\n",
    "def q119(n: int): \n",
    "    a = [base**power for base in range(1,100+1) for power in range(1,100+1) \\\n",
    "         if sum(int(i) for i in str(base**power)) == base and len(str(base**power)) > 1]\n",
    "    a.sort()\n",
    "    return print('the %ith term of the serie a is %i'%(n, a[n-1]))    # n-1 is because of th 0th indexing"
   ]
  },
  {
   "cell_type": "code",
   "execution_count": 2,
   "metadata": {},
   "outputs": [
    {
     "name": "stdout",
     "output_type": "stream",
     "text": [
      "the 30th term of the serie a is 248155780267521\n",
      "160 ms ± 0 ns per loop (mean ± std. dev. of 1 run, 1 loop each)\n"
     ]
    }
   ],
   "source": [
    "%%timeit -n 1 -r 1\n",
    "q119(**q119_input)"
   ]
  },
  {
   "cell_type": "markdown",
   "metadata": {},
   "source": [
    "___\n",
    "the series $a_n$ is:"
   ]
  },
  {
   "cell_type": "code",
   "execution_count": 3,
   "metadata": {},
   "outputs": [],
   "source": [
    "def DigitPowerSum(k: int=100) -> iter:\n",
    "    an = [base**power for base in range(1,k+1) for power in range(1,k+1) \\\n",
    "          if sum(int(i) for i in str(base**power)) == base and len(str(base**power)) > 1]\n",
    "    an.sort()\n",
    "    for a in an:\n",
    "        yield a"
   ]
  },
  {
   "cell_type": "code",
   "execution_count": 4,
   "metadata": {},
   "outputs": [
    {
     "name": "stdout",
     "output_type": "stream",
     "text": [
      "81\n",
      "512\n",
      "2401\n",
      "4913\n",
      "5832\n",
      "17576\n",
      "19683\n",
      "234256\n",
      "390625\n",
      "614656\n",
      "1679616\n",
      "17210368\n",
      "34012224\n",
      "52521875\n",
      "60466176\n",
      "205962976\n",
      "612220032\n",
      "8303765625\n",
      "10460353203\n",
      "24794911296\n",
      "27512614111\n",
      "52523350144\n",
      "68719476736\n",
      "271818611107\n",
      "1174711139837\n",
      "2207984167552\n",
      "6722988818432\n",
      "20047612231936\n",
      "72301961339136\n",
      "248155780267521\n",
      "3904305912313344\n",
      "45848500718449031\n",
      "81920000000000000\n",
      "150094635296999121\n",
      "13744803133596058624\n",
      "19687440434072265625\n",
      "53861511409489970176\n",
      "73742412689492826049\n",
      "671088640000000000000\n",
      "8007313507497959524352\n",
      "14076019706120526112710656\n",
      "2670419511272061205254504361\n",
      "225179981368524800000000000000000\n",
      "1441151880758558720000000000000000000\n",
      "13508517176729920890000000000000000000\n",
      "1215766545905692880100000000000000000000\n",
      "109418989131512359209000000000000000000000\n",
      "9847709021836112328810000000000000000000000\n",
      "5233476330273605372135115210000000000000000000000000000\n"
     ]
    }
   ],
   "source": [
    "for i in DigitPowerSum():\n",
    "    print(i)"
   ]
  },
  {
   "cell_type": "code",
   "execution_count": null,
   "metadata": {},
   "outputs": [],
   "source": []
  }
 ],
 "metadata": {
  "kernelspec": {
   "display_name": "Python 3",
   "language": "python",
   "name": "python3"
  },
  "language_info": {
   "codemirror_mode": {
    "name": "ipython",
    "version": 3
   },
   "file_extension": ".py",
   "mimetype": "text/x-python",
   "name": "python",
   "nbconvert_exporter": "python",
   "pygments_lexer": "ipython3",
   "version": "3.6.5"
  }
 },
 "nbformat": 4,
 "nbformat_minor": 2
}
