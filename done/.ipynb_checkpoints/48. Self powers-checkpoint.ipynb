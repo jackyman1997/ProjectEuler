{
 "cells": [
  {
   "cell_type": "markdown",
   "metadata": {},
   "source": [
    "## <a href='https://projecteuler.net/problem=48'>48. Self powers</a>\n",
    "The series, \n",
    "$$ 1^1 + 2^2 + 3^3 + ... + 10^{10} = 10405071317 $$\n",
    "\n",
    "Find the last ten digits of the series, \n",
    "$$ 1^1 + 2^2 + 3^3 + ... + 1000^{1000} $$\n",
    "___"
   ]
  },
  {
   "cell_type": "code",
   "execution_count": 1,
   "metadata": {},
   "outputs": [],
   "source": [
    "# input \n",
    "q48_input = {'n': 1000, 'digit': 10}\n",
    "\n",
    "# function\n",
    "def q48(n: int, digit: int):    \n",
    "    lastdigits = str( sum(i**i for i in range(1, n+1)) )[-digit:]\n",
    "    return print('last 10 digits are %s' % lastdigits)\n",
    "\n",
    "def q48_v2(n: int, digit: int):\n",
    "    '''\n",
    "    not using string method\n",
    "    '''\n",
    "    last_10_digit = sum((i**i)%(10**digit) for i in range(1, n+1))%(10**digit)\n",
    "    return print('last 10 digits are %i' % last_10_digit)"
   ]
  },
  {
   "cell_type": "code",
   "execution_count": 2,
   "metadata": {},
   "outputs": [
    {
     "name": "stdout",
     "output_type": "stream",
     "text": [
      "last 10 digits are 9110846700\n",
      "8.85 ms ± 0 ns per loop (mean ± std. dev. of 1 run, 1 loop each)\n"
     ]
    }
   ],
   "source": [
    "%%timeit -n 1 -r 1\n",
    "q48(**q48_input)"
   ]
  },
  {
   "cell_type": "code",
   "execution_count": 3,
   "metadata": {},
   "outputs": [
    {
     "name": "stdout",
     "output_type": "stream",
     "text": [
      "last 10 digits are 9110846700\n",
      "11 ms ± 0 ns per loop (mean ± std. dev. of 1 run, 1 loop each)\n"
     ]
    }
   ],
   "source": [
    "%%timeit -n 1 -r 1\n",
    "q48_v2(**q48_input)"
   ]
  },
  {
   "cell_type": "code",
   "execution_count": null,
   "metadata": {},
   "outputs": [],
   "source": []
  }
 ],
 "metadata": {
  "kernelspec": {
   "display_name": "Python 3",
   "language": "python",
   "name": "python3"
  },
  "language_info": {
   "codemirror_mode": {
    "name": "ipython",
    "version": 3
   },
   "file_extension": ".py",
   "mimetype": "text/x-python",
   "name": "python",
   "nbconvert_exporter": "python",
   "pygments_lexer": "ipython3",
   "version": "3.6.5"
  }
 },
 "nbformat": 4,
 "nbformat_minor": 2
}
