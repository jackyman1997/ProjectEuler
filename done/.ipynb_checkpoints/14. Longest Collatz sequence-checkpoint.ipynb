{
 "cells": [
  {
   "cell_type": "markdown",
   "metadata": {},
   "source": [
    "## <a href='https://projecteuler.net/problem=14'>14. Longest Collatz sequence</a>\n",
    "The following iterative sequence is defined for the set of positive integers:\n",
    "$$\n",
    "\\begin{aligned}\n",
    "    n &→ \\frac{n}{2} \\text{ (n is even)} \\\\\n",
    "    n &→ 3n + 1 \\text{ (n is odd)} \n",
    "\\end{aligned}\n",
    "$$\n",
    "\n",
    "Using the rule above and starting with 13, we generate the following sequence:\n",
    "\n",
    "$$ 13 → 40 → 20 → 10 → 5 → 16 → 8 → 4 → 2 → 1 $$\n",
    "\n",
    "It can be seen that this sequence (starting at 13 and finishing at 1) contains 10 terms. Although it has not been proved yet (<a href='https://en.wikipedia.org/wiki/Collatz_conjecture'>Collatz Problem</a>), it is thought that all starting numbers finish at 1.\n",
    "\n",
    "Which starting number, under one million, produces the longest chain?\n",
    "\n",
    "NOTE: Once the chain starts the terms are allowed to go above one million.\n",
    "___"
   ]
  },
  {
   "cell_type": "code",
   "execution_count": 1,
   "metadata": {},
   "outputs": [],
   "source": [
    "def collatz(n: int) -> int:\n",
    "    '''\n",
    "    to calculate the number of steps to get to one using recusion\n",
    "    '''\n",
    "    # set cnt\n",
    "    cnt = 0\n",
    "    # try recusion, so base case\n",
    "    if n == 1:\n",
    "        return cnt\n",
    "    else:\n",
    "        # if even n, cnt is 1 more than collatz(n/2)\n",
    "        if not n&1:    # or n%2 == 0\n",
    "            cnt = collatz(n//2) + 1\n",
    "            return cnt\n",
    "        # if odd n, then even 3n+1, 2 more steps than collatz((3n+1)/2) \n",
    "        elif n&1:    # or n%2 == 1\n",
    "            cnt = collatz((3*n+1)//2) + 2\n",
    "            return cnt\n",
    "        '''\n",
    "        the reason of using // but not / is:\n",
    "        i dun give fucks to floats, i want int\n",
    "        if use /, the number becomes float (even i know they are defo int)\n",
    "        for larger numbers, this will cause precision loss\n",
    "        '''"
   ]
  },
  {
   "cell_type": "code",
   "execution_count": 2,
   "metadata": {},
   "outputs": [],
   "source": [
    "# input\n",
    "q14_input = {'under': 1000000}\n",
    "\n",
    "# funcnton\n",
    "def q14(under: int):\n",
    "    \n",
    "    # init set up\n",
    "    steps = 0\n",
    "    number = 0\n",
    "    ans = {'number': number, 'steps': steps}\n",
    "\n",
    "    # brute force for loop, max finder\n",
    "    for i in range(1, under):\n",
    "        step = collatz(i)\n",
    "        if step >= ans['steps']:\n",
    "            ans['steps'] = step\n",
    "            ans['number'] = i\n",
    "            \n",
    "    return print('%d takes %d steps' % (ans['number'], ans['steps']))"
   ]
  },
  {
   "cell_type": "code",
   "execution_count": 3,
   "metadata": {},
   "outputs": [
    {
     "name": "stdout",
     "output_type": "stream",
     "text": [
      "837799 takes 524 steps\n",
      "19.1 s ± 0 ns per loop (mean ± std. dev. of 1 run, 1 loop each)\n"
     ]
    }
   ],
   "source": [
    "%%timeit -n 1 -r 1\n",
    "q14(**q14_input)"
   ]
  },
  {
   "cell_type": "markdown",
   "metadata": {},
   "source": [
    "___\n",
    "in fact, this maths problem is very interesting and hard, until now it seems like no one can certainly claim that all positive integers can eventually get to 1.  \n",
    "it is known upto $5 × 2^{60}$ the statement holds.  \n",
    "and under one billion, 670617279 has the most steps, which is 986.  \n",
    "ofc, ref wiki"
   ]
  },
  {
   "cell_type": "code",
   "execution_count": 4,
   "metadata": {},
   "outputs": [
    {
     "data": {
      "text/plain": [
       "986"
      ]
     },
     "execution_count": 4,
     "metadata": {},
     "output_type": "execute_result"
    }
   ],
   "source": [
    "collatz(670617279)"
   ]
  },
  {
   "cell_type": "code",
   "execution_count": null,
   "metadata": {},
   "outputs": [],
   "source": []
  }
 ],
 "metadata": {
  "kernelspec": {
   "display_name": "Python 3",
   "language": "python",
   "name": "python3"
  },
  "language_info": {
   "codemirror_mode": {
    "name": "ipython",
    "version": 3
   },
   "file_extension": ".py",
   "mimetype": "text/x-python",
   "name": "python",
   "nbconvert_exporter": "python",
   "pygments_lexer": "ipython3",
   "version": "3.6.5"
  }
 },
 "nbformat": 4,
 "nbformat_minor": 2
}
