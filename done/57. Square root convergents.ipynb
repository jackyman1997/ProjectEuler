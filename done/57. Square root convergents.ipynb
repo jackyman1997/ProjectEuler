{
 "cells": [
  {
   "cell_type": "markdown",
   "metadata": {},
   "source": [
    "## <a href='https://projecteuler.net/problem=57'>57. Square root convergents</a>\n",
    "It is possible to show that the square root of two can be expressed as an infinite continued fraction.\n",
    "$$ \\sqrt{2} = 1 + \\frac{1}{2 + \\frac{1}{2 + \\frac{1}{2+ ...}}} $$\n",
    "\n",
    "By expanding this for the first four iterations, we get:\n",
    "$$\n",
    "\\begin{aligned}\n",
    "    1+\\frac{1}{2} &= \\frac{3}{2} = 1.5 \\\\\n",
    "    1+\\frac{1}{2+\\frac{1}{2}} &= \\frac{7}{5} = 1.4 \\\\\n",
    "    1+\\frac{1}{2+\\frac{1}{2+\\frac{1}{2}}} &= \\frac{17}{12} = 1.41666... \\\\\n",
    "    1+\\frac{1}{2+\\frac{1}{2+\\frac{1}{2+\\frac{1}{2}}}} &= \\frac{41}{29} = 1.41379... \n",
    "\\end{aligned}\n",
    "$$\n",
    "\n",
    "The next three expansions are $\\frac{99}{70}$, $\\frac{239}{169}$, and $\\frac{577}{408}$, but the eighth expansion, $\\frac{1393}{985}$, is the first example where the number of digits in the numerator exceeds the number of digits in the denominator.\n",
    "\n",
    "In the first one-thousand expansions, how many fractions contain a numerator with more digits than the denominator?\n",
    "___"
   ]
  },
  {
   "cell_type": "markdown",
   "metadata": {},
   "source": [
    "by inspection, there is a relationship between the denominator, numerator and the previous term:  \n",
    "$$\n",
    "\\begin{aligned}\n",
    "    \\frac{1}{1} &= 1 \\\\\n",
    "    \\frac{3}{2} &= \\frac{(1+1)+1}{(1+1)} \\\\\n",
    "    \\frac{7}{5} &= \\frac{(3+2)+2}{(3+2)} \\\\\n",
    "    \\frac{17}{12} &= \\frac{(7+5)+5}{(7+5)} \\\\\n",
    "    \\frac{41}{29} &= \\frac{(17+12)+12}{(17+12)} \\\\\n",
    "    \\frac{99}{70} &= \\frac{(41+29)+29}{(41+29)} \\\\\n",
    "    \\frac{239}{169} &= \\frac{(99+70)+70}{(99+70)} \\\\\n",
    "    \\frac{577}{408} &= \\frac{(239+169)+169}{(239+169)} \\\\\n",
    "    \\frac{1393}{985} &= \\frac{(577+408)+408}{(577+408)} \\\\\n",
    "    \\frac{n_{i}}{d_{i}} &= \\frac{(n_{i-1}+d_{i-1})+d_{i-1}}{(n_{i-1}+d_{i-1})}\n",
    "\\end{aligned}\n",
    "$$\n",
    "and:\n",
    "$$ \\lim_{i \\to \\infty} \\frac{n_{i}}{d_{i}} = \\sqrt{2} $$"
   ]
  },
  {
   "cell_type": "code",
   "execution_count": 1,
   "metadata": {},
   "outputs": [],
   "source": [
    "# input \n",
    "q57_input = {'FirstExpression': 1000}\n",
    "\n",
    "# function\n",
    "def q57(FirstExpression: int):\n",
    "    \n",
    "    # init\n",
    "    n0, d0 = 1, 1\n",
    "    fraction = {'n': n0, 'd': d0, 'count': 0}\n",
    "    \n",
    "    # for loop to count\n",
    "    for i in range(FirstExpression):\n",
    "        \n",
    "        # formula\n",
    "        ni = fraction['n'] + fraction['d'] + fraction['d']\n",
    "        di = fraction['n'] + fraction['d']\n",
    "        \n",
    "        # check if len(d) > len(n)\n",
    "        if len( str(ni) ) > len( str(di) ):\n",
    "            fraction['count'] += 1\n",
    "        \n",
    "        # update\n",
    "        fraction['n'], fraction['d'] = ni, di\n",
    "        \n",
    "    return print('there are %i numerators longer than denominator'%fraction['count'])"
   ]
  },
  {
   "cell_type": "code",
   "execution_count": 2,
   "metadata": {},
   "outputs": [
    {
     "name": "stdout",
     "output_type": "stream",
     "text": [
      "there are 153 numerators longer than denominator\n",
      "2.82 ms ± 0 ns per loop (mean ± std. dev. of 1 run, 1 loop each)\n"
     ]
    }
   ],
   "source": [
    "%%timeit -n 1 -r 1\n",
    "q57(**q57_input)"
   ]
  },
  {
   "cell_type": "markdown",
   "metadata": {},
   "source": [
    "___\n",
    "consider and pretend:  \n",
    "$$ \\frac{a}{b} = \\sqrt{n} $$  \n",
    "what if I do some magic on it?  \n",
    "$$\n",
    "\\begin{aligned}\n",
    "    \\frac{a^2}{b^2} &= n \\\\\n",
    "    a^2 &= nb^2 \\\\\n",
    "    a^2 + ab &= nb^2 + ab \\\\  \n",
    "    a(a+b) &= b(a + nb) \\\\  \n",
    "    \\frac{a}{b} &= \\frac{(a + nb)}{(a+b)}\n",
    "\\end{aligned}\n",
    "$$\n",
    "and: \n",
    "$$ \\frac{a_i}{b_i} = \\frac{a_{i-1} + nb_{i-1}}{a_{i-1}+b_{i-1}} $$\n",
    "\n",
    "can: \n",
    "$$ \\lim_{i \\to \\infty} \\frac{a_{i}}{b_{i}} \\rightarrow \\sqrt{n} $$\n",
    "be a good approximation of $ \\sqrt{n} $?  \n",
    "where:\n",
    "$$ \\lfloor\\frac{a_0}{b_0}\\rfloor = \\lfloor\\sqrt{n}\\rfloor $$  \n",
    "as long as:  \n",
    "$$ a \\neq -b \\text{ and } b \\neq 0 $$\n",
    "\n",
    "seems like this magic can eventually converge to any numbers"
   ]
  },
  {
   "cell_type": "code",
   "execution_count": null,
   "metadata": {},
   "outputs": [],
   "source": []
  }
 ],
 "metadata": {
  "kernelspec": {
   "display_name": "Python 3",
   "language": "python",
   "name": "python3"
  },
  "language_info": {
   "codemirror_mode": {
    "name": "ipython",
    "version": 3
   },
   "file_extension": ".py",
   "mimetype": "text/x-python",
   "name": "python",
   "nbconvert_exporter": "python",
   "pygments_lexer": "ipython3",
   "version": "3.6.5"
  }
 },
 "nbformat": 4,
 "nbformat_minor": 2
}
