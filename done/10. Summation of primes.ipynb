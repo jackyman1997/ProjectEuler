{
 "cells": [
  {
   "cell_type": "markdown",
   "metadata": {},
   "source": [
    "## <a href='https://projecteuler.net/problem=10'>10. Summation of primes</a>\n",
    "The sum of the primes below $10$ is $2 + 3 + 5 + 7 = 17$.  \n",
    "\n",
    "Find the sum of all the primes below two million.  \n",
    "___"
   ]
  },
  {
   "cell_type": "markdown",
   "metadata": {},
   "source": [
    "as a hobbyist, if my 3-minute-cooked prime generator could beat some prime modules devoloped by professionals, **\"then I am a fucking genius\"**  \n",
    "ofc i m not, so for prime problems it is better to use library such as sympy.primerange"
   ]
  },
  {
   "cell_type": "code",
   "execution_count": 1,
   "metadata": {},
   "outputs": [],
   "source": [
    "# libs\n",
    "from sympy import primerange\n",
    "\n",
    "# input\n",
    "q10_input = {'under': 2000000}\n",
    "\n",
    "# function\n",
    "def q10(under: int):    \n",
    "    return print('the sum is %i'%sum(primerange(0,under)))"
   ]
  },
  {
   "cell_type": "code",
   "execution_count": 2,
   "metadata": {},
   "outputs": [
    {
     "name": "stdout",
     "output_type": "stream",
     "text": [
      "the sum is 142913828922\n",
      "4.22 s ± 0 ns per loop (mean ± std. dev. of 1 run, 1 loop each)\n"
     ]
    }
   ],
   "source": [
    "%%timeit -n 1 -r 1\n",
    "q10(**q10_input)"
   ]
  },
  {
   "cell_type": "markdown",
   "metadata": {},
   "source": [
    "___\n",
    "I did some more research on prime generator, it seems like the oldest version i made with numpy is faster than the sympy one.   \n",
    "see **prime.py** for more details"
   ]
  },
  {
   "cell_type": "code",
   "execution_count": 4,
   "metadata": {},
   "outputs": [],
   "source": [
    "def prime_ver1(m):\n",
    "\n",
    "    # libs\n",
    "    if 'np' not in dir():\n",
    "        import numpy as np\n",
    "\n",
    "    # init/setup\n",
    "    n = np.arange(m) + 1\n",
    "\n",
    "    # 1 dosen't count, so remove\n",
    "    n = np.delete(n,0)\n",
    "\n",
    "    checkpos = 0\n",
    "    while n[checkpos] < np.sqrt(m):  \n",
    "        # only difference, rather than checking every single number, \n",
    "        # check only upto sqrt of n\n",
    "        check = n%(n[checkpos])\n",
    "\n",
    "        # keep the checking number\n",
    "        check[np.where(n==n[checkpos])[0]] = 1\n",
    "\n",
    "        # delete where on the list is 0, as above the number which can be divided is set to be 0\n",
    "        n = np.delete(n,np.where(check==0)[0])\n",
    "\n",
    "        # go to the next number on the list\n",
    "        checkpos += 1\n",
    "\n",
    "    # int32 will show error and compute a worng answer, so change to int64\n",
    "    n = np.array(n,dtype='int64')\n",
    "\n",
    "    return n\n",
    "\n",
    "def prime_ver2(m):\n",
    "\n",
    "    # libs\n",
    "    if 'np' not in dir():\n",
    "        import numpy as np\n",
    "    if 'math' not in dir():\n",
    "        import math\n",
    "\n",
    "    # init/setup\n",
    "    n = np.arange(start=3, stop=m+1, step=2)\n",
    "\n",
    "    pos = 0\n",
    "    while n[pos] < math.sqrt(m):  \n",
    "        \n",
    "        # remainder indicate primes, if 0 -> not prime\n",
    "        remainder = n%n[pos]\n",
    "        \n",
    "        # excluding itself, self % self = 0\n",
    "        remainder[pos] = n[pos]\n",
    "        \n",
    "        # delete where remainder = 0, in n\n",
    "        n = np.delete(n, np.where(remainder==0)[0])\n",
    "\n",
    "        # check next\n",
    "        pos += 1\n",
    "    \n",
    "    # remember the special prime 2\n",
    "    n = np.append(2, n)\n",
    "\n",
    "    # int64\n",
    "    n = np.array(n, dtype='int64')\n",
    "    \n",
    "    return n\n",
    "\n",
    "def prime_no_libs(m):\n",
    "    \n",
    "    n = range(3, m+1, 2)\n",
    "\n",
    "    pos = 0\n",
    "    while n[pos] < (m)**0.5:\n",
    "\n",
    "        # this check is to find all elements divides n[pos], label as 0\n",
    "        check = [i%n[pos] for i in n]\n",
    "        # as the n[pos] divides itself so change it from 0 to something else\n",
    "        check[ n.index(n[pos]) ] = n[pos]\n",
    "\n",
    "        n = [p for p, i in zip(list(n), check) if i != 0]\n",
    "\n",
    "        pos += 1\n",
    "\n",
    "    n[:0] = [2]    # same as append() to the left, append() is a[len(a):] = [v]\n",
    "    return n"
   ]
  },
  {
   "cell_type": "code",
   "execution_count": 5,
   "metadata": {},
   "outputs": [
    {
     "name": "stdout",
     "output_type": "stream",
     "text": [
      "4.47 s ± 117 ms per loop (mean ± std. dev. of 7 runs, 1 loop each)\n",
      "351 ms ± 8.75 ms per loop (mean ± std. dev. of 7 runs, 1 loop each)\n",
      "282 ms ± 33.4 ms per loop (mean ± std. dev. of 7 runs, 1 loop each)\n"
     ]
    }
   ],
   "source": [
    "from sympy import primerange\n",
    "\n",
    "m = 2000000\n",
    "\n",
    "%timeit sum( list( primerange(0, m) ) )\n",
    "%timeit sum(prime_ver1(m))\n",
    "%timeit sum(prime_ver2(m))"
   ]
  },
  {
   "cell_type": "markdown",
   "metadata": {},
   "source": [
    "this could be the `list()` fucking it up  \n",
    "___\n",
    "the below 2 cells are the original code i made to solve this question,  they are even faster,  \n",
    "I dun understand why and I think possible reasons are:\n",
    "1. %timeit vs time.time()  \n",
    "2. def func(): vs direct code"
   ]
  },
  {
   "cell_type": "code",
   "execution_count": 5,
   "metadata": {},
   "outputs": [
    {
     "name": "stdout",
     "output_type": "stream",
     "text": [
      "0.8158504962921143 seconds taken\n"
     ]
    },
    {
     "data": {
      "text/plain": [
       "142913828922"
      ]
     },
     "execution_count": 5,
     "metadata": {},
     "output_type": "execute_result"
    }
   ],
   "source": [
    "# better code\n",
    "\n",
    "# libs\n",
    "import numpy as np\n",
    "import time\n",
    "\n",
    "# time it\n",
    "t1 = time.time()\n",
    "\n",
    "# init/setup\n",
    "m = 2000000\n",
    "n = np.arange(m) + 1\n",
    "\n",
    "# 1 dosen't count, so remove\n",
    "n = np.delete(n,0)\n",
    "\n",
    "checkpos = 0\n",
    "while n[checkpos] < np.sqrt(m):  \n",
    "    # only difference, rather than checking every single number, \n",
    "    # check only upto sqrt of n\n",
    "    check = n%(n[checkpos])\n",
    "    \n",
    "    # keep the checking number\n",
    "    check[np.where(n==n[checkpos])[0]] = 1\n",
    "    \n",
    "    # delete where on the list is 0, as above the number which can be divided is set to be 0\n",
    "    n = np.delete(n,np.where(check==0)[0])\n",
    "    \n",
    "    # go to the next number on the list\n",
    "    checkpos += 1\n",
    "    \n",
    "# int32 will show error and compute a worng answer, so change to int64\n",
    "n = np.array(n,dtype='int64')\n",
    "\n",
    "print(time.time()-t1,'seconds taken')\n",
    "sum(n)"
   ]
  },
  {
   "cell_type": "code",
   "execution_count": 6,
   "metadata": {},
   "outputs": [
    {
     "name": "stdout",
     "output_type": "stream",
     "text": [
      "0.619889497756958 seconds taken\n"
     ]
    },
    {
     "data": {
      "text/plain": [
       "142913828922"
      ]
     },
     "execution_count": 6,
     "metadata": {},
     "output_type": "execute_result"
    }
   ],
   "source": [
    "# better code\n",
    "\n",
    "# libs\n",
    "import numpy as np\n",
    "import time\n",
    "\n",
    "# time it\n",
    "t1 = time.time()\n",
    "\n",
    "# init/setup\n",
    "m = 2000000\n",
    "n = np.arange(start=3, stop=m+1, step=2)\n",
    "\n",
    "pos = 0\n",
    "while n[pos] < np.sqrt(m):  \n",
    "\n",
    "    remainder = n%n[pos]\n",
    "    remainder[pos] = n[pos]\n",
    "\n",
    "    n = np.delete(n, np.where(remainder==0)[0])\n",
    "\n",
    "    pos += 1\n",
    "\n",
    "n = np.append(2, n)\n",
    "n = np.array(n, dtype='int64')\n",
    "\n",
    "print(time.time()-t1,'seconds taken')\n",
    "sum(n)"
   ]
  },
  {
   "cell_type": "code",
   "execution_count": null,
   "metadata": {},
   "outputs": [],
   "source": []
  }
 ],
 "metadata": {
  "kernelspec": {
   "display_name": "Python 3",
   "language": "python",
   "name": "python3"
  },
  "language_info": {
   "codemirror_mode": {
    "name": "ipython",
    "version": 3
   },
   "file_extension": ".py",
   "mimetype": "text/x-python",
   "name": "python",
   "nbconvert_exporter": "python",
   "pygments_lexer": "ipython3",
   "version": "3.6.5"
  }
 },
 "nbformat": 4,
 "nbformat_minor": 2
}
