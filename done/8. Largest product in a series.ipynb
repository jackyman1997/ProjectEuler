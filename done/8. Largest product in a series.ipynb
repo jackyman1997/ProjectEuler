{
 "cells": [
  {
   "cell_type": "markdown",
   "metadata": {},
   "source": [
    "## <a href='https://projecteuler.net/problem=8'>8. Largest product in a series</a>\n",
    "The four adjacent digits in the 1000-digit number that have the greatest product are $9 × 9 × 8 × 9 = 5832$.\n",
    "\n",
    "73167176531330624919225119674426574742355349194934  \n",
    "96983520312774506326239578318016984801869478851843  \n",
    "85861560789112949495459501737958331952853208805511  \n",
    "12540698747158523863050715693290963295227443043557  \n",
    "66896648950445244523161731856403098711121722383113  \n",
    "62229893423380308135336276614282806444486645238749  \n",
    "30358907296290491560440772390713810515859307960866  \n",
    "70172427121883998797908792274921901699720888093776  \n",
    "65727333001053367881220235421809751254540594752243  \n",
    "52584907711670556013604839586446706324415722155397  \n",
    "53697817977846174064955149290862569321978468622482  \n",
    "83972241375657056057490261407972968652414535100474  \n",
    "82166370484403199890008895243450658541227588666881  \n",
    "16427171479924442928230863465674813919123162824586  \n",
    "17866458359124566529476545682848912883142607690042  \n",
    "24219022671055626321111109370544217506941658960408  \n",
    "07198403850962455444362981230987879927244284909188  \n",
    "84580156166097919133875499200524063689912560717606  \n",
    "05886116467109405077541002256983155200055935729725  \n",
    "71636269561882670428252483600823257530420752963450  \n",
    "\n",
    "Find the thirteen adjacent digits in the 1000-digit number that have the greatest product. What is the value of this product?\n",
    "___\n",
    "I copied those numbers and saved them into a text file,  \n",
    "named 'p008_nums.txt'"
   ]
  },
  {
   "cell_type": "code",
   "execution_count": 1,
   "metadata": {},
   "outputs": [],
   "source": [
    "# input \n",
    "q8_input = {'filename': 'p008_nums.txt', 'length': 13}\n",
    "\n",
    "# function\n",
    "def q8(filename: str, length: int):\n",
    "    \n",
    "    # import text file\n",
    "    with open('..\\\\data\\\\'+filename) as t:\n",
    "        data = t.read()\n",
    "    \n",
    "    # extract number\n",
    "    num_str = data.replace('\\n' , '')\n",
    "    \n",
    "    # find the adjacent digits with the greatest product, for loop\n",
    "    ans = {'series': '', 'index': 0, 'product': 1}\n",
    "    for head_index, digit in enumerate(num_str[:-(length - 1)]):\n",
    "\n",
    "        # extract the 13-digit series\n",
    "        series = num_str[head_index : (head_index + length)]\n",
    "\n",
    "        # compute the product\n",
    "        product = 1\n",
    "        for digit in series:\n",
    "            product *= int(digit)\n",
    "\n",
    "        # if product is found to be greater than previous\n",
    "        if product > ans['product']:\n",
    "            ans['series'] = series\n",
    "            ans['index'] = head_index\n",
    "            ans['product'] = product\n",
    "            \n",
    "    return print('series [%s] starts from index %i has the product of %i'\\\n",
    "                 % (ans['series'], ans['index'], ans['product']))"
   ]
  },
  {
   "cell_type": "code",
   "execution_count": 2,
   "metadata": {},
   "outputs": [
    {
     "name": "stdout",
     "output_type": "stream",
     "text": [
      "series [5576689664895] starts from index 197 has the product of 23514624000\n",
      "3.72 ms ± 0 ns per loop (mean ± std. dev. of 1 run, 1 loop each)\n"
     ]
    }
   ],
   "source": [
    "%%timeit -n 1 -r 1\n",
    "q8(**q8_input)"
   ]
  },
  {
   "cell_type": "code",
   "execution_count": null,
   "metadata": {},
   "outputs": [],
   "source": []
  }
 ],
 "metadata": {
  "kernelspec": {
   "display_name": "Python 3",
   "language": "python",
   "name": "python3"
  },
  "language_info": {
   "codemirror_mode": {
    "name": "ipython",
    "version": 3
   },
   "file_extension": ".py",
   "mimetype": "text/x-python",
   "name": "python",
   "nbconvert_exporter": "python",
   "pygments_lexer": "ipython3",
   "version": "3.6.5"
  }
 },
 "nbformat": 4,
 "nbformat_minor": 2
}
