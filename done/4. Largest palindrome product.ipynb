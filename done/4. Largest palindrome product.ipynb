{
 "cells": [
  {
   "cell_type": "markdown",
   "metadata": {},
   "source": [
    "## <a href='https://projecteuler.net/problem=4'>4. Largest palindrome product</a>\n",
    "A <a href='https://en.wikipedia.org/wiki/Palindromic_number'>palindromic number</a> reads the same both ways. The largest palindrome made from the product of two 2-digit numbers is $9009 = 91 × 99$.\n",
    "\n",
    "Find the largest palindrome made from the product of two 3-digit numbers.\n",
    "___"
   ]
  },
  {
   "cell_type": "code",
   "execution_count": 1,
   "metadata": {},
   "outputs": [],
   "source": [
    "# input \n",
    "q4_input = {'under': 1000}\n",
    "\n",
    "# function\n",
    "def q4(under: int):\n",
    "    \n",
    "    # dict stores answer\n",
    "    ans = {'product': 0, 'pair': [0, 0]}\n",
    "    \n",
    "    # double for loop brute force \n",
    "    for i in range(under):\n",
    "        for j in range(i, under):\n",
    "            \n",
    "            # str the product\n",
    "            p = str(i * j)\n",
    "            \n",
    "            # check if palindrome and find max\n",
    "            if p[::-1] == p and int(p) > ans['product']:\n",
    "                ans['product'] = int(p)\n",
    "                ans['pair'] = [i, j]\n",
    "    \n",
    "    return print('pair', ans['pair'], 'create %i' % ans['product'])"
   ]
  },
  {
   "cell_type": "code",
   "execution_count": 2,
   "metadata": {},
   "outputs": [
    {
     "name": "stdout",
     "output_type": "stream",
     "text": [
      "pair [913, 993] create 906609\n",
      "152 ms ± 0 ns per loop (mean ± std. dev. of 1 run, 1 loop each)\n"
     ]
    }
   ],
   "source": [
    "%%timeit -n 1 -r 1\n",
    "q4(under = 1000)"
   ]
  },
  {
   "cell_type": "code",
   "execution_count": null,
   "metadata": {},
   "outputs": [],
   "source": []
  }
 ],
 "metadata": {
  "kernelspec": {
   "display_name": "Python 3",
   "language": "python",
   "name": "python3"
  },
  "language_info": {
   "codemirror_mode": {
    "name": "ipython",
    "version": 3
   },
   "file_extension": ".py",
   "mimetype": "text/x-python",
   "name": "python",
   "nbconvert_exporter": "python",
   "pygments_lexer": "ipython3",
   "version": "3.6.5"
  }
 },
 "nbformat": 4,
 "nbformat_minor": 2
}
